{
  "nbformat": 4,
  "nbformat_minor": 5,
  "metadata": {
    "kernelspec": {
      "display_name": "Python 3",
      "language": "python",
      "name": "python3"
    },
    "language_info": {
      "codemirror_mode": {
        "name": "ipython",
        "version": 3
      },
      "file_extension": ".py",
      "mimetype": "text/x-python",
      "name": "python",
      "nbconvert_exporter": "python",
      "pygments_lexer": "ipython3",
      "version": "3.8.8"
    },
    "papermill": {
      "default_parameters": {},
      "duration": 273.727065,
      "end_time": "2021-04-10T22:16:51.078846",
      "environment_variables": {},
      "exception": null,
      "input_path": "__notebook__.ipynb",
      "output_path": "__notebook__.ipynb",
      "parameters": {},
      "start_time": "2021-04-10T22:12:17.351781",
      "version": "2.3.2"
    },
    "colab": {
      "name": "M6W8 Assignment.ipynb",
      "provenance": [],
      "collapsed_sections": []
    }
  },
  "cells": [
    {
      "cell_type": "markdown",
      "metadata": {
        "id": "ac541366"
      },
      "source": [
        "# Assignment Briefing\n",
        "1) Dataset Description:\n",
        "\n",
        "The original dataset is in a format that is difficult for beginners to use. This dataset uses the work of Joseph Redmon to provide the MNIST dataset in a CSV format.\n",
        "\n",
        "The dataset consists of two files:\n",
        "\n",
        "mnist_train.csv\n",
        "mnist_test.csv\n",
        "The mnist_train.csv file contains the 60,000 training examples and labels. The mnist_test.csv contains 10,000 test examples and labels. Each row consists of 785 values: the first value is the label (a number from 0 to 9) and the remaining 784 values are the pixel values (a number from 0 to 255).\n",
        "\n",
        "\n",
        "2) The Tasks:\n",
        "    \n",
        "- Your first task is to use Keras and develop a model that correctly detects a handwritten digit. Though you can technically solve that task with any type of a supervised model, please use neural networks. You are free to experiment with the architecture of the model. Note that this is a multi-class classification task.\n",
        "- Please evaluate your model properly and interpret its performance."
      ],
      "id": "ac541366"
    },
    {
      "cell_type": "markdown",
      "metadata": {
        "id": "7a22b37f"
      },
      "source": [
        "# Exploratory Analysis"
      ],
      "id": "7a22b37f"
    },
    {
      "cell_type": "markdown",
      "metadata": {
        "id": "7b74b789"
      },
      "source": [
        "## Importing data from csv to dataframe for train and test sets"
      ],
      "id": "7b74b789"
    },
    {
      "cell_type": "code",
      "metadata": {
        "_cell_guid": "b1076dfc-b9ad-4769-8c92-a6c4dae69d19",
        "_uuid": "8f2839f25d086af736a60e9eeb907d3b93b6e0e5",
        "execution": {
          "iopub.execute_input": "2021-04-10T22:12:23.292260Z",
          "iopub.status.busy": "2021-04-10T22:12:23.291660Z",
          "iopub.status.idle": "2021-04-10T22:12:24.196348Z",
          "shell.execute_reply": "2021-04-10T22:12:24.195669Z"
        },
        "papermill": {
          "duration": 0.930143,
          "end_time": "2021-04-10T22:12:24.196557",
          "exception": false,
          "start_time": "2021-04-10T22:12:23.266414",
          "status": "completed"
        },
        "tags": [],
        "id": "annoying-arizona"
      },
      "source": [
        "import numpy as np # linear algebra\n",
        "import pandas as pd # data processing, CSV file I/O (e.g. pd.read_csv)\n",
        "import matplotlib.pyplot as plt\n",
        "import seaborn as sns\n",
        "import warnings\n",
        "warnings.filterwarnings(\"ignore\")"
      ],
      "id": "annoying-arizona",
      "execution_count": 1,
      "outputs": []
    },
    {
      "cell_type": "code",
      "metadata": {
        "execution": {
          "iopub.execute_input": "2021-04-10T22:12:24.235164Z",
          "iopub.status.busy": "2021-04-10T22:12:24.234549Z",
          "iopub.status.idle": "2021-04-10T22:12:29.611487Z",
          "shell.execute_reply": "2021-04-10T22:12:29.610989Z"
        },
        "papermill": {
          "duration": 5.398281,
          "end_time": "2021-04-10T22:12:29.611643",
          "exception": false,
          "start_time": "2021-04-10T22:12:24.213362",
          "status": "completed"
        },
        "tags": [],
        "colab": {
          "base_uri": "https://localhost:8080/",
          "height": 270
        },
        "id": "quantitative-geology",
        "outputId": "da0a6751-7422-4132-c2fe-dfa2ab858895"
      },
      "source": [
        "train=pd.read_csv(\"mnist_train.csv\")\n",
        "print(train.shape)\n",
        "train.head()"
      ],
      "id": "quantitative-geology",
      "execution_count": 2,
      "outputs": [
        {
          "output_type": "stream",
          "text": [
            "(60000, 785)\n"
          ],
          "name": "stdout"
        },
        {
          "output_type": "execute_result",
          "data": {
            "text/html": [
              "<div>\n",
              "<style scoped>\n",
              "    .dataframe tbody tr th:only-of-type {\n",
              "        vertical-align: middle;\n",
              "    }\n",
              "\n",
              "    .dataframe tbody tr th {\n",
              "        vertical-align: top;\n",
              "    }\n",
              "\n",
              "    .dataframe thead th {\n",
              "        text-align: right;\n",
              "    }\n",
              "</style>\n",
              "<table border=\"1\" class=\"dataframe\">\n",
              "  <thead>\n",
              "    <tr style=\"text-align: right;\">\n",
              "      <th></th>\n",
              "      <th>label</th>\n",
              "      <th>1x1</th>\n",
              "      <th>1x2</th>\n",
              "      <th>1x3</th>\n",
              "      <th>1x4</th>\n",
              "      <th>1x5</th>\n",
              "      <th>1x6</th>\n",
              "      <th>1x7</th>\n",
              "      <th>1x8</th>\n",
              "      <th>1x9</th>\n",
              "      <th>1x10</th>\n",
              "      <th>1x11</th>\n",
              "      <th>1x12</th>\n",
              "      <th>1x13</th>\n",
              "      <th>1x14</th>\n",
              "      <th>1x15</th>\n",
              "      <th>1x16</th>\n",
              "      <th>1x17</th>\n",
              "      <th>1x18</th>\n",
              "      <th>1x19</th>\n",
              "      <th>1x20</th>\n",
              "      <th>1x21</th>\n",
              "      <th>1x22</th>\n",
              "      <th>1x23</th>\n",
              "      <th>1x24</th>\n",
              "      <th>1x25</th>\n",
              "      <th>1x26</th>\n",
              "      <th>1x27</th>\n",
              "      <th>1x28</th>\n",
              "      <th>2x1</th>\n",
              "      <th>2x2</th>\n",
              "      <th>2x3</th>\n",
              "      <th>2x4</th>\n",
              "      <th>2x5</th>\n",
              "      <th>2x6</th>\n",
              "      <th>2x7</th>\n",
              "      <th>2x8</th>\n",
              "      <th>2x9</th>\n",
              "      <th>2x10</th>\n",
              "      <th>2x11</th>\n",
              "      <th>...</th>\n",
              "      <th>27x17</th>\n",
              "      <th>27x18</th>\n",
              "      <th>27x19</th>\n",
              "      <th>27x20</th>\n",
              "      <th>27x21</th>\n",
              "      <th>27x22</th>\n",
              "      <th>27x23</th>\n",
              "      <th>27x24</th>\n",
              "      <th>27x25</th>\n",
              "      <th>27x26</th>\n",
              "      <th>27x27</th>\n",
              "      <th>27x28</th>\n",
              "      <th>28x1</th>\n",
              "      <th>28x2</th>\n",
              "      <th>28x3</th>\n",
              "      <th>28x4</th>\n",
              "      <th>28x5</th>\n",
              "      <th>28x6</th>\n",
              "      <th>28x7</th>\n",
              "      <th>28x8</th>\n",
              "      <th>28x9</th>\n",
              "      <th>28x10</th>\n",
              "      <th>28x11</th>\n",
              "      <th>28x12</th>\n",
              "      <th>28x13</th>\n",
              "      <th>28x14</th>\n",
              "      <th>28x15</th>\n",
              "      <th>28x16</th>\n",
              "      <th>28x17</th>\n",
              "      <th>28x18</th>\n",
              "      <th>28x19</th>\n",
              "      <th>28x20</th>\n",
              "      <th>28x21</th>\n",
              "      <th>28x22</th>\n",
              "      <th>28x23</th>\n",
              "      <th>28x24</th>\n",
              "      <th>28x25</th>\n",
              "      <th>28x26</th>\n",
              "      <th>28x27</th>\n",
              "      <th>28x28</th>\n",
              "    </tr>\n",
              "  </thead>\n",
              "  <tbody>\n",
              "    <tr>\n",
              "      <th>0</th>\n",
              "      <td>5</td>\n",
              "      <td>0</td>\n",
              "      <td>0</td>\n",
              "      <td>0</td>\n",
              "      <td>0</td>\n",
              "      <td>0</td>\n",
              "      <td>0</td>\n",
              "      <td>0</td>\n",
              "      <td>0</td>\n",
              "      <td>0</td>\n",
              "      <td>0</td>\n",
              "      <td>0</td>\n",
              "      <td>0</td>\n",
              "      <td>0</td>\n",
              "      <td>0</td>\n",
              "      <td>0</td>\n",
              "      <td>0</td>\n",
              "      <td>0</td>\n",
              "      <td>0</td>\n",
              "      <td>0</td>\n",
              "      <td>0</td>\n",
              "      <td>0</td>\n",
              "      <td>0</td>\n",
              "      <td>0</td>\n",
              "      <td>0</td>\n",
              "      <td>0</td>\n",
              "      <td>0</td>\n",
              "      <td>0</td>\n",
              "      <td>0</td>\n",
              "      <td>0</td>\n",
              "      <td>0</td>\n",
              "      <td>0</td>\n",
              "      <td>0</td>\n",
              "      <td>0</td>\n",
              "      <td>0</td>\n",
              "      <td>0</td>\n",
              "      <td>0</td>\n",
              "      <td>0</td>\n",
              "      <td>0</td>\n",
              "      <td>0</td>\n",
              "      <td>...</td>\n",
              "      <td>0</td>\n",
              "      <td>0</td>\n",
              "      <td>0</td>\n",
              "      <td>0</td>\n",
              "      <td>0</td>\n",
              "      <td>0</td>\n",
              "      <td>0</td>\n",
              "      <td>0</td>\n",
              "      <td>0</td>\n",
              "      <td>0</td>\n",
              "      <td>0</td>\n",
              "      <td>0</td>\n",
              "      <td>0</td>\n",
              "      <td>0</td>\n",
              "      <td>0</td>\n",
              "      <td>0</td>\n",
              "      <td>0</td>\n",
              "      <td>0</td>\n",
              "      <td>0</td>\n",
              "      <td>0</td>\n",
              "      <td>0</td>\n",
              "      <td>0</td>\n",
              "      <td>0</td>\n",
              "      <td>0</td>\n",
              "      <td>0</td>\n",
              "      <td>0</td>\n",
              "      <td>0</td>\n",
              "      <td>0</td>\n",
              "      <td>0</td>\n",
              "      <td>0</td>\n",
              "      <td>0</td>\n",
              "      <td>0</td>\n",
              "      <td>0</td>\n",
              "      <td>0</td>\n",
              "      <td>0</td>\n",
              "      <td>0</td>\n",
              "      <td>0</td>\n",
              "      <td>0</td>\n",
              "      <td>0</td>\n",
              "      <td>0</td>\n",
              "    </tr>\n",
              "    <tr>\n",
              "      <th>1</th>\n",
              "      <td>0</td>\n",
              "      <td>0</td>\n",
              "      <td>0</td>\n",
              "      <td>0</td>\n",
              "      <td>0</td>\n",
              "      <td>0</td>\n",
              "      <td>0</td>\n",
              "      <td>0</td>\n",
              "      <td>0</td>\n",
              "      <td>0</td>\n",
              "      <td>0</td>\n",
              "      <td>0</td>\n",
              "      <td>0</td>\n",
              "      <td>0</td>\n",
              "      <td>0</td>\n",
              "      <td>0</td>\n",
              "      <td>0</td>\n",
              "      <td>0</td>\n",
              "      <td>0</td>\n",
              "      <td>0</td>\n",
              "      <td>0</td>\n",
              "      <td>0</td>\n",
              "      <td>0</td>\n",
              "      <td>0</td>\n",
              "      <td>0</td>\n",
              "      <td>0</td>\n",
              "      <td>0</td>\n",
              "      <td>0</td>\n",
              "      <td>0</td>\n",
              "      <td>0</td>\n",
              "      <td>0</td>\n",
              "      <td>0</td>\n",
              "      <td>0</td>\n",
              "      <td>0</td>\n",
              "      <td>0</td>\n",
              "      <td>0</td>\n",
              "      <td>0</td>\n",
              "      <td>0</td>\n",
              "      <td>0</td>\n",
              "      <td>0</td>\n",
              "      <td>...</td>\n",
              "      <td>0</td>\n",
              "      <td>0</td>\n",
              "      <td>0</td>\n",
              "      <td>0</td>\n",
              "      <td>0</td>\n",
              "      <td>0</td>\n",
              "      <td>0</td>\n",
              "      <td>0</td>\n",
              "      <td>0</td>\n",
              "      <td>0</td>\n",
              "      <td>0</td>\n",
              "      <td>0</td>\n",
              "      <td>0</td>\n",
              "      <td>0</td>\n",
              "      <td>0</td>\n",
              "      <td>0</td>\n",
              "      <td>0</td>\n",
              "      <td>0</td>\n",
              "      <td>0</td>\n",
              "      <td>0</td>\n",
              "      <td>0</td>\n",
              "      <td>0</td>\n",
              "      <td>0</td>\n",
              "      <td>0</td>\n",
              "      <td>0</td>\n",
              "      <td>0</td>\n",
              "      <td>0</td>\n",
              "      <td>0</td>\n",
              "      <td>0</td>\n",
              "      <td>0</td>\n",
              "      <td>0</td>\n",
              "      <td>0</td>\n",
              "      <td>0</td>\n",
              "      <td>0</td>\n",
              "      <td>0</td>\n",
              "      <td>0</td>\n",
              "      <td>0</td>\n",
              "      <td>0</td>\n",
              "      <td>0</td>\n",
              "      <td>0</td>\n",
              "    </tr>\n",
              "    <tr>\n",
              "      <th>2</th>\n",
              "      <td>4</td>\n",
              "      <td>0</td>\n",
              "      <td>0</td>\n",
              "      <td>0</td>\n",
              "      <td>0</td>\n",
              "      <td>0</td>\n",
              "      <td>0</td>\n",
              "      <td>0</td>\n",
              "      <td>0</td>\n",
              "      <td>0</td>\n",
              "      <td>0</td>\n",
              "      <td>0</td>\n",
              "      <td>0</td>\n",
              "      <td>0</td>\n",
              "      <td>0</td>\n",
              "      <td>0</td>\n",
              "      <td>0</td>\n",
              "      <td>0</td>\n",
              "      <td>0</td>\n",
              "      <td>0</td>\n",
              "      <td>0</td>\n",
              "      <td>0</td>\n",
              "      <td>0</td>\n",
              "      <td>0</td>\n",
              "      <td>0</td>\n",
              "      <td>0</td>\n",
              "      <td>0</td>\n",
              "      <td>0</td>\n",
              "      <td>0</td>\n",
              "      <td>0</td>\n",
              "      <td>0</td>\n",
              "      <td>0</td>\n",
              "      <td>0</td>\n",
              "      <td>0</td>\n",
              "      <td>0</td>\n",
              "      <td>0</td>\n",
              "      <td>0</td>\n",
              "      <td>0</td>\n",
              "      <td>0</td>\n",
              "      <td>0</td>\n",
              "      <td>...</td>\n",
              "      <td>0</td>\n",
              "      <td>0</td>\n",
              "      <td>0</td>\n",
              "      <td>0</td>\n",
              "      <td>0</td>\n",
              "      <td>0</td>\n",
              "      <td>0</td>\n",
              "      <td>0</td>\n",
              "      <td>0</td>\n",
              "      <td>0</td>\n",
              "      <td>0</td>\n",
              "      <td>0</td>\n",
              "      <td>0</td>\n",
              "      <td>0</td>\n",
              "      <td>0</td>\n",
              "      <td>0</td>\n",
              "      <td>0</td>\n",
              "      <td>0</td>\n",
              "      <td>0</td>\n",
              "      <td>0</td>\n",
              "      <td>0</td>\n",
              "      <td>0</td>\n",
              "      <td>0</td>\n",
              "      <td>0</td>\n",
              "      <td>0</td>\n",
              "      <td>0</td>\n",
              "      <td>0</td>\n",
              "      <td>0</td>\n",
              "      <td>0</td>\n",
              "      <td>0</td>\n",
              "      <td>0</td>\n",
              "      <td>0</td>\n",
              "      <td>0</td>\n",
              "      <td>0</td>\n",
              "      <td>0</td>\n",
              "      <td>0</td>\n",
              "      <td>0</td>\n",
              "      <td>0</td>\n",
              "      <td>0</td>\n",
              "      <td>0</td>\n",
              "    </tr>\n",
              "    <tr>\n",
              "      <th>3</th>\n",
              "      <td>1</td>\n",
              "      <td>0</td>\n",
              "      <td>0</td>\n",
              "      <td>0</td>\n",
              "      <td>0</td>\n",
              "      <td>0</td>\n",
              "      <td>0</td>\n",
              "      <td>0</td>\n",
              "      <td>0</td>\n",
              "      <td>0</td>\n",
              "      <td>0</td>\n",
              "      <td>0</td>\n",
              "      <td>0</td>\n",
              "      <td>0</td>\n",
              "      <td>0</td>\n",
              "      <td>0</td>\n",
              "      <td>0</td>\n",
              "      <td>0</td>\n",
              "      <td>0</td>\n",
              "      <td>0</td>\n",
              "      <td>0</td>\n",
              "      <td>0</td>\n",
              "      <td>0</td>\n",
              "      <td>0</td>\n",
              "      <td>0</td>\n",
              "      <td>0</td>\n",
              "      <td>0</td>\n",
              "      <td>0</td>\n",
              "      <td>0</td>\n",
              "      <td>0</td>\n",
              "      <td>0</td>\n",
              "      <td>0</td>\n",
              "      <td>0</td>\n",
              "      <td>0</td>\n",
              "      <td>0</td>\n",
              "      <td>0</td>\n",
              "      <td>0</td>\n",
              "      <td>0</td>\n",
              "      <td>0</td>\n",
              "      <td>0</td>\n",
              "      <td>...</td>\n",
              "      <td>0</td>\n",
              "      <td>0</td>\n",
              "      <td>0</td>\n",
              "      <td>0</td>\n",
              "      <td>0</td>\n",
              "      <td>0</td>\n",
              "      <td>0</td>\n",
              "      <td>0</td>\n",
              "      <td>0</td>\n",
              "      <td>0</td>\n",
              "      <td>0</td>\n",
              "      <td>0</td>\n",
              "      <td>0</td>\n",
              "      <td>0</td>\n",
              "      <td>0</td>\n",
              "      <td>0</td>\n",
              "      <td>0</td>\n",
              "      <td>0</td>\n",
              "      <td>0</td>\n",
              "      <td>0</td>\n",
              "      <td>0</td>\n",
              "      <td>0</td>\n",
              "      <td>0</td>\n",
              "      <td>0</td>\n",
              "      <td>0</td>\n",
              "      <td>0</td>\n",
              "      <td>0</td>\n",
              "      <td>0</td>\n",
              "      <td>0</td>\n",
              "      <td>0</td>\n",
              "      <td>0</td>\n",
              "      <td>0</td>\n",
              "      <td>0</td>\n",
              "      <td>0</td>\n",
              "      <td>0</td>\n",
              "      <td>0</td>\n",
              "      <td>0</td>\n",
              "      <td>0</td>\n",
              "      <td>0</td>\n",
              "      <td>0</td>\n",
              "    </tr>\n",
              "    <tr>\n",
              "      <th>4</th>\n",
              "      <td>9</td>\n",
              "      <td>0</td>\n",
              "      <td>0</td>\n",
              "      <td>0</td>\n",
              "      <td>0</td>\n",
              "      <td>0</td>\n",
              "      <td>0</td>\n",
              "      <td>0</td>\n",
              "      <td>0</td>\n",
              "      <td>0</td>\n",
              "      <td>0</td>\n",
              "      <td>0</td>\n",
              "      <td>0</td>\n",
              "      <td>0</td>\n",
              "      <td>0</td>\n",
              "      <td>0</td>\n",
              "      <td>0</td>\n",
              "      <td>0</td>\n",
              "      <td>0</td>\n",
              "      <td>0</td>\n",
              "      <td>0</td>\n",
              "      <td>0</td>\n",
              "      <td>0</td>\n",
              "      <td>0</td>\n",
              "      <td>0</td>\n",
              "      <td>0</td>\n",
              "      <td>0</td>\n",
              "      <td>0</td>\n",
              "      <td>0</td>\n",
              "      <td>0</td>\n",
              "      <td>0</td>\n",
              "      <td>0</td>\n",
              "      <td>0</td>\n",
              "      <td>0</td>\n",
              "      <td>0</td>\n",
              "      <td>0</td>\n",
              "      <td>0</td>\n",
              "      <td>0</td>\n",
              "      <td>0</td>\n",
              "      <td>0</td>\n",
              "      <td>...</td>\n",
              "      <td>147</td>\n",
              "      <td>252</td>\n",
              "      <td>42</td>\n",
              "      <td>0</td>\n",
              "      <td>0</td>\n",
              "      <td>0</td>\n",
              "      <td>0</td>\n",
              "      <td>0</td>\n",
              "      <td>0</td>\n",
              "      <td>0</td>\n",
              "      <td>0</td>\n",
              "      <td>0</td>\n",
              "      <td>0</td>\n",
              "      <td>0</td>\n",
              "      <td>0</td>\n",
              "      <td>0</td>\n",
              "      <td>0</td>\n",
              "      <td>0</td>\n",
              "      <td>0</td>\n",
              "      <td>0</td>\n",
              "      <td>0</td>\n",
              "      <td>0</td>\n",
              "      <td>0</td>\n",
              "      <td>0</td>\n",
              "      <td>0</td>\n",
              "      <td>0</td>\n",
              "      <td>0</td>\n",
              "      <td>0</td>\n",
              "      <td>0</td>\n",
              "      <td>0</td>\n",
              "      <td>0</td>\n",
              "      <td>0</td>\n",
              "      <td>0</td>\n",
              "      <td>0</td>\n",
              "      <td>0</td>\n",
              "      <td>0</td>\n",
              "      <td>0</td>\n",
              "      <td>0</td>\n",
              "      <td>0</td>\n",
              "      <td>0</td>\n",
              "    </tr>\n",
              "  </tbody>\n",
              "</table>\n",
              "<p>5 rows × 785 columns</p>\n",
              "</div>"
            ],
            "text/plain": [
              "   label  1x1  1x2  1x3  1x4  1x5  ...  28x23  28x24  28x25  28x26  28x27  28x28\n",
              "0      5    0    0    0    0    0  ...      0      0      0      0      0      0\n",
              "1      0    0    0    0    0    0  ...      0      0      0      0      0      0\n",
              "2      4    0    0    0    0    0  ...      0      0      0      0      0      0\n",
              "3      1    0    0    0    0    0  ...      0      0      0      0      0      0\n",
              "4      9    0    0    0    0    0  ...      0      0      0      0      0      0\n",
              "\n",
              "[5 rows x 785 columns]"
            ]
          },
          "metadata": {
            "tags": []
          },
          "execution_count": 2
        }
      ]
    },
    {
      "cell_type": "code",
      "metadata": {
        "execution": {
          "iopub.execute_input": "2021-04-10T22:12:29.660106Z",
          "iopub.status.busy": "2021-04-10T22:12:29.659438Z",
          "iopub.status.idle": "2021-04-10T22:12:30.552113Z",
          "shell.execute_reply": "2021-04-10T22:12:30.551595Z"
        },
        "papermill": {
          "duration": 0.923322,
          "end_time": "2021-04-10T22:12:30.552278",
          "exception": false,
          "start_time": "2021-04-10T22:12:29.628956",
          "status": "completed"
        },
        "tags": [],
        "colab": {
          "base_uri": "https://localhost:8080/",
          "height": 270
        },
        "id": "whole-williams",
        "outputId": "d880e781-e72c-4891-efde-a497fe47b976"
      },
      "source": [
        "test=pd.read_csv(\"mnist_test.csv\")\n",
        "print(test.shape)\n",
        "test.head()"
      ],
      "id": "whole-williams",
      "execution_count": 3,
      "outputs": [
        {
          "output_type": "stream",
          "text": [
            "(10000, 785)\n"
          ],
          "name": "stdout"
        },
        {
          "output_type": "execute_result",
          "data": {
            "text/html": [
              "<div>\n",
              "<style scoped>\n",
              "    .dataframe tbody tr th:only-of-type {\n",
              "        vertical-align: middle;\n",
              "    }\n",
              "\n",
              "    .dataframe tbody tr th {\n",
              "        vertical-align: top;\n",
              "    }\n",
              "\n",
              "    .dataframe thead th {\n",
              "        text-align: right;\n",
              "    }\n",
              "</style>\n",
              "<table border=\"1\" class=\"dataframe\">\n",
              "  <thead>\n",
              "    <tr style=\"text-align: right;\">\n",
              "      <th></th>\n",
              "      <th>label</th>\n",
              "      <th>1x1</th>\n",
              "      <th>1x2</th>\n",
              "      <th>1x3</th>\n",
              "      <th>1x4</th>\n",
              "      <th>1x5</th>\n",
              "      <th>1x6</th>\n",
              "      <th>1x7</th>\n",
              "      <th>1x8</th>\n",
              "      <th>1x9</th>\n",
              "      <th>1x10</th>\n",
              "      <th>1x11</th>\n",
              "      <th>1x12</th>\n",
              "      <th>1x13</th>\n",
              "      <th>1x14</th>\n",
              "      <th>1x15</th>\n",
              "      <th>1x16</th>\n",
              "      <th>1x17</th>\n",
              "      <th>1x18</th>\n",
              "      <th>1x19</th>\n",
              "      <th>1x20</th>\n",
              "      <th>1x21</th>\n",
              "      <th>1x22</th>\n",
              "      <th>1x23</th>\n",
              "      <th>1x24</th>\n",
              "      <th>1x25</th>\n",
              "      <th>1x26</th>\n",
              "      <th>1x27</th>\n",
              "      <th>1x28</th>\n",
              "      <th>2x1</th>\n",
              "      <th>2x2</th>\n",
              "      <th>2x3</th>\n",
              "      <th>2x4</th>\n",
              "      <th>2x5</th>\n",
              "      <th>2x6</th>\n",
              "      <th>2x7</th>\n",
              "      <th>2x8</th>\n",
              "      <th>2x9</th>\n",
              "      <th>2x10</th>\n",
              "      <th>2x11</th>\n",
              "      <th>...</th>\n",
              "      <th>27x17</th>\n",
              "      <th>27x18</th>\n",
              "      <th>27x19</th>\n",
              "      <th>27x20</th>\n",
              "      <th>27x21</th>\n",
              "      <th>27x22</th>\n",
              "      <th>27x23</th>\n",
              "      <th>27x24</th>\n",
              "      <th>27x25</th>\n",
              "      <th>27x26</th>\n",
              "      <th>27x27</th>\n",
              "      <th>27x28</th>\n",
              "      <th>28x1</th>\n",
              "      <th>28x2</th>\n",
              "      <th>28x3</th>\n",
              "      <th>28x4</th>\n",
              "      <th>28x5</th>\n",
              "      <th>28x6</th>\n",
              "      <th>28x7</th>\n",
              "      <th>28x8</th>\n",
              "      <th>28x9</th>\n",
              "      <th>28x10</th>\n",
              "      <th>28x11</th>\n",
              "      <th>28x12</th>\n",
              "      <th>28x13</th>\n",
              "      <th>28x14</th>\n",
              "      <th>28x15</th>\n",
              "      <th>28x16</th>\n",
              "      <th>28x17</th>\n",
              "      <th>28x18</th>\n",
              "      <th>28x19</th>\n",
              "      <th>28x20</th>\n",
              "      <th>28x21</th>\n",
              "      <th>28x22</th>\n",
              "      <th>28x23</th>\n",
              "      <th>28x24</th>\n",
              "      <th>28x25</th>\n",
              "      <th>28x26</th>\n",
              "      <th>28x27</th>\n",
              "      <th>28x28</th>\n",
              "    </tr>\n",
              "  </thead>\n",
              "  <tbody>\n",
              "    <tr>\n",
              "      <th>0</th>\n",
              "      <td>7</td>\n",
              "      <td>0</td>\n",
              "      <td>0</td>\n",
              "      <td>0</td>\n",
              "      <td>0</td>\n",
              "      <td>0</td>\n",
              "      <td>0</td>\n",
              "      <td>0</td>\n",
              "      <td>0</td>\n",
              "      <td>0</td>\n",
              "      <td>0</td>\n",
              "      <td>0</td>\n",
              "      <td>0</td>\n",
              "      <td>0</td>\n",
              "      <td>0</td>\n",
              "      <td>0</td>\n",
              "      <td>0</td>\n",
              "      <td>0</td>\n",
              "      <td>0</td>\n",
              "      <td>0</td>\n",
              "      <td>0</td>\n",
              "      <td>0</td>\n",
              "      <td>0</td>\n",
              "      <td>0</td>\n",
              "      <td>0</td>\n",
              "      <td>0</td>\n",
              "      <td>0</td>\n",
              "      <td>0</td>\n",
              "      <td>0</td>\n",
              "      <td>0</td>\n",
              "      <td>0</td>\n",
              "      <td>0</td>\n",
              "      <td>0</td>\n",
              "      <td>0</td>\n",
              "      <td>0</td>\n",
              "      <td>0</td>\n",
              "      <td>0</td>\n",
              "      <td>0</td>\n",
              "      <td>0</td>\n",
              "      <td>0</td>\n",
              "      <td>...</td>\n",
              "      <td>0</td>\n",
              "      <td>0</td>\n",
              "      <td>0</td>\n",
              "      <td>0</td>\n",
              "      <td>0</td>\n",
              "      <td>0</td>\n",
              "      <td>0</td>\n",
              "      <td>0</td>\n",
              "      <td>0</td>\n",
              "      <td>0</td>\n",
              "      <td>0</td>\n",
              "      <td>0</td>\n",
              "      <td>0</td>\n",
              "      <td>0</td>\n",
              "      <td>0</td>\n",
              "      <td>0</td>\n",
              "      <td>0</td>\n",
              "      <td>0</td>\n",
              "      <td>0</td>\n",
              "      <td>0</td>\n",
              "      <td>0</td>\n",
              "      <td>0</td>\n",
              "      <td>0</td>\n",
              "      <td>0</td>\n",
              "      <td>0</td>\n",
              "      <td>0</td>\n",
              "      <td>0</td>\n",
              "      <td>0</td>\n",
              "      <td>0</td>\n",
              "      <td>0</td>\n",
              "      <td>0</td>\n",
              "      <td>0</td>\n",
              "      <td>0</td>\n",
              "      <td>0</td>\n",
              "      <td>0</td>\n",
              "      <td>0</td>\n",
              "      <td>0</td>\n",
              "      <td>0</td>\n",
              "      <td>0</td>\n",
              "      <td>0</td>\n",
              "    </tr>\n",
              "    <tr>\n",
              "      <th>1</th>\n",
              "      <td>2</td>\n",
              "      <td>0</td>\n",
              "      <td>0</td>\n",
              "      <td>0</td>\n",
              "      <td>0</td>\n",
              "      <td>0</td>\n",
              "      <td>0</td>\n",
              "      <td>0</td>\n",
              "      <td>0</td>\n",
              "      <td>0</td>\n",
              "      <td>0</td>\n",
              "      <td>0</td>\n",
              "      <td>0</td>\n",
              "      <td>0</td>\n",
              "      <td>0</td>\n",
              "      <td>0</td>\n",
              "      <td>0</td>\n",
              "      <td>0</td>\n",
              "      <td>0</td>\n",
              "      <td>0</td>\n",
              "      <td>0</td>\n",
              "      <td>0</td>\n",
              "      <td>0</td>\n",
              "      <td>0</td>\n",
              "      <td>0</td>\n",
              "      <td>0</td>\n",
              "      <td>0</td>\n",
              "      <td>0</td>\n",
              "      <td>0</td>\n",
              "      <td>0</td>\n",
              "      <td>0</td>\n",
              "      <td>0</td>\n",
              "      <td>0</td>\n",
              "      <td>0</td>\n",
              "      <td>0</td>\n",
              "      <td>0</td>\n",
              "      <td>0</td>\n",
              "      <td>0</td>\n",
              "      <td>0</td>\n",
              "      <td>0</td>\n",
              "      <td>...</td>\n",
              "      <td>0</td>\n",
              "      <td>0</td>\n",
              "      <td>0</td>\n",
              "      <td>0</td>\n",
              "      <td>0</td>\n",
              "      <td>0</td>\n",
              "      <td>0</td>\n",
              "      <td>0</td>\n",
              "      <td>0</td>\n",
              "      <td>0</td>\n",
              "      <td>0</td>\n",
              "      <td>0</td>\n",
              "      <td>0</td>\n",
              "      <td>0</td>\n",
              "      <td>0</td>\n",
              "      <td>0</td>\n",
              "      <td>0</td>\n",
              "      <td>0</td>\n",
              "      <td>0</td>\n",
              "      <td>0</td>\n",
              "      <td>0</td>\n",
              "      <td>0</td>\n",
              "      <td>0</td>\n",
              "      <td>0</td>\n",
              "      <td>0</td>\n",
              "      <td>0</td>\n",
              "      <td>0</td>\n",
              "      <td>0</td>\n",
              "      <td>0</td>\n",
              "      <td>0</td>\n",
              "      <td>0</td>\n",
              "      <td>0</td>\n",
              "      <td>0</td>\n",
              "      <td>0</td>\n",
              "      <td>0</td>\n",
              "      <td>0</td>\n",
              "      <td>0</td>\n",
              "      <td>0</td>\n",
              "      <td>0</td>\n",
              "      <td>0</td>\n",
              "    </tr>\n",
              "    <tr>\n",
              "      <th>2</th>\n",
              "      <td>1</td>\n",
              "      <td>0</td>\n",
              "      <td>0</td>\n",
              "      <td>0</td>\n",
              "      <td>0</td>\n",
              "      <td>0</td>\n",
              "      <td>0</td>\n",
              "      <td>0</td>\n",
              "      <td>0</td>\n",
              "      <td>0</td>\n",
              "      <td>0</td>\n",
              "      <td>0</td>\n",
              "      <td>0</td>\n",
              "      <td>0</td>\n",
              "      <td>0</td>\n",
              "      <td>0</td>\n",
              "      <td>0</td>\n",
              "      <td>0</td>\n",
              "      <td>0</td>\n",
              "      <td>0</td>\n",
              "      <td>0</td>\n",
              "      <td>0</td>\n",
              "      <td>0</td>\n",
              "      <td>0</td>\n",
              "      <td>0</td>\n",
              "      <td>0</td>\n",
              "      <td>0</td>\n",
              "      <td>0</td>\n",
              "      <td>0</td>\n",
              "      <td>0</td>\n",
              "      <td>0</td>\n",
              "      <td>0</td>\n",
              "      <td>0</td>\n",
              "      <td>0</td>\n",
              "      <td>0</td>\n",
              "      <td>0</td>\n",
              "      <td>0</td>\n",
              "      <td>0</td>\n",
              "      <td>0</td>\n",
              "      <td>0</td>\n",
              "      <td>...</td>\n",
              "      <td>0</td>\n",
              "      <td>0</td>\n",
              "      <td>0</td>\n",
              "      <td>0</td>\n",
              "      <td>0</td>\n",
              "      <td>0</td>\n",
              "      <td>0</td>\n",
              "      <td>0</td>\n",
              "      <td>0</td>\n",
              "      <td>0</td>\n",
              "      <td>0</td>\n",
              "      <td>0</td>\n",
              "      <td>0</td>\n",
              "      <td>0</td>\n",
              "      <td>0</td>\n",
              "      <td>0</td>\n",
              "      <td>0</td>\n",
              "      <td>0</td>\n",
              "      <td>0</td>\n",
              "      <td>0</td>\n",
              "      <td>0</td>\n",
              "      <td>0</td>\n",
              "      <td>0</td>\n",
              "      <td>0</td>\n",
              "      <td>0</td>\n",
              "      <td>0</td>\n",
              "      <td>0</td>\n",
              "      <td>0</td>\n",
              "      <td>0</td>\n",
              "      <td>0</td>\n",
              "      <td>0</td>\n",
              "      <td>0</td>\n",
              "      <td>0</td>\n",
              "      <td>0</td>\n",
              "      <td>0</td>\n",
              "      <td>0</td>\n",
              "      <td>0</td>\n",
              "      <td>0</td>\n",
              "      <td>0</td>\n",
              "      <td>0</td>\n",
              "    </tr>\n",
              "    <tr>\n",
              "      <th>3</th>\n",
              "      <td>0</td>\n",
              "      <td>0</td>\n",
              "      <td>0</td>\n",
              "      <td>0</td>\n",
              "      <td>0</td>\n",
              "      <td>0</td>\n",
              "      <td>0</td>\n",
              "      <td>0</td>\n",
              "      <td>0</td>\n",
              "      <td>0</td>\n",
              "      <td>0</td>\n",
              "      <td>0</td>\n",
              "      <td>0</td>\n",
              "      <td>0</td>\n",
              "      <td>0</td>\n",
              "      <td>0</td>\n",
              "      <td>0</td>\n",
              "      <td>0</td>\n",
              "      <td>0</td>\n",
              "      <td>0</td>\n",
              "      <td>0</td>\n",
              "      <td>0</td>\n",
              "      <td>0</td>\n",
              "      <td>0</td>\n",
              "      <td>0</td>\n",
              "      <td>0</td>\n",
              "      <td>0</td>\n",
              "      <td>0</td>\n",
              "      <td>0</td>\n",
              "      <td>0</td>\n",
              "      <td>0</td>\n",
              "      <td>0</td>\n",
              "      <td>0</td>\n",
              "      <td>0</td>\n",
              "      <td>0</td>\n",
              "      <td>0</td>\n",
              "      <td>0</td>\n",
              "      <td>0</td>\n",
              "      <td>0</td>\n",
              "      <td>0</td>\n",
              "      <td>...</td>\n",
              "      <td>0</td>\n",
              "      <td>0</td>\n",
              "      <td>0</td>\n",
              "      <td>0</td>\n",
              "      <td>0</td>\n",
              "      <td>0</td>\n",
              "      <td>0</td>\n",
              "      <td>0</td>\n",
              "      <td>0</td>\n",
              "      <td>0</td>\n",
              "      <td>0</td>\n",
              "      <td>0</td>\n",
              "      <td>0</td>\n",
              "      <td>0</td>\n",
              "      <td>0</td>\n",
              "      <td>0</td>\n",
              "      <td>0</td>\n",
              "      <td>0</td>\n",
              "      <td>0</td>\n",
              "      <td>0</td>\n",
              "      <td>0</td>\n",
              "      <td>0</td>\n",
              "      <td>0</td>\n",
              "      <td>0</td>\n",
              "      <td>0</td>\n",
              "      <td>0</td>\n",
              "      <td>0</td>\n",
              "      <td>0</td>\n",
              "      <td>0</td>\n",
              "      <td>0</td>\n",
              "      <td>0</td>\n",
              "      <td>0</td>\n",
              "      <td>0</td>\n",
              "      <td>0</td>\n",
              "      <td>0</td>\n",
              "      <td>0</td>\n",
              "      <td>0</td>\n",
              "      <td>0</td>\n",
              "      <td>0</td>\n",
              "      <td>0</td>\n",
              "    </tr>\n",
              "    <tr>\n",
              "      <th>4</th>\n",
              "      <td>4</td>\n",
              "      <td>0</td>\n",
              "      <td>0</td>\n",
              "      <td>0</td>\n",
              "      <td>0</td>\n",
              "      <td>0</td>\n",
              "      <td>0</td>\n",
              "      <td>0</td>\n",
              "      <td>0</td>\n",
              "      <td>0</td>\n",
              "      <td>0</td>\n",
              "      <td>0</td>\n",
              "      <td>0</td>\n",
              "      <td>0</td>\n",
              "      <td>0</td>\n",
              "      <td>0</td>\n",
              "      <td>0</td>\n",
              "      <td>0</td>\n",
              "      <td>0</td>\n",
              "      <td>0</td>\n",
              "      <td>0</td>\n",
              "      <td>0</td>\n",
              "      <td>0</td>\n",
              "      <td>0</td>\n",
              "      <td>0</td>\n",
              "      <td>0</td>\n",
              "      <td>0</td>\n",
              "      <td>0</td>\n",
              "      <td>0</td>\n",
              "      <td>0</td>\n",
              "      <td>0</td>\n",
              "      <td>0</td>\n",
              "      <td>0</td>\n",
              "      <td>0</td>\n",
              "      <td>0</td>\n",
              "      <td>0</td>\n",
              "      <td>0</td>\n",
              "      <td>0</td>\n",
              "      <td>0</td>\n",
              "      <td>0</td>\n",
              "      <td>...</td>\n",
              "      <td>0</td>\n",
              "      <td>0</td>\n",
              "      <td>0</td>\n",
              "      <td>0</td>\n",
              "      <td>0</td>\n",
              "      <td>0</td>\n",
              "      <td>0</td>\n",
              "      <td>0</td>\n",
              "      <td>0</td>\n",
              "      <td>0</td>\n",
              "      <td>0</td>\n",
              "      <td>0</td>\n",
              "      <td>0</td>\n",
              "      <td>0</td>\n",
              "      <td>0</td>\n",
              "      <td>0</td>\n",
              "      <td>0</td>\n",
              "      <td>0</td>\n",
              "      <td>0</td>\n",
              "      <td>0</td>\n",
              "      <td>0</td>\n",
              "      <td>0</td>\n",
              "      <td>0</td>\n",
              "      <td>0</td>\n",
              "      <td>0</td>\n",
              "      <td>0</td>\n",
              "      <td>0</td>\n",
              "      <td>0</td>\n",
              "      <td>0</td>\n",
              "      <td>0</td>\n",
              "      <td>0</td>\n",
              "      <td>0</td>\n",
              "      <td>0</td>\n",
              "      <td>0</td>\n",
              "      <td>0</td>\n",
              "      <td>0</td>\n",
              "      <td>0</td>\n",
              "      <td>0</td>\n",
              "      <td>0</td>\n",
              "      <td>0</td>\n",
              "    </tr>\n",
              "  </tbody>\n",
              "</table>\n",
              "<p>5 rows × 785 columns</p>\n",
              "</div>"
            ],
            "text/plain": [
              "   label  1x1  1x2  1x3  1x4  1x5  ...  28x23  28x24  28x25  28x26  28x27  28x28\n",
              "0      7    0    0    0    0    0  ...      0      0      0      0      0      0\n",
              "1      2    0    0    0    0    0  ...      0      0      0      0      0      0\n",
              "2      1    0    0    0    0    0  ...      0      0      0      0      0      0\n",
              "3      0    0    0    0    0    0  ...      0      0      0      0      0      0\n",
              "4      4    0    0    0    0    0  ...      0      0      0      0      0      0\n",
              "\n",
              "[5 rows x 785 columns]"
            ]
          },
          "metadata": {
            "tags": []
          },
          "execution_count": 3
        }
      ]
    },
    {
      "cell_type": "markdown",
      "metadata": {
        "id": "fdc6107f"
      },
      "source": [
        "## Data Preparation and Cleaning"
      ],
      "id": "fdc6107f"
    },
    {
      "cell_type": "code",
      "metadata": {
        "execution": {
          "iopub.execute_input": "2021-04-10T22:12:30.730669Z",
          "iopub.status.busy": "2021-04-10T22:12:30.729987Z",
          "iopub.status.idle": "2021-04-10T22:12:30.733281Z",
          "shell.execute_reply": "2021-04-10T22:12:30.732806Z"
        },
        "papermill": {
          "duration": 0.163124,
          "end_time": "2021-04-10T22:12:30.733414",
          "exception": false,
          "start_time": "2021-04-10T22:12:30.570290",
          "status": "completed"
        },
        "tags": [],
        "id": "compatible-colors"
      },
      "source": [
        "X_train=train.drop(labels=[\"label\"],axis=1)\n",
        "Y_train=train[\"label\"]"
      ],
      "id": "compatible-colors",
      "execution_count": 4,
      "outputs": []
    },
    {
      "cell_type": "code",
      "metadata": {
        "execution": {
          "iopub.execute_input": "2021-04-10T22:12:30.776620Z",
          "iopub.status.busy": "2021-04-10T22:12:30.775990Z",
          "iopub.status.idle": "2021-04-10T22:12:30.989543Z",
          "shell.execute_reply": "2021-04-10T22:12:30.989022Z"
        },
        "papermill": {
          "duration": 0.237975,
          "end_time": "2021-04-10T22:12:30.989683",
          "exception": false,
          "start_time": "2021-04-10T22:12:30.751708",
          "status": "completed"
        },
        "tags": [],
        "colab": {
          "base_uri": "https://localhost:8080/",
          "height": 390
        },
        "id": "silent-bronze",
        "outputId": "cef75a7d-fbf3-4070-daf9-34b09969e900"
      },
      "source": [
        "plt.figure(figsize=(15,7))\n",
        "g=sns.countplot(Y_train,palette=\"colorblind\")"
      ],
      "id": "silent-bronze",
      "execution_count": 5,
      "outputs": [
        {
          "output_type": "display_data",
          "data": {
            "image/png": "[encoded data removed]",
            "text/plain": [
              "<Figure size 1080x504 with 1 Axes>"
            ]
          },
          "metadata": {
            "tags": [],
            "needs_background": "light"
          }
        }
      ]
    },
    {
      "cell_type": "code",
      "metadata": {
        "execution": {
          "iopub.execute_input": "2021-04-10T22:12:31.080284Z",
          "iopub.status.busy": "2021-04-10T22:12:31.055916Z",
          "iopub.status.idle": "2021-04-10T22:12:31.103289Z",
          "shell.execute_reply": "2021-04-10T22:12:31.102228Z"
        },
        "papermill": {
          "duration": 0.093133,
          "end_time": "2021-04-10T22:12:31.103601",
          "exception": false,
          "start_time": "2021-04-10T22:12:31.010468",
          "status": "completed"
        },
        "tags": [],
        "colab": {
          "base_uri": "https://localhost:8080/",
          "height": 248
        },
        "id": "clean-consultation",
        "outputId": "0813f219-21d2-4f26-973c-4aa1352a4dae"
      },
      "source": [
        "img = X_train.iloc[60].values.reshape(28,28)\n",
        "img.shape\n",
        "plt.imshow(img,cmap='gray')\n",
        "plt.axis(\"off\")\n",
        "plt.show()"
      ],
      "id": "clean-consultation",
      "execution_count": 6,
      "outputs": [
        {
          "output_type": "display_data",
          "data": {
            "image/png": "[encoded data removed]",
            "text/plain": [
              "<Figure size 432x288 with 1 Axes>"
            ]
          },
          "metadata": {
            "tags": [],
            "needs_background": "light"
          }
        }
      ]
    },
    {
      "cell_type": "code",
      "metadata": {
        "execution": {
          "iopub.execute_input": "2021-04-10T22:12:31.150502Z",
          "iopub.status.busy": "2021-04-10T22:12:31.149513Z",
          "iopub.status.idle": "2021-04-10T22:12:31.156977Z",
          "shell.execute_reply": "2021-04-10T22:12:31.156422Z"
        },
        "papermill": {
          "duration": 0.033594,
          "end_time": "2021-04-10T22:12:31.157113",
          "exception": false,
          "start_time": "2021-04-10T22:12:31.123519",
          "status": "completed"
        },
        "tags": [],
        "colab": {
          "base_uri": "https://localhost:8080/"
        },
        "id": "acoustic-engine",
        "outputId": "13e3075b-7044-439f-e0f3-683a6e807124"
      },
      "source": [
        "Y_train.value_counts()"
      ],
      "id": "acoustic-engine",
      "execution_count": 7,
      "outputs": [
        {
          "output_type": "execute_result",
          "data": {
            "text/plain": [
              "1    6742\n",
              "7    6265\n",
              "3    6131\n",
              "2    5958\n",
              "9    5949\n",
              "0    5923\n",
              "6    5918\n",
              "8    5851\n",
              "4    5842\n",
              "5    5421\n",
              "Name: label, dtype: int64"
            ]
          },
          "metadata": {
            "tags": []
          },
          "execution_count": 7
        }
      ]
    },
    {
      "cell_type": "markdown",
      "metadata": {
        "papermill": {
          "duration": 0.020311,
          "end_time": "2021-04-10T22:12:31.198241",
          "exception": false,
          "start_time": "2021-04-10T22:12:31.177930",
          "status": "completed"
        },
        "tags": [],
        "id": "elder-produce"
      },
      "source": [
        "## Normalization"
      ],
      "id": "elder-produce"
    },
    {
      "cell_type": "code",
      "metadata": {
        "execution": {
          "iopub.execute_input": "2021-04-10T22:12:31.260106Z",
          "iopub.status.busy": "2021-04-10T22:12:31.259153Z",
          "iopub.status.idle": "2021-04-10T22:12:31.262660Z",
          "shell.execute_reply": "2021-04-10T22:12:31.262115Z"
        },
        "papermill": {
          "duration": 0.044092,
          "end_time": "2021-04-10T22:12:31.262796",
          "exception": false,
          "start_time": "2021-04-10T22:12:31.218704",
          "status": "completed"
        },
        "tags": [],
        "id": "modular-interview"
      },
      "source": [
        "X_test=test.drop(labels=[\"label\"],axis=1)\n",
        "Y_test=test[\"label\"]"
      ],
      "id": "modular-interview",
      "execution_count": 8,
      "outputs": []
    },
    {
      "cell_type": "code",
      "metadata": {
        "execution": {
          "iopub.execute_input": "2021-04-10T22:12:31.309702Z",
          "iopub.status.busy": "2021-04-10T22:12:31.309052Z",
          "iopub.status.idle": "2021-04-10T22:12:31.433519Z",
          "shell.execute_reply": "2021-04-10T22:12:31.432124Z"
        },
        "papermill": {
          "duration": 0.150389,
          "end_time": "2021-04-10T22:12:31.433766",
          "exception": false,
          "start_time": "2021-04-10T22:12:31.283377",
          "status": "completed"
        },
        "tags": [],
        "colab": {
          "base_uri": "https://localhost:8080/"
        },
        "id": "limited-stamp",
        "outputId": "4ce49685-a807-4b1b-a671-fe622ccf6cf6"
      },
      "source": [
        "# Normalize pixel values to be between 0 and 1\n",
        "X_train=X_train/255.0\n",
        "X_test=X_test/255.0\n",
        "print(\"X_train: \",X_train.shape)\n",
        "print(\"X_test shape: \",X_test.shape)"
      ],
      "id": "limited-stamp",
      "execution_count": 9,
      "outputs": [
        {
          "output_type": "stream",
          "text": [
            "X_train:  (60000, 784)\n",
            "X_test shape:  (10000, 784)\n"
          ],
          "name": "stdout"
        }
      ]
    },
    {
      "cell_type": "markdown",
      "metadata": {
        "papermill": {
          "duration": 0.020963,
          "end_time": "2021-04-10T22:12:31.477884",
          "exception": false,
          "start_time": "2021-04-10T22:12:31.456921",
          "status": "completed"
        },
        "tags": [],
        "id": "tamil-sound"
      },
      "source": [
        "## Reshape"
      ],
      "id": "tamil-sound"
    },
    {
      "cell_type": "code",
      "metadata": {
        "execution": {
          "iopub.execute_input": "2021-04-10T22:12:31.526168Z",
          "iopub.status.busy": "2021-04-10T22:12:31.525403Z",
          "iopub.status.idle": "2021-04-10T22:12:31.528776Z",
          "shell.execute_reply": "2021-04-10T22:12:31.529513Z"
        },
        "papermill": {
          "duration": 0.030883,
          "end_time": "2021-04-10T22:12:31.529725",
          "exception": false,
          "start_time": "2021-04-10T22:12:31.498842",
          "status": "completed"
        },
        "tags": [],
        "colab": {
          "base_uri": "https://localhost:8080/"
        },
        "id": "charming-crazy",
        "outputId": "b2c659a9-530a-443e-876f-43644ce565c7"
      },
      "source": [
        "X_train=X_train.values.reshape(-1,28,28,1)\n",
        "X_test=X_test.values.reshape(-1,28,28,1)\n",
        "print(\"X_train shape: \",X_train.shape)\n",
        "print(\"X_test shape: \",X_test.shape)"
      ],
      "id": "charming-crazy",
      "execution_count": 10,
      "outputs": [
        {
          "output_type": "stream",
          "text": [
            "X_train shape:  (60000, 28, 28, 1)\n",
            "X_test shape:  (10000, 28, 28, 1)\n"
          ],
          "name": "stdout"
        }
      ]
    },
    {
      "cell_type": "markdown",
      "metadata": {
        "papermill": {
          "duration": 0.021011,
          "end_time": "2021-04-10T22:12:31.573194",
          "exception": false,
          "start_time": "2021-04-10T22:12:31.552183",
          "status": "completed"
        },
        "tags": [],
        "id": "becoming-packing"
      },
      "source": [
        "## Label Encoding"
      ],
      "id": "becoming-packing"
    },
    {
      "cell_type": "code",
      "metadata": {
        "execution": {
          "iopub.execute_input": "2021-04-10T22:12:31.620949Z",
          "iopub.status.busy": "2021-04-10T22:12:31.620129Z",
          "iopub.status.idle": "2021-04-10T22:12:36.863869Z",
          "shell.execute_reply": "2021-04-10T22:12:36.863053Z"
        },
        "papermill": {
          "duration": 5.269517,
          "end_time": "2021-04-10T22:12:36.864021",
          "exception": false,
          "start_time": "2021-04-10T22:12:31.594504",
          "status": "completed"
        },
        "tags": [],
        "id": "tropical-channels"
      },
      "source": [
        "from keras.utils.np_utils import to_categorical\n",
        "Y_train=to_categorical(Y_train,num_classes=10)"
      ],
      "id": "tropical-channels",
      "execution_count": 11,
      "outputs": []
    },
    {
      "cell_type": "code",
      "metadata": {
        "execution": {
          "iopub.execute_input": "2021-04-10T22:12:36.914655Z",
          "iopub.status.busy": "2021-04-10T22:12:36.913778Z",
          "iopub.status.idle": "2021-04-10T22:12:36.918468Z",
          "shell.execute_reply": "2021-04-10T22:12:36.917824Z"
        },
        "papermill": {
          "duration": 0.03222,
          "end_time": "2021-04-10T22:12:36.918624",
          "exception": false,
          "start_time": "2021-04-10T22:12:36.886404",
          "status": "completed"
        },
        "tags": [],
        "colab": {
          "base_uri": "https://localhost:8080/"
        },
        "id": "likely-nowhere",
        "outputId": "86b709c8-503b-40dd-b377-2bf3d85e2e24"
      },
      "source": [
        "Y_train"
      ],
      "id": "likely-nowhere",
      "execution_count": 12,
      "outputs": [
        {
          "output_type": "execute_result",
          "data": {
            "text/plain": [
              "array([[0., 0., 0., ..., 0., 0., 0.],\n",
              "       [1., 0., 0., ..., 0., 0., 0.],\n",
              "       [0., 0., 0., ..., 0., 0., 0.],\n",
              "       ...,\n",
              "       [0., 0., 0., ..., 0., 0., 0.],\n",
              "       [0., 0., 0., ..., 0., 0., 0.],\n",
              "       [0., 0., 0., ..., 0., 1., 0.]], dtype=float32)"
            ]
          },
          "metadata": {
            "tags": []
          },
          "execution_count": 12
        }
      ]
    },
    {
      "cell_type": "code",
      "metadata": {
        "execution": {
          "iopub.execute_input": "2021-04-10T22:12:36.969393Z",
          "iopub.status.busy": "2021-04-10T22:12:36.968309Z",
          "iopub.status.idle": "2021-04-10T22:12:36.970743Z",
          "shell.execute_reply": "2021-04-10T22:12:36.971221Z"
        },
        "papermill": {
          "duration": 0.030207,
          "end_time": "2021-04-10T22:12:36.971377",
          "exception": false,
          "start_time": "2021-04-10T22:12:36.941170",
          "status": "completed"
        },
        "tags": [],
        "id": "defensive-edinburgh"
      },
      "source": [
        "Y_test=to_categorical(Y_test,num_classes=10)"
      ],
      "id": "defensive-edinburgh",
      "execution_count": 13,
      "outputs": []
    },
    {
      "cell_type": "markdown",
      "metadata": {
        "papermill": {
          "duration": 0.021957,
          "end_time": "2021-04-10T22:12:37.015387",
          "exception": false,
          "start_time": "2021-04-10T22:12:36.993430",
          "status": "completed"
        },
        "tags": [],
        "id": "given-hammer"
      },
      "source": [
        "## Train Test Split"
      ],
      "id": "given-hammer"
    },
    {
      "cell_type": "code",
      "metadata": {
        "execution": {
          "iopub.execute_input": "2021-04-10T22:12:37.063550Z",
          "iopub.status.busy": "2021-04-10T22:12:37.062614Z",
          "iopub.status.idle": "2021-04-10T22:12:37.885583Z",
          "shell.execute_reply": "2021-04-10T22:12:37.885064Z"
        },
        "papermill": {
          "duration": 0.848108,
          "end_time": "2021-04-10T22:12:37.885720",
          "exception": false,
          "start_time": "2021-04-10T22:12:37.037612",
          "status": "completed"
        },
        "tags": [],
        "colab": {
          "base_uri": "https://localhost:8080/"
        },
        "id": "regional-elephant",
        "outputId": "0c91ed17-2c59-402b-d065-f5887437617a"
      },
      "source": [
        "from sklearn.model_selection import train_test_split\n",
        "X_train,X_val,Y_train,Y_val=train_test_split(X_train,Y_train,test_size=0.1,random_state=2)\n",
        "print(\"x_train: \",X_train.shape)\n",
        "print(\"x_test: \",X_val.shape)\n",
        "print(\"y_train: \",Y_train.shape)\n",
        "print(\"x_test: \",Y_val.shape)"
      ],
      "id": "regional-elephant",
      "execution_count": 14,
      "outputs": [
        {
          "output_type": "stream",
          "text": [
            "x_train:  (54000, 28, 28, 1)\n",
            "x_test:  (6000, 28, 28, 1)\n",
            "y_train:  (54000, 10)\n",
            "x_test:  (6000, 10)\n"
          ],
          "name": "stdout"
        }
      ]
    },
    {
      "cell_type": "markdown",
      "metadata": {
        "id": "c39aea3c"
      },
      "source": [
        "# Constructing Deep Learning Model"
      ],
      "id": "c39aea3c"
    },
    {
      "cell_type": "markdown",
      "metadata": {
        "papermill": {
          "duration": 0.02193,
          "end_time": "2021-04-10T22:12:37.929849",
          "exception": false,
          "start_time": "2021-04-10T22:12:37.907919",
          "status": "completed"
        },
        "tags": [],
        "id": "chinese-innocent"
      },
      "source": [
        "## Convolutional Neural Networks Model"
      ],
      "id": "chinese-innocent"
    },
    {
      "cell_type": "code",
      "metadata": {
        "execution": {
          "iopub.execute_input": "2021-04-10T22:12:37.987325Z",
          "iopub.status.busy": "2021-04-10T22:12:37.986302Z",
          "iopub.status.idle": "2021-04-10T22:12:38.287184Z",
          "shell.execute_reply": "2021-04-10T22:12:38.287724Z"
        },
        "papermill": {
          "duration": 0.33606,
          "end_time": "2021-04-10T22:12:38.287893",
          "exception": false,
          "start_time": "2021-04-10T22:12:37.951833",
          "status": "completed"
        },
        "tags": [],
        "id": "comfortable-toner"
      },
      "source": [
        "from sklearn.metrics import confusion_matrix\n",
        "import itertools\n",
        "\n",
        "from keras.utils.np_utils import to_categorical # convert to one-hot-encoding\n",
        "from keras.models import Sequential\n",
        "from keras.layers import Dense, Dropout, Flatten, Conv2D, MaxPool2D\n",
        "from keras.optimizers import RMSprop,Adam\n",
        "from keras.preprocessing.image import ImageDataGenerator\n",
        "from keras.callbacks import ReduceLROnPlateau\n",
        "\n",
        "model = Sequential()\n",
        "model.add(Conv2D(filters=32,kernel_size=(3,3),padding='Same',activation='relu',input_shape=(28,28,1)))\n",
        "model.add(MaxPool2D(pool_size=(2,2)))\n",
        "model.add(Dropout(0.25))\n",
        "\n",
        "model.add(Conv2D(filters=32,kernel_size=(3,3),padding='Same',activation='relu'))\n",
        "model.add(MaxPool2D(pool_size=(2,2),strides=(2,2)))\n",
        "model.add(Dropout(0.25))\n",
        "\n",
        "model.add(Conv2D(filters=64,kernel_size=(3,3),padding=\"Same\",activation=\"relu\"))\n",
        "model.add(MaxPool2D(pool_size=(2,2),strides=(2,2)))\n",
        "model.add(Dropout(0.25))\n",
        "\n",
        "model.add(Flatten())\n",
        "model.add(Dense(256, activation = \"relu\"))\n",
        "model.add(Dropout(0.5))\n",
        "model.add(Dense(10, activation = \"softmax\"))\n",
        "\n",
        "model.compile(optimizer=\"rmsprop\",loss=\"categorical_crossentropy\",metrics=[\"accuracy\"])\n",
        "batch_size=32\n",
        "epochs=100"
      ],
      "id": "comfortable-toner",
      "execution_count": 15,
      "outputs": []
    },
    {
      "cell_type": "code",
      "metadata": {
        "execution": {
          "iopub.execute_input": "2021-04-10T22:12:38.338753Z",
          "iopub.status.busy": "2021-04-10T22:12:38.338168Z",
          "iopub.status.idle": "2021-04-10T22:12:38.472083Z",
          "shell.execute_reply": "2021-04-10T22:12:38.471520Z"
        },
        "papermill": {
          "duration": 0.161733,
          "end_time": "2021-04-10T22:12:38.472220",
          "exception": false,
          "start_time": "2021-04-10T22:12:38.310487",
          "status": "completed"
        },
        "tags": [],
        "id": "orange-consumer"
      },
      "source": [
        "datagen=ImageDataGenerator(featurewise_center=False,\n",
        "                           samplewise_center=False,\n",
        "                           featurewise_std_normalization=False,\n",
        "                           samplewise_std_normalization=False,\n",
        "                           zca_whitening=False,\n",
        "                           rotation_range=5,\n",
        "                           zoom_range=0.1,\n",
        "                           width_shift_range=0.1,\n",
        "                           height_shift_range=0.1,\n",
        "                           horizontal_flip=False,\n",
        "                           vertical_flip=False)\n",
        "datagen.fit(X_train)"
      ],
      "id": "orange-consumer",
      "execution_count": 16,
      "outputs": []
    },
    {
      "cell_type": "markdown",
      "metadata": {
        "papermill": {
          "duration": 0.022584,
          "end_time": "2021-04-10T22:12:38.517898",
          "exception": false,
          "start_time": "2021-04-10T22:12:38.495314",
          "status": "completed"
        },
        "tags": [],
        "id": "presidential-spider"
      },
      "source": [
        "## Fit Model"
      ],
      "id": "presidential-spider"
    },
    {
      "cell_type": "code",
      "metadata": {
        "execution": {
          "iopub.execute_input": "2021-04-10T22:12:38.570198Z",
          "iopub.status.busy": "2021-04-10T22:12:38.568933Z",
          "iopub.status.idle": "2021-04-10T22:16:46.291464Z",
          "shell.execute_reply": "2021-04-10T22:16:46.292170Z"
        },
        "papermill": {
          "duration": 247.751621,
          "end_time": "2021-04-10T22:16:46.292473",
          "exception": false,
          "start_time": "2021-04-10T22:12:38.540852",
          "status": "completed"
        },
        "tags": [],
        "colab": {
          "base_uri": "https://localhost:8080/"
        },
        "id": "removed-fence",
        "outputId": "955b3b8c-5b8e-4165-c0a2-1bc731f7cd51"
      },
      "source": [
        "history=model.fit_generator(datagen.flow(X_train,Y_train,batch_size=batch_size),\n",
        "                            epochs=epochs,validation_data=(X_val,Y_val),\n",
        "                            steps_per_epoch=1600//batch_size)"
      ],
      "id": "removed-fence",
      "execution_count": 17,
      "outputs": [
        {
          "output_type": "stream",
          "text": [
            "Epoch 1/100\n",
            "50/50 [==============================] - 21s 98ms/step - loss: 2.2639 - accuracy: 0.1728 - val_loss: 1.5143 - val_accuracy: 0.5828\n",
            "Epoch 2/100\n",
            "50/50 [==============================] - 4s 79ms/step - loss: 1.5513 - accuracy: 0.4512 - val_loss: 0.6882 - val_accuracy: 0.7923\n",
            "Epoch 3/100\n",
            "50/50 [==============================] - 4s 79ms/step - loss: 1.0643 - accuracy: 0.6354 - val_loss: 0.4190 - val_accuracy: 0.8705\n",
            "Epoch 4/100\n",
            "50/50 [==============================] - 4s 79ms/step - loss: 0.7944 - accuracy: 0.7312 - val_loss: 0.3350 - val_accuracy: 0.9027\n",
            "Epoch 5/100\n",
            "50/50 [==============================] - 4s 79ms/step - loss: 0.7120 - accuracy: 0.7793 - val_loss: 0.2633 - val_accuracy: 0.9253\n",
            "Epoch 6/100\n",
            "50/50 [==============================] - 4s 79ms/step - loss: 0.5461 - accuracy: 0.8100 - val_loss: 0.2077 - val_accuracy: 0.9367\n",
            "Epoch 7/100\n",
            "50/50 [==============================] - 4s 79ms/step - loss: 0.4756 - accuracy: 0.8442 - val_loss: 0.2132 - val_accuracy: 0.9303\n",
            "Epoch 8/100\n",
            "50/50 [==============================] - 4s 79ms/step - loss: 0.4837 - accuracy: 0.8562 - val_loss: 0.1866 - val_accuracy: 0.9417\n",
            "Epoch 9/100\n",
            "50/50 [==============================] - 4s 79ms/step - loss: 0.4695 - accuracy: 0.8457 - val_loss: 0.1591 - val_accuracy: 0.9548\n",
            "Epoch 10/100\n",
            "50/50 [==============================] - 4s 78ms/step - loss: 0.4095 - accuracy: 0.8822 - val_loss: 0.1485 - val_accuracy: 0.9543\n",
            "Epoch 11/100\n",
            "50/50 [==============================] - 4s 79ms/step - loss: 0.4075 - accuracy: 0.8841 - val_loss: 0.1471 - val_accuracy: 0.9570\n",
            "Epoch 12/100\n",
            "50/50 [==============================] - 4s 80ms/step - loss: 0.3355 - accuracy: 0.8970 - val_loss: 0.1353 - val_accuracy: 0.9552\n",
            "Epoch 13/100\n",
            "50/50 [==============================] - 4s 80ms/step - loss: 0.3415 - accuracy: 0.8959 - val_loss: 0.1474 - val_accuracy: 0.9550\n",
            "Epoch 14/100\n",
            "50/50 [==============================] - 4s 79ms/step - loss: 0.3915 - accuracy: 0.8737 - val_loss: 0.1150 - val_accuracy: 0.9652\n",
            "Epoch 15/100\n",
            "50/50 [==============================] - 4s 79ms/step - loss: 0.3231 - accuracy: 0.9060 - val_loss: 0.1177 - val_accuracy: 0.9628\n",
            "Epoch 16/100\n",
            "50/50 [==============================] - 4s 78ms/step - loss: 0.3286 - accuracy: 0.9000 - val_loss: 0.1434 - val_accuracy: 0.9552\n",
            "Epoch 17/100\n",
            "50/50 [==============================] - 4s 79ms/step - loss: 0.2739 - accuracy: 0.9168 - val_loss: 0.1125 - val_accuracy: 0.9613\n",
            "Epoch 18/100\n",
            "50/50 [==============================] - 4s 79ms/step - loss: 0.2597 - accuracy: 0.9178 - val_loss: 0.1138 - val_accuracy: 0.9650\n",
            "Epoch 19/100\n",
            "50/50 [==============================] - 4s 79ms/step - loss: 0.3576 - accuracy: 0.8825 - val_loss: 0.1014 - val_accuracy: 0.9700\n",
            "Epoch 20/100\n",
            "50/50 [==============================] - 4s 78ms/step - loss: 0.2641 - accuracy: 0.9174 - val_loss: 0.0935 - val_accuracy: 0.9703\n",
            "Epoch 21/100\n",
            "50/50 [==============================] - 4s 80ms/step - loss: 0.2750 - accuracy: 0.9241 - val_loss: 0.1023 - val_accuracy: 0.9635\n",
            "Epoch 22/100\n",
            "50/50 [==============================] - 4s 79ms/step - loss: 0.2426 - accuracy: 0.9262 - val_loss: 0.0913 - val_accuracy: 0.9693\n",
            "Epoch 23/100\n",
            "50/50 [==============================] - 4s 80ms/step - loss: 0.1995 - accuracy: 0.9341 - val_loss: 0.1019 - val_accuracy: 0.9652\n",
            "Epoch 24/100\n",
            "50/50 [==============================] - 4s 78ms/step - loss: 0.2066 - accuracy: 0.9373 - val_loss: 0.0913 - val_accuracy: 0.9708\n",
            "Epoch 25/100\n",
            "50/50 [==============================] - 4s 79ms/step - loss: 0.2392 - accuracy: 0.9336 - val_loss: 0.1133 - val_accuracy: 0.9595\n",
            "Epoch 26/100\n",
            "50/50 [==============================] - 4s 79ms/step - loss: 0.2371 - accuracy: 0.9286 - val_loss: 0.0903 - val_accuracy: 0.9717\n",
            "Epoch 27/100\n",
            "50/50 [==============================] - 4s 80ms/step - loss: 0.2092 - accuracy: 0.9334 - val_loss: 0.0828 - val_accuracy: 0.9727\n",
            "Epoch 28/100\n",
            "50/50 [==============================] - 4s 79ms/step - loss: 0.2035 - accuracy: 0.9402 - val_loss: 0.0892 - val_accuracy: 0.9712\n",
            "Epoch 29/100\n",
            "50/50 [==============================] - 4s 79ms/step - loss: 0.1855 - accuracy: 0.9459 - val_loss: 0.0767 - val_accuracy: 0.9753\n",
            "Epoch 30/100\n",
            "50/50 [==============================] - 4s 79ms/step - loss: 0.2222 - accuracy: 0.9360 - val_loss: 0.0918 - val_accuracy: 0.9703\n",
            "Epoch 31/100\n",
            "50/50 [==============================] - 4s 79ms/step - loss: 0.2347 - accuracy: 0.9312 - val_loss: 0.0900 - val_accuracy: 0.9718\n",
            "Epoch 32/100\n",
            "50/50 [==============================] - 4s 78ms/step - loss: 0.1860 - accuracy: 0.9436 - val_loss: 0.0826 - val_accuracy: 0.9727\n",
            "Epoch 33/100\n",
            "50/50 [==============================] - 4s 79ms/step - loss: 0.2061 - accuracy: 0.9380 - val_loss: 0.0768 - val_accuracy: 0.9747\n",
            "Epoch 34/100\n",
            "50/50 [==============================] - 4s 80ms/step - loss: 0.1845 - accuracy: 0.9406 - val_loss: 0.0714 - val_accuracy: 0.9768\n",
            "Epoch 35/100\n",
            "50/50 [==============================] - 4s 79ms/step - loss: 0.1919 - accuracy: 0.9406 - val_loss: 0.0755 - val_accuracy: 0.9755\n",
            "Epoch 36/100\n",
            "50/50 [==============================] - 4s 80ms/step - loss: 0.1855 - accuracy: 0.9437 - val_loss: 0.0735 - val_accuracy: 0.9763\n",
            "Epoch 37/100\n",
            "50/50 [==============================] - 4s 79ms/step - loss: 0.1994 - accuracy: 0.9445 - val_loss: 0.0673 - val_accuracy: 0.9772\n",
            "Epoch 38/100\n",
            "50/50 [==============================] - 4s 79ms/step - loss: 0.1859 - accuracy: 0.9425 - val_loss: 0.0706 - val_accuracy: 0.9770\n",
            "Epoch 39/100\n",
            "50/50 [==============================] - 4s 79ms/step - loss: 0.1846 - accuracy: 0.9416 - val_loss: 0.0632 - val_accuracy: 0.9797\n",
            "Epoch 40/100\n",
            "50/50 [==============================] - 4s 79ms/step - loss: 0.1985 - accuracy: 0.9377 - val_loss: 0.0655 - val_accuracy: 0.9788\n",
            "Epoch 41/100\n",
            "50/50 [==============================] - 4s 79ms/step - loss: 0.2028 - accuracy: 0.9381 - val_loss: 0.0730 - val_accuracy: 0.9752\n",
            "Epoch 42/100\n",
            "50/50 [==============================] - 4s 78ms/step - loss: 0.1624 - accuracy: 0.9491 - val_loss: 0.0633 - val_accuracy: 0.9793\n",
            "Epoch 43/100\n",
            "50/50 [==============================] - 4s 79ms/step - loss: 0.1831 - accuracy: 0.9463 - val_loss: 0.0733 - val_accuracy: 0.9742\n",
            "Epoch 44/100\n",
            "50/50 [==============================] - 4s 79ms/step - loss: 0.1451 - accuracy: 0.9523 - val_loss: 0.0612 - val_accuracy: 0.9795\n",
            "Epoch 45/100\n",
            "50/50 [==============================] - 4s 79ms/step - loss: 0.1829 - accuracy: 0.9438 - val_loss: 0.0545 - val_accuracy: 0.9812\n",
            "Epoch 46/100\n",
            "50/50 [==============================] - 4s 79ms/step - loss: 0.1245 - accuracy: 0.9575 - val_loss: 0.0687 - val_accuracy: 0.9783\n",
            "Epoch 47/100\n",
            "50/50 [==============================] - 4s 79ms/step - loss: 0.2061 - accuracy: 0.9340 - val_loss: 0.0659 - val_accuracy: 0.9787\n",
            "Epoch 48/100\n",
            "50/50 [==============================] - 4s 80ms/step - loss: 0.1750 - accuracy: 0.9497 - val_loss: 0.0666 - val_accuracy: 0.9787\n",
            "Epoch 49/100\n",
            "50/50 [==============================] - 4s 79ms/step - loss: 0.1355 - accuracy: 0.9555 - val_loss: 0.0547 - val_accuracy: 0.9830\n",
            "Epoch 50/100\n",
            "50/50 [==============================] - 4s 80ms/step - loss: 0.1851 - accuracy: 0.9334 - val_loss: 0.0581 - val_accuracy: 0.9800\n",
            "Epoch 51/100\n",
            "50/50 [==============================] - 4s 80ms/step - loss: 0.1421 - accuracy: 0.9626 - val_loss: 0.0588 - val_accuracy: 0.9822\n",
            "Epoch 52/100\n",
            "50/50 [==============================] - 4s 80ms/step - loss: 0.2220 - accuracy: 0.9372 - val_loss: 0.0528 - val_accuracy: 0.9830\n",
            "Epoch 53/100\n",
            "50/50 [==============================] - 4s 80ms/step - loss: 0.2049 - accuracy: 0.9464 - val_loss: 0.0513 - val_accuracy: 0.9818\n",
            "Epoch 54/100\n",
            "50/50 [==============================] - 4s 80ms/step - loss: 0.1572 - accuracy: 0.9474 - val_loss: 0.0713 - val_accuracy: 0.9800\n",
            "Epoch 55/100\n",
            "50/50 [==============================] - 4s 79ms/step - loss: 0.2160 - accuracy: 0.9407 - val_loss: 0.0611 - val_accuracy: 0.9815\n",
            "Epoch 56/100\n",
            "50/50 [==============================] - 4s 80ms/step - loss: 0.1165 - accuracy: 0.9624 - val_loss: 0.0621 - val_accuracy: 0.9792\n",
            "Epoch 57/100\n",
            "50/50 [==============================] - 4s 80ms/step - loss: 0.2031 - accuracy: 0.9472 - val_loss: 0.0585 - val_accuracy: 0.9812\n",
            "Epoch 58/100\n",
            "50/50 [==============================] - 4s 80ms/step - loss: 0.1703 - accuracy: 0.9525 - val_loss: 0.0511 - val_accuracy: 0.9842\n",
            "Epoch 59/100\n",
            "50/50 [==============================] - 4s 79ms/step - loss: 0.1109 - accuracy: 0.9634 - val_loss: 0.0509 - val_accuracy: 0.9838\n",
            "Epoch 60/100\n",
            "50/50 [==============================] - 4s 79ms/step - loss: 0.1269 - accuracy: 0.9612 - val_loss: 0.0517 - val_accuracy: 0.9822\n",
            "Epoch 61/100\n",
            "50/50 [==============================] - 4s 80ms/step - loss: 0.1368 - accuracy: 0.9477 - val_loss: 0.0522 - val_accuracy: 0.9823\n",
            "Epoch 62/100\n",
            "50/50 [==============================] - 4s 80ms/step - loss: 0.1417 - accuracy: 0.9567 - val_loss: 0.0509 - val_accuracy: 0.9840\n",
            "Epoch 63/100\n",
            "50/50 [==============================] - 4s 79ms/step - loss: 0.1734 - accuracy: 0.9520 - val_loss: 0.0512 - val_accuracy: 0.9843\n",
            "Epoch 64/100\n",
            "50/50 [==============================] - 4s 80ms/step - loss: 0.1315 - accuracy: 0.9636 - val_loss: 0.0512 - val_accuracy: 0.9830\n",
            "Epoch 65/100\n",
            "50/50 [==============================] - 4s 80ms/step - loss: 0.1222 - accuracy: 0.9636 - val_loss: 0.0493 - val_accuracy: 0.9845\n",
            "Epoch 66/100\n",
            "50/50 [==============================] - 4s 79ms/step - loss: 0.1141 - accuracy: 0.9697 - val_loss: 0.0503 - val_accuracy: 0.9817\n",
            "Epoch 67/100\n",
            "50/50 [==============================] - 4s 80ms/step - loss: 0.1403 - accuracy: 0.9564 - val_loss: 0.0535 - val_accuracy: 0.9835\n",
            "Epoch 68/100\n",
            "50/50 [==============================] - 4s 80ms/step - loss: 0.1384 - accuracy: 0.9598 - val_loss: 0.0496 - val_accuracy: 0.9835\n",
            "Epoch 69/100\n",
            "50/50 [==============================] - 4s 80ms/step - loss: 0.1302 - accuracy: 0.9539 - val_loss: 0.0471 - val_accuracy: 0.9857\n",
            "Epoch 70/100\n",
            "50/50 [==============================] - 4s 80ms/step - loss: 0.1133 - accuracy: 0.9585 - val_loss: 0.0692 - val_accuracy: 0.9812\n",
            "Epoch 71/100\n",
            "50/50 [==============================] - 4s 79ms/step - loss: 0.1823 - accuracy: 0.9484 - val_loss: 0.0503 - val_accuracy: 0.9838\n",
            "Epoch 72/100\n",
            "50/50 [==============================] - 4s 80ms/step - loss: 0.0952 - accuracy: 0.9687 - val_loss: 0.0536 - val_accuracy: 0.9835\n",
            "Epoch 73/100\n",
            "50/50 [==============================] - 4s 79ms/step - loss: 0.1678 - accuracy: 0.9535 - val_loss: 0.0480 - val_accuracy: 0.9853\n",
            "Epoch 74/100\n",
            "50/50 [==============================] - 4s 80ms/step - loss: 0.1709 - accuracy: 0.9513 - val_loss: 0.0471 - val_accuracy: 0.9848\n",
            "Epoch 75/100\n",
            "50/50 [==============================] - 4s 80ms/step - loss: 0.1091 - accuracy: 0.9664 - val_loss: 0.0487 - val_accuracy: 0.9855\n",
            "Epoch 76/100\n",
            "50/50 [==============================] - 4s 79ms/step - loss: 0.1734 - accuracy: 0.9498 - val_loss: 0.0531 - val_accuracy: 0.9842\n",
            "Epoch 77/100\n",
            "50/50 [==============================] - 4s 80ms/step - loss: 0.1481 - accuracy: 0.9610 - val_loss: 0.0457 - val_accuracy: 0.9855\n",
            "Epoch 78/100\n",
            "50/50 [==============================] - 4s 80ms/step - loss: 0.1226 - accuracy: 0.9669 - val_loss: 0.0471 - val_accuracy: 0.9855\n",
            "Epoch 79/100\n",
            "50/50 [==============================] - 4s 80ms/step - loss: 0.1045 - accuracy: 0.9636 - val_loss: 0.0510 - val_accuracy: 0.9843\n",
            "Epoch 80/100\n",
            "50/50 [==============================] - 4s 79ms/step - loss: 0.1394 - accuracy: 0.9586 - val_loss: 0.0423 - val_accuracy: 0.9868\n",
            "Epoch 81/100\n",
            "50/50 [==============================] - 4s 80ms/step - loss: 0.1775 - accuracy: 0.9578 - val_loss: 0.0457 - val_accuracy: 0.9863\n",
            "Epoch 82/100\n",
            "50/50 [==============================] - 4s 80ms/step - loss: 0.1302 - accuracy: 0.9609 - val_loss: 0.0421 - val_accuracy: 0.9863\n",
            "Epoch 83/100\n",
            "50/50 [==============================] - 4s 81ms/step - loss: 0.1128 - accuracy: 0.9716 - val_loss: 0.0504 - val_accuracy: 0.9830\n",
            "Epoch 84/100\n",
            "50/50 [==============================] - 4s 81ms/step - loss: 0.1649 - accuracy: 0.9492 - val_loss: 0.0634 - val_accuracy: 0.9820\n",
            "Epoch 85/100\n",
            "50/50 [==============================] - 4s 81ms/step - loss: 0.1365 - accuracy: 0.9608 - val_loss: 0.0447 - val_accuracy: 0.9870\n",
            "Epoch 86/100\n",
            "50/50 [==============================] - 4s 80ms/step - loss: 0.1577 - accuracy: 0.9552 - val_loss: 0.0431 - val_accuracy: 0.9872\n",
            "Epoch 87/100\n",
            "50/50 [==============================] - 4s 80ms/step - loss: 0.1164 - accuracy: 0.9599 - val_loss: 0.0550 - val_accuracy: 0.9843\n",
            "Epoch 88/100\n",
            "50/50 [==============================] - 4s 81ms/step - loss: 0.1682 - accuracy: 0.9445 - val_loss: 0.0484 - val_accuracy: 0.9873\n",
            "Epoch 89/100\n",
            "50/50 [==============================] - 4s 81ms/step - loss: 0.1441 - accuracy: 0.9562 - val_loss: 0.0512 - val_accuracy: 0.9860\n",
            "Epoch 90/100\n",
            "50/50 [==============================] - 4s 81ms/step - loss: 0.1315 - accuracy: 0.9633 - val_loss: 0.0469 - val_accuracy: 0.9862\n",
            "Epoch 91/100\n",
            "50/50 [==============================] - 4s 80ms/step - loss: 0.1306 - accuracy: 0.9639 - val_loss: 0.0564 - val_accuracy: 0.9867\n",
            "Epoch 92/100\n",
            "50/50 [==============================] - 4s 80ms/step - loss: 0.1290 - accuracy: 0.9547 - val_loss: 0.0486 - val_accuracy: 0.9858\n",
            "Epoch 93/100\n",
            "50/50 [==============================] - 4s 81ms/step - loss: 0.1055 - accuracy: 0.9630 - val_loss: 0.0491 - val_accuracy: 0.9853\n",
            "Epoch 94/100\n",
            "50/50 [==============================] - 4s 81ms/step - loss: 0.1411 - accuracy: 0.9601 - val_loss: 0.0487 - val_accuracy: 0.9857\n",
            "Epoch 95/100\n",
            "50/50 [==============================] - 4s 80ms/step - loss: 0.1557 - accuracy: 0.9563 - val_loss: 0.0443 - val_accuracy: 0.9865\n",
            "Epoch 96/100\n",
            "50/50 [==============================] - 4s 80ms/step - loss: 0.1232 - accuracy: 0.9568 - val_loss: 0.0480 - val_accuracy: 0.9857\n",
            "Epoch 97/100\n",
            "50/50 [==============================] - 4s 79ms/step - loss: 0.1351 - accuracy: 0.9621 - val_loss: 0.0458 - val_accuracy: 0.9850\n",
            "Epoch 98/100\n",
            "50/50 [==============================] - 4s 80ms/step - loss: 0.1230 - accuracy: 0.9662 - val_loss: 0.0531 - val_accuracy: 0.9850\n",
            "Epoch 99/100\n",
            "50/50 [==============================] - 4s 79ms/step - loss: 0.1145 - accuracy: 0.9686 - val_loss: 0.0519 - val_accuracy: 0.9855\n",
            "Epoch 100/100\n",
            "50/50 [==============================] - 4s 80ms/step - loss: 0.1104 - accuracy: 0.9600 - val_loss: 0.0491 - val_accuracy: 0.9873\n"
          ],
          "name": "stdout"
        }
      ]
    },
    {
      "cell_type": "markdown",
      "metadata": {
        "papermill": {
          "duration": 0.64675,
          "end_time": "2021-04-10T22:16:47.581496",
          "exception": false,
          "start_time": "2021-04-10T22:16:46.934746",
          "status": "completed"
        },
        "tags": [],
        "id": "guided-bradford"
      },
      "source": [
        "# Evaluate the Model"
      ],
      "id": "guided-bradford"
    },
    {
      "cell_type": "markdown",
      "metadata": {
        "id": "UpDzwySbXDTx"
      },
      "source": [
        "##Compare accuracy between validation and train dataset"
      ],
      "id": "UpDzwySbXDTx"
    },
    {
      "cell_type": "code",
      "metadata": {
        "execution": {
          "iopub.execute_input": "2021-04-10T22:16:49.025812Z",
          "iopub.status.busy": "2021-04-10T22:16:49.024766Z",
          "iopub.status.idle": "2021-04-10T22:16:49.320984Z",
          "shell.execute_reply": "2021-04-10T22:16:49.321414Z"
        },
        "papermill": {
          "duration": 1.024414,
          "end_time": "2021-04-10T22:16:49.321595",
          "exception": false,
          "start_time": "2021-04-10T22:16:48.297181",
          "status": "completed"
        },
        "tags": [],
        "colab": {
          "base_uri": "https://localhost:8080/",
          "height": 293
        },
        "id": "endless-prime",
        "outputId": "f2075898-c06b-4637-edc4-d0792082f315"
      },
      "source": [
        "print(history.history.keys())\n",
        "\n",
        "plt.figure(figsize=(12, 8))\n",
        "\n",
        "plt.subplot(2, 2, 1)\n",
        "plt.plot(history.history[\"loss\"], label = \"Train Loss\")\n",
        "plt.plot(history.history[\"val_loss\"], label = \"Validation Loss\")\n",
        "plt.xlabel('Epoch')\n",
        "plt.ylabel('Loss')\n",
        "plt.legend()\n",
        "plt.title('Loss evolution')\n",
        "\n",
        "plt.subplot(2, 2, 2)\n",
        "plt.plot(history.history[\"accuracy\"], label = \"Train acc\")\n",
        "plt.plot(history.history[\"val_accuracy\"], label = \"Validation acc\")\n",
        "plt.xlabel('Epoch')\n",
        "plt.ylabel('Accuracy')\n",
        "plt.legend()\n",
        "plt.title('Accuracy evolution')\n",
        "plt.show()"
      ],
      "id": "endless-prime",
      "execution_count": 18,
      "outputs": [
        {
          "output_type": "stream",
          "text": [
            "dict_keys(['loss', 'accuracy', 'val_loss', 'val_accuracy'])\n"
          ],
          "name": "stdout"
        },
        {
          "output_type": "display_data",
          "data": {
            "image/png": "[encoded data removed]",
            "text/plain": [
              "<Figure size 864x576 with 2 Axes>"
            ]
          },
          "metadata": {
            "tags": [],
            "needs_background": "light"
          }
        }
      ]
    },
    {
      "cell_type": "markdown",
      "metadata": {
        "id": "HGBXxopPbXV3"
      },
      "source": [
        "We can see from the chart above that after around 60 epochs, our model has been trained quite thoroughly where the subsequent loss value decreases and accuracy gains are minimal. ALso, we can observe that both loss value and accuracy is better on the validation than the main train set, i.e. our model is not over-fitted."
      ],
      "id": "HGBXxopPbXV3"
    },
    {
      "cell_type": "markdown",
      "metadata": {
        "id": "n0WvzTwyXM4S"
      },
      "source": [
        "##Evaluation on the test dataset"
      ],
      "id": "n0WvzTwyXM4S"
    },
    {
      "cell_type": "code",
      "metadata": {
        "colab": {
          "base_uri": "https://localhost:8080/"
        },
        "id": "IA2M4VwEWjj8",
        "outputId": "07ae1c5f-be7f-4fe5-a4f7-5803315864de"
      },
      "source": [
        "evaluation = model.evaluate(X_test, Y_test)\n",
        "print(f'Test Accuracy : {evaluation[1]:.4f}')"
      ],
      "id": "IA2M4VwEWjj8",
      "execution_count": 19,
      "outputs": [
        {
          "output_type": "stream",
          "text": [
            "313/313 [==============================] - 3s 10ms/step - loss: 0.0334 - accuracy: 0.9882\n",
            "Test Accuracy : 0.9882\n"
          ],
          "name": "stdout"
        }
      ]
    },
    {
      "cell_type": "markdown",
      "metadata": {
        "id": "pfNyE84yW0a7"
      },
      "source": [
        "It turns out that the accuracy on the test dataset is even better than the best accuracy score reached on the validation dataset (part of the training dataset). This means that this model is robust and generalized well to perform equally good on new, previously unseen inputs than on the training data."
      ],
      "id": "pfNyE84yW0a7"
    },
    {
      "cell_type": "markdown",
      "metadata": {
        "id": "oLC3K3ZpXSA6"
      },
      "source": [
        "##Makes predictions\n",
        "With the model trained, we can use it to make predictions about some images."
      ],
      "id": "oLC3K3ZpXSA6"
    },
    {
      "cell_type": "code",
      "metadata": {
        "id": "BCsCMJ0FXbpK"
      },
      "source": [
        "# get the predictions for the test data\n",
        "predicted_classes = model.predict_classes(X_test)"
      ],
      "id": "BCsCMJ0FXbpK",
      "execution_count": 20,
      "outputs": []
    },
    {
      "cell_type": "markdown",
      "metadata": {
        "id": "aq5KQEFJXcZi"
      },
      "source": [
        "Here, the model has predicted the label for each image in the testing set. Let's take a look at the first prediction:"
      ],
      "id": "aq5KQEFJXcZi"
    },
    {
      "cell_type": "code",
      "metadata": {
        "colab": {
          "base_uri": "https://localhost:8080/"
        },
        "id": "ieoxy4RBXjiC",
        "outputId": "54bae4ec-e9b1-4ac6-f93a-97625b53318a"
      },
      "source": [
        "test_img = X_test[0]\n",
        "prediction = model.predict(X_test)\n",
        "prediction[0]"
      ],
      "id": "ieoxy4RBXjiC",
      "execution_count": 21,
      "outputs": [
        {
          "output_type": "execute_result",
          "data": {
            "text/plain": [
              "array([3.2065234e-16, 3.7838879e-10, 3.8451986e-10, 3.3302042e-11,\n",
              "       3.0497957e-14, 3.8481289e-16, 9.3409607e-23, 1.0000000e+00,\n",
              "       4.0395349e-15, 3.9493200e-10], dtype=float32)"
            ]
          },
          "metadata": {
            "tags": []
          },
          "execution_count": 21
        }
      ]
    },
    {
      "cell_type": "markdown",
      "metadata": {
        "id": "BOjfQ7VbXuGC"
      },
      "source": [
        "A prediction is an array of 10 numbers. They represent the model's \"confidence\" that the image corresponds to each of the 10 different digits. We can see which label has the highest confidence value:"
      ],
      "id": "BOjfQ7VbXuGC"
    },
    {
      "cell_type": "code",
      "metadata": {
        "colab": {
          "base_uri": "https://localhost:8080/"
        },
        "id": "EQlJ7IIdXvDz",
        "outputId": "fb88a7e1-cad6-47f0-c2d5-d6406b4e3d9e"
      },
      "source": [
        "np.argmax(prediction[0])"
      ],
      "id": "EQlJ7IIdXvDz",
      "execution_count": 22,
      "outputs": [
        {
          "output_type": "execute_result",
          "data": {
            "text/plain": [
              "7"
            ]
          },
          "metadata": {
            "tags": []
          },
          "execution_count": 22
        }
      ]
    },
    {
      "cell_type": "markdown",
      "metadata": {
        "id": "LnuZ6uZxYDPK"
      },
      "source": [
        "So, the model is most confident that this image represents the digit 7. Examining the test label shows that this classification is correct:"
      ],
      "id": "LnuZ6uZxYDPK"
    },
    {
      "cell_type": "code",
      "metadata": {
        "colab": {
          "base_uri": "https://localhost:8080/",
          "height": 697
        },
        "id": "UG4T0i5WYK4a",
        "outputId": "1c76fa0d-8575-4636-d23c-2c2d277ca941"
      },
      "source": [
        "L = 5\n",
        "W = 5\n",
        "fig, axes = plt.subplots(L, W, figsize = (12,12))\n",
        "axes = axes.ravel()\n",
        "\n",
        "for i in np.arange(0, L * W):  \n",
        "    axes[i].imshow(X_test[i].reshape(28,28))\n",
        "    axes[i].set_title(f\"Prediction Class = {predicted_classes[i]}\\n True Class = {np.array(test, dtype='float32')[:,0][i]:0.0f}\")\n",
        "    axes[i].axis('off')\n",
        "\n",
        "plt.subplots_adjust(wspace=0.5)"
      ],
      "id": "UG4T0i5WYK4a",
      "execution_count": 23,
      "outputs": [
        {
          "output_type": "display_data",
          "data": {
            "image/png": "[encoded data removed]",
            "text/plain": [
              "<Figure size 864x864 with 25 Axes>"
            ]
          },
          "metadata": {
            "tags": [],
            "needs_background": "light"
          }
        }
      ]
    },
    {
      "cell_type": "markdown",
      "metadata": {
        "id": "M7ByyjoGnx6r"
      },
      "source": [
        "## Classification Evaluation Tools: Confusion Matrix and Classification Report\n",
        "\n",
        "With the predictions we made with the model from the previous step, we can apply the Confusion Matrix and Classification Report to see how the model performs on test cases."
      ],
      "id": "M7ByyjoGnx6r"
    },
    {
      "cell_type": "code",
      "metadata": {
        "colab": {
          "base_uri": "https://localhost:8080/",
          "height": 609
        },
        "id": "IysNBWvdiKNg",
        "outputId": "6a1335eb-8ebe-4204-8b2b-dd1413c39f00"
      },
      "source": [
        "from sklearn.metrics import confusion_matrix\n",
        "cm = confusion_matrix(np.array(test, dtype='float32')[:,0], predicted_classes)\n",
        "plt.figure(figsize = (14,10))\n",
        "sns.heatmap(cm, annot=True)\n",
        "# Sum the diagonal element to get the total true correct values"
      ],
      "id": "IysNBWvdiKNg",
      "execution_count": 24,
      "outputs": [
        {
          "output_type": "execute_result",
          "data": {
            "text/plain": [
              "<matplotlib.axes._subplots.AxesSubplot at 0x7f18f82143d0>"
            ]
          },
          "metadata": {
            "tags": []
          },
          "execution_count": 24
        },
        {
          "output_type": "display_data",
          "data": {
            "image/png": "[encoded data removed]",
            "text/plain": [
              "<Figure size 1008x720 with 2 Axes>"
            ]
          },
          "metadata": {
            "tags": [],
            "needs_background": "light"
          }
        }
      ]
    },
    {
      "cell_type": "markdown",
      "metadata": {
        "id": "PeT9V0GXpLUy"
      },
      "source": [
        "From the Confusion Matrix, it is apparent that the model performs outstandingly. Rooms for further improvements are on the predictions made for Digit 4 and 9 when the model often mixes these two together, as well the model incorrectly classfies images for digit 5 as for 3 or 6."
      ],
      "id": "PeT9V0GXpLUy"
    },
    {
      "cell_type": "code",
      "metadata": {
        "colab": {
          "base_uri": "https://localhost:8080/"
        },
        "id": "c-zQmEsEiOOA",
        "outputId": "a9ec7db6-bb4f-4b85-f321-6869a7e9fb0b"
      },
      "source": [
        "from sklearn.metrics import classification_report\n",
        "\n",
        "num_classes = 10\n",
        "target_names = [f\"Class {i}\" for i in range(num_classes)]\n",
        "\n",
        "print(classification_report(np.array(test, dtype='float32')[:,0], predicted_classes, target_names = target_names))"
      ],
      "id": "c-zQmEsEiOOA",
      "execution_count": 25,
      "outputs": [
        {
          "output_type": "stream",
          "text": [
            "              precision    recall  f1-score   support\n",
            "\n",
            "     Class 0       0.98      0.99      0.99       980\n",
            "     Class 1       0.99      0.99      0.99      1135\n",
            "     Class 2       0.99      1.00      0.99      1032\n",
            "     Class 3       0.99      0.99      0.99      1010\n",
            "     Class 4       0.99      0.98      0.99       982\n",
            "     Class 5       0.99      0.98      0.99       892\n",
            "     Class 6       0.98      0.99      0.99       958\n",
            "     Class 7       0.99      0.99      0.99      1028\n",
            "     Class 8       0.99      0.98      0.99       974\n",
            "     Class 9       0.98      0.98      0.98      1009\n",
            "\n",
            "    accuracy                           0.99     10000\n",
            "   macro avg       0.99      0.99      0.99     10000\n",
            "weighted avg       0.99      0.99      0.99     10000\n",
            "\n"
          ],
          "name": "stdout"
        }
      ]
    },
    {
      "cell_type": "markdown",
      "metadata": {
        "id": "HsbTuKWsw6it"
      },
      "source": [
        "Reading from the Classification Report, we come to almost identical conclusion as from the Confusion Matrix. The recall for class 4, 5, 8 and 9 can be improved."
      ],
      "id": "HsbTuKWsw6it"
    },
    {
      "cell_type": "markdown",
      "metadata": {
        "id": "0bhBYXLf_B0Z"
      },
      "source": [
        "# Model Limitations\n",
        "\n",
        "- Our model is performing well on this dataset but not guaranteed for other similar ones.\n",
        "\n",
        "- This dataset has been highly standardized, so our model may not perform well with low-quality data.\n",
        "\n",
        "- The predictions are always limitied to efficiency of:\n",
        "    - Data Cleaning Algorithms\n",
        "    - Image Data Generator Algorithms\n",
        "    - Prediction Algorithm\n",
        "\n",
        "- To achieve the results on this model, we utilize advanced mechanisms to augment the data by generating extra training cases with transformed images from the original images. This process is computationally expensive, so it is also a trade-off we need to make."
      ],
      "id": "0bhBYXLf_B0Z"
    }
  ]
}