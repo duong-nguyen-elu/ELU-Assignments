{
  "nbformat": 4,
  "nbformat_minor": 5,
  "metadata": {
    "kernelspec": {
      "display_name": "Python 3",
      "language": "python",
      "name": "python3"
    },
    "language_info": {
      "codemirror_mode": {
        "name": "ipython",
        "version": 3
      },
      "file_extension": ".py",
      "mimetype": "text/x-python",
      "name": "python",
      "nbconvert_exporter": "python",
      "pygments_lexer": "ipython3",
      "version": "3.8.8"
    },
    "papermill": {
      "default_parameters": {},
      "duration": 273.727065,
      "end_time": "2021-04-10T22:16:51.078846",
      "environment_variables": {},
      "exception": null,
      "input_path": "__notebook__.ipynb",
      "output_path": "__notebook__.ipynb",
      "parameters": {},
      "start_time": "2021-04-10T22:12:17.351781",
      "version": "2.3.2"
    },
    "colab": {
      "name": "M6W8 Assignment.ipynb",
      "provenance": [],
      "collapsed_sections": []
    }
  },
  "cells": [
    {
      "cell_type": "markdown",
      "metadata": {
        "id": "ac541366"
      },
      "source": [
        "# Assignment Briefing\n",
        "1) Dataset Description:\n",
        "\n",
        "The original dataset is in a format that is difficult for beginners to use. This dataset uses the work of Joseph Redmon to provide the MNIST dataset in a CSV format.\n",
        "\n",
        "The dataset consists of two files:\n",
        "\n",
        "mnist_train.csv\n",
        "mnist_test.csv\n",
        "The mnist_train.csv file contains the 60,000 training examples and labels. The mnist_test.csv contains 10,000 test examples and labels. Each row consists of 785 values: the first value is the label (a number from 0 to 9) and the remaining 784 values are the pixel values (a number from 0 to 255).\n",
        "\n",
        "\n",
        "2) The Tasks:\n",
        "    \n",
        "- Your first task is to use Keras and develop a model that correctly detects a handwritten digit. Though you can technically solve that task with any type of a supervised model, please use neural networks. You are free to experiment with the architecture of the model. Note that this is a multi-class classification task.\n",
        "- Please evaluate your model properly and interpret its performance."
      ],
      "id": "ac541366"
    },
    {
      "cell_type": "markdown",
      "metadata": {
        "id": "7a22b37f"
      },
      "source": [
        "# Exploratory Analysis"
      ],
      "id": "7a22b37f"
    },
    {
      "cell_type": "markdown",
      "metadata": {
        "id": "7b74b789"
      },
      "source": [
        "## Importing data from csv to dataframe for train and test sets"
      ],
      "id": "7b74b789"
    },
    {
      "cell_type": "code",
      "metadata": {
        "_cell_guid": "b1076dfc-b9ad-4769-8c92-a6c4dae69d19",
        "_uuid": "8f2839f25d086af736a60e9eeb907d3b93b6e0e5",
        "execution": {
          "iopub.execute_input": "2021-04-10T22:12:23.292260Z",
          "iopub.status.busy": "2021-04-10T22:12:23.291660Z",
          "iopub.status.idle": "2021-04-10T22:12:24.196348Z",
          "shell.execute_reply": "2021-04-10T22:12:24.195669Z"
        },
        "papermill": {
          "duration": 0.930143,
          "end_time": "2021-04-10T22:12:24.196557",
          "exception": false,
          "start_time": "2021-04-10T22:12:23.266414",
          "status": "completed"
        },
        "tags": [],
        "id": "annoying-arizona"
      },
      "source": [
        "import numpy as np # linear algebra\n",
        "import pandas as pd # data processing, CSV file I/O (e.g. pd.read_csv)\n",
        "import matplotlib.pyplot as plt\n",
        "import seaborn as sns\n",
        "import warnings\n",
        "warnings.filterwarnings(\"ignore\")"
      ],
      "id": "annoying-arizona",
      "execution_count": 1,
      "outputs": []
    },
    {
      "cell_type": "code",
      "metadata": {
        "execution": {
          "iopub.execute_input": "2021-04-10T22:12:24.235164Z",
          "iopub.status.busy": "2021-04-10T22:12:24.234549Z",
          "iopub.status.idle": "2021-04-10T22:12:29.611487Z",
          "shell.execute_reply": "2021-04-10T22:12:29.610989Z"
        },
        "papermill": {
          "duration": 5.398281,
          "end_time": "2021-04-10T22:12:29.611643",
          "exception": false,
          "start_time": "2021-04-10T22:12:24.213362",
          "status": "completed"
        },
        "tags": [],
        "colab": {
          "base_uri": "https://localhost:8080/",
          "height": 270
        },
        "id": "quantitative-geology",
        "outputId": "512d527a-fd68-4812-a701-fa56e1a76a81"
      },
      "source": [
        "train=pd.read_csv(\"mnist_train.csv\")\n",
        "print(train.shape)\n",
        "train.head()"
      ],
      "id": "quantitative-geology",
      "execution_count": 2,
      "outputs": [
        {
          "output_type": "stream",
          "text": [
            "(60000, 785)\n"
          ],
          "name": "stdout"
        },
        {
          "output_type": "execute_result",
          "data": {
            "text/html": [
              "<div>\n",
              "<style scoped>\n",
              "    .dataframe tbody tr th:only-of-type {\n",
              "        vertical-align: middle;\n",
              "    }\n",
              "\n",
              "    .dataframe tbody tr th {\n",
              "        vertical-align: top;\n",
              "    }\n",
              "\n",
              "    .dataframe thead th {\n",
              "        text-align: right;\n",
              "    }\n",
              "</style>\n",
              "<table border=\"1\" class=\"dataframe\">\n",
              "  <thead>\n",
              "    <tr style=\"text-align: right;\">\n",
              "      <th></th>\n",
              "      <th>label</th>\n",
              "      <th>1x1</th>\n",
              "      <th>1x2</th>\n",
              "      <th>1x3</th>\n",
              "      <th>1x4</th>\n",
              "      <th>1x5</th>\n",
              "      <th>1x6</th>\n",
              "      <th>1x7</th>\n",
              "      <th>1x8</th>\n",
              "      <th>1x9</th>\n",
              "      <th>1x10</th>\n",
              "      <th>1x11</th>\n",
              "      <th>1x12</th>\n",
              "      <th>1x13</th>\n",
              "      <th>1x14</th>\n",
              "      <th>1x15</th>\n",
              "      <th>1x16</th>\n",
              "      <th>1x17</th>\n",
              "      <th>1x18</th>\n",
              "      <th>1x19</th>\n",
              "      <th>1x20</th>\n",
              "      <th>1x21</th>\n",
              "      <th>1x22</th>\n",
              "      <th>1x23</th>\n",
              "      <th>1x24</th>\n",
              "      <th>1x25</th>\n",
              "      <th>1x26</th>\n",
              "      <th>1x27</th>\n",
              "      <th>1x28</th>\n",
              "      <th>2x1</th>\n",
              "      <th>2x2</th>\n",
              "      <th>2x3</th>\n",
              "      <th>2x4</th>\n",
              "      <th>2x5</th>\n",
              "      <th>2x6</th>\n",
              "      <th>2x7</th>\n",
              "      <th>2x8</th>\n",
              "      <th>2x9</th>\n",
              "      <th>2x10</th>\n",
              "      <th>2x11</th>\n",
              "      <th>...</th>\n",
              "      <th>27x17</th>\n",
              "      <th>27x18</th>\n",
              "      <th>27x19</th>\n",
              "      <th>27x20</th>\n",
              "      <th>27x21</th>\n",
              "      <th>27x22</th>\n",
              "      <th>27x23</th>\n",
              "      <th>27x24</th>\n",
              "      <th>27x25</th>\n",
              "      <th>27x26</th>\n",
              "      <th>27x27</th>\n",
              "      <th>27x28</th>\n",
              "      <th>28x1</th>\n",
              "      <th>28x2</th>\n",
              "      <th>28x3</th>\n",
              "      <th>28x4</th>\n",
              "      <th>28x5</th>\n",
              "      <th>28x6</th>\n",
              "      <th>28x7</th>\n",
              "      <th>28x8</th>\n",
              "      <th>28x9</th>\n",
              "      <th>28x10</th>\n",
              "      <th>28x11</th>\n",
              "      <th>28x12</th>\n",
              "      <th>28x13</th>\n",
              "      <th>28x14</th>\n",
              "      <th>28x15</th>\n",
              "      <th>28x16</th>\n",
              "      <th>28x17</th>\n",
              "      <th>28x18</th>\n",
              "      <th>28x19</th>\n",
              "      <th>28x20</th>\n",
              "      <th>28x21</th>\n",
              "      <th>28x22</th>\n",
              "      <th>28x23</th>\n",
              "      <th>28x24</th>\n",
              "      <th>28x25</th>\n",
              "      <th>28x26</th>\n",
              "      <th>28x27</th>\n",
              "      <th>28x28</th>\n",
              "    </tr>\n",
              "  </thead>\n",
              "  <tbody>\n",
              "    <tr>\n",
              "      <th>0</th>\n",
              "      <td>5</td>\n",
              "      <td>0</td>\n",
              "      <td>0</td>\n",
              "      <td>0</td>\n",
              "      <td>0</td>\n",
              "      <td>0</td>\n",
              "      <td>0</td>\n",
              "      <td>0</td>\n",
              "      <td>0</td>\n",
              "      <td>0</td>\n",
              "      <td>0</td>\n",
              "      <td>0</td>\n",
              "      <td>0</td>\n",
              "      <td>0</td>\n",
              "      <td>0</td>\n",
              "      <td>0</td>\n",
              "      <td>0</td>\n",
              "      <td>0</td>\n",
              "      <td>0</td>\n",
              "      <td>0</td>\n",
              "      <td>0</td>\n",
              "      <td>0</td>\n",
              "      <td>0</td>\n",
              "      <td>0</td>\n",
              "      <td>0</td>\n",
              "      <td>0</td>\n",
              "      <td>0</td>\n",
              "      <td>0</td>\n",
              "      <td>0</td>\n",
              "      <td>0</td>\n",
              "      <td>0</td>\n",
              "      <td>0</td>\n",
              "      <td>0</td>\n",
              "      <td>0</td>\n",
              "      <td>0</td>\n",
              "      <td>0</td>\n",
              "      <td>0</td>\n",
              "      <td>0</td>\n",
              "      <td>0</td>\n",
              "      <td>0</td>\n",
              "      <td>...</td>\n",
              "      <td>0</td>\n",
              "      <td>0</td>\n",
              "      <td>0</td>\n",
              "      <td>0</td>\n",
              "      <td>0</td>\n",
              "      <td>0</td>\n",
              "      <td>0</td>\n",
              "      <td>0</td>\n",
              "      <td>0</td>\n",
              "      <td>0</td>\n",
              "      <td>0</td>\n",
              "      <td>0</td>\n",
              "      <td>0</td>\n",
              "      <td>0</td>\n",
              "      <td>0</td>\n",
              "      <td>0</td>\n",
              "      <td>0</td>\n",
              "      <td>0</td>\n",
              "      <td>0</td>\n",
              "      <td>0</td>\n",
              "      <td>0</td>\n",
              "      <td>0</td>\n",
              "      <td>0</td>\n",
              "      <td>0</td>\n",
              "      <td>0</td>\n",
              "      <td>0</td>\n",
              "      <td>0</td>\n",
              "      <td>0</td>\n",
              "      <td>0</td>\n",
              "      <td>0</td>\n",
              "      <td>0</td>\n",
              "      <td>0</td>\n",
              "      <td>0</td>\n",
              "      <td>0</td>\n",
              "      <td>0</td>\n",
              "      <td>0</td>\n",
              "      <td>0</td>\n",
              "      <td>0</td>\n",
              "      <td>0</td>\n",
              "      <td>0</td>\n",
              "    </tr>\n",
              "    <tr>\n",
              "      <th>1</th>\n",
              "      <td>0</td>\n",
              "      <td>0</td>\n",
              "      <td>0</td>\n",
              "      <td>0</td>\n",
              "      <td>0</td>\n",
              "      <td>0</td>\n",
              "      <td>0</td>\n",
              "      <td>0</td>\n",
              "      <td>0</td>\n",
              "      <td>0</td>\n",
              "      <td>0</td>\n",
              "      <td>0</td>\n",
              "      <td>0</td>\n",
              "      <td>0</td>\n",
              "      <td>0</td>\n",
              "      <td>0</td>\n",
              "      <td>0</td>\n",
              "      <td>0</td>\n",
              "      <td>0</td>\n",
              "      <td>0</td>\n",
              "      <td>0</td>\n",
              "      <td>0</td>\n",
              "      <td>0</td>\n",
              "      <td>0</td>\n",
              "      <td>0</td>\n",
              "      <td>0</td>\n",
              "      <td>0</td>\n",
              "      <td>0</td>\n",
              "      <td>0</td>\n",
              "      <td>0</td>\n",
              "      <td>0</td>\n",
              "      <td>0</td>\n",
              "      <td>0</td>\n",
              "      <td>0</td>\n",
              "      <td>0</td>\n",
              "      <td>0</td>\n",
              "      <td>0</td>\n",
              "      <td>0</td>\n",
              "      <td>0</td>\n",
              "      <td>0</td>\n",
              "      <td>...</td>\n",
              "      <td>0</td>\n",
              "      <td>0</td>\n",
              "      <td>0</td>\n",
              "      <td>0</td>\n",
              "      <td>0</td>\n",
              "      <td>0</td>\n",
              "      <td>0</td>\n",
              "      <td>0</td>\n",
              "      <td>0</td>\n",
              "      <td>0</td>\n",
              "      <td>0</td>\n",
              "      <td>0</td>\n",
              "      <td>0</td>\n",
              "      <td>0</td>\n",
              "      <td>0</td>\n",
              "      <td>0</td>\n",
              "      <td>0</td>\n",
              "      <td>0</td>\n",
              "      <td>0</td>\n",
              "      <td>0</td>\n",
              "      <td>0</td>\n",
              "      <td>0</td>\n",
              "      <td>0</td>\n",
              "      <td>0</td>\n",
              "      <td>0</td>\n",
              "      <td>0</td>\n",
              "      <td>0</td>\n",
              "      <td>0</td>\n",
              "      <td>0</td>\n",
              "      <td>0</td>\n",
              "      <td>0</td>\n",
              "      <td>0</td>\n",
              "      <td>0</td>\n",
              "      <td>0</td>\n",
              "      <td>0</td>\n",
              "      <td>0</td>\n",
              "      <td>0</td>\n",
              "      <td>0</td>\n",
              "      <td>0</td>\n",
              "      <td>0</td>\n",
              "    </tr>\n",
              "    <tr>\n",
              "      <th>2</th>\n",
              "      <td>4</td>\n",
              "      <td>0</td>\n",
              "      <td>0</td>\n",
              "      <td>0</td>\n",
              "      <td>0</td>\n",
              "      <td>0</td>\n",
              "      <td>0</td>\n",
              "      <td>0</td>\n",
              "      <td>0</td>\n",
              "      <td>0</td>\n",
              "      <td>0</td>\n",
              "      <td>0</td>\n",
              "      <td>0</td>\n",
              "      <td>0</td>\n",
              "      <td>0</td>\n",
              "      <td>0</td>\n",
              "      <td>0</td>\n",
              "      <td>0</td>\n",
              "      <td>0</td>\n",
              "      <td>0</td>\n",
              "      <td>0</td>\n",
              "      <td>0</td>\n",
              "      <td>0</td>\n",
              "      <td>0</td>\n",
              "      <td>0</td>\n",
              "      <td>0</td>\n",
              "      <td>0</td>\n",
              "      <td>0</td>\n",
              "      <td>0</td>\n",
              "      <td>0</td>\n",
              "      <td>0</td>\n",
              "      <td>0</td>\n",
              "      <td>0</td>\n",
              "      <td>0</td>\n",
              "      <td>0</td>\n",
              "      <td>0</td>\n",
              "      <td>0</td>\n",
              "      <td>0</td>\n",
              "      <td>0</td>\n",
              "      <td>0</td>\n",
              "      <td>...</td>\n",
              "      <td>0</td>\n",
              "      <td>0</td>\n",
              "      <td>0</td>\n",
              "      <td>0</td>\n",
              "      <td>0</td>\n",
              "      <td>0</td>\n",
              "      <td>0</td>\n",
              "      <td>0</td>\n",
              "      <td>0</td>\n",
              "      <td>0</td>\n",
              "      <td>0</td>\n",
              "      <td>0</td>\n",
              "      <td>0</td>\n",
              "      <td>0</td>\n",
              "      <td>0</td>\n",
              "      <td>0</td>\n",
              "      <td>0</td>\n",
              "      <td>0</td>\n",
              "      <td>0</td>\n",
              "      <td>0</td>\n",
              "      <td>0</td>\n",
              "      <td>0</td>\n",
              "      <td>0</td>\n",
              "      <td>0</td>\n",
              "      <td>0</td>\n",
              "      <td>0</td>\n",
              "      <td>0</td>\n",
              "      <td>0</td>\n",
              "      <td>0</td>\n",
              "      <td>0</td>\n",
              "      <td>0</td>\n",
              "      <td>0</td>\n",
              "      <td>0</td>\n",
              "      <td>0</td>\n",
              "      <td>0</td>\n",
              "      <td>0</td>\n",
              "      <td>0</td>\n",
              "      <td>0</td>\n",
              "      <td>0</td>\n",
              "      <td>0</td>\n",
              "    </tr>\n",
              "    <tr>\n",
              "      <th>3</th>\n",
              "      <td>1</td>\n",
              "      <td>0</td>\n",
              "      <td>0</td>\n",
              "      <td>0</td>\n",
              "      <td>0</td>\n",
              "      <td>0</td>\n",
              "      <td>0</td>\n",
              "      <td>0</td>\n",
              "      <td>0</td>\n",
              "      <td>0</td>\n",
              "      <td>0</td>\n",
              "      <td>0</td>\n",
              "      <td>0</td>\n",
              "      <td>0</td>\n",
              "      <td>0</td>\n",
              "      <td>0</td>\n",
              "      <td>0</td>\n",
              "      <td>0</td>\n",
              "      <td>0</td>\n",
              "      <td>0</td>\n",
              "      <td>0</td>\n",
              "      <td>0</td>\n",
              "      <td>0</td>\n",
              "      <td>0</td>\n",
              "      <td>0</td>\n",
              "      <td>0</td>\n",
              "      <td>0</td>\n",
              "      <td>0</td>\n",
              "      <td>0</td>\n",
              "      <td>0</td>\n",
              "      <td>0</td>\n",
              "      <td>0</td>\n",
              "      <td>0</td>\n",
              "      <td>0</td>\n",
              "      <td>0</td>\n",
              "      <td>0</td>\n",
              "      <td>0</td>\n",
              "      <td>0</td>\n",
              "      <td>0</td>\n",
              "      <td>0</td>\n",
              "      <td>...</td>\n",
              "      <td>0</td>\n",
              "      <td>0</td>\n",
              "      <td>0</td>\n",
              "      <td>0</td>\n",
              "      <td>0</td>\n",
              "      <td>0</td>\n",
              "      <td>0</td>\n",
              "      <td>0</td>\n",
              "      <td>0</td>\n",
              "      <td>0</td>\n",
              "      <td>0</td>\n",
              "      <td>0</td>\n",
              "      <td>0</td>\n",
              "      <td>0</td>\n",
              "      <td>0</td>\n",
              "      <td>0</td>\n",
              "      <td>0</td>\n",
              "      <td>0</td>\n",
              "      <td>0</td>\n",
              "      <td>0</td>\n",
              "      <td>0</td>\n",
              "      <td>0</td>\n",
              "      <td>0</td>\n",
              "      <td>0</td>\n",
              "      <td>0</td>\n",
              "      <td>0</td>\n",
              "      <td>0</td>\n",
              "      <td>0</td>\n",
              "      <td>0</td>\n",
              "      <td>0</td>\n",
              "      <td>0</td>\n",
              "      <td>0</td>\n",
              "      <td>0</td>\n",
              "      <td>0</td>\n",
              "      <td>0</td>\n",
              "      <td>0</td>\n",
              "      <td>0</td>\n",
              "      <td>0</td>\n",
              "      <td>0</td>\n",
              "      <td>0</td>\n",
              "    </tr>\n",
              "    <tr>\n",
              "      <th>4</th>\n",
              "      <td>9</td>\n",
              "      <td>0</td>\n",
              "      <td>0</td>\n",
              "      <td>0</td>\n",
              "      <td>0</td>\n",
              "      <td>0</td>\n",
              "      <td>0</td>\n",
              "      <td>0</td>\n",
              "      <td>0</td>\n",
              "      <td>0</td>\n",
              "      <td>0</td>\n",
              "      <td>0</td>\n",
              "      <td>0</td>\n",
              "      <td>0</td>\n",
              "      <td>0</td>\n",
              "      <td>0</td>\n",
              "      <td>0</td>\n",
              "      <td>0</td>\n",
              "      <td>0</td>\n",
              "      <td>0</td>\n",
              "      <td>0</td>\n",
              "      <td>0</td>\n",
              "      <td>0</td>\n",
              "      <td>0</td>\n",
              "      <td>0</td>\n",
              "      <td>0</td>\n",
              "      <td>0</td>\n",
              "      <td>0</td>\n",
              "      <td>0</td>\n",
              "      <td>0</td>\n",
              "      <td>0</td>\n",
              "      <td>0</td>\n",
              "      <td>0</td>\n",
              "      <td>0</td>\n",
              "      <td>0</td>\n",
              "      <td>0</td>\n",
              "      <td>0</td>\n",
              "      <td>0</td>\n",
              "      <td>0</td>\n",
              "      <td>0</td>\n",
              "      <td>...</td>\n",
              "      <td>147</td>\n",
              "      <td>252</td>\n",
              "      <td>42</td>\n",
              "      <td>0</td>\n",
              "      <td>0</td>\n",
              "      <td>0</td>\n",
              "      <td>0</td>\n",
              "      <td>0</td>\n",
              "      <td>0</td>\n",
              "      <td>0</td>\n",
              "      <td>0</td>\n",
              "      <td>0</td>\n",
              "      <td>0</td>\n",
              "      <td>0</td>\n",
              "      <td>0</td>\n",
              "      <td>0</td>\n",
              "      <td>0</td>\n",
              "      <td>0</td>\n",
              "      <td>0</td>\n",
              "      <td>0</td>\n",
              "      <td>0</td>\n",
              "      <td>0</td>\n",
              "      <td>0</td>\n",
              "      <td>0</td>\n",
              "      <td>0</td>\n",
              "      <td>0</td>\n",
              "      <td>0</td>\n",
              "      <td>0</td>\n",
              "      <td>0</td>\n",
              "      <td>0</td>\n",
              "      <td>0</td>\n",
              "      <td>0</td>\n",
              "      <td>0</td>\n",
              "      <td>0</td>\n",
              "      <td>0</td>\n",
              "      <td>0</td>\n",
              "      <td>0</td>\n",
              "      <td>0</td>\n",
              "      <td>0</td>\n",
              "      <td>0</td>\n",
              "    </tr>\n",
              "  </tbody>\n",
              "</table>\n",
              "<p>5 rows × 785 columns</p>\n",
              "</div>"
            ],
            "text/plain": [
              "   label  1x1  1x2  1x3  1x4  1x5  ...  28x23  28x24  28x25  28x26  28x27  28x28\n",
              "0      5    0    0    0    0    0  ...      0      0      0      0      0      0\n",
              "1      0    0    0    0    0    0  ...      0      0      0      0      0      0\n",
              "2      4    0    0    0    0    0  ...      0      0      0      0      0      0\n",
              "3      1    0    0    0    0    0  ...      0      0      0      0      0      0\n",
              "4      9    0    0    0    0    0  ...      0      0      0      0      0      0\n",
              "\n",
              "[5 rows x 785 columns]"
            ]
          },
          "metadata": {
            "tags": []
          },
          "execution_count": 2
        }
      ]
    },
    {
      "cell_type": "code",
      "metadata": {
        "execution": {
          "iopub.execute_input": "2021-04-10T22:12:29.660106Z",
          "iopub.status.busy": "2021-04-10T22:12:29.659438Z",
          "iopub.status.idle": "2021-04-10T22:12:30.552113Z",
          "shell.execute_reply": "2021-04-10T22:12:30.551595Z"
        },
        "papermill": {
          "duration": 0.923322,
          "end_time": "2021-04-10T22:12:30.552278",
          "exception": false,
          "start_time": "2021-04-10T22:12:29.628956",
          "status": "completed"
        },
        "tags": [],
        "colab": {
          "base_uri": "https://localhost:8080/",
          "height": 270
        },
        "id": "whole-williams",
        "outputId": "8cd5225c-f011-4f33-a66b-c2dcda067dea"
      },
      "source": [
        "test=pd.read_csv(\"mnist_test.csv\")\n",
        "print(test.shape)\n",
        "test.head()"
      ],
      "id": "whole-williams",
      "execution_count": 3,
      "outputs": [
        {
          "output_type": "stream",
          "text": [
            "(10000, 785)\n"
          ],
          "name": "stdout"
        },
        {
          "output_type": "execute_result",
          "data": {
            "text/html": [
              "<div>\n",
              "<style scoped>\n",
              "    .dataframe tbody tr th:only-of-type {\n",
              "        vertical-align: middle;\n",
              "    }\n",
              "\n",
              "    .dataframe tbody tr th {\n",
              "        vertical-align: top;\n",
              "    }\n",
              "\n",
              "    .dataframe thead th {\n",
              "        text-align: right;\n",
              "    }\n",
              "</style>\n",
              "<table border=\"1\" class=\"dataframe\">\n",
              "  <thead>\n",
              "    <tr style=\"text-align: right;\">\n",
              "      <th></th>\n",
              "      <th>label</th>\n",
              "      <th>1x1</th>\n",
              "      <th>1x2</th>\n",
              "      <th>1x3</th>\n",
              "      <th>1x4</th>\n",
              "      <th>1x5</th>\n",
              "      <th>1x6</th>\n",
              "      <th>1x7</th>\n",
              "      <th>1x8</th>\n",
              "      <th>1x9</th>\n",
              "      <th>1x10</th>\n",
              "      <th>1x11</th>\n",
              "      <th>1x12</th>\n",
              "      <th>1x13</th>\n",
              "      <th>1x14</th>\n",
              "      <th>1x15</th>\n",
              "      <th>1x16</th>\n",
              "      <th>1x17</th>\n",
              "      <th>1x18</th>\n",
              "      <th>1x19</th>\n",
              "      <th>1x20</th>\n",
              "      <th>1x21</th>\n",
              "      <th>1x22</th>\n",
              "      <th>1x23</th>\n",
              "      <th>1x24</th>\n",
              "      <th>1x25</th>\n",
              "      <th>1x26</th>\n",
              "      <th>1x27</th>\n",
              "      <th>1x28</th>\n",
              "      <th>2x1</th>\n",
              "      <th>2x2</th>\n",
              "      <th>2x3</th>\n",
              "      <th>2x4</th>\n",
              "      <th>2x5</th>\n",
              "      <th>2x6</th>\n",
              "      <th>2x7</th>\n",
              "      <th>2x8</th>\n",
              "      <th>2x9</th>\n",
              "      <th>2x10</th>\n",
              "      <th>2x11</th>\n",
              "      <th>...</th>\n",
              "      <th>27x17</th>\n",
              "      <th>27x18</th>\n",
              "      <th>27x19</th>\n",
              "      <th>27x20</th>\n",
              "      <th>27x21</th>\n",
              "      <th>27x22</th>\n",
              "      <th>27x23</th>\n",
              "      <th>27x24</th>\n",
              "      <th>27x25</th>\n",
              "      <th>27x26</th>\n",
              "      <th>27x27</th>\n",
              "      <th>27x28</th>\n",
              "      <th>28x1</th>\n",
              "      <th>28x2</th>\n",
              "      <th>28x3</th>\n",
              "      <th>28x4</th>\n",
              "      <th>28x5</th>\n",
              "      <th>28x6</th>\n",
              "      <th>28x7</th>\n",
              "      <th>28x8</th>\n",
              "      <th>28x9</th>\n",
              "      <th>28x10</th>\n",
              "      <th>28x11</th>\n",
              "      <th>28x12</th>\n",
              "      <th>28x13</th>\n",
              "      <th>28x14</th>\n",
              "      <th>28x15</th>\n",
              "      <th>28x16</th>\n",
              "      <th>28x17</th>\n",
              "      <th>28x18</th>\n",
              "      <th>28x19</th>\n",
              "      <th>28x20</th>\n",
              "      <th>28x21</th>\n",
              "      <th>28x22</th>\n",
              "      <th>28x23</th>\n",
              "      <th>28x24</th>\n",
              "      <th>28x25</th>\n",
              "      <th>28x26</th>\n",
              "      <th>28x27</th>\n",
              "      <th>28x28</th>\n",
              "    </tr>\n",
              "  </thead>\n",
              "  <tbody>\n",
              "    <tr>\n",
              "      <th>0</th>\n",
              "      <td>7</td>\n",
              "      <td>0</td>\n",
              "      <td>0</td>\n",
              "      <td>0</td>\n",
              "      <td>0</td>\n",
              "      <td>0</td>\n",
              "      <td>0</td>\n",
              "      <td>0</td>\n",
              "      <td>0</td>\n",
              "      <td>0</td>\n",
              "      <td>0</td>\n",
              "      <td>0</td>\n",
              "      <td>0</td>\n",
              "      <td>0</td>\n",
              "      <td>0</td>\n",
              "      <td>0</td>\n",
              "      <td>0</td>\n",
              "      <td>0</td>\n",
              "      <td>0</td>\n",
              "      <td>0</td>\n",
              "      <td>0</td>\n",
              "      <td>0</td>\n",
              "      <td>0</td>\n",
              "      <td>0</td>\n",
              "      <td>0</td>\n",
              "      <td>0</td>\n",
              "      <td>0</td>\n",
              "      <td>0</td>\n",
              "      <td>0</td>\n",
              "      <td>0</td>\n",
              "      <td>0</td>\n",
              "      <td>0</td>\n",
              "      <td>0</td>\n",
              "      <td>0</td>\n",
              "      <td>0</td>\n",
              "      <td>0</td>\n",
              "      <td>0</td>\n",
              "      <td>0</td>\n",
              "      <td>0</td>\n",
              "      <td>0</td>\n",
              "      <td>...</td>\n",
              "      <td>0</td>\n",
              "      <td>0</td>\n",
              "      <td>0</td>\n",
              "      <td>0</td>\n",
              "      <td>0</td>\n",
              "      <td>0</td>\n",
              "      <td>0</td>\n",
              "      <td>0</td>\n",
              "      <td>0</td>\n",
              "      <td>0</td>\n",
              "      <td>0</td>\n",
              "      <td>0</td>\n",
              "      <td>0</td>\n",
              "      <td>0</td>\n",
              "      <td>0</td>\n",
              "      <td>0</td>\n",
              "      <td>0</td>\n",
              "      <td>0</td>\n",
              "      <td>0</td>\n",
              "      <td>0</td>\n",
              "      <td>0</td>\n",
              "      <td>0</td>\n",
              "      <td>0</td>\n",
              "      <td>0</td>\n",
              "      <td>0</td>\n",
              "      <td>0</td>\n",
              "      <td>0</td>\n",
              "      <td>0</td>\n",
              "      <td>0</td>\n",
              "      <td>0</td>\n",
              "      <td>0</td>\n",
              "      <td>0</td>\n",
              "      <td>0</td>\n",
              "      <td>0</td>\n",
              "      <td>0</td>\n",
              "      <td>0</td>\n",
              "      <td>0</td>\n",
              "      <td>0</td>\n",
              "      <td>0</td>\n",
              "      <td>0</td>\n",
              "    </tr>\n",
              "    <tr>\n",
              "      <th>1</th>\n",
              "      <td>2</td>\n",
              "      <td>0</td>\n",
              "      <td>0</td>\n",
              "      <td>0</td>\n",
              "      <td>0</td>\n",
              "      <td>0</td>\n",
              "      <td>0</td>\n",
              "      <td>0</td>\n",
              "      <td>0</td>\n",
              "      <td>0</td>\n",
              "      <td>0</td>\n",
              "      <td>0</td>\n",
              "      <td>0</td>\n",
              "      <td>0</td>\n",
              "      <td>0</td>\n",
              "      <td>0</td>\n",
              "      <td>0</td>\n",
              "      <td>0</td>\n",
              "      <td>0</td>\n",
              "      <td>0</td>\n",
              "      <td>0</td>\n",
              "      <td>0</td>\n",
              "      <td>0</td>\n",
              "      <td>0</td>\n",
              "      <td>0</td>\n",
              "      <td>0</td>\n",
              "      <td>0</td>\n",
              "      <td>0</td>\n",
              "      <td>0</td>\n",
              "      <td>0</td>\n",
              "      <td>0</td>\n",
              "      <td>0</td>\n",
              "      <td>0</td>\n",
              "      <td>0</td>\n",
              "      <td>0</td>\n",
              "      <td>0</td>\n",
              "      <td>0</td>\n",
              "      <td>0</td>\n",
              "      <td>0</td>\n",
              "      <td>0</td>\n",
              "      <td>...</td>\n",
              "      <td>0</td>\n",
              "      <td>0</td>\n",
              "      <td>0</td>\n",
              "      <td>0</td>\n",
              "      <td>0</td>\n",
              "      <td>0</td>\n",
              "      <td>0</td>\n",
              "      <td>0</td>\n",
              "      <td>0</td>\n",
              "      <td>0</td>\n",
              "      <td>0</td>\n",
              "      <td>0</td>\n",
              "      <td>0</td>\n",
              "      <td>0</td>\n",
              "      <td>0</td>\n",
              "      <td>0</td>\n",
              "      <td>0</td>\n",
              "      <td>0</td>\n",
              "      <td>0</td>\n",
              "      <td>0</td>\n",
              "      <td>0</td>\n",
              "      <td>0</td>\n",
              "      <td>0</td>\n",
              "      <td>0</td>\n",
              "      <td>0</td>\n",
              "      <td>0</td>\n",
              "      <td>0</td>\n",
              "      <td>0</td>\n",
              "      <td>0</td>\n",
              "      <td>0</td>\n",
              "      <td>0</td>\n",
              "      <td>0</td>\n",
              "      <td>0</td>\n",
              "      <td>0</td>\n",
              "      <td>0</td>\n",
              "      <td>0</td>\n",
              "      <td>0</td>\n",
              "      <td>0</td>\n",
              "      <td>0</td>\n",
              "      <td>0</td>\n",
              "    </tr>\n",
              "    <tr>\n",
              "      <th>2</th>\n",
              "      <td>1</td>\n",
              "      <td>0</td>\n",
              "      <td>0</td>\n",
              "      <td>0</td>\n",
              "      <td>0</td>\n",
              "      <td>0</td>\n",
              "      <td>0</td>\n",
              "      <td>0</td>\n",
              "      <td>0</td>\n",
              "      <td>0</td>\n",
              "      <td>0</td>\n",
              "      <td>0</td>\n",
              "      <td>0</td>\n",
              "      <td>0</td>\n",
              "      <td>0</td>\n",
              "      <td>0</td>\n",
              "      <td>0</td>\n",
              "      <td>0</td>\n",
              "      <td>0</td>\n",
              "      <td>0</td>\n",
              "      <td>0</td>\n",
              "      <td>0</td>\n",
              "      <td>0</td>\n",
              "      <td>0</td>\n",
              "      <td>0</td>\n",
              "      <td>0</td>\n",
              "      <td>0</td>\n",
              "      <td>0</td>\n",
              "      <td>0</td>\n",
              "      <td>0</td>\n",
              "      <td>0</td>\n",
              "      <td>0</td>\n",
              "      <td>0</td>\n",
              "      <td>0</td>\n",
              "      <td>0</td>\n",
              "      <td>0</td>\n",
              "      <td>0</td>\n",
              "      <td>0</td>\n",
              "      <td>0</td>\n",
              "      <td>0</td>\n",
              "      <td>...</td>\n",
              "      <td>0</td>\n",
              "      <td>0</td>\n",
              "      <td>0</td>\n",
              "      <td>0</td>\n",
              "      <td>0</td>\n",
              "      <td>0</td>\n",
              "      <td>0</td>\n",
              "      <td>0</td>\n",
              "      <td>0</td>\n",
              "      <td>0</td>\n",
              "      <td>0</td>\n",
              "      <td>0</td>\n",
              "      <td>0</td>\n",
              "      <td>0</td>\n",
              "      <td>0</td>\n",
              "      <td>0</td>\n",
              "      <td>0</td>\n",
              "      <td>0</td>\n",
              "      <td>0</td>\n",
              "      <td>0</td>\n",
              "      <td>0</td>\n",
              "      <td>0</td>\n",
              "      <td>0</td>\n",
              "      <td>0</td>\n",
              "      <td>0</td>\n",
              "      <td>0</td>\n",
              "      <td>0</td>\n",
              "      <td>0</td>\n",
              "      <td>0</td>\n",
              "      <td>0</td>\n",
              "      <td>0</td>\n",
              "      <td>0</td>\n",
              "      <td>0</td>\n",
              "      <td>0</td>\n",
              "      <td>0</td>\n",
              "      <td>0</td>\n",
              "      <td>0</td>\n",
              "      <td>0</td>\n",
              "      <td>0</td>\n",
              "      <td>0</td>\n",
              "    </tr>\n",
              "    <tr>\n",
              "      <th>3</th>\n",
              "      <td>0</td>\n",
              "      <td>0</td>\n",
              "      <td>0</td>\n",
              "      <td>0</td>\n",
              "      <td>0</td>\n",
              "      <td>0</td>\n",
              "      <td>0</td>\n",
              "      <td>0</td>\n",
              "      <td>0</td>\n",
              "      <td>0</td>\n",
              "      <td>0</td>\n",
              "      <td>0</td>\n",
              "      <td>0</td>\n",
              "      <td>0</td>\n",
              "      <td>0</td>\n",
              "      <td>0</td>\n",
              "      <td>0</td>\n",
              "      <td>0</td>\n",
              "      <td>0</td>\n",
              "      <td>0</td>\n",
              "      <td>0</td>\n",
              "      <td>0</td>\n",
              "      <td>0</td>\n",
              "      <td>0</td>\n",
              "      <td>0</td>\n",
              "      <td>0</td>\n",
              "      <td>0</td>\n",
              "      <td>0</td>\n",
              "      <td>0</td>\n",
              "      <td>0</td>\n",
              "      <td>0</td>\n",
              "      <td>0</td>\n",
              "      <td>0</td>\n",
              "      <td>0</td>\n",
              "      <td>0</td>\n",
              "      <td>0</td>\n",
              "      <td>0</td>\n",
              "      <td>0</td>\n",
              "      <td>0</td>\n",
              "      <td>0</td>\n",
              "      <td>...</td>\n",
              "      <td>0</td>\n",
              "      <td>0</td>\n",
              "      <td>0</td>\n",
              "      <td>0</td>\n",
              "      <td>0</td>\n",
              "      <td>0</td>\n",
              "      <td>0</td>\n",
              "      <td>0</td>\n",
              "      <td>0</td>\n",
              "      <td>0</td>\n",
              "      <td>0</td>\n",
              "      <td>0</td>\n",
              "      <td>0</td>\n",
              "      <td>0</td>\n",
              "      <td>0</td>\n",
              "      <td>0</td>\n",
              "      <td>0</td>\n",
              "      <td>0</td>\n",
              "      <td>0</td>\n",
              "      <td>0</td>\n",
              "      <td>0</td>\n",
              "      <td>0</td>\n",
              "      <td>0</td>\n",
              "      <td>0</td>\n",
              "      <td>0</td>\n",
              "      <td>0</td>\n",
              "      <td>0</td>\n",
              "      <td>0</td>\n",
              "      <td>0</td>\n",
              "      <td>0</td>\n",
              "      <td>0</td>\n",
              "      <td>0</td>\n",
              "      <td>0</td>\n",
              "      <td>0</td>\n",
              "      <td>0</td>\n",
              "      <td>0</td>\n",
              "      <td>0</td>\n",
              "      <td>0</td>\n",
              "      <td>0</td>\n",
              "      <td>0</td>\n",
              "    </tr>\n",
              "    <tr>\n",
              "      <th>4</th>\n",
              "      <td>4</td>\n",
              "      <td>0</td>\n",
              "      <td>0</td>\n",
              "      <td>0</td>\n",
              "      <td>0</td>\n",
              "      <td>0</td>\n",
              "      <td>0</td>\n",
              "      <td>0</td>\n",
              "      <td>0</td>\n",
              "      <td>0</td>\n",
              "      <td>0</td>\n",
              "      <td>0</td>\n",
              "      <td>0</td>\n",
              "      <td>0</td>\n",
              "      <td>0</td>\n",
              "      <td>0</td>\n",
              "      <td>0</td>\n",
              "      <td>0</td>\n",
              "      <td>0</td>\n",
              "      <td>0</td>\n",
              "      <td>0</td>\n",
              "      <td>0</td>\n",
              "      <td>0</td>\n",
              "      <td>0</td>\n",
              "      <td>0</td>\n",
              "      <td>0</td>\n",
              "      <td>0</td>\n",
              "      <td>0</td>\n",
              "      <td>0</td>\n",
              "      <td>0</td>\n",
              "      <td>0</td>\n",
              "      <td>0</td>\n",
              "      <td>0</td>\n",
              "      <td>0</td>\n",
              "      <td>0</td>\n",
              "      <td>0</td>\n",
              "      <td>0</td>\n",
              "      <td>0</td>\n",
              "      <td>0</td>\n",
              "      <td>0</td>\n",
              "      <td>...</td>\n",
              "      <td>0</td>\n",
              "      <td>0</td>\n",
              "      <td>0</td>\n",
              "      <td>0</td>\n",
              "      <td>0</td>\n",
              "      <td>0</td>\n",
              "      <td>0</td>\n",
              "      <td>0</td>\n",
              "      <td>0</td>\n",
              "      <td>0</td>\n",
              "      <td>0</td>\n",
              "      <td>0</td>\n",
              "      <td>0</td>\n",
              "      <td>0</td>\n",
              "      <td>0</td>\n",
              "      <td>0</td>\n",
              "      <td>0</td>\n",
              "      <td>0</td>\n",
              "      <td>0</td>\n",
              "      <td>0</td>\n",
              "      <td>0</td>\n",
              "      <td>0</td>\n",
              "      <td>0</td>\n",
              "      <td>0</td>\n",
              "      <td>0</td>\n",
              "      <td>0</td>\n",
              "      <td>0</td>\n",
              "      <td>0</td>\n",
              "      <td>0</td>\n",
              "      <td>0</td>\n",
              "      <td>0</td>\n",
              "      <td>0</td>\n",
              "      <td>0</td>\n",
              "      <td>0</td>\n",
              "      <td>0</td>\n",
              "      <td>0</td>\n",
              "      <td>0</td>\n",
              "      <td>0</td>\n",
              "      <td>0</td>\n",
              "      <td>0</td>\n",
              "    </tr>\n",
              "  </tbody>\n",
              "</table>\n",
              "<p>5 rows × 785 columns</p>\n",
              "</div>"
            ],
            "text/plain": [
              "   label  1x1  1x2  1x3  1x4  1x5  ...  28x23  28x24  28x25  28x26  28x27  28x28\n",
              "0      7    0    0    0    0    0  ...      0      0      0      0      0      0\n",
              "1      2    0    0    0    0    0  ...      0      0      0      0      0      0\n",
              "2      1    0    0    0    0    0  ...      0      0      0      0      0      0\n",
              "3      0    0    0    0    0    0  ...      0      0      0      0      0      0\n",
              "4      4    0    0    0    0    0  ...      0      0      0      0      0      0\n",
              "\n",
              "[5 rows x 785 columns]"
            ]
          },
          "metadata": {
            "tags": []
          },
          "execution_count": 3
        }
      ]
    },
    {
      "cell_type": "markdown",
      "metadata": {
        "id": "fdc6107f"
      },
      "source": [
        "## Data Preparation and Cleaning"
      ],
      "id": "fdc6107f"
    },
    {
      "cell_type": "code",
      "metadata": {
        "execution": {
          "iopub.execute_input": "2021-04-10T22:12:30.730669Z",
          "iopub.status.busy": "2021-04-10T22:12:30.729987Z",
          "iopub.status.idle": "2021-04-10T22:12:30.733281Z",
          "shell.execute_reply": "2021-04-10T22:12:30.732806Z"
        },
        "papermill": {
          "duration": 0.163124,
          "end_time": "2021-04-10T22:12:30.733414",
          "exception": false,
          "start_time": "2021-04-10T22:12:30.570290",
          "status": "completed"
        },
        "tags": [],
        "id": "compatible-colors"
      },
      "source": [
        "X_train=train.drop(labels=[\"label\"],axis=1)\n",
        "Y_train=train[\"label\"]"
      ],
      "id": "compatible-colors",
      "execution_count": 4,
      "outputs": []
    },
    {
      "cell_type": "code",
      "metadata": {
        "execution": {
          "iopub.execute_input": "2021-04-10T22:12:30.776620Z",
          "iopub.status.busy": "2021-04-10T22:12:30.775990Z",
          "iopub.status.idle": "2021-04-10T22:12:30.989543Z",
          "shell.execute_reply": "2021-04-10T22:12:30.989022Z"
        },
        "papermill": {
          "duration": 0.237975,
          "end_time": "2021-04-10T22:12:30.989683",
          "exception": false,
          "start_time": "2021-04-10T22:12:30.751708",
          "status": "completed"
        },
        "tags": [],
        "colab": {
          "base_uri": "https://localhost:8080/",
          "height": 390
        },
        "id": "silent-bronze",
        "outputId": "87f3aa1a-722c-4248-f66e-63c29f93289f"
      },
      "source": [
        "plt.figure(figsize=(15,7))\n",
        "g=sns.countplot(Y_train,palette=\"colorblind\")"
      ],
      "id": "silent-bronze",
      "execution_count": 5,
      "outputs": [
        {
          "output_type": "display_data",
          "data": {
            "image/png": "[encoded data removed]",
            "text/plain": [
              "<Figure size 1080x504 with 1 Axes>"
            ]
          },
          "metadata": {
            "tags": [],
            "needs_background": "light"
          }
        }
      ]
    },
    {
      "cell_type": "code",
      "metadata": {
        "execution": {
          "iopub.execute_input": "2021-04-10T22:12:31.080284Z",
          "iopub.status.busy": "2021-04-10T22:12:31.055916Z",
          "iopub.status.idle": "2021-04-10T22:12:31.103289Z",
          "shell.execute_reply": "2021-04-10T22:12:31.102228Z"
        },
        "papermill": {
          "duration": 0.093133,
          "end_time": "2021-04-10T22:12:31.103601",
          "exception": false,
          "start_time": "2021-04-10T22:12:31.010468",
          "status": "completed"
        },
        "tags": [],
        "colab": {
          "base_uri": "https://localhost:8080/",
          "height": 248
        },
        "id": "clean-consultation",
        "outputId": "e7047640-a987-4458-fd6e-94b9ff01dc84"
      },
      "source": [
        "img = X_train.iloc[60].values.reshape(28,28)\n",
        "img.shape\n",
        "plt.imshow(img,cmap='gray')\n",
        "plt.axis(\"off\")\n",
        "plt.show()"
      ],
      "id": "clean-consultation",
      "execution_count": 6,
      "outputs": [
        {
          "output_type": "display_data",
          "data": {
            "image/png": "[encoded data removed]",
            "text/plain": [
              "<Figure size 432x288 with 1 Axes>"
            ]
          },
          "metadata": {
            "tags": [],
            "needs_background": "light"
          }
        }
      ]
    },
    {
      "cell_type": "code",
      "metadata": {
        "execution": {
          "iopub.execute_input": "2021-04-10T22:12:31.150502Z",
          "iopub.status.busy": "2021-04-10T22:12:31.149513Z",
          "iopub.status.idle": "2021-04-10T22:12:31.156977Z",
          "shell.execute_reply": "2021-04-10T22:12:31.156422Z"
        },
        "papermill": {
          "duration": 0.033594,
          "end_time": "2021-04-10T22:12:31.157113",
          "exception": false,
          "start_time": "2021-04-10T22:12:31.123519",
          "status": "completed"
        },
        "tags": [],
        "colab": {
          "base_uri": "https://localhost:8080/"
        },
        "id": "acoustic-engine",
        "outputId": "707db73d-85e0-4077-f528-cb9c82cecc19"
      },
      "source": [
        "Y_train.value_counts()"
      ],
      "id": "acoustic-engine",
      "execution_count": 7,
      "outputs": [
        {
          "output_type": "execute_result",
          "data": {
            "text/plain": [
              "1    6742\n",
              "7    6265\n",
              "3    6131\n",
              "2    5958\n",
              "9    5949\n",
              "0    5923\n",
              "6    5918\n",
              "8    5851\n",
              "4    5842\n",
              "5    5421\n",
              "Name: label, dtype: int64"
            ]
          },
          "metadata": {
            "tags": []
          },
          "execution_count": 7
        }
      ]
    },
    {
      "cell_type": "markdown",
      "metadata": {
        "papermill": {
          "duration": 0.020311,
          "end_time": "2021-04-10T22:12:31.198241",
          "exception": false,
          "start_time": "2021-04-10T22:12:31.177930",
          "status": "completed"
        },
        "tags": [],
        "id": "elder-produce"
      },
      "source": [
        "## Normalization"
      ],
      "id": "elder-produce"
    },
    {
      "cell_type": "code",
      "metadata": {
        "execution": {
          "iopub.execute_input": "2021-04-10T22:12:31.260106Z",
          "iopub.status.busy": "2021-04-10T22:12:31.259153Z",
          "iopub.status.idle": "2021-04-10T22:12:31.262660Z",
          "shell.execute_reply": "2021-04-10T22:12:31.262115Z"
        },
        "papermill": {
          "duration": 0.044092,
          "end_time": "2021-04-10T22:12:31.262796",
          "exception": false,
          "start_time": "2021-04-10T22:12:31.218704",
          "status": "completed"
        },
        "tags": [],
        "id": "modular-interview"
      },
      "source": [
        "X_test=test.drop(labels=[\"label\"],axis=1)\n",
        "Y_test=test[\"label\"]"
      ],
      "id": "modular-interview",
      "execution_count": 8,
      "outputs": []
    },
    {
      "cell_type": "code",
      "metadata": {
        "execution": {
          "iopub.execute_input": "2021-04-10T22:12:31.309702Z",
          "iopub.status.busy": "2021-04-10T22:12:31.309052Z",
          "iopub.status.idle": "2021-04-10T22:12:31.433519Z",
          "shell.execute_reply": "2021-04-10T22:12:31.432124Z"
        },
        "papermill": {
          "duration": 0.150389,
          "end_time": "2021-04-10T22:12:31.433766",
          "exception": false,
          "start_time": "2021-04-10T22:12:31.283377",
          "status": "completed"
        },
        "tags": [],
        "colab": {
          "base_uri": "https://localhost:8080/"
        },
        "id": "limited-stamp",
        "outputId": "33c18d2d-6723-4b4f-c694-93a273d19985"
      },
      "source": [
        "# Normalize pixel values to be between 0 and 1\n",
        "X_train=X_train/255.0\n",
        "X_test=X_test/255.0\n",
        "print(\"X_train: \",X_train.shape)\n",
        "print(\"X_test shape: \",X_test.shape)"
      ],
      "id": "limited-stamp",
      "execution_count": 9,
      "outputs": [
        {
          "output_type": "stream",
          "text": [
            "X_train:  (60000, 784)\n",
            "X_test shape:  (10000, 784)\n"
          ],
          "name": "stdout"
        }
      ]
    },
    {
      "cell_type": "markdown",
      "metadata": {
        "papermill": {
          "duration": 0.020963,
          "end_time": "2021-04-10T22:12:31.477884",
          "exception": false,
          "start_time": "2021-04-10T22:12:31.456921",
          "status": "completed"
        },
        "tags": [],
        "id": "tamil-sound"
      },
      "source": [
        "## Reshape"
      ],
      "id": "tamil-sound"
    },
    {
      "cell_type": "code",
      "metadata": {
        "execution": {
          "iopub.execute_input": "2021-04-10T22:12:31.526168Z",
          "iopub.status.busy": "2021-04-10T22:12:31.525403Z",
          "iopub.status.idle": "2021-04-10T22:12:31.528776Z",
          "shell.execute_reply": "2021-04-10T22:12:31.529513Z"
        },
        "papermill": {
          "duration": 0.030883,
          "end_time": "2021-04-10T22:12:31.529725",
          "exception": false,
          "start_time": "2021-04-10T22:12:31.498842",
          "status": "completed"
        },
        "tags": [],
        "colab": {
          "base_uri": "https://localhost:8080/"
        },
        "id": "charming-crazy",
        "outputId": "6711eed2-9c2d-4995-c60b-8d4df46ed03c"
      },
      "source": [
        "X_train=X_train.values.reshape(-1,28,28,1)\n",
        "X_test=X_test.values.reshape(-1,28,28,1)\n",
        "print(\"X_train shape: \",X_train.shape)\n",
        "print(\"X_test shape: \",X_test.shape)"
      ],
      "id": "charming-crazy",
      "execution_count": 10,
      "outputs": [
        {
          "output_type": "stream",
          "text": [
            "X_train shape:  (60000, 28, 28, 1)\n",
            "X_test shape:  (10000, 28, 28, 1)\n"
          ],
          "name": "stdout"
        }
      ]
    },
    {
      "cell_type": "markdown",
      "metadata": {
        "papermill": {
          "duration": 0.021011,
          "end_time": "2021-04-10T22:12:31.573194",
          "exception": false,
          "start_time": "2021-04-10T22:12:31.552183",
          "status": "completed"
        },
        "tags": [],
        "id": "becoming-packing"
      },
      "source": [
        "## Label Encoding"
      ],
      "id": "becoming-packing"
    },
    {
      "cell_type": "code",
      "metadata": {
        "execution": {
          "iopub.execute_input": "2021-04-10T22:12:31.620949Z",
          "iopub.status.busy": "2021-04-10T22:12:31.620129Z",
          "iopub.status.idle": "2021-04-10T22:12:36.863869Z",
          "shell.execute_reply": "2021-04-10T22:12:36.863053Z"
        },
        "papermill": {
          "duration": 5.269517,
          "end_time": "2021-04-10T22:12:36.864021",
          "exception": false,
          "start_time": "2021-04-10T22:12:31.594504",
          "status": "completed"
        },
        "tags": [],
        "id": "tropical-channels"
      },
      "source": [
        "from keras.utils.np_utils import to_categorical\n",
        "Y_train=to_categorical(Y_train,num_classes=10)"
      ],
      "id": "tropical-channels",
      "execution_count": 11,
      "outputs": []
    },
    {
      "cell_type": "code",
      "metadata": {
        "execution": {
          "iopub.execute_input": "2021-04-10T22:12:36.914655Z",
          "iopub.status.busy": "2021-04-10T22:12:36.913778Z",
          "iopub.status.idle": "2021-04-10T22:12:36.918468Z",
          "shell.execute_reply": "2021-04-10T22:12:36.917824Z"
        },
        "papermill": {
          "duration": 0.03222,
          "end_time": "2021-04-10T22:12:36.918624",
          "exception": false,
          "start_time": "2021-04-10T22:12:36.886404",
          "status": "completed"
        },
        "tags": [],
        "colab": {
          "base_uri": "https://localhost:8080/"
        },
        "id": "likely-nowhere",
        "outputId": "ba0d13a9-cf5c-46cb-963f-01b40621e2f7"
      },
      "source": [
        "Y_train"
      ],
      "id": "likely-nowhere",
      "execution_count": 12,
      "outputs": [
        {
          "output_type": "execute_result",
          "data": {
            "text/plain": [
              "array([[0., 0., 0., ..., 0., 0., 0.],\n",
              "       [1., 0., 0., ..., 0., 0., 0.],\n",
              "       [0., 0., 0., ..., 0., 0., 0.],\n",
              "       ...,\n",
              "       [0., 0., 0., ..., 0., 0., 0.],\n",
              "       [0., 0., 0., ..., 0., 0., 0.],\n",
              "       [0., 0., 0., ..., 0., 1., 0.]], dtype=float32)"
            ]
          },
          "metadata": {
            "tags": []
          },
          "execution_count": 12
        }
      ]
    },
    {
      "cell_type": "code",
      "metadata": {
        "execution": {
          "iopub.execute_input": "2021-04-10T22:12:36.969393Z",
          "iopub.status.busy": "2021-04-10T22:12:36.968309Z",
          "iopub.status.idle": "2021-04-10T22:12:36.970743Z",
          "shell.execute_reply": "2021-04-10T22:12:36.971221Z"
        },
        "papermill": {
          "duration": 0.030207,
          "end_time": "2021-04-10T22:12:36.971377",
          "exception": false,
          "start_time": "2021-04-10T22:12:36.941170",
          "status": "completed"
        },
        "tags": [],
        "id": "defensive-edinburgh"
      },
      "source": [
        "Y_test=to_categorical(Y_test,num_classes=10)"
      ],
      "id": "defensive-edinburgh",
      "execution_count": 13,
      "outputs": []
    },
    {
      "cell_type": "markdown",
      "metadata": {
        "papermill": {
          "duration": 0.021957,
          "end_time": "2021-04-10T22:12:37.015387",
          "exception": false,
          "start_time": "2021-04-10T22:12:36.993430",
          "status": "completed"
        },
        "tags": [],
        "id": "given-hammer"
      },
      "source": [
        "## Train Test Split"
      ],
      "id": "given-hammer"
    },
    {
      "cell_type": "code",
      "metadata": {
        "execution": {
          "iopub.execute_input": "2021-04-10T22:12:37.063550Z",
          "iopub.status.busy": "2021-04-10T22:12:37.062614Z",
          "iopub.status.idle": "2021-04-10T22:12:37.885583Z",
          "shell.execute_reply": "2021-04-10T22:12:37.885064Z"
        },
        "papermill": {
          "duration": 0.848108,
          "end_time": "2021-04-10T22:12:37.885720",
          "exception": false,
          "start_time": "2021-04-10T22:12:37.037612",
          "status": "completed"
        },
        "tags": [],
        "colab": {
          "base_uri": "https://localhost:8080/"
        },
        "id": "regional-elephant",
        "outputId": "09c7e387-5543-47ad-80c4-8847b294e676"
      },
      "source": [
        "from sklearn.model_selection import train_test_split\n",
        "X_train,X_val,Y_train,Y_val=train_test_split(X_train,Y_train,test_size=0.1,random_state=2)\n",
        "print(\"x_train: \",X_train.shape)\n",
        "print(\"x_test: \",X_val.shape)\n",
        "print(\"y_train: \",Y_train.shape)\n",
        "print(\"x_test: \",Y_val.shape)"
      ],
      "id": "regional-elephant",
      "execution_count": 14,
      "outputs": [
        {
          "output_type": "stream",
          "text": [
            "x_train:  (54000, 28, 28, 1)\n",
            "x_test:  (6000, 28, 28, 1)\n",
            "y_train:  (54000, 10)\n",
            "x_test:  (6000, 10)\n"
          ],
          "name": "stdout"
        }
      ]
    },
    {
      "cell_type": "markdown",
      "metadata": {
        "id": "c39aea3c"
      },
      "source": [
        "# Constructing Deep Learning Model"
      ],
      "id": "c39aea3c"
    },
    {
      "cell_type": "markdown",
      "metadata": {
        "papermill": {
          "duration": 0.02193,
          "end_time": "2021-04-10T22:12:37.929849",
          "exception": false,
          "start_time": "2021-04-10T22:12:37.907919",
          "status": "completed"
        },
        "tags": [],
        "id": "chinese-innocent"
      },
      "source": [
        "## Convolutional Neural Networks Model"
      ],
      "id": "chinese-innocent"
    },
    {
      "cell_type": "code",
      "metadata": {
        "execution": {
          "iopub.execute_input": "2021-04-10T22:12:37.987325Z",
          "iopub.status.busy": "2021-04-10T22:12:37.986302Z",
          "iopub.status.idle": "2021-04-10T22:12:38.287184Z",
          "shell.execute_reply": "2021-04-10T22:12:38.287724Z"
        },
        "papermill": {
          "duration": 0.33606,
          "end_time": "2021-04-10T22:12:38.287893",
          "exception": false,
          "start_time": "2021-04-10T22:12:37.951833",
          "status": "completed"
        },
        "tags": [],
        "id": "comfortable-toner"
      },
      "source": [
        "from sklearn.metrics import confusion_matrix\n",
        "import itertools\n",
        "\n",
        "from keras.utils.np_utils import to_categorical # convert to one-hot-encoding\n",
        "from keras.models import Sequential\n",
        "from keras.layers import Dense, Dropout, Flatten, Conv2D, MaxPool2D\n",
        "from keras.optimizers import RMSprop,Adam\n",
        "from keras.preprocessing.image import ImageDataGenerator\n",
        "from keras.callbacks import ReduceLROnPlateau\n",
        "\n",
        "model = Sequential()\n",
        "model.add(Conv2D(filters=32,kernel_size=(3,3),padding='Same',activation='relu',input_shape=(28,28,1)))\n",
        "model.add(MaxPool2D(pool_size=(2,2)))\n",
        "model.add(Dropout(0.25))\n",
        "\n",
        "model.add(Conv2D(filters=32,kernel_size=(3,3),padding='Same',activation='relu'))\n",
        "model.add(MaxPool2D(pool_size=(2,2),strides=(2,2)))\n",
        "model.add(Dropout(0.25))\n",
        "\n",
        "model.add(Conv2D(filters=64,kernel_size=(3,3),padding=\"Same\",activation=\"relu\"))\n",
        "model.add(MaxPool2D(pool_size=(2,2),strides=(2,2)))\n",
        "model.add(Dropout(0.25))\n",
        "\n",
        "model.add(Flatten())\n",
        "model.add(Dense(256, activation = \"relu\"))\n",
        "model.add(Dropout(0.5))\n",
        "model.add(Dense(10, activation = \"softmax\"))\n",
        "\n",
        "model.compile(optimizer=\"rmsprop\",loss=\"categorical_crossentropy\",metrics=[\"accuracy\"])\n",
        "batch_size=32\n",
        "epochs=100"
      ],
      "id": "comfortable-toner",
      "execution_count": 15,
      "outputs": []
    },
    {
      "cell_type": "code",
      "metadata": {
        "execution": {
          "iopub.execute_input": "2021-04-10T22:12:38.338753Z",
          "iopub.status.busy": "2021-04-10T22:12:38.338168Z",
          "iopub.status.idle": "2021-04-10T22:12:38.472083Z",
          "shell.execute_reply": "2021-04-10T22:12:38.471520Z"
        },
        "papermill": {
          "duration": 0.161733,
          "end_time": "2021-04-10T22:12:38.472220",
          "exception": false,
          "start_time": "2021-04-10T22:12:38.310487",
          "status": "completed"
        },
        "tags": [],
        "id": "orange-consumer"
      },
      "source": [
        "datagen=ImageDataGenerator(featurewise_center=False,\n",
        "                           samplewise_center=False,\n",
        "                           featurewise_std_normalization=False,\n",
        "                           samplewise_std_normalization=False,\n",
        "                           zca_whitening=False,\n",
        "                           rotation_range=5,\n",
        "                           zoom_range=0.1,\n",
        "                           width_shift_range=0.1,\n",
        "                           height_shift_range=0.1,\n",
        "                           horizontal_flip=False,\n",
        "                           vertical_flip=False)\n",
        "datagen.fit(X_train)"
      ],
      "id": "orange-consumer",
      "execution_count": 16,
      "outputs": []
    },
    {
      "cell_type": "markdown",
      "metadata": {
        "papermill": {
          "duration": 0.022584,
          "end_time": "2021-04-10T22:12:38.517898",
          "exception": false,
          "start_time": "2021-04-10T22:12:38.495314",
          "status": "completed"
        },
        "tags": [],
        "id": "presidential-spider"
      },
      "source": [
        "## Fit Model"
      ],
      "id": "presidential-spider"
    },
    {
      "cell_type": "code",
      "metadata": {
        "execution": {
          "iopub.execute_input": "2021-04-10T22:12:38.570198Z",
          "iopub.status.busy": "2021-04-10T22:12:38.568933Z",
          "iopub.status.idle": "2021-04-10T22:16:46.291464Z",
          "shell.execute_reply": "2021-04-10T22:16:46.292170Z"
        },
        "papermill": {
          "duration": 247.751621,
          "end_time": "2021-04-10T22:16:46.292473",
          "exception": false,
          "start_time": "2021-04-10T22:12:38.540852",
          "status": "completed"
        },
        "tags": [],
        "colab": {
          "base_uri": "https://localhost:8080/"
        },
        "id": "removed-fence",
        "outputId": "f867512d-e311-4b57-fe99-f309d40dbe55"
      },
      "source": [
        "history=model.fit_generator(datagen.flow(X_train,Y_train,batch_size=batch_size),\n",
        "                            epochs=epochs,validation_data=(X_val,Y_val),\n",
        "                            steps_per_epoch=1600//batch_size)"
      ],
      "id": "removed-fence",
      "execution_count": 17,
      "outputs": [
        {
          "output_type": "stream",
          "text": [
            "Epoch 1/100\n",
            "50/50 [==============================] - 21s 101ms/step - loss: 2.2426 - accuracy: 0.1702 - val_loss: 1.3410 - val_accuracy: 0.7363\n",
            "Epoch 2/100\n",
            "50/50 [==============================] - 4s 80ms/step - loss: 1.4979 - accuracy: 0.4844 - val_loss: 0.6596 - val_accuracy: 0.8218\n",
            "Epoch 3/100\n",
            "50/50 [==============================] - 4s 79ms/step - loss: 1.0148 - accuracy: 0.6675 - val_loss: 0.4142 - val_accuracy: 0.8853\n",
            "Epoch 4/100\n",
            "50/50 [==============================] - 4s 78ms/step - loss: 0.7654 - accuracy: 0.7498 - val_loss: 0.2945 - val_accuracy: 0.9180\n",
            "Epoch 5/100\n",
            "50/50 [==============================] - 4s 78ms/step - loss: 0.6573 - accuracy: 0.7895 - val_loss: 0.2907 - val_accuracy: 0.9087\n",
            "Epoch 6/100\n",
            "50/50 [==============================] - 4s 79ms/step - loss: 0.5339 - accuracy: 0.8172 - val_loss: 0.2226 - val_accuracy: 0.9340\n",
            "Epoch 7/100\n",
            "50/50 [==============================] - 4s 78ms/step - loss: 0.5129 - accuracy: 0.8276 - val_loss: 0.2142 - val_accuracy: 0.9413\n",
            "Epoch 8/100\n",
            "50/50 [==============================] - 4s 80ms/step - loss: 0.5116 - accuracy: 0.8494 - val_loss: 0.1594 - val_accuracy: 0.9530\n",
            "Epoch 9/100\n",
            "50/50 [==============================] - 4s 79ms/step - loss: 0.4561 - accuracy: 0.8591 - val_loss: 0.2473 - val_accuracy: 0.9222\n",
            "Epoch 10/100\n",
            "50/50 [==============================] - 4s 79ms/step - loss: 0.4097 - accuracy: 0.8680 - val_loss: 0.1482 - val_accuracy: 0.9548\n",
            "Epoch 11/100\n",
            "50/50 [==============================] - 4s 79ms/step - loss: 0.3589 - accuracy: 0.8918 - val_loss: 0.1469 - val_accuracy: 0.9543\n",
            "Epoch 12/100\n",
            "50/50 [==============================] - 4s 78ms/step - loss: 0.3719 - accuracy: 0.8993 - val_loss: 0.1383 - val_accuracy: 0.9565\n",
            "Epoch 13/100\n",
            "50/50 [==============================] - 4s 78ms/step - loss: 0.3398 - accuracy: 0.8974 - val_loss: 0.1462 - val_accuracy: 0.9543\n",
            "Epoch 14/100\n",
            "50/50 [==============================] - 4s 79ms/step - loss: 0.3762 - accuracy: 0.8821 - val_loss: 0.1189 - val_accuracy: 0.9610\n",
            "Epoch 15/100\n",
            "50/50 [==============================] - 4s 79ms/step - loss: 0.3225 - accuracy: 0.9047 - val_loss: 0.1075 - val_accuracy: 0.9673\n",
            "Epoch 16/100\n",
            "50/50 [==============================] - 4s 79ms/step - loss: 0.3103 - accuracy: 0.9012 - val_loss: 0.1034 - val_accuracy: 0.9665\n",
            "Epoch 17/100\n",
            "50/50 [==============================] - 4s 79ms/step - loss: 0.2730 - accuracy: 0.9135 - val_loss: 0.1121 - val_accuracy: 0.9627\n",
            "Epoch 18/100\n",
            "50/50 [==============================] - 4s 79ms/step - loss: 0.2650 - accuracy: 0.9119 - val_loss: 0.0969 - val_accuracy: 0.9697\n",
            "Epoch 19/100\n",
            "50/50 [==============================] - 4s 79ms/step - loss: 0.2438 - accuracy: 0.9229 - val_loss: 0.1001 - val_accuracy: 0.9670\n",
            "Epoch 20/100\n",
            "50/50 [==============================] - 4s 79ms/step - loss: 0.2215 - accuracy: 0.9254 - val_loss: 0.1258 - val_accuracy: 0.9583\n",
            "Epoch 21/100\n",
            "50/50 [==============================] - 4s 78ms/step - loss: 0.2000 - accuracy: 0.9286 - val_loss: 0.0997 - val_accuracy: 0.9668\n",
            "Epoch 22/100\n",
            "50/50 [==============================] - 4s 79ms/step - loss: 0.2423 - accuracy: 0.9248 - val_loss: 0.0900 - val_accuracy: 0.9712\n",
            "Epoch 23/100\n",
            "50/50 [==============================] - 4s 78ms/step - loss: 0.2739 - accuracy: 0.9085 - val_loss: 0.0881 - val_accuracy: 0.9713\n",
            "Epoch 24/100\n",
            "50/50 [==============================] - 4s 80ms/step - loss: 0.2205 - accuracy: 0.9379 - val_loss: 0.0846 - val_accuracy: 0.9743\n",
            "Epoch 25/100\n",
            "50/50 [==============================] - 4s 79ms/step - loss: 0.2244 - accuracy: 0.9308 - val_loss: 0.0833 - val_accuracy: 0.9730\n",
            "Epoch 26/100\n",
            "50/50 [==============================] - 4s 80ms/step - loss: 0.2133 - accuracy: 0.9332 - val_loss: 0.0724 - val_accuracy: 0.9757\n",
            "Epoch 27/100\n",
            "50/50 [==============================] - 4s 78ms/step - loss: 0.2290 - accuracy: 0.9321 - val_loss: 0.0782 - val_accuracy: 0.9733\n",
            "Epoch 28/100\n",
            "50/50 [==============================] - 4s 79ms/step - loss: 0.2176 - accuracy: 0.9270 - val_loss: 0.1030 - val_accuracy: 0.9698\n",
            "Epoch 29/100\n",
            "50/50 [==============================] - 4s 79ms/step - loss: 0.2167 - accuracy: 0.9384 - val_loss: 0.0878 - val_accuracy: 0.9737\n",
            "Epoch 30/100\n",
            "50/50 [==============================] - 4s 78ms/step - loss: 0.1982 - accuracy: 0.9462 - val_loss: 0.0686 - val_accuracy: 0.9773\n",
            "Epoch 31/100\n",
            "50/50 [==============================] - 4s 79ms/step - loss: 0.2198 - accuracy: 0.9323 - val_loss: 0.0660 - val_accuracy: 0.9797\n",
            "Epoch 32/100\n",
            "50/50 [==============================] - 4s 79ms/step - loss: 0.2108 - accuracy: 0.9425 - val_loss: 0.0694 - val_accuracy: 0.9775\n",
            "Epoch 33/100\n",
            "50/50 [==============================] - 4s 79ms/step - loss: 0.1917 - accuracy: 0.9506 - val_loss: 0.0742 - val_accuracy: 0.9750\n",
            "Epoch 34/100\n",
            "50/50 [==============================] - 4s 79ms/step - loss: 0.1944 - accuracy: 0.9506 - val_loss: 0.0657 - val_accuracy: 0.9783\n",
            "Epoch 35/100\n",
            "50/50 [==============================] - 4s 79ms/step - loss: 0.1714 - accuracy: 0.9414 - val_loss: 0.0705 - val_accuracy: 0.9778\n",
            "Epoch 36/100\n",
            "50/50 [==============================] - 4s 79ms/step - loss: 0.1759 - accuracy: 0.9384 - val_loss: 0.0833 - val_accuracy: 0.9712\n",
            "Epoch 37/100\n",
            "50/50 [==============================] - 4s 79ms/step - loss: 0.1794 - accuracy: 0.9479 - val_loss: 0.0665 - val_accuracy: 0.9770\n",
            "Epoch 38/100\n",
            "50/50 [==============================] - 4s 80ms/step - loss: 0.1361 - accuracy: 0.9512 - val_loss: 0.0796 - val_accuracy: 0.9732\n",
            "Epoch 39/100\n",
            "50/50 [==============================] - 4s 79ms/step - loss: 0.1720 - accuracy: 0.9444 - val_loss: 0.0600 - val_accuracy: 0.9802\n",
            "Epoch 40/100\n",
            "50/50 [==============================] - 4s 80ms/step - loss: 0.1644 - accuracy: 0.9563 - val_loss: 0.0602 - val_accuracy: 0.9813\n",
            "Epoch 41/100\n",
            "50/50 [==============================] - 4s 79ms/step - loss: 0.1850 - accuracy: 0.9417 - val_loss: 0.0680 - val_accuracy: 0.9775\n",
            "Epoch 42/100\n",
            "50/50 [==============================] - 4s 79ms/step - loss: 0.1667 - accuracy: 0.9446 - val_loss: 0.0618 - val_accuracy: 0.9798\n",
            "Epoch 43/100\n",
            "50/50 [==============================] - 4s 80ms/step - loss: 0.2033 - accuracy: 0.9297 - val_loss: 0.0751 - val_accuracy: 0.9740\n",
            "Epoch 44/100\n",
            "50/50 [==============================] - 4s 80ms/step - loss: 0.1481 - accuracy: 0.9481 - val_loss: 0.0567 - val_accuracy: 0.9817\n",
            "Epoch 45/100\n",
            "50/50 [==============================] - 4s 80ms/step - loss: 0.1668 - accuracy: 0.9481 - val_loss: 0.0602 - val_accuracy: 0.9808\n",
            "Epoch 46/100\n",
            "50/50 [==============================] - 4s 79ms/step - loss: 0.1493 - accuracy: 0.9483 - val_loss: 0.0573 - val_accuracy: 0.9807\n",
            "Epoch 47/100\n",
            "50/50 [==============================] - 4s 80ms/step - loss: 0.1408 - accuracy: 0.9532 - val_loss: 0.0542 - val_accuracy: 0.9830\n",
            "Epoch 48/100\n",
            "50/50 [==============================] - 4s 80ms/step - loss: 0.1313 - accuracy: 0.9584 - val_loss: 0.0647 - val_accuracy: 0.9807\n",
            "Epoch 49/100\n",
            "50/50 [==============================] - 4s 80ms/step - loss: 0.1557 - accuracy: 0.9456 - val_loss: 0.0565 - val_accuracy: 0.9842\n",
            "Epoch 50/100\n",
            "50/50 [==============================] - 4s 80ms/step - loss: 0.1507 - accuracy: 0.9544 - val_loss: 0.0570 - val_accuracy: 0.9810\n",
            "Epoch 51/100\n",
            "50/50 [==============================] - 4s 79ms/step - loss: 0.1426 - accuracy: 0.9552 - val_loss: 0.0566 - val_accuracy: 0.9842\n",
            "Epoch 52/100\n",
            "50/50 [==============================] - 4s 79ms/step - loss: 0.1748 - accuracy: 0.9514 - val_loss: 0.0544 - val_accuracy: 0.9823\n",
            "Epoch 53/100\n",
            "50/50 [==============================] - 4s 80ms/step - loss: 0.1137 - accuracy: 0.9603 - val_loss: 0.0583 - val_accuracy: 0.9827\n",
            "Epoch 54/100\n",
            "50/50 [==============================] - 4s 80ms/step - loss: 0.1780 - accuracy: 0.9515 - val_loss: 0.0531 - val_accuracy: 0.9822\n",
            "Epoch 55/100\n",
            "50/50 [==============================] - 4s 81ms/step - loss: 0.1259 - accuracy: 0.9609 - val_loss: 0.0534 - val_accuracy: 0.9817\n",
            "Epoch 56/100\n",
            "50/50 [==============================] - 4s 80ms/step - loss: 0.1568 - accuracy: 0.9599 - val_loss: 0.0492 - val_accuracy: 0.9830\n",
            "Epoch 57/100\n",
            "50/50 [==============================] - 4s 81ms/step - loss: 0.1664 - accuracy: 0.9484 - val_loss: 0.0588 - val_accuracy: 0.9832\n",
            "Epoch 58/100\n",
            "50/50 [==============================] - 4s 80ms/step - loss: 0.1569 - accuracy: 0.9574 - val_loss: 0.0546 - val_accuracy: 0.9815\n",
            "Epoch 59/100\n",
            "50/50 [==============================] - 4s 80ms/step - loss: 0.1388 - accuracy: 0.9673 - val_loss: 0.0594 - val_accuracy: 0.9817\n",
            "Epoch 60/100\n",
            "50/50 [==============================] - 4s 81ms/step - loss: 0.1639 - accuracy: 0.9538 - val_loss: 0.0562 - val_accuracy: 0.9813\n",
            "Epoch 61/100\n",
            "50/50 [==============================] - 4s 80ms/step - loss: 0.1416 - accuracy: 0.9527 - val_loss: 0.0461 - val_accuracy: 0.9842\n",
            "Epoch 62/100\n",
            "50/50 [==============================] - 4s 81ms/step - loss: 0.1370 - accuracy: 0.9569 - val_loss: 0.0530 - val_accuracy: 0.9823\n",
            "Epoch 63/100\n",
            "50/50 [==============================] - 4s 80ms/step - loss: 0.1830 - accuracy: 0.9436 - val_loss: 0.0482 - val_accuracy: 0.9843\n",
            "Epoch 64/100\n",
            "50/50 [==============================] - 4s 81ms/step - loss: 0.1264 - accuracy: 0.9612 - val_loss: 0.0497 - val_accuracy: 0.9828\n",
            "Epoch 65/100\n",
            "50/50 [==============================] - 4s 80ms/step - loss: 0.1887 - accuracy: 0.9449 - val_loss: 0.0508 - val_accuracy: 0.9848\n",
            "Epoch 66/100\n",
            "50/50 [==============================] - 4s 79ms/step - loss: 0.1327 - accuracy: 0.9612 - val_loss: 0.0490 - val_accuracy: 0.9832\n",
            "Epoch 67/100\n",
            "50/50 [==============================] - 4s 80ms/step - loss: 0.1578 - accuracy: 0.9435 - val_loss: 0.0533 - val_accuracy: 0.9843\n",
            "Epoch 68/100\n",
            "50/50 [==============================] - 4s 80ms/step - loss: 0.1400 - accuracy: 0.9562 - val_loss: 0.0453 - val_accuracy: 0.9865\n",
            "Epoch 69/100\n",
            "50/50 [==============================] - 4s 80ms/step - loss: 0.1408 - accuracy: 0.9604 - val_loss: 0.0568 - val_accuracy: 0.9812\n",
            "Epoch 70/100\n",
            "50/50 [==============================] - 4s 80ms/step - loss: 0.1135 - accuracy: 0.9701 - val_loss: 0.0485 - val_accuracy: 0.9845\n",
            "Epoch 71/100\n",
            "50/50 [==============================] - 4s 80ms/step - loss: 0.1303 - accuracy: 0.9642 - val_loss: 0.0469 - val_accuracy: 0.9862\n",
            "Epoch 72/100\n",
            "50/50 [==============================] - 4s 82ms/step - loss: 0.1335 - accuracy: 0.9559 - val_loss: 0.0498 - val_accuracy: 0.9847\n",
            "Epoch 73/100\n",
            "50/50 [==============================] - 4s 81ms/step - loss: 0.1488 - accuracy: 0.9577 - val_loss: 0.0466 - val_accuracy: 0.9835\n",
            "Epoch 74/100\n",
            "50/50 [==============================] - 4s 80ms/step - loss: 0.1393 - accuracy: 0.9537 - val_loss: 0.0418 - val_accuracy: 0.9855\n",
            "Epoch 75/100\n",
            "50/50 [==============================] - 4s 80ms/step - loss: 0.1137 - accuracy: 0.9713 - val_loss: 0.0531 - val_accuracy: 0.9835\n",
            "Epoch 76/100\n",
            "50/50 [==============================] - 4s 80ms/step - loss: 0.1064 - accuracy: 0.9614 - val_loss: 0.0505 - val_accuracy: 0.9853\n",
            "Epoch 77/100\n",
            "50/50 [==============================] - 4s 80ms/step - loss: 0.1052 - accuracy: 0.9634 - val_loss: 0.0507 - val_accuracy: 0.9838\n",
            "Epoch 78/100\n",
            "50/50 [==============================] - 4s 80ms/step - loss: 0.1437 - accuracy: 0.9575 - val_loss: 0.0601 - val_accuracy: 0.9822\n",
            "Epoch 79/100\n",
            "50/50 [==============================] - 4s 80ms/step - loss: 0.1244 - accuracy: 0.9625 - val_loss: 0.0459 - val_accuracy: 0.9862\n",
            "Epoch 80/100\n",
            "50/50 [==============================] - 4s 81ms/step - loss: 0.1091 - accuracy: 0.9699 - val_loss: 0.0600 - val_accuracy: 0.9823\n",
            "Epoch 81/100\n",
            "50/50 [==============================] - 4s 81ms/step - loss: 0.1568 - accuracy: 0.9575 - val_loss: 0.0444 - val_accuracy: 0.9875\n",
            "Epoch 82/100\n",
            "50/50 [==============================] - 4s 81ms/step - loss: 0.1182 - accuracy: 0.9639 - val_loss: 0.0437 - val_accuracy: 0.9860\n",
            "Epoch 83/100\n",
            "50/50 [==============================] - 4s 81ms/step - loss: 0.1343 - accuracy: 0.9601 - val_loss: 0.0425 - val_accuracy: 0.9863\n",
            "Epoch 84/100\n",
            "50/50 [==============================] - 4s 81ms/step - loss: 0.1353 - accuracy: 0.9509 - val_loss: 0.0479 - val_accuracy: 0.9867\n",
            "Epoch 85/100\n",
            "50/50 [==============================] - 4s 82ms/step - loss: 0.1166 - accuracy: 0.9644 - val_loss: 0.0405 - val_accuracy: 0.9882\n",
            "Epoch 86/100\n",
            "50/50 [==============================] - 4s 80ms/step - loss: 0.1299 - accuracy: 0.9639 - val_loss: 0.0445 - val_accuracy: 0.9877\n",
            "Epoch 87/100\n",
            "50/50 [==============================] - 4s 81ms/step - loss: 0.1639 - accuracy: 0.9560 - val_loss: 0.0477 - val_accuracy: 0.9873\n",
            "Epoch 88/100\n",
            "50/50 [==============================] - 4s 81ms/step - loss: 0.1467 - accuracy: 0.9576 - val_loss: 0.0430 - val_accuracy: 0.9852\n",
            "Epoch 89/100\n",
            "50/50 [==============================] - 4s 81ms/step - loss: 0.1041 - accuracy: 0.9656 - val_loss: 0.0461 - val_accuracy: 0.9865\n",
            "Epoch 90/100\n",
            "50/50 [==============================] - 4s 81ms/step - loss: 0.1159 - accuracy: 0.9663 - val_loss: 0.0434 - val_accuracy: 0.9853\n",
            "Epoch 91/100\n",
            "50/50 [==============================] - 4s 81ms/step - loss: 0.1328 - accuracy: 0.9575 - val_loss: 0.0410 - val_accuracy: 0.9875\n",
            "Epoch 92/100\n",
            "50/50 [==============================] - 4s 81ms/step - loss: 0.1663 - accuracy: 0.9512 - val_loss: 0.0428 - val_accuracy: 0.9855\n",
            "Epoch 93/100\n",
            "50/50 [==============================] - 4s 81ms/step - loss: 0.0851 - accuracy: 0.9787 - val_loss: 0.0434 - val_accuracy: 0.9858\n",
            "Epoch 94/100\n",
            "50/50 [==============================] - 4s 81ms/step - loss: 0.1295 - accuracy: 0.9636 - val_loss: 0.0457 - val_accuracy: 0.9857\n",
            "Epoch 95/100\n",
            "50/50 [==============================] - 4s 82ms/step - loss: 0.1514 - accuracy: 0.9584 - val_loss: 0.0407 - val_accuracy: 0.9868\n",
            "Epoch 96/100\n",
            "50/50 [==============================] - 4s 81ms/step - loss: 0.1541 - accuracy: 0.9546 - val_loss: 0.0432 - val_accuracy: 0.9868\n",
            "Epoch 97/100\n",
            "50/50 [==============================] - 4s 80ms/step - loss: 0.1185 - accuracy: 0.9718 - val_loss: 0.0477 - val_accuracy: 0.9852\n",
            "Epoch 98/100\n",
            "50/50 [==============================] - 4s 82ms/step - loss: 0.1206 - accuracy: 0.9597 - val_loss: 0.0569 - val_accuracy: 0.9825\n",
            "Epoch 99/100\n",
            "50/50 [==============================] - 4s 80ms/step - loss: 0.1471 - accuracy: 0.9532 - val_loss: 0.0541 - val_accuracy: 0.9817\n",
            "Epoch 100/100\n",
            "50/50 [==============================] - 4s 81ms/step - loss: 0.1202 - accuracy: 0.9651 - val_loss: 0.0516 - val_accuracy: 0.9848\n"
          ],
          "name": "stdout"
        }
      ]
    },
    {
      "cell_type": "markdown",
      "metadata": {
        "papermill": {
          "duration": 0.64675,
          "end_time": "2021-04-10T22:16:47.581496",
          "exception": false,
          "start_time": "2021-04-10T22:16:46.934746",
          "status": "completed"
        },
        "tags": [],
        "id": "guided-bradford"
      },
      "source": [
        "# Evaluate the Model"
      ],
      "id": "guided-bradford"
    },
    {
      "cell_type": "markdown",
      "metadata": {
        "id": "UpDzwySbXDTx"
      },
      "source": [
        "##Compare accuracy between validation and train dataset"
      ],
      "id": "UpDzwySbXDTx"
    },
    {
      "cell_type": "code",
      "metadata": {
        "execution": {
          "iopub.execute_input": "2021-04-10T22:16:49.025812Z",
          "iopub.status.busy": "2021-04-10T22:16:49.024766Z",
          "iopub.status.idle": "2021-04-10T22:16:49.320984Z",
          "shell.execute_reply": "2021-04-10T22:16:49.321414Z"
        },
        "papermill": {
          "duration": 1.024414,
          "end_time": "2021-04-10T22:16:49.321595",
          "exception": false,
          "start_time": "2021-04-10T22:16:48.297181",
          "status": "completed"
        },
        "tags": [],
        "colab": {
          "base_uri": "https://localhost:8080/",
          "height": 279
        },
        "id": "endless-prime",
        "outputId": "b71ca55b-2d18-4ef8-eeae-81747e1a287d"
      },
      "source": [
        "print(history.history.keys())\n",
        "\n",
        "plt.figure(figsize=(12, 8))\n",
        "\n",
        "plt.subplot(2, 2, 1)\n",
        "plt.plot(history.history[\"loss\"], label = \"Train Loss\")\n",
        "plt.plot(history.history[\"val_loss\"], label = \"Validation Loss\")\n",
        "plt.legend()\n",
        "plt.title('Loss evolution')\n",
        "\n",
        "plt.subplot(2, 2, 2)\n",
        "plt.plot(history.history[\"accuracy\"], label = \"Train acc\")\n",
        "plt.plot(history.history[\"val_accuracy\"], label = \"Validation acc\")\n",
        "plt.legend()\n",
        "plt.title('Accuracy evolution')\n",
        "plt.show()"
      ],
      "id": "endless-prime",
      "execution_count": 18,
      "outputs": [
        {
          "output_type": "stream",
          "text": [
            "dict_keys(['loss', 'accuracy', 'val_loss', 'val_accuracy'])\n"
          ],
          "name": "stdout"
        },
        {
          "output_type": "display_data",
          "data": {
            "image/png": "[encoded data removed]",
            "text/plain": [
              "<Figure size 864x576 with 2 Axes>"
            ]
          },
          "metadata": {
            "tags": [],
            "needs_background": "light"
          }
        }
      ]
    },
    {
      "cell_type": "markdown",
      "metadata": {
        "id": "HGBXxopPbXV3"
      },
      "source": [
        "We can see from the chart above that after around 60 epochs, our model has been trained quite thoroughly where the subsequent loss value decreases and accuracy gains are minimal. ALso, we can observe that both loss value and accuracy is better on the validation than the main train set, i.e. our model is not over-fitted."
      ],
      "id": "HGBXxopPbXV3"
    },
    {
      "cell_type": "markdown",
      "metadata": {
        "id": "n0WvzTwyXM4S"
      },
      "source": [
        "##Evaluation on the test dataset"
      ],
      "id": "n0WvzTwyXM4S"
    },
    {
      "cell_type": "code",
      "metadata": {
        "colab": {
          "base_uri": "https://localhost:8080/"
        },
        "id": "IA2M4VwEWjj8",
        "outputId": "0708d7d8-4a86-4ca1-eb9a-154bc8d899aa"
      },
      "source": [
        "evaluation = model.evaluate(X_test, Y_test)\n",
        "print(f'Test Accuracy : {evaluation[1]:.4f}')"
      ],
      "id": "IA2M4VwEWjj8",
      "execution_count": 21,
      "outputs": [
        {
          "output_type": "stream",
          "text": [
            "313/313 [==============================] - 3s 10ms/step - loss: 0.0350 - accuracy: 0.9890\n",
            "Test Accuracy : 0.9890\n"
          ],
          "name": "stdout"
        }
      ]
    },
    {
      "cell_type": "markdown",
      "metadata": {
        "id": "pfNyE84yW0a7"
      },
      "source": [
        "It turns out that the accuracy on the test dataset is even better than the best accuracy score reached on the validation dataset (part of the training dataset). This means that this model is robust and generalized well to perform equally good on new, previously unseen inputs than on the training data."
      ],
      "id": "pfNyE84yW0a7"
    },
    {
      "cell_type": "markdown",
      "metadata": {
        "id": "oLC3K3ZpXSA6"
      },
      "source": [
        "##Makes predictions\n",
        "With the model trained, we can use it to make predictions about some images."
      ],
      "id": "oLC3K3ZpXSA6"
    },
    {
      "cell_type": "code",
      "metadata": {
        "id": "BCsCMJ0FXbpK"
      },
      "source": [
        "# get the predictions for the test data\n",
        "predicted_classes = model.predict_classes(X_test)"
      ],
      "id": "BCsCMJ0FXbpK",
      "execution_count": 22,
      "outputs": []
    },
    {
      "cell_type": "markdown",
      "metadata": {
        "id": "aq5KQEFJXcZi"
      },
      "source": [
        "Here, the model has predicted the label for each image in the testing set. Let's take a look at the first prediction:"
      ],
      "id": "aq5KQEFJXcZi"
    },
    {
      "cell_type": "code",
      "metadata": {
        "colab": {
          "base_uri": "https://localhost:8080/"
        },
        "id": "ieoxy4RBXjiC",
        "outputId": "dece1c3b-2bf4-41e8-e28d-2af46243a4ec"
      },
      "source": [
        "test_img = X_test[0]\n",
        "prediction = model.predict(X_test)\n",
        "prediction[0]"
      ],
      "id": "ieoxy4RBXjiC",
      "execution_count": 23,
      "outputs": [
        {
          "output_type": "execute_result",
          "data": {
            "text/plain": [
              "array([1.81127752e-11, 1.35720475e-08, 4.24781668e-08, 7.76566722e-09,\n",
              "       4.05162744e-11, 3.72303073e-13, 9.07863148e-18, 1.00000000e+00,\n",
              "       4.54815213e-11, 3.55250940e-08], dtype=float32)"
            ]
          },
          "metadata": {
            "tags": []
          },
          "execution_count": 23
        }
      ]
    },
    {
      "cell_type": "markdown",
      "metadata": {
        "id": "BOjfQ7VbXuGC"
      },
      "source": [
        "A prediction is an array of 10 numbers. They represent the model's \"confidence\" that the image corresponds to each of the 10 different digits. We can see which label has the highest confidence value:"
      ],
      "id": "BOjfQ7VbXuGC"
    },
    {
      "cell_type": "code",
      "metadata": {
        "colab": {
          "base_uri": "https://localhost:8080/"
        },
        "id": "EQlJ7IIdXvDz",
        "outputId": "37af512f-0ba5-4ef8-999e-1eb7cb1790bb"
      },
      "source": [
        "np.argmax(prediction[0])"
      ],
      "id": "EQlJ7IIdXvDz",
      "execution_count": 24,
      "outputs": [
        {
          "output_type": "execute_result",
          "data": {
            "text/plain": [
              "7"
            ]
          },
          "metadata": {
            "tags": []
          },
          "execution_count": 24
        }
      ]
    },
    {
      "cell_type": "markdown",
      "metadata": {
        "id": "LnuZ6uZxYDPK"
      },
      "source": [
        "So, the model is most confident that this image represents the digit 7. Examining the test label shows that this classification is correct:"
      ],
      "id": "LnuZ6uZxYDPK"
    },
    {
      "cell_type": "code",
      "metadata": {
        "colab": {
          "base_uri": "https://localhost:8080/",
          "height": 682
        },
        "id": "UG4T0i5WYK4a",
        "outputId": "73821675-0261-4621-f377-22bc350ce44e"
      },
      "source": [
        "L = 5\n",
        "W = 5\n",
        "fig, axes = plt.subplots(L, W, figsize = (12,12))\n",
        "axes = axes.ravel()\n",
        "\n",
        "for i in np.arange(0, L * W):  \n",
        "    axes[i].imshow(X_test[i].reshape(28,28))\n",
        "    axes[i].set_title(f\"Prediction Class = {predicted_classes[i]}\")\n",
        "    axes[i].axis('off')\n",
        "\n",
        "plt.subplots_adjust(wspace=0.5)"
      ],
      "id": "UG4T0i5WYK4a",
      "execution_count": 32,
      "outputs": [
        {
          "output_type": "display_data",
          "data": {
            "image/png": "[encoded data removed]",
            "text/plain": [
              "<Figure size 864x864 with 25 Axes>"
            ]
          },
          "metadata": {
            "tags": [],
            "needs_background": "light"
          }
        }
      ]
    },
    {
      "cell_type": "markdown",
      "metadata": {
        "id": "0bhBYXLf_B0Z"
      },
      "source": [
        "# Model Limitations\n",
        "\n",
        "- Our model is performing well on this dataset but not guaranteed for other similar ones.\n",
        "\n",
        "- This dataset has been highly standardized, so our model may not perform well with low-quality data.\n",
        "\n",
        "- The predictions are always limitied to efficiency of:\n",
        "    - Data Cleaning Algorithms\n",
        "    - Image Data Generator Algorithms\n",
        "    - Prediction Algorithm"
      ],
      "id": "0bhBYXLf_B0Z"
    }
  ]
}