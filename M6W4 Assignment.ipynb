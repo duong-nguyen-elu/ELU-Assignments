{
 "cells": [
  {
   "cell_type": "markdown",
   "metadata": {},
   "source": [
    "# Assignment Descriptions #"
   ]
  },
  {
   "cell_type": "markdown",
   "metadata": {},
   "source": [
    "One of the main applications of unsupervised learning is dimensionality reduction / feature selection. Often it is a step preceding building a supervised learning model with labelled data. Other times, we don’t have a label but still need to perform dimensionality reduction and/or find clusters in the data.\n",
    "\n",
    "In this assignment, you are asked to work on the Mercedes- Benz Greener Manufacturing challenge from Kaggle. Go to the Kaggle link: https://www.kaggle.com/c/mercedes-benz-greener-manufacturing/overview (Links to an external site.)Links to an external site. and download the training and testing data sets.\n",
    "\n",
    "The data has been anonymised and there is target, called ‘y’ but we will not be training a supervised model in this assignment (you are still free and encouraged to do that for the sake of practice).\n",
    "\n",
    "- Download, load and clean the data. Do not forget to normalize it.\n",
    "- Perform a principle component analysis (PCA). How many components will you choose based on an explained variance ratio of your choice? Plot the proportion of explained variance and the number of components.\n",
    "- One downside of PCA is that it maps all the original features to a lower dimensional space, resulting in less interpretable features. Let’s say we want to use the result of the PCA but still work with the original features. Here is what we can do. Using the selected number of components from 2), find which features of the original data have the highest absolute correlation with each of the components. Select features with absolute correlation with the PCA components of at least 0,75. How many and which features will you end up with?"
   ]
  },
  {
   "cell_type": "markdown",
   "metadata": {},
   "source": [
    "## Import the train dataset and check the overview##"
   ]
  },
  {
   "cell_type": "code",
   "execution_count": 1,
   "metadata": {
    "execution": {
     "iopub.execute_input": "2020-12-05T02:28:20.319589Z",
     "iopub.status.busy": "2020-12-05T02:28:20.318603Z",
     "iopub.status.idle": "2020-12-05T02:28:20.322180Z",
     "shell.execute_reply": "2020-12-05T02:28:20.321369Z"
    },
    "papermill": {
     "duration": 0.121763,
     "end_time": "2020-12-05T02:28:20.322315",
     "exception": false,
     "start_time": "2020-12-05T02:28:20.200552",
     "status": "completed"
    },
    "tags": []
   },
   "outputs": [],
   "source": [
    "import numpy as np # linear algebra\n",
    "import pandas as pd # data processing, CSV file I/O (e.g. pd.read_csv)\n",
    "import matplotlib.pyplot as plt \n",
    "import seaborn as sns\n",
    "from sklearn.cluster import KMeans\n",
    "import warnings\n",
    "warnings.filterwarnings(\"ignore\")\n",
    "from sklearn.preprocessing import StandardScaler"
   ]
  },
  {
   "cell_type": "code",
   "execution_count": 2,
   "metadata": {
    "execution": {
     "iopub.execute_input": "2020-12-05T02:28:20.545655Z",
     "iopub.status.busy": "2020-12-05T02:28:20.544835Z",
     "iopub.status.idle": "2020-12-05T02:28:20.762863Z",
     "shell.execute_reply": "2020-12-05T02:28:20.762081Z"
    },
    "papermill": {
     "duration": 0.332827,
     "end_time": "2020-12-05T02:28:20.763011",
     "exception": false,
     "start_time": "2020-12-05T02:28:20.430184",
     "status": "completed"
    },
    "tags": []
   },
   "outputs": [],
   "source": [
    "merc_train = pd.read_csv(r'C:\\Users\\ams-duongn.EXPEDITORS\\Desktop\\learn\\Data Science Master\\M6W4\\train.csv')"
   ]
  },
  {
   "cell_type": "code",
   "execution_count": 3,
   "metadata": {
    "execution": {
     "iopub.execute_input": "2020-12-05T02:28:21.029272Z",
     "iopub.status.busy": "2020-12-05T02:28:21.028380Z",
     "iopub.status.idle": "2020-12-05T02:28:21.046279Z",
     "shell.execute_reply": "2020-12-05T02:28:21.045562Z"
    },
    "papermill": {
     "duration": 0.168124,
     "end_time": "2020-12-05T02:28:21.046428",
     "exception": false,
     "start_time": "2020-12-05T02:28:20.878304",
     "status": "completed"
    },
    "tags": []
   },
   "outputs": [
    {
     "data": {
      "text/html": [
       "<div>\n",
       "<style scoped>\n",
       "    .dataframe tbody tr th:only-of-type {\n",
       "        vertical-align: middle;\n",
       "    }\n",
       "\n",
       "    .dataframe tbody tr th {\n",
       "        vertical-align: top;\n",
       "    }\n",
       "\n",
       "    .dataframe thead th {\n",
       "        text-align: right;\n",
       "    }\n",
       "</style>\n",
       "<table border=\"1\" class=\"dataframe\">\n",
       "  <thead>\n",
       "    <tr style=\"text-align: right;\">\n",
       "      <th></th>\n",
       "      <th>ID</th>\n",
       "      <th>y</th>\n",
       "      <th>X0</th>\n",
       "      <th>X1</th>\n",
       "      <th>X2</th>\n",
       "      <th>X3</th>\n",
       "      <th>X4</th>\n",
       "      <th>X5</th>\n",
       "      <th>X6</th>\n",
       "      <th>X8</th>\n",
       "      <th>...</th>\n",
       "      <th>X375</th>\n",
       "      <th>X376</th>\n",
       "      <th>X377</th>\n",
       "      <th>X378</th>\n",
       "      <th>X379</th>\n",
       "      <th>X380</th>\n",
       "      <th>X382</th>\n",
       "      <th>X383</th>\n",
       "      <th>X384</th>\n",
       "      <th>X385</th>\n",
       "    </tr>\n",
       "  </thead>\n",
       "  <tbody>\n",
       "    <tr>\n",
       "      <th>0</th>\n",
       "      <td>0</td>\n",
       "      <td>130.81</td>\n",
       "      <td>k</td>\n",
       "      <td>v</td>\n",
       "      <td>at</td>\n",
       "      <td>a</td>\n",
       "      <td>d</td>\n",
       "      <td>u</td>\n",
       "      <td>j</td>\n",
       "      <td>o</td>\n",
       "      <td>...</td>\n",
       "      <td>0</td>\n",
       "      <td>0</td>\n",
       "      <td>1</td>\n",
       "      <td>0</td>\n",
       "      <td>0</td>\n",
       "      <td>0</td>\n",
       "      <td>0</td>\n",
       "      <td>0</td>\n",
       "      <td>0</td>\n",
       "      <td>0</td>\n",
       "    </tr>\n",
       "    <tr>\n",
       "      <th>1</th>\n",
       "      <td>6</td>\n",
       "      <td>88.53</td>\n",
       "      <td>k</td>\n",
       "      <td>t</td>\n",
       "      <td>av</td>\n",
       "      <td>e</td>\n",
       "      <td>d</td>\n",
       "      <td>y</td>\n",
       "      <td>l</td>\n",
       "      <td>o</td>\n",
       "      <td>...</td>\n",
       "      <td>1</td>\n",
       "      <td>0</td>\n",
       "      <td>0</td>\n",
       "      <td>0</td>\n",
       "      <td>0</td>\n",
       "      <td>0</td>\n",
       "      <td>0</td>\n",
       "      <td>0</td>\n",
       "      <td>0</td>\n",
       "      <td>0</td>\n",
       "    </tr>\n",
       "    <tr>\n",
       "      <th>2</th>\n",
       "      <td>7</td>\n",
       "      <td>76.26</td>\n",
       "      <td>az</td>\n",
       "      <td>w</td>\n",
       "      <td>n</td>\n",
       "      <td>c</td>\n",
       "      <td>d</td>\n",
       "      <td>x</td>\n",
       "      <td>j</td>\n",
       "      <td>x</td>\n",
       "      <td>...</td>\n",
       "      <td>0</td>\n",
       "      <td>0</td>\n",
       "      <td>0</td>\n",
       "      <td>0</td>\n",
       "      <td>0</td>\n",
       "      <td>0</td>\n",
       "      <td>1</td>\n",
       "      <td>0</td>\n",
       "      <td>0</td>\n",
       "      <td>0</td>\n",
       "    </tr>\n",
       "    <tr>\n",
       "      <th>3</th>\n",
       "      <td>9</td>\n",
       "      <td>80.62</td>\n",
       "      <td>az</td>\n",
       "      <td>t</td>\n",
       "      <td>n</td>\n",
       "      <td>f</td>\n",
       "      <td>d</td>\n",
       "      <td>x</td>\n",
       "      <td>l</td>\n",
       "      <td>e</td>\n",
       "      <td>...</td>\n",
       "      <td>0</td>\n",
       "      <td>0</td>\n",
       "      <td>0</td>\n",
       "      <td>0</td>\n",
       "      <td>0</td>\n",
       "      <td>0</td>\n",
       "      <td>0</td>\n",
       "      <td>0</td>\n",
       "      <td>0</td>\n",
       "      <td>0</td>\n",
       "    </tr>\n",
       "    <tr>\n",
       "      <th>4</th>\n",
       "      <td>13</td>\n",
       "      <td>78.02</td>\n",
       "      <td>az</td>\n",
       "      <td>v</td>\n",
       "      <td>n</td>\n",
       "      <td>f</td>\n",
       "      <td>d</td>\n",
       "      <td>h</td>\n",
       "      <td>d</td>\n",
       "      <td>n</td>\n",
       "      <td>...</td>\n",
       "      <td>0</td>\n",
       "      <td>0</td>\n",
       "      <td>0</td>\n",
       "      <td>0</td>\n",
       "      <td>0</td>\n",
       "      <td>0</td>\n",
       "      <td>0</td>\n",
       "      <td>0</td>\n",
       "      <td>0</td>\n",
       "      <td>0</td>\n",
       "    </tr>\n",
       "  </tbody>\n",
       "</table>\n",
       "<p>5 rows × 378 columns</p>\n",
       "</div>"
      ],
      "text/plain": [
       "   ID       y  X0 X1  X2 X3 X4 X5 X6 X8  ...  X375  X376  X377  X378  X379  \\\n",
       "0   0  130.81   k  v  at  a  d  u  j  o  ...     0     0     1     0     0   \n",
       "1   6   88.53   k  t  av  e  d  y  l  o  ...     1     0     0     0     0   \n",
       "2   7   76.26  az  w   n  c  d  x  j  x  ...     0     0     0     0     0   \n",
       "3   9   80.62  az  t   n  f  d  x  l  e  ...     0     0     0     0     0   \n",
       "4  13   78.02  az  v   n  f  d  h  d  n  ...     0     0     0     0     0   \n",
       "\n",
       "   X380  X382  X383  X384  X385  \n",
       "0     0     0     0     0     0  \n",
       "1     0     0     0     0     0  \n",
       "2     0     1     0     0     0  \n",
       "3     0     0     0     0     0  \n",
       "4     0     0     0     0     0  \n",
       "\n",
       "[5 rows x 378 columns]"
      ]
     },
     "execution_count": 3,
     "metadata": {},
     "output_type": "execute_result"
    }
   ],
   "source": [
    "merc_train.head()"
   ]
  },
  {
   "cell_type": "code",
   "execution_count": 4,
   "metadata": {
    "execution": {
     "iopub.execute_input": "2020-12-05T02:28:21.292782Z",
     "iopub.status.busy": "2020-12-05T02:28:21.291416Z",
     "iopub.status.idle": "2020-12-05T02:28:21.295973Z",
     "shell.execute_reply": "2020-12-05T02:28:21.297044Z"
    },
    "papermill": {
     "duration": 0.13101,
     "end_time": "2020-12-05T02:28:21.297258",
     "exception": false,
     "start_time": "2020-12-05T02:28:21.166248",
     "status": "completed"
    },
    "tags": []
   },
   "outputs": [
    {
     "name": "stdout",
     "output_type": "stream",
     "text": [
      "(4209, 378)\n"
     ]
    }
   ],
   "source": [
    "print(merc_train.shape)\n",
    "#print(merc_test.shape)"
   ]
  },
  {
   "cell_type": "code",
   "execution_count": 5,
   "metadata": {
    "execution": {
     "iopub.execute_input": "2020-12-05T02:28:21.529875Z",
     "iopub.status.busy": "2020-12-05T02:28:21.528784Z",
     "iopub.status.idle": "2020-12-05T02:28:21.533234Z",
     "shell.execute_reply": "2020-12-05T02:28:21.532495Z"
    },
    "papermill": {
     "duration": 0.12198,
     "end_time": "2020-12-05T02:28:21.533368",
     "exception": false,
     "start_time": "2020-12-05T02:28:21.411388",
     "status": "completed"
    },
    "tags": []
   },
   "outputs": [
    {
     "data": {
      "text/plain": [
       "Index(['ID', 'y', 'X0', 'X1', 'X2', 'X3', 'X4', 'X5', 'X6', 'X8',\n",
       "       ...\n",
       "       'X375', 'X376', 'X377', 'X378', 'X379', 'X380', 'X382', 'X383', 'X384',\n",
       "       'X385'],\n",
       "      dtype='object', length=378)"
      ]
     },
     "execution_count": 5,
     "metadata": {},
     "output_type": "execute_result"
    }
   ],
   "source": [
    "merc_train.columns"
   ]
  },
  {
   "cell_type": "code",
   "execution_count": 6,
   "metadata": {
    "execution": {
     "iopub.execute_input": "2020-12-05T02:28:21.785119Z",
     "iopub.status.busy": "2020-12-05T02:28:21.779655Z",
     "iopub.status.idle": "2020-12-05T02:28:21.795437Z",
     "shell.execute_reply": "2020-12-05T02:28:21.794690Z"
    },
    "papermill": {
     "duration": 0.150818,
     "end_time": "2020-12-05T02:28:21.795576",
     "exception": false,
     "start_time": "2020-12-05T02:28:21.644758",
     "status": "completed"
    },
    "tags": []
   },
   "outputs": [
    {
     "name": "stdout",
     "output_type": "stream",
     "text": [
      "<class 'pandas.core.frame.DataFrame'>\n",
      "RangeIndex: 4209 entries, 0 to 4208\n",
      "Columns: 378 entries, ID to X385\n",
      "dtypes: float64(1), int64(369), object(8)\n",
      "memory usage: 12.1+ MB\n"
     ]
    }
   ],
   "source": [
    "merc_train.info()"
   ]
  },
  {
   "cell_type": "markdown",
   "metadata": {
    "papermill": {
     "duration": 0.114757,
     "end_time": "2020-12-05T02:28:22.027438",
     "exception": false,
     "start_time": "2020-12-05T02:28:21.912681",
     "status": "completed"
    },
    "tags": []
   },
   "source": [
    "## Check for variance of the columns, and drop those columns from the data##"
   ]
  },
  {
   "cell_type": "code",
   "execution_count": 7,
   "metadata": {
    "execution": {
     "iopub.execute_input": "2020-12-05T02:28:22.263676Z",
     "iopub.status.busy": "2020-12-05T02:28:22.262881Z",
     "iopub.status.idle": "2020-12-05T02:28:22.266503Z",
     "shell.execute_reply": "2020-12-05T02:28:22.265892Z"
    },
    "papermill": {
     "duration": 0.127088,
     "end_time": "2020-12-05T02:28:22.266634",
     "exception": false,
     "start_time": "2020-12-05T02:28:22.139546",
     "status": "completed"
    },
    "tags": []
   },
   "outputs": [],
   "source": [
    "def var_zero_cols(df):\n",
    "    var_df=pd.DataFrame(df.var(),columns=['Variance'])\n",
    "    return(list(var_df[var_df.Variance==0].index))"
   ]
  },
  {
   "cell_type": "code",
   "execution_count": 8,
   "metadata": {
    "execution": {
     "iopub.execute_input": "2020-12-05T02:28:22.502481Z",
     "iopub.status.busy": "2020-12-05T02:28:22.501669Z",
     "iopub.status.idle": "2020-12-05T02:28:22.582512Z",
     "shell.execute_reply": "2020-12-05T02:28:22.581686Z"
    },
    "papermill": {
     "duration": 0.202835,
     "end_time": "2020-12-05T02:28:22.582645",
     "exception": false,
     "start_time": "2020-12-05T02:28:22.379810",
     "status": "completed"
    },
    "tags": []
   },
   "outputs": [
    {
     "data": {
      "text/plain": [
       "['X11',\n",
       " 'X93',\n",
       " 'X107',\n",
       " 'X233',\n",
       " 'X235',\n",
       " 'X268',\n",
       " 'X289',\n",
       " 'X290',\n",
       " 'X293',\n",
       " 'X297',\n",
       " 'X330',\n",
       " 'X347']"
      ]
     },
     "execution_count": 8,
     "metadata": {},
     "output_type": "execute_result"
    }
   ],
   "source": [
    "var_zero_cols(merc_train)"
   ]
  },
  {
   "cell_type": "code",
   "execution_count": 9,
   "metadata": {
    "execution": {
     "iopub.execute_input": "2020-12-05T02:28:22.819512Z",
     "iopub.status.busy": "2020-12-05T02:28:22.818467Z",
     "iopub.status.idle": "2020-12-05T02:28:22.867814Z",
     "shell.execute_reply": "2020-12-05T02:28:22.867094Z"
    },
    "papermill": {
     "duration": 0.172713,
     "end_time": "2020-12-05T02:28:22.867977",
     "exception": false,
     "start_time": "2020-12-05T02:28:22.695264",
     "status": "completed"
    },
    "tags": []
   },
   "outputs": [],
   "source": [
    "var_df=pd.DataFrame(merc_train.var(),columns=['Variance'])"
   ]
  },
  {
   "cell_type": "markdown",
   "metadata": {
    "papermill": {
     "duration": 0.117991,
     "end_time": "2020-12-05T02:28:23.100119",
     "exception": false,
     "start_time": "2020-12-05T02:28:22.982128",
     "status": "completed"
    },
    "tags": []
   },
   "source": [
    "**Above columns have zero variance, so dropping them from the data**"
   ]
  },
  {
   "cell_type": "code",
   "execution_count": 10,
   "metadata": {
    "execution": {
     "iopub.execute_input": "2020-12-05T02:28:23.350168Z",
     "iopub.status.busy": "2020-12-05T02:28:23.349334Z",
     "iopub.status.idle": "2020-12-05T02:28:23.354132Z",
     "shell.execute_reply": "2020-12-05T02:28:23.353365Z"
    },
    "papermill": {
     "duration": 0.139809,
     "end_time": "2020-12-05T02:28:23.354257",
     "exception": false,
     "start_time": "2020-12-05T02:28:23.214448",
     "status": "completed"
    },
    "tags": []
   },
   "outputs": [],
   "source": [
    "merc_train.drop(columns=list(var_df[var_df.Variance==0].index),inplace=True)"
   ]
  },
  {
   "cell_type": "code",
   "execution_count": 11,
   "metadata": {
    "execution": {
     "iopub.execute_input": "2020-12-05T02:28:23.585183Z",
     "iopub.status.busy": "2020-12-05T02:28:23.584245Z",
     "iopub.status.idle": "2020-12-05T02:28:23.588197Z",
     "shell.execute_reply": "2020-12-05T02:28:23.588798Z"
    },
    "papermill": {
     "duration": 0.123067,
     "end_time": "2020-12-05T02:28:23.588971",
     "exception": false,
     "start_time": "2020-12-05T02:28:23.465904",
     "status": "completed"
    },
    "tags": []
   },
   "outputs": [
    {
     "data": {
      "text/plain": [
       "(4209, 366)"
      ]
     },
     "execution_count": 11,
     "metadata": {},
     "output_type": "execute_result"
    }
   ],
   "source": [
    "merc_train.shape"
   ]
  },
  {
   "cell_type": "markdown",
   "metadata": {
    "papermill": {
     "duration": 0.113788,
     "end_time": "2020-12-05T02:28:23.817721",
     "exception": false,
     "start_time": "2020-12-05T02:28:23.703933",
     "status": "completed"
    },
    "tags": []
   },
   "source": [
    "## Check for null and unique values for train set##"
   ]
  },
  {
   "cell_type": "code",
   "execution_count": 12,
   "metadata": {
    "execution": {
     "iopub.execute_input": "2020-12-05T02:28:24.050489Z",
     "iopub.status.busy": "2020-12-05T02:28:24.049649Z",
     "iopub.status.idle": "2020-12-05T02:28:24.061801Z",
     "shell.execute_reply": "2020-12-05T02:28:24.061098Z"
    },
    "papermill": {
     "duration": 0.130808,
     "end_time": "2020-12-05T02:28:24.061968",
     "exception": false,
     "start_time": "2020-12-05T02:28:23.931160",
     "status": "completed"
    },
    "tags": []
   },
   "outputs": [],
   "source": [
    "train_nullcheck_df=pd.DataFrame(merc_train.isna().any(),columns=['IsNull'])"
   ]
  },
  {
   "cell_type": "code",
   "execution_count": 13,
   "metadata": {
    "execution": {
     "iopub.execute_input": "2020-12-05T02:28:24.339480Z",
     "iopub.status.busy": "2020-12-05T02:28:24.338354Z",
     "iopub.status.idle": "2020-12-05T02:28:24.347540Z",
     "shell.execute_reply": "2020-12-05T02:28:24.348483Z"
    },
    "papermill": {
     "duration": 0.170203,
     "end_time": "2020-12-05T02:28:24.348722",
     "exception": false,
     "start_time": "2020-12-05T02:28:24.178519",
     "status": "completed"
    },
    "tags": []
   },
   "outputs": [
    {
     "data": {
      "text/html": [
       "<div>\n",
       "<style scoped>\n",
       "    .dataframe tbody tr th:only-of-type {\n",
       "        vertical-align: middle;\n",
       "    }\n",
       "\n",
       "    .dataframe tbody tr th {\n",
       "        vertical-align: top;\n",
       "    }\n",
       "\n",
       "    .dataframe thead th {\n",
       "        text-align: right;\n",
       "    }\n",
       "</style>\n",
       "<table border=\"1\" class=\"dataframe\">\n",
       "  <thead>\n",
       "    <tr style=\"text-align: right;\">\n",
       "      <th></th>\n",
       "      <th>IsNull</th>\n",
       "    </tr>\n",
       "  </thead>\n",
       "  <tbody>\n",
       "  </tbody>\n",
       "</table>\n",
       "</div>"
      ],
      "text/plain": [
       "Empty DataFrame\n",
       "Columns: [IsNull]\n",
       "Index: []"
      ]
     },
     "execution_count": 13,
     "metadata": {},
     "output_type": "execute_result"
    }
   ],
   "source": [
    "train_nullcheck_df[train_nullcheck_df.IsNull==True]"
   ]
  },
  {
   "cell_type": "markdown",
   "metadata": {
    "papermill": {
     "duration": 0.112679,
     "end_time": "2020-12-05T02:28:24.586178",
     "exception": false,
     "start_time": "2020-12-05T02:28:24.473499",
     "status": "completed"
    },
    "tags": []
   },
   "source": [
    "**There are no null values in the train data**"
   ]
  },
  {
   "cell_type": "code",
   "execution_count": 14,
   "metadata": {
    "execution": {
     "iopub.execute_input": "2020-12-05T02:28:24.819200Z",
     "iopub.status.busy": "2020-12-05T02:28:24.818389Z",
     "iopub.status.idle": "2020-12-05T02:28:24.877850Z",
     "shell.execute_reply": "2020-12-05T02:28:24.877080Z"
    },
    "papermill": {
     "duration": 0.179683,
     "end_time": "2020-12-05T02:28:24.877992",
     "exception": false,
     "start_time": "2020-12-05T02:28:24.698309",
     "status": "completed"
    },
    "tags": []
   },
   "outputs": [],
   "source": [
    "train_merc_ucnt=pd.DataFrame(merc_train.nunique(),columns=['uniqueCount'])"
   ]
  },
  {
   "cell_type": "code",
   "execution_count": 15,
   "metadata": {
    "execution": {
     "iopub.execute_input": "2020-12-05T02:28:25.132156Z",
     "iopub.status.busy": "2020-12-05T02:28:25.130999Z",
     "iopub.status.idle": "2020-12-05T02:28:25.135626Z",
     "shell.execute_reply": "2020-12-05T02:28:25.134817Z"
    },
    "papermill": {
     "duration": 0.131819,
     "end_time": "2020-12-05T02:28:25.135755",
     "exception": false,
     "start_time": "2020-12-05T02:28:25.003936",
     "status": "completed"
    },
    "tags": []
   },
   "outputs": [
    {
     "data": {
      "text/html": [
       "<div>\n",
       "<style scoped>\n",
       "    .dataframe tbody tr th:only-of-type {\n",
       "        vertical-align: middle;\n",
       "    }\n",
       "\n",
       "    .dataframe tbody tr th {\n",
       "        vertical-align: top;\n",
       "    }\n",
       "\n",
       "    .dataframe thead th {\n",
       "        text-align: right;\n",
       "    }\n",
       "</style>\n",
       "<table border=\"1\" class=\"dataframe\">\n",
       "  <thead>\n",
       "    <tr style=\"text-align: right;\">\n",
       "      <th></th>\n",
       "      <th>uniqueCount</th>\n",
       "    </tr>\n",
       "  </thead>\n",
       "  <tbody>\n",
       "    <tr>\n",
       "      <th>ID</th>\n",
       "      <td>4209</td>\n",
       "    </tr>\n",
       "    <tr>\n",
       "      <th>y</th>\n",
       "      <td>2545</td>\n",
       "    </tr>\n",
       "    <tr>\n",
       "      <th>X0</th>\n",
       "      <td>47</td>\n",
       "    </tr>\n",
       "    <tr>\n",
       "      <th>X1</th>\n",
       "      <td>27</td>\n",
       "    </tr>\n",
       "    <tr>\n",
       "      <th>X2</th>\n",
       "      <td>44</td>\n",
       "    </tr>\n",
       "    <tr>\n",
       "      <th>X3</th>\n",
       "      <td>7</td>\n",
       "    </tr>\n",
       "    <tr>\n",
       "      <th>X4</th>\n",
       "      <td>4</td>\n",
       "    </tr>\n",
       "    <tr>\n",
       "      <th>X5</th>\n",
       "      <td>29</td>\n",
       "    </tr>\n",
       "    <tr>\n",
       "      <th>X6</th>\n",
       "      <td>12</td>\n",
       "    </tr>\n",
       "    <tr>\n",
       "      <th>X8</th>\n",
       "      <td>25</td>\n",
       "    </tr>\n",
       "  </tbody>\n",
       "</table>\n",
       "</div>"
      ],
      "text/plain": [
       "    uniqueCount\n",
       "ID         4209\n",
       "y          2545\n",
       "X0           47\n",
       "X1           27\n",
       "X2           44\n",
       "X3            7\n",
       "X4            4\n",
       "X5           29\n",
       "X6           12\n",
       "X8           25"
      ]
     },
     "execution_count": 15,
     "metadata": {},
     "output_type": "execute_result"
    }
   ],
   "source": [
    "train_merc_ucnt[train_merc_ucnt.uniqueCount>2]"
   ]
  },
  {
   "cell_type": "code",
   "execution_count": 16,
   "metadata": {
    "execution": {
     "iopub.execute_input": "2020-12-05T02:28:25.385294Z",
     "iopub.status.busy": "2020-12-05T02:28:25.383917Z",
     "iopub.status.idle": "2020-12-05T02:28:25.388900Z",
     "shell.execute_reply": "2020-12-05T02:28:25.388161Z"
    },
    "papermill": {
     "duration": 0.134752,
     "end_time": "2020-12-05T02:28:25.389040",
     "exception": false,
     "start_time": "2020-12-05T02:28:25.254288",
     "status": "completed"
    },
    "tags": []
   },
   "outputs": [
    {
     "data": {
      "text/html": [
       "<div>\n",
       "<style scoped>\n",
       "    .dataframe tbody tr th:only-of-type {\n",
       "        vertical-align: middle;\n",
       "    }\n",
       "\n",
       "    .dataframe tbody tr th {\n",
       "        vertical-align: top;\n",
       "    }\n",
       "\n",
       "    .dataframe thead th {\n",
       "        text-align: right;\n",
       "    }\n",
       "</style>\n",
       "<table border=\"1\" class=\"dataframe\">\n",
       "  <thead>\n",
       "    <tr style=\"text-align: right;\">\n",
       "      <th></th>\n",
       "      <th>uniqueCount</th>\n",
       "    </tr>\n",
       "  </thead>\n",
       "  <tbody>\n",
       "    <tr>\n",
       "      <th>X10</th>\n",
       "      <td>2</td>\n",
       "    </tr>\n",
       "    <tr>\n",
       "      <th>X12</th>\n",
       "      <td>2</td>\n",
       "    </tr>\n",
       "    <tr>\n",
       "      <th>X13</th>\n",
       "      <td>2</td>\n",
       "    </tr>\n",
       "    <tr>\n",
       "      <th>X14</th>\n",
       "      <td>2</td>\n",
       "    </tr>\n",
       "    <tr>\n",
       "      <th>X15</th>\n",
       "      <td>2</td>\n",
       "    </tr>\n",
       "    <tr>\n",
       "      <th>...</th>\n",
       "      <td>...</td>\n",
       "    </tr>\n",
       "    <tr>\n",
       "      <th>X380</th>\n",
       "      <td>2</td>\n",
       "    </tr>\n",
       "    <tr>\n",
       "      <th>X382</th>\n",
       "      <td>2</td>\n",
       "    </tr>\n",
       "    <tr>\n",
       "      <th>X383</th>\n",
       "      <td>2</td>\n",
       "    </tr>\n",
       "    <tr>\n",
       "      <th>X384</th>\n",
       "      <td>2</td>\n",
       "    </tr>\n",
       "    <tr>\n",
       "      <th>X385</th>\n",
       "      <td>2</td>\n",
       "    </tr>\n",
       "  </tbody>\n",
       "</table>\n",
       "<p>356 rows × 1 columns</p>\n",
       "</div>"
      ],
      "text/plain": [
       "      uniqueCount\n",
       "X10             2\n",
       "X12             2\n",
       "X13             2\n",
       "X14             2\n",
       "X15             2\n",
       "...           ...\n",
       "X380            2\n",
       "X382            2\n",
       "X383            2\n",
       "X384            2\n",
       "X385            2\n",
       "\n",
       "[356 rows x 1 columns]"
      ]
     },
     "execution_count": 16,
     "metadata": {},
     "output_type": "execute_result"
    }
   ],
   "source": [
    "train_merc_ucnt[train_merc_ucnt.uniqueCount<=2]"
   ]
  },
  {
   "cell_type": "markdown",
   "metadata": {
    "papermill": {
     "duration": 0.119059,
     "end_time": "2020-12-05T02:28:25.624209",
     "exception": false,
     "start_time": "2020-12-05T02:28:25.505150",
     "status": "completed"
    },
    "tags": []
   },
   "source": [
    "**All the above columns X0 to X8 are categorical data, so we need to transform them into numerical. Before that Lets look at categorical data and plot them to observe the impact on outcome**"
   ]
  },
  {
   "cell_type": "markdown",
   "metadata": {
    "papermill": {
     "duration": 0.121596,
     "end_time": "2020-12-05T02:28:25.867312",
     "exception": false,
     "start_time": "2020-12-05T02:28:25.745716",
     "status": "completed"
    },
    "tags": []
   },
   "source": [
    "## Analyzing feature X0 ##"
   ]
  },
  {
   "cell_type": "code",
   "execution_count": 17,
   "metadata": {
    "execution": {
     "iopub.execute_input": "2020-12-05T02:28:26.116606Z",
     "iopub.status.busy": "2020-12-05T02:28:26.115154Z",
     "iopub.status.idle": "2020-12-05T02:28:26.119958Z",
     "shell.execute_reply": "2020-12-05T02:28:26.120554Z"
    },
    "papermill": {
     "duration": 0.137456,
     "end_time": "2020-12-05T02:28:26.120716",
     "exception": false,
     "start_time": "2020-12-05T02:28:25.983260",
     "status": "completed"
    },
    "tags": []
   },
   "outputs": [
    {
     "data": {
      "text/plain": [
       "z     360\n",
       "ak    349\n",
       "y     324\n",
       "ay    313\n",
       "t     306\n",
       "x     300\n",
       "o     269\n",
       "f     227\n",
       "n     195\n",
       "w     182\n",
       "j     181\n",
       "az    175\n",
       "aj    151\n",
       "s     106\n",
       "ap    103\n",
       "h      75\n",
       "d      73\n",
       "al     67\n",
       "v      36\n",
       "af     35\n",
       "ai     34\n",
       "m      34\n",
       "e      32\n",
       "ba     27\n",
       "at     25\n",
       "a      21\n",
       "ax     19\n",
       "am     18\n",
       "i      18\n",
       "aq     18\n",
       "u      17\n",
       "l      16\n",
       "aw     16\n",
       "ad     14\n",
       "au     11\n",
       "b      11\n",
       "k      11\n",
       "r      10\n",
       "as     10\n",
       "bc      6\n",
       "ao      4\n",
       "c       3\n",
       "aa      2\n",
       "q       2\n",
       "ac      1\n",
       "ab      1\n",
       "g       1\n",
       "Name: X0, dtype: int64"
      ]
     },
     "execution_count": 17,
     "metadata": {},
     "output_type": "execute_result"
    }
   ],
   "source": [
    "merc_train.X0.value_counts()"
   ]
  },
  {
   "cell_type": "code",
   "execution_count": 18,
   "metadata": {
    "execution": {
     "iopub.execute_input": "2020-12-05T02:28:26.368124Z",
     "iopub.status.busy": "2020-12-05T02:28:26.367331Z",
     "iopub.status.idle": "2020-12-05T02:28:28.874168Z",
     "shell.execute_reply": "2020-12-05T02:28:28.873371Z"
    },
    "papermill": {
     "duration": 2.633206,
     "end_time": "2020-12-05T02:28:28.874312",
     "exception": false,
     "start_time": "2020-12-05T02:28:26.241106",
     "status": "completed"
    },
    "tags": []
   },
   "outputs": [
    {
     "data": {
      "text/plain": [
       "<matplotlib.axes._subplots.AxesSubplot at 0x1f18098c348>"
      ]
     },
     "execution_count": 18,
     "metadata": {},
     "output_type": "execute_result"
    },
    {
     "data": {
      "image/png": "[encoded data removed]",
      "text/plain": [
       "<Figure size 1008x432 with 1 Axes>"
      ]
     },
     "metadata": {
      "needs_background": "light"
     },
     "output_type": "display_data"
    }
   ],
   "source": [
    "plt.figure(figsize=(14,6))\n",
    "sns.boxplot(x=merc_train.X0,y=merc_train.y)"
   ]
  },
  {
   "cell_type": "code",
   "execution_count": 19,
   "metadata": {
    "execution": {
     "iopub.execute_input": "2020-12-05T02:28:29.133556Z",
     "iopub.status.busy": "2020-12-05T02:28:29.132469Z",
     "iopub.status.idle": "2020-12-05T02:28:29.280273Z",
     "shell.execute_reply": "2020-12-05T02:28:29.279393Z"
    },
    "papermill": {
     "duration": 0.279875,
     "end_time": "2020-12-05T02:28:29.280454",
     "exception": false,
     "start_time": "2020-12-05T02:28:29.000579",
     "status": "completed"
    },
    "tags": []
   },
   "outputs": [
    {
     "data": {
      "text/plain": [
       "<matplotlib.axes._subplots.AxesSubplot at 0x1f1827d4d48>"
      ]
     },
     "execution_count": 19,
     "metadata": {},
     "output_type": "execute_result"
    },
    {
     "data": {
      "image/png": "[encoded data removed]",
      "text/plain": [
       "<Figure size 432x288 with 1 Axes>"
      ]
     },
     "metadata": {
      "needs_background": "light"
     },
     "output_type": "display_data"
    }
   ],
   "source": [
    "sns.boxplot(x=merc_train.X0[merc_train.X0=='y'],y=merc_train.y)"
   ]
  },
  {
   "cell_type": "code",
   "execution_count": 20,
   "metadata": {
    "execution": {
     "iopub.execute_input": "2020-12-05T02:28:29.537223Z",
     "iopub.status.busy": "2020-12-05T02:28:29.535974Z",
     "iopub.status.idle": "2020-12-05T02:28:29.540615Z",
     "shell.execute_reply": "2020-12-05T02:28:29.539833Z"
    },
    "papermill": {
     "duration": 0.135344,
     "end_time": "2020-12-05T02:28:29.540742",
     "exception": false,
     "start_time": "2020-12-05T02:28:29.405398",
     "status": "completed"
    },
    "tags": []
   },
   "outputs": [
    {
     "data": {
      "text/plain": [
       "array([883], dtype=int64)"
      ]
     },
     "execution_count": 20,
     "metadata": {},
     "output_type": "execute_result"
    }
   ],
   "source": [
    "((merc_train[merc_train.X0=='y']['y']).sort_values(ascending=False))[:1].index.values"
   ]
  },
  {
   "cell_type": "markdown",
   "metadata": {
    "papermill": {
     "duration": 0.127383,
     "end_time": "2020-12-05T02:28:29.794250",
     "exception": false,
     "start_time": "2020-12-05T02:28:29.666867",
     "status": "completed"
    },
    "tags": []
   },
   "source": [
    "**Dropping the extreme outlier observation**"
   ]
  },
  {
   "cell_type": "code",
   "execution_count": 21,
   "metadata": {
    "execution": {
     "iopub.execute_input": "2020-12-05T02:28:30.063079Z",
     "iopub.status.busy": "2020-12-05T02:28:30.062154Z",
     "iopub.status.idle": "2020-12-05T02:28:30.066729Z",
     "shell.execute_reply": "2020-12-05T02:28:30.066105Z"
    },
    "papermill": {
     "duration": 0.141324,
     "end_time": "2020-12-05T02:28:30.066862",
     "exception": false,
     "start_time": "2020-12-05T02:28:29.925538",
     "status": "completed"
    },
    "tags": []
   },
   "outputs": [
    {
     "data": {
      "text/plain": [
       "(4209, 366)"
      ]
     },
     "execution_count": 21,
     "metadata": {},
     "output_type": "execute_result"
    }
   ],
   "source": [
    "merc_train.shape"
   ]
  },
  {
   "cell_type": "code",
   "execution_count": 22,
   "metadata": {
    "execution": {
     "iopub.execute_input": "2020-12-05T02:28:30.338398Z",
     "iopub.status.busy": "2020-12-05T02:28:30.337554Z",
     "iopub.status.idle": "2020-12-05T02:28:30.352895Z",
     "shell.execute_reply": "2020-12-05T02:28:30.352061Z"
    },
    "papermill": {
     "duration": 0.158567,
     "end_time": "2020-12-05T02:28:30.353050",
     "exception": false,
     "start_time": "2020-12-05T02:28:30.194483",
     "status": "completed"
    },
    "tags": []
   },
   "outputs": [],
   "source": [
    "merc_train.drop(labels=((merc_train[merc_train.X0=='y']['y']).sort_values(ascending=False))[:1].index.values,inplace=True)"
   ]
  },
  {
   "cell_type": "code",
   "execution_count": 23,
   "metadata": {
    "execution": {
     "iopub.execute_input": "2020-12-05T02:28:30.614447Z",
     "iopub.status.busy": "2020-12-05T02:28:30.613506Z",
     "iopub.status.idle": "2020-12-05T02:28:30.618658Z",
     "shell.execute_reply": "2020-12-05T02:28:30.619416Z"
    },
    "papermill": {
     "duration": 0.141838,
     "end_time": "2020-12-05T02:28:30.619580",
     "exception": false,
     "start_time": "2020-12-05T02:28:30.477742",
     "status": "completed"
    },
    "tags": []
   },
   "outputs": [
    {
     "data": {
      "text/plain": [
       "(4208, 366)"
      ]
     },
     "execution_count": 23,
     "metadata": {},
     "output_type": "execute_result"
    }
   ],
   "source": [
    "merc_train.shape"
   ]
  },
  {
   "cell_type": "code",
   "execution_count": 24,
   "metadata": {
    "execution": {
     "iopub.execute_input": "2020-12-05T02:28:30.897227Z",
     "iopub.status.busy": "2020-12-05T02:28:30.895624Z",
     "iopub.status.idle": "2020-12-05T02:28:31.989403Z",
     "shell.execute_reply": "2020-12-05T02:28:31.988388Z"
    },
    "papermill": {
     "duration": 1.231699,
     "end_time": "2020-12-05T02:28:31.989556",
     "exception": false,
     "start_time": "2020-12-05T02:28:30.757857",
     "status": "completed"
    },
    "tags": []
   },
   "outputs": [
    {
     "data": {
      "text/plain": [
       "<matplotlib.axes._subplots.AxesSubplot at 0x1f1809839c8>"
      ]
     },
     "execution_count": 24,
     "metadata": {},
     "output_type": "execute_result"
    },
    {
     "data": {
      "image/png": "[encoded data removed]",
      "text/plain": [
       "<Figure size 1008x432 with 1 Axes>"
      ]
     },
     "metadata": {
      "needs_background": "light"
     },
     "output_type": "display_data"
    }
   ],
   "source": [
    "plt.figure(figsize=(14,6))\n",
    "sns.boxplot(x=merc_train.X0,y=merc_train.y)"
   ]
  },
  {
   "cell_type": "code",
   "execution_count": 25,
   "metadata": {
    "execution": {
     "iopub.execute_input": "2020-12-05T02:28:32.260250Z",
     "iopub.status.busy": "2020-12-05T02:28:32.259325Z",
     "iopub.status.idle": "2020-12-05T02:28:32.263860Z",
     "shell.execute_reply": "2020-12-05T02:28:32.263296Z"
    },
    "papermill": {
     "duration": 0.144592,
     "end_time": "2020-12-05T02:28:32.264011",
     "exception": false,
     "start_time": "2020-12-05T02:28:32.119419",
     "status": "completed"
    },
    "tags": []
   },
   "outputs": [
    {
     "data": {
      "text/plain": [
       "z     360\n",
       "ak    349\n",
       "y     323\n",
       "ay    313\n",
       "t     306\n",
       "x     300\n",
       "o     269\n",
       "f     227\n",
       "n     195\n",
       "w     182\n",
       "j     181\n",
       "az    175\n",
       "aj    151\n",
       "s     106\n",
       "ap    103\n",
       "h      75\n",
       "d      73\n",
       "al     67\n",
       "v      36\n",
       "af     35\n",
       "ai     34\n",
       "m      34\n",
       "e      32\n",
       "ba     27\n",
       "at     25\n",
       "a      21\n",
       "ax     19\n",
       "am     18\n",
       "i      18\n",
       "aq     18\n",
       "u      17\n",
       "l      16\n",
       "aw     16\n",
       "ad     14\n",
       "au     11\n",
       "b      11\n",
       "k      11\n",
       "r      10\n",
       "as     10\n",
       "bc      6\n",
       "ao      4\n",
       "c       3\n",
       "aa      2\n",
       "q       2\n",
       "ac      1\n",
       "ab      1\n",
       "g       1\n",
       "Name: X0, dtype: int64"
      ]
     },
     "execution_count": 25,
     "metadata": {},
     "output_type": "execute_result"
    }
   ],
   "source": [
    "merc_train.X0.value_counts()"
   ]
  },
  {
   "cell_type": "code",
   "execution_count": 26,
   "metadata": {
    "execution": {
     "iopub.execute_input": "2020-12-05T02:28:32.526553Z",
     "iopub.status.busy": "2020-12-05T02:28:32.525303Z",
     "iopub.status.idle": "2020-12-05T02:28:32.529028Z",
     "shell.execute_reply": "2020-12-05T02:28:32.529650Z"
    },
    "papermill": {
     "duration": 0.137184,
     "end_time": "2020-12-05T02:28:32.529854",
     "exception": false,
     "start_time": "2020-12-05T02:28:32.392670",
     "status": "completed"
    },
    "tags": []
   },
   "outputs": [],
   "source": [
    "def transform_X0(df):\n",
    "    x0_grp=df.groupby('X0').aggregate(func='count')['ID'].reset_index()\n",
    "    df['X0'].replace(to_replace=x0_grp[x0_grp['ID']<100]['X0'].values\n",
    "                            ,value='OT'\n",
    "                            ,inplace=True)"
   ]
  },
  {
   "cell_type": "code",
   "execution_count": 27,
   "metadata": {
    "execution": {
     "iopub.execute_input": "2020-12-05T02:28:32.806242Z",
     "iopub.status.busy": "2020-12-05T02:28:32.805355Z",
     "iopub.status.idle": "2020-12-05T02:28:32.834737Z",
     "shell.execute_reply": "2020-12-05T02:28:32.834074Z"
    },
    "papermill": {
     "duration": 0.180105,
     "end_time": "2020-12-05T02:28:32.834899",
     "exception": false,
     "start_time": "2020-12-05T02:28:32.654794",
     "status": "completed"
    },
    "tags": []
   },
   "outputs": [],
   "source": [
    "transform_X0(merc_train)"
   ]
  },
  {
   "cell_type": "code",
   "execution_count": 28,
   "metadata": {
    "execution": {
     "iopub.execute_input": "2020-12-05T02:28:33.113706Z",
     "iopub.status.busy": "2020-12-05T02:28:33.112554Z",
     "iopub.status.idle": "2020-12-05T02:28:33.117767Z",
     "shell.execute_reply": "2020-12-05T02:28:33.117010Z"
    },
    "papermill": {
     "duration": 0.155229,
     "end_time": "2020-12-05T02:28:33.117898",
     "exception": false,
     "start_time": "2020-12-05T02:28:32.962669",
     "status": "completed"
    },
    "tags": []
   },
   "outputs": [
    {
     "data": {
      "text/plain": [
       "OT    668\n",
       "z     360\n",
       "ak    349\n",
       "y     323\n",
       "ay    313\n",
       "t     306\n",
       "x     300\n",
       "o     269\n",
       "f     227\n",
       "n     195\n",
       "w     182\n",
       "j     181\n",
       "az    175\n",
       "aj    151\n",
       "s     106\n",
       "ap    103\n",
       "Name: X0, dtype: int64"
      ]
     },
     "execution_count": 28,
     "metadata": {},
     "output_type": "execute_result"
    }
   ],
   "source": [
    "merc_train.X0.value_counts()"
   ]
  },
  {
   "cell_type": "code",
   "execution_count": 29,
   "metadata": {
    "execution": {
     "iopub.execute_input": "2020-12-05T02:28:33.386380Z",
     "iopub.status.busy": "2020-12-05T02:28:33.383821Z",
     "iopub.status.idle": "2020-12-05T02:28:34.265316Z",
     "shell.execute_reply": "2020-12-05T02:28:34.264088Z"
    },
    "papermill": {
     "duration": 1.016966,
     "end_time": "2020-12-05T02:28:34.265504",
     "exception": false,
     "start_time": "2020-12-05T02:28:33.248538",
     "status": "completed"
    },
    "tags": []
   },
   "outputs": [
    {
     "data": {
      "text/plain": [
       "<matplotlib.axes._subplots.AxesSubplot at 0x1f180fc0288>"
      ]
     },
     "execution_count": 29,
     "metadata": {},
     "output_type": "execute_result"
    },
    {
     "data": {
      "image/png": "[encoded data removed]",
      "text/plain": [
       "<Figure size 432x288 with 1 Axes>"
      ]
     },
     "metadata": {
      "needs_background": "light"
     },
     "output_type": "display_data"
    }
   ],
   "source": [
    "sns.barplot(x=merc_train.X0,y=merc_train.y)"
   ]
  },
  {
   "cell_type": "markdown",
   "metadata": {
    "papermill": {
     "duration": 0.127352,
     "end_time": "2020-12-05T02:28:34.524361",
     "exception": false,
     "start_time": "2020-12-05T02:28:34.397009",
     "status": "completed"
    },
    "tags": []
   },
   "source": [
    "## Analyzing feature X1##"
   ]
  },
  {
   "cell_type": "code",
   "execution_count": 30,
   "metadata": {
    "execution": {
     "iopub.execute_input": "2020-12-05T02:28:34.790965Z",
     "iopub.status.busy": "2020-12-05T02:28:34.789788Z",
     "iopub.status.idle": "2020-12-05T02:28:34.794463Z",
     "shell.execute_reply": "2020-12-05T02:28:34.793657Z"
    },
    "papermill": {
     "duration": 0.143388,
     "end_time": "2020-12-05T02:28:34.794617",
     "exception": false,
     "start_time": "2020-12-05T02:28:34.651229",
     "status": "completed"
    },
    "tags": []
   },
   "outputs": [
    {
     "data": {
      "text/plain": [
       "aa    833\n",
       "s     598\n",
       "b     592\n",
       "l     590\n",
       "v     408\n",
       "r     250\n",
       "i     203\n",
       "a     143\n",
       "c     121\n",
       "o      82\n",
       "w      52\n",
       "z      46\n",
       "u      37\n",
       "e      33\n",
       "m      32\n",
       "t      31\n",
       "h      29\n",
       "f      23\n",
       "y      23\n",
       "j      22\n",
       "n      19\n",
       "k      17\n",
       "p       9\n",
       "g       6\n",
       "ab      3\n",
       "q       3\n",
       "d       3\n",
       "Name: X1, dtype: int64"
      ]
     },
     "execution_count": 30,
     "metadata": {},
     "output_type": "execute_result"
    }
   ],
   "source": [
    "merc_train.X1.value_counts()"
   ]
  },
  {
   "cell_type": "code",
   "execution_count": 31,
   "metadata": {
    "execution": {
     "iopub.execute_input": "2020-12-05T02:28:35.072622Z",
     "iopub.status.busy": "2020-12-05T02:28:35.070197Z",
     "iopub.status.idle": "2020-12-05T02:28:35.736189Z",
     "shell.execute_reply": "2020-12-05T02:28:35.735381Z"
    },
    "papermill": {
     "duration": 0.811272,
     "end_time": "2020-12-05T02:28:35.736324",
     "exception": false,
     "start_time": "2020-12-05T02:28:34.925052",
     "status": "completed"
    },
    "tags": []
   },
   "outputs": [
    {
     "data": {
      "text/plain": [
       "<matplotlib.axes._subplots.AxesSubplot at 0x1f180e91dc8>"
      ]
     },
     "execution_count": 31,
     "metadata": {},
     "output_type": "execute_result"
    },
    {
     "data": {
      "image/png": "[encoded data removed]",
      "text/plain": [
       "<Figure size 1008x432 with 1 Axes>"
      ]
     },
     "metadata": {
      "needs_background": "light"
     },
     "output_type": "display_data"
    }
   ],
   "source": [
    "plt.figure(figsize=(14,6))\n",
    "sns.boxplot(x=merc_train.X1,y=merc_train.y)"
   ]
  },
  {
   "cell_type": "code",
   "execution_count": 32,
   "metadata": {
    "execution": {
     "iopub.execute_input": "2020-12-05T02:28:36.014441Z",
     "iopub.status.busy": "2020-12-05T02:28:36.013597Z",
     "iopub.status.idle": "2020-12-05T02:28:36.017931Z",
     "shell.execute_reply": "2020-12-05T02:28:36.017142Z"
    },
    "papermill": {
     "duration": 0.151592,
     "end_time": "2020-12-05T02:28:36.018089",
     "exception": false,
     "start_time": "2020-12-05T02:28:35.866497",
     "status": "completed"
    },
    "tags": []
   },
   "outputs": [],
   "source": [
    "def transform_X1(df):\n",
    "    x1_grp=df.groupby('X1').aggregate(func='count')['ID'].reset_index()\n",
    "    df['X1'].replace(to_replace=x1_grp[x1_grp['ID']<100]['X1'].values\n",
    "                            ,value='OT'\n",
    "                            ,inplace=True)"
   ]
  },
  {
   "cell_type": "code",
   "execution_count": 33,
   "metadata": {
    "execution": {
     "iopub.execute_input": "2020-12-05T02:28:36.299130Z",
     "iopub.status.busy": "2020-12-05T02:28:36.298047Z",
     "iopub.status.idle": "2020-12-05T02:28:36.323681Z",
     "shell.execute_reply": "2020-12-05T02:28:36.322992Z"
    },
    "papermill": {
     "duration": 0.171205,
     "end_time": "2020-12-05T02:28:36.323839",
     "exception": false,
     "start_time": "2020-12-05T02:28:36.152634",
     "status": "completed"
    },
    "tags": []
   },
   "outputs": [],
   "source": [
    "transform_X1(merc_train)"
   ]
  },
  {
   "cell_type": "code",
   "execution_count": 34,
   "metadata": {
    "execution": {
     "iopub.execute_input": "2020-12-05T02:28:36.604304Z",
     "iopub.status.busy": "2020-12-05T02:28:36.603459Z",
     "iopub.status.idle": "2020-12-05T02:28:36.609852Z",
     "shell.execute_reply": "2020-12-05T02:28:36.609216Z"
    },
    "papermill": {
     "duration": 0.151972,
     "end_time": "2020-12-05T02:28:36.610006",
     "exception": false,
     "start_time": "2020-12-05T02:28:36.458034",
     "status": "completed"
    },
    "tags": []
   },
   "outputs": [
    {
     "data": {
      "text/plain": [
       "aa    833\n",
       "s     598\n",
       "b     592\n",
       "l     590\n",
       "OT    470\n",
       "v     408\n",
       "r     250\n",
       "i     203\n",
       "a     143\n",
       "c     121\n",
       "Name: X1, dtype: int64"
      ]
     },
     "execution_count": 34,
     "metadata": {},
     "output_type": "execute_result"
    }
   ],
   "source": [
    "merc_train.X1.value_counts()"
   ]
  },
  {
   "cell_type": "code",
   "execution_count": 35,
   "metadata": {
    "execution": {
     "iopub.execute_input": "2020-12-05T02:28:37.013044Z",
     "iopub.status.busy": "2020-12-05T02:28:37.012162Z",
     "iopub.status.idle": "2020-12-05T02:28:37.326928Z",
     "shell.execute_reply": "2020-12-05T02:28:37.326100Z"
    },
    "papermill": {
     "duration": 0.574753,
     "end_time": "2020-12-05T02:28:37.327082",
     "exception": false,
     "start_time": "2020-12-05T02:28:36.752329",
     "status": "completed"
    },
    "tags": []
   },
   "outputs": [
    {
     "data": {
      "text/plain": [
       "<matplotlib.axes._subplots.AxesSubplot at 0x1f180fb4748>"
      ]
     },
     "execution_count": 35,
     "metadata": {},
     "output_type": "execute_result"
    },
    {
     "data": {
      "image/png": "[encoded data removed]",
      "text/plain": [
       "<Figure size 1008x432 with 1 Axes>"
      ]
     },
     "metadata": {
      "needs_background": "light"
     },
     "output_type": "display_data"
    }
   ],
   "source": [
    "plt.figure(figsize=(14,6))\n",
    "sns.boxplot(x=merc_train.X1,y=merc_train.y)"
   ]
  },
  {
   "cell_type": "code",
   "execution_count": 36,
   "metadata": {
    "execution": {
     "iopub.execute_input": "2020-12-05T02:28:37.605964Z",
     "iopub.status.busy": "2020-12-05T02:28:37.604791Z",
     "iopub.status.idle": "2020-12-05T02:28:38.192818Z",
     "shell.execute_reply": "2020-12-05T02:28:38.192169Z"
    },
    "papermill": {
     "duration": 0.729373,
     "end_time": "2020-12-05T02:28:38.193021",
     "exception": false,
     "start_time": "2020-12-05T02:28:37.463648",
     "status": "completed"
    },
    "tags": []
   },
   "outputs": [
    {
     "data": {
      "text/plain": [
       "<matplotlib.axes._subplots.AxesSubplot at 0x1f181428308>"
      ]
     },
     "execution_count": 36,
     "metadata": {},
     "output_type": "execute_result"
    },
    {
     "data": {
      "image/png": "[encoded data removed]",
      "text/plain": [
       "<Figure size 432x288 with 1 Axes>"
      ]
     },
     "metadata": {
      "needs_background": "light"
     },
     "output_type": "display_data"
    }
   ],
   "source": [
    "sns.barplot(x=merc_train.X1,y=merc_train.y)"
   ]
  },
  {
   "cell_type": "markdown",
   "metadata": {
    "papermill": {
     "duration": 0.131147,
     "end_time": "2020-12-05T02:28:38.459716",
     "exception": false,
     "start_time": "2020-12-05T02:28:38.328569",
     "status": "completed"
    },
    "tags": []
   },
   "source": [
    "## Analyzing feature X3 ##"
   ]
  },
  {
   "cell_type": "code",
   "execution_count": 37,
   "metadata": {
    "execution": {
     "iopub.execute_input": "2020-12-05T02:28:38.748482Z",
     "iopub.status.busy": "2020-12-05T02:28:38.747341Z",
     "iopub.status.idle": "2020-12-05T02:28:38.751840Z",
     "shell.execute_reply": "2020-12-05T02:28:38.751119Z"
    },
    "papermill": {
     "duration": 0.152319,
     "end_time": "2020-12-05T02:28:38.751981",
     "exception": false,
     "start_time": "2020-12-05T02:28:38.599662",
     "status": "completed"
    },
    "tags": []
   },
   "outputs": [
    {
     "data": {
      "text/plain": [
       "c    1942\n",
       "f    1075\n",
       "a     440\n",
       "d     290\n",
       "g     241\n",
       "e     163\n",
       "b      57\n",
       "Name: X3, dtype: int64"
      ]
     },
     "execution_count": 37,
     "metadata": {},
     "output_type": "execute_result"
    }
   ],
   "source": [
    "merc_train.X3.value_counts()"
   ]
  },
  {
   "cell_type": "code",
   "execution_count": 38,
   "metadata": {
    "execution": {
     "iopub.execute_input": "2020-12-05T02:28:39.031698Z",
     "iopub.status.busy": "2020-12-05T02:28:39.030886Z",
     "iopub.status.idle": "2020-12-05T02:28:39.288720Z",
     "shell.execute_reply": "2020-12-05T02:28:39.287833Z"
    },
    "papermill": {
     "duration": 0.404177,
     "end_time": "2020-12-05T02:28:39.288861",
     "exception": false,
     "start_time": "2020-12-05T02:28:38.884684",
     "status": "completed"
    },
    "tags": []
   },
   "outputs": [
    {
     "data": {
      "text/plain": [
       "<matplotlib.axes._subplots.AxesSubplot at 0x1f1814ccb88>"
      ]
     },
     "execution_count": 38,
     "metadata": {},
     "output_type": "execute_result"
    },
    {
     "data": {
      "image/png": "[encoded data removed]",
      "text/plain": [
       "<Figure size 1008x432 with 1 Axes>"
      ]
     },
     "metadata": {
      "needs_background": "light"
     },
     "output_type": "display_data"
    }
   ],
   "source": [
    "plt.figure(figsize=(14,6))\n",
    "sns.boxplot(x=merc_train.X3,y=merc_train.y)"
   ]
  },
  {
   "cell_type": "code",
   "execution_count": 39,
   "metadata": {
    "execution": {
     "iopub.execute_input": "2020-12-05T02:28:39.584514Z",
     "iopub.status.busy": "2020-12-05T02:28:39.581213Z",
     "iopub.status.idle": "2020-12-05T02:28:40.044126Z",
     "shell.execute_reply": "2020-12-05T02:28:40.043236Z"
    },
    "papermill": {
     "duration": 0.610571,
     "end_time": "2020-12-05T02:28:40.044350",
     "exception": false,
     "start_time": "2020-12-05T02:28:39.433779",
     "status": "completed"
    },
    "tags": []
   },
   "outputs": [
    {
     "data": {
      "text/plain": [
       "<matplotlib.axes._subplots.AxesSubplot at 0x1f183542088>"
      ]
     },
     "execution_count": 39,
     "metadata": {},
     "output_type": "execute_result"
    },
    {
     "data": {
      "image/png": "[encoded data removed]",
      "text/plain": [
       "<Figure size 432x288 with 1 Axes>"
      ]
     },
     "metadata": {
      "needs_background": "light"
     },
     "output_type": "display_data"
    }
   ],
   "source": [
    "sns.barplot(x=merc_train.X3,y=merc_train.y)"
   ]
  },
  {
   "cell_type": "markdown",
   "metadata": {
    "papermill": {
     "duration": 0.13598,
     "end_time": "2020-12-05T02:28:40.320698",
     "exception": false,
     "start_time": "2020-12-05T02:28:40.184718",
     "status": "completed"
    },
    "tags": []
   },
   "source": [
    "**There are not too many labels, so leaving the data as is**"
   ]
  },
  {
   "cell_type": "markdown",
   "metadata": {
    "papermill": {
     "duration": 0.136623,
     "end_time": "2020-12-05T02:28:40.594429",
     "exception": false,
     "start_time": "2020-12-05T02:28:40.457806",
     "status": "completed"
    },
    "tags": []
   },
   "source": [
    "## Analyzing feature X4 ##"
   ]
  },
  {
   "cell_type": "code",
   "execution_count": 40,
   "metadata": {
    "execution": {
     "iopub.execute_input": "2020-12-05T02:28:40.877295Z",
     "iopub.status.busy": "2020-12-05T02:28:40.876174Z",
     "iopub.status.idle": "2020-12-05T02:28:40.880908Z",
     "shell.execute_reply": "2020-12-05T02:28:40.881526Z"
    },
    "papermill": {
     "duration": 0.149477,
     "end_time": "2020-12-05T02:28:40.881709",
     "exception": false,
     "start_time": "2020-12-05T02:28:40.732232",
     "status": "completed"
    },
    "tags": []
   },
   "outputs": [
    {
     "data": {
      "text/plain": [
       "d    4204\n",
       "a       2\n",
       "c       1\n",
       "b       1\n",
       "Name: X4, dtype: int64"
      ]
     },
     "execution_count": 40,
     "metadata": {},
     "output_type": "execute_result"
    }
   ],
   "source": [
    "merc_train.X4.value_counts()"
   ]
  },
  {
   "cell_type": "markdown",
   "metadata": {
    "papermill": {
     "duration": 0.141726,
     "end_time": "2020-12-05T02:28:41.162470",
     "exception": false,
     "start_time": "2020-12-05T02:28:41.020744",
     "status": "completed"
    },
    "tags": []
   },
   "source": [
    "**It is evident from the above counts that X4 is 'd' in more than 99% of the cases, so transforming the data to d, ~d** "
   ]
  },
  {
   "cell_type": "code",
   "execution_count": 41,
   "metadata": {
    "execution": {
     "iopub.execute_input": "2020-12-05T02:28:41.456399Z",
     "iopub.status.busy": "2020-12-05T02:28:41.455266Z",
     "iopub.status.idle": "2020-12-05T02:28:41.460221Z",
     "shell.execute_reply": "2020-12-05T02:28:41.459409Z"
    },
    "papermill": {
     "duration": 0.154889,
     "end_time": "2020-12-05T02:28:41.460357",
     "exception": false,
     "start_time": "2020-12-05T02:28:41.305468",
     "status": "completed"
    },
    "tags": []
   },
   "outputs": [
    {
     "data": {
      "text/plain": [
       "array(['b', 'c', 'a', 'a'], dtype=object)"
      ]
     },
     "execution_count": 41,
     "metadata": {},
     "output_type": "execute_result"
    }
   ],
   "source": [
    "merc_train[merc_train.X4!='d']['X4'].values"
   ]
  },
  {
   "cell_type": "code",
   "execution_count": 42,
   "metadata": {
    "execution": {
     "iopub.execute_input": "2020-12-05T02:28:41.750364Z",
     "iopub.status.busy": "2020-12-05T02:28:41.749142Z",
     "iopub.status.idle": "2020-12-05T02:28:41.753210Z",
     "shell.execute_reply": "2020-12-05T02:28:41.752421Z"
    },
    "papermill": {
     "duration": 0.15404,
     "end_time": "2020-12-05T02:28:41.753355",
     "exception": false,
     "start_time": "2020-12-05T02:28:41.599315",
     "status": "completed"
    },
    "tags": []
   },
   "outputs": [],
   "source": [
    "def transform_X4(df):\n",
    "    df['X4'].replace(to_replace=df[df.X4!='d']['X4'].values\n",
    "                    ,value='~d'\n",
    "                    ,inplace=True)"
   ]
  },
  {
   "cell_type": "code",
   "execution_count": 43,
   "metadata": {
    "execution": {
     "iopub.execute_input": "2020-12-05T02:28:42.051488Z",
     "iopub.status.busy": "2020-12-05T02:28:42.050375Z",
     "iopub.status.idle": "2020-12-05T02:28:42.053818Z",
     "shell.execute_reply": "2020-12-05T02:28:42.053030Z"
    },
    "papermill": {
     "duration": 0.15846,
     "end_time": "2020-12-05T02:28:42.053977",
     "exception": false,
     "start_time": "2020-12-05T02:28:41.895517",
     "status": "completed"
    },
    "tags": []
   },
   "outputs": [],
   "source": [
    "transform_X4(merc_train)"
   ]
  },
  {
   "cell_type": "code",
   "execution_count": 44,
   "metadata": {
    "execution": {
     "iopub.execute_input": "2020-12-05T02:28:42.353334Z",
     "iopub.status.busy": "2020-12-05T02:28:42.352220Z",
     "iopub.status.idle": "2020-12-05T02:28:42.356800Z",
     "shell.execute_reply": "2020-12-05T02:28:42.356179Z"
    },
    "papermill": {
     "duration": 0.161357,
     "end_time": "2020-12-05T02:28:42.356937",
     "exception": false,
     "start_time": "2020-12-05T02:28:42.195580",
     "status": "completed"
    },
    "tags": []
   },
   "outputs": [
    {
     "data": {
      "text/plain": [
       "d     4204\n",
       "~d       4\n",
       "Name: X4, dtype: int64"
      ]
     },
     "execution_count": 44,
     "metadata": {},
     "output_type": "execute_result"
    }
   ],
   "source": [
    "merc_train.X4.value_counts()"
   ]
  },
  {
   "cell_type": "code",
   "execution_count": 45,
   "metadata": {
    "execution": {
     "iopub.execute_input": "2020-12-05T02:28:42.658737Z",
     "iopub.status.busy": "2020-12-05T02:28:42.657471Z",
     "iopub.status.idle": "2020-12-05T02:28:42.886632Z",
     "shell.execute_reply": "2020-12-05T02:28:42.885917Z"
    },
    "papermill": {
     "duration": 0.382024,
     "end_time": "2020-12-05T02:28:42.886761",
     "exception": false,
     "start_time": "2020-12-05T02:28:42.504737",
     "status": "completed"
    },
    "tags": []
   },
   "outputs": [
    {
     "data": {
      "text/plain": [
       "<matplotlib.axes._subplots.AxesSubplot at 0x1f183850ac8>"
      ]
     },
     "execution_count": 45,
     "metadata": {},
     "output_type": "execute_result"
    },
    {
     "data": {
      "image/png": "[encoded data removed]",
      "text/plain": [
       "<Figure size 432x288 with 1 Axes>"
      ]
     },
     "metadata": {
      "needs_background": "light"
     },
     "output_type": "display_data"
    }
   ],
   "source": [
    "sns.barplot(x=merc_train.X4,y=merc_train.y)"
   ]
  },
  {
   "cell_type": "markdown",
   "metadata": {
    "papermill": {
     "duration": 0.144462,
     "end_time": "2020-12-05T02:28:43.176073",
     "exception": false,
     "start_time": "2020-12-05T02:28:43.031611",
     "status": "completed"
    },
    "tags": []
   },
   "source": [
    "## Analyzing feature X5 ##"
   ]
  },
  {
   "cell_type": "code",
   "execution_count": 46,
   "metadata": {
    "execution": {
     "iopub.execute_input": "2020-12-05T02:28:43.474355Z",
     "iopub.status.busy": "2020-12-05T02:28:43.473387Z",
     "iopub.status.idle": "2020-12-05T02:28:43.478515Z",
     "shell.execute_reply": "2020-12-05T02:28:43.477738Z"
    },
    "papermill": {
     "duration": 0.158193,
     "end_time": "2020-12-05T02:28:43.478638",
     "exception": false,
     "start_time": "2020-12-05T02:28:43.320445",
     "status": "completed"
    },
    "tags": []
   },
   "outputs": [
    {
     "data": {
      "text/plain": [
       "v     231\n",
       "w     231\n",
       "q     220\n",
       "r     215\n",
       "d     214\n",
       "s     214\n",
       "n     212\n",
       "m     208\n",
       "p     208\n",
       "i     207\n",
       "ae    205\n",
       "ag    203\n",
       "ac    200\n",
       "ab    197\n",
       "l     195\n",
       "af    188\n",
       "ad    185\n",
       "k     177\n",
       "c     131\n",
       "j     125\n",
       "aa    112\n",
       "ah     97\n",
       "o      20\n",
       "f       7\n",
       "x       2\n",
       "u       1\n",
       "g       1\n",
       "y       1\n",
       "h       1\n",
       "Name: X5, dtype: int64"
      ]
     },
     "execution_count": 46,
     "metadata": {},
     "output_type": "execute_result"
    }
   ],
   "source": [
    "merc_train.X5.value_counts()"
   ]
  },
  {
   "cell_type": "code",
   "execution_count": 47,
   "metadata": {
    "execution": {
     "iopub.execute_input": "2020-12-05T02:28:43.782241Z",
     "iopub.status.busy": "2020-12-05T02:28:43.781405Z",
     "iopub.status.idle": "2020-12-05T02:28:43.784643Z",
     "shell.execute_reply": "2020-12-05T02:28:43.783873Z"
    },
    "papermill": {
     "duration": 0.159374,
     "end_time": "2020-12-05T02:28:43.784773",
     "exception": false,
     "start_time": "2020-12-05T02:28:43.625399",
     "status": "completed"
    },
    "tags": []
   },
   "outputs": [],
   "source": [
    "def transform_X5(df):\n",
    "    x5_grp=df.groupby('X5').aggregate(func='count')['ID'].reset_index()\n",
    "    df['X5'].replace(to_replace=x5_grp[x5_grp['ID']<100]['X5'].values\n",
    "                    ,value='OT'\n",
    "                    ,inplace=True)"
   ]
  },
  {
   "cell_type": "code",
   "execution_count": 48,
   "metadata": {
    "execution": {
     "iopub.execute_input": "2020-12-05T02:28:44.100379Z",
     "iopub.status.busy": "2020-12-05T02:28:44.099499Z",
     "iopub.status.idle": "2020-12-05T02:28:44.123372Z",
     "shell.execute_reply": "2020-12-05T02:28:44.122577Z"
    },
    "papermill": {
     "duration": 0.185365,
     "end_time": "2020-12-05T02:28:44.123505",
     "exception": false,
     "start_time": "2020-12-05T02:28:43.938140",
     "status": "completed"
    },
    "tags": []
   },
   "outputs": [],
   "source": [
    "transform_X5(merc_train)"
   ]
  },
  {
   "cell_type": "code",
   "execution_count": 49,
   "metadata": {
    "execution": {
     "iopub.execute_input": "2020-12-05T02:28:44.446796Z",
     "iopub.status.busy": "2020-12-05T02:28:44.445712Z",
     "iopub.status.idle": "2020-12-05T02:28:44.453205Z",
     "shell.execute_reply": "2020-12-05T02:28:44.454108Z"
    },
    "papermill": {
     "duration": 0.180024,
     "end_time": "2020-12-05T02:28:44.454306",
     "exception": false,
     "start_time": "2020-12-05T02:28:44.274282",
     "status": "completed"
    },
    "tags": []
   },
   "outputs": [
    {
     "data": {
      "text/plain": [
       "v     231\n",
       "w     231\n",
       "q     220\n",
       "r     215\n",
       "s     214\n",
       "d     214\n",
       "n     212\n",
       "m     208\n",
       "p     208\n",
       "i     207\n",
       "ae    205\n",
       "ag    203\n",
       "ac    200\n",
       "ab    197\n",
       "l     195\n",
       "af    188\n",
       "ad    185\n",
       "k     177\n",
       "c     131\n",
       "OT    130\n",
       "j     125\n",
       "aa    112\n",
       "Name: X5, dtype: int64"
      ]
     },
     "execution_count": 49,
     "metadata": {},
     "output_type": "execute_result"
    }
   ],
   "source": [
    "merc_train.X5.value_counts()"
   ]
  },
  {
   "cell_type": "code",
   "execution_count": 50,
   "metadata": {
    "execution": {
     "iopub.execute_input": "2020-12-05T02:28:44.778883Z",
     "iopub.status.busy": "2020-12-05T02:28:44.774976Z",
     "iopub.status.idle": "2020-12-05T02:28:45.347964Z",
     "shell.execute_reply": "2020-12-05T02:28:45.346860Z"
    },
    "papermill": {
     "duration": 0.741316,
     "end_time": "2020-12-05T02:28:45.348202",
     "exception": false,
     "start_time": "2020-12-05T02:28:44.606886",
     "status": "completed"
    },
    "tags": []
   },
   "outputs": [
    {
     "data": {
      "text/plain": [
       "<matplotlib.axes._subplots.AxesSubplot at 0x1f1838b4b08>"
      ]
     },
     "execution_count": 50,
     "metadata": {},
     "output_type": "execute_result"
    },
    {
     "data": {
      "image/png": "[encoded data removed]",
      "text/plain": [
       "<Figure size 1008x432 with 1 Axes>"
      ]
     },
     "metadata": {
      "needs_background": "light"
     },
     "output_type": "display_data"
    }
   ],
   "source": [
    "plt.figure(figsize=(14,6))\n",
    "sns.boxplot(x=merc_train.X5,y=merc_train.y)"
   ]
  },
  {
   "cell_type": "code",
   "execution_count": 51,
   "metadata": {
    "execution": {
     "iopub.execute_input": "2020-12-05T02:28:45.658833Z",
     "iopub.status.busy": "2020-12-05T02:28:45.657635Z",
     "iopub.status.idle": "2020-12-05T02:28:46.915765Z",
     "shell.execute_reply": "2020-12-05T02:28:46.916463Z"
    },
    "papermill": {
     "duration": 1.421172,
     "end_time": "2020-12-05T02:28:46.916655",
     "exception": false,
     "start_time": "2020-12-05T02:28:45.495483",
     "status": "completed"
    },
    "tags": []
   },
   "outputs": [
    {
     "data": {
      "text/plain": [
       "<matplotlib.axes._subplots.AxesSubplot at 0x1f183cba1c8>"
      ]
     },
     "execution_count": 51,
     "metadata": {},
     "output_type": "execute_result"
    },
    {
     "data": {
      "image/png": "[encoded data removed]",
      "text/plain": [
       "<Figure size 432x288 with 1 Axes>"
      ]
     },
     "metadata": {
      "needs_background": "light"
     },
     "output_type": "display_data"
    }
   ],
   "source": [
    "sns.barplot(x=merc_train.X5,y=merc_train.y)"
   ]
  },
  {
   "cell_type": "markdown",
   "metadata": {
    "papermill": {
     "duration": 0.164959,
     "end_time": "2020-12-05T02:28:47.252447",
     "exception": false,
     "start_time": "2020-12-05T02:28:47.087488",
     "status": "completed"
    },
    "tags": []
   },
   "source": [
    "## Analyzing feature X6 ## "
   ]
  },
  {
   "cell_type": "code",
   "execution_count": 52,
   "metadata": {
    "execution": {
     "iopub.execute_input": "2020-12-05T02:28:47.572764Z",
     "iopub.status.busy": "2020-12-05T02:28:47.571681Z",
     "iopub.status.idle": "2020-12-05T02:28:47.577384Z",
     "shell.execute_reply": "2020-12-05T02:28:47.576690Z"
    },
    "papermill": {
     "duration": 0.170464,
     "end_time": "2020-12-05T02:28:47.577518",
     "exception": false,
     "start_time": "2020-12-05T02:28:47.407054",
     "status": "completed"
    },
    "tags": []
   },
   "outputs": [
    {
     "data": {
      "text/plain": [
       "g    1042\n",
       "j    1039\n",
       "d     625\n",
       "i     488\n",
       "l     477\n",
       "a     206\n",
       "h     190\n",
       "k      43\n",
       "c      38\n",
       "b      28\n",
       "f      20\n",
       "e      12\n",
       "Name: X6, dtype: int64"
      ]
     },
     "execution_count": 52,
     "metadata": {},
     "output_type": "execute_result"
    }
   ],
   "source": [
    "merc_train.X6.value_counts()"
   ]
  },
  {
   "cell_type": "code",
   "execution_count": 53,
   "metadata": {
    "execution": {
     "iopub.execute_input": "2020-12-05T02:28:47.950548Z",
     "iopub.status.busy": "2020-12-05T02:28:47.948050Z",
     "iopub.status.idle": "2020-12-05T02:28:48.690039Z",
     "shell.execute_reply": "2020-12-05T02:28:48.690773Z"
    },
    "papermill": {
     "duration": 0.956584,
     "end_time": "2020-12-05T02:28:48.691004",
     "exception": false,
     "start_time": "2020-12-05T02:28:47.734420",
     "status": "completed"
    },
    "tags": []
   },
   "outputs": [
    {
     "data": {
      "text/plain": [
       "<matplotlib.axes._subplots.AxesSubplot at 0x1f183bc0948>"
      ]
     },
     "execution_count": 53,
     "metadata": {},
     "output_type": "execute_result"
    },
    {
     "data": {
      "image/png": "[encoded data removed]",
      "text/plain": [
       "<Figure size 1008x432 with 1 Axes>"
      ]
     },
     "metadata": {
      "needs_background": "light"
     },
     "output_type": "display_data"
    }
   ],
   "source": [
    "plt.figure(figsize=(14,6))\n",
    "sns.barplot(x=merc_train.X6,y=merc_train.y)"
   ]
  },
  {
   "cell_type": "markdown",
   "metadata": {
    "papermill": {
     "duration": 0.161117,
     "end_time": "2020-12-05T02:28:49.007985",
     "exception": false,
     "start_time": "2020-12-05T02:28:48.846868",
     "status": "completed"
    },
    "tags": []
   },
   "source": [
    "## Analyzing feature X8 ##"
   ]
  },
  {
   "cell_type": "code",
   "execution_count": 54,
   "metadata": {
    "execution": {
     "iopub.execute_input": "2020-12-05T02:28:49.338133Z",
     "iopub.status.busy": "2020-12-05T02:28:49.336986Z",
     "iopub.status.idle": "2020-12-05T02:28:49.341624Z",
     "shell.execute_reply": "2020-12-05T02:28:49.341041Z"
    },
    "papermill": {
     "duration": 0.175924,
     "end_time": "2020-12-05T02:28:49.341771",
     "exception": false,
     "start_time": "2020-12-05T02:28:49.165847",
     "status": "completed"
    },
    "tags": []
   },
   "outputs": [
    {
     "data": {
      "text/plain": [
       "j    277\n",
       "s    255\n",
       "f    243\n",
       "n    242\n",
       "i    237\n",
       "e    225\n",
       "r    219\n",
       "a    210\n",
       "w    196\n",
       "v    194\n",
       "b    190\n",
       "k    176\n",
       "o    163\n",
       "m    155\n",
       "g    130\n",
       "u    119\n",
       "t    118\n",
       "q    117\n",
       "h    117\n",
       "y    116\n",
       "x    105\n",
       "d    103\n",
       "l    101\n",
       "p    100\n",
       "c    100\n",
       "Name: X8, dtype: int64"
      ]
     },
     "execution_count": 54,
     "metadata": {},
     "output_type": "execute_result"
    }
   ],
   "source": [
    "merc_train.X8.value_counts()"
   ]
  },
  {
   "cell_type": "code",
   "execution_count": 55,
   "metadata": {
    "execution": {
     "iopub.execute_input": "2020-12-05T02:28:49.668787Z",
     "iopub.status.busy": "2020-12-05T02:28:49.665879Z",
     "iopub.status.idle": "2020-12-05T02:28:50.914027Z",
     "shell.execute_reply": "2020-12-05T02:28:50.913172Z"
    },
    "papermill": {
     "duration": 1.410891,
     "end_time": "2020-12-05T02:28:50.914165",
     "exception": false,
     "start_time": "2020-12-05T02:28:49.503274",
     "status": "completed"
    },
    "tags": []
   },
   "outputs": [
    {
     "data": {
      "text/plain": [
       "<matplotlib.axes._subplots.AxesSubplot at 0x1f183bc8188>"
      ]
     },
     "execution_count": 55,
     "metadata": {},
     "output_type": "execute_result"
    },
    {
     "data": {
      "image/png": "[encoded data removed]",
      "text/plain": [
       "<Figure size 1008x432 with 1 Axes>"
      ]
     },
     "metadata": {
      "needs_background": "light"
     },
     "output_type": "display_data"
    }
   ],
   "source": [
    "plt.figure(figsize=(14,6))\n",
    "sns.barplot(x=merc_train.X8,y=merc_train.y)"
   ]
  },
  {
   "cell_type": "markdown",
   "metadata": {
    "papermill": {
     "duration": 0.165089,
     "end_time": "2020-12-05T02:28:51.248556",
     "exception": false,
     "start_time": "2020-12-05T02:28:51.083467",
     "status": "completed"
    },
    "tags": []
   },
   "source": [
    "**From the above barplots on categorical features, it is evident that outcome(y) is not majorly impacted by these features**"
   ]
  },
  {
   "cell_type": "markdown",
   "metadata": {
    "papermill": {
     "duration": 0.157708,
     "end_time": "2020-12-05T02:28:51.568600",
     "exception": false,
     "start_time": "2020-12-05T02:28:51.410892",
     "status": "completed"
    },
    "tags": []
   },
   "source": [
    "## Applying label encoder on categorical features to convert them to numerical##"
   ]
  },
  {
   "cell_type": "code",
   "execution_count": 56,
   "metadata": {
    "execution": {
     "iopub.execute_input": "2020-12-05T02:28:51.896573Z",
     "iopub.status.busy": "2020-12-05T02:28:51.895505Z",
     "iopub.status.idle": "2020-12-05T02:28:51.975867Z",
     "shell.execute_reply": "2020-12-05T02:28:51.975228Z"
    },
    "papermill": {
     "duration": 0.24839,
     "end_time": "2020-12-05T02:28:51.976050",
     "exception": false,
     "start_time": "2020-12-05T02:28:51.727660",
     "status": "completed"
    },
    "tags": []
   },
   "outputs": [],
   "source": [
    "from sklearn.preprocessing import LabelEncoder"
   ]
  },
  {
   "cell_type": "code",
   "execution_count": 57,
   "metadata": {
    "execution": {
     "iopub.execute_input": "2020-12-05T02:28:52.315272Z",
     "iopub.status.busy": "2020-12-05T02:28:52.314163Z",
     "iopub.status.idle": "2020-12-05T02:28:52.318436Z",
     "shell.execute_reply": "2020-12-05T02:28:52.319266Z"
    },
    "papermill": {
     "duration": 0.184028,
     "end_time": "2020-12-05T02:28:52.319473",
     "exception": false,
     "start_time": "2020-12-05T02:28:52.135445",
     "status": "completed"
    },
    "tags": []
   },
   "outputs": [],
   "source": [
    "x=merc_train.drop(columns='y')\n",
    "y=merc_train.y"
   ]
  },
  {
   "cell_type": "code",
   "execution_count": 58,
   "metadata": {
    "execution": {
     "iopub.execute_input": "2020-12-05T02:28:52.684467Z",
     "iopub.status.busy": "2020-12-05T02:28:52.683370Z",
     "iopub.status.idle": "2020-12-05T02:28:52.688452Z",
     "shell.execute_reply": "2020-12-05T02:28:52.687443Z"
    },
    "papermill": {
     "duration": 0.201116,
     "end_time": "2020-12-05T02:28:52.688595",
     "exception": false,
     "start_time": "2020-12-05T02:28:52.487479",
     "status": "completed"
    },
    "tags": []
   },
   "outputs": [
    {
     "data": {
      "text/html": [
       "<div>\n",
       "<style scoped>\n",
       "    .dataframe tbody tr th:only-of-type {\n",
       "        vertical-align: middle;\n",
       "    }\n",
       "\n",
       "    .dataframe tbody tr th {\n",
       "        vertical-align: top;\n",
       "    }\n",
       "\n",
       "    .dataframe thead th {\n",
       "        text-align: right;\n",
       "    }\n",
       "</style>\n",
       "<table border=\"1\" class=\"dataframe\">\n",
       "  <thead>\n",
       "    <tr style=\"text-align: right;\">\n",
       "      <th></th>\n",
       "      <th>ID</th>\n",
       "      <th>X0</th>\n",
       "      <th>X1</th>\n",
       "      <th>X2</th>\n",
       "      <th>X3</th>\n",
       "      <th>X4</th>\n",
       "      <th>X5</th>\n",
       "      <th>X6</th>\n",
       "      <th>X8</th>\n",
       "      <th>X10</th>\n",
       "      <th>...</th>\n",
       "      <th>X375</th>\n",
       "      <th>X376</th>\n",
       "      <th>X377</th>\n",
       "      <th>X378</th>\n",
       "      <th>X379</th>\n",
       "      <th>X380</th>\n",
       "      <th>X382</th>\n",
       "      <th>X383</th>\n",
       "      <th>X384</th>\n",
       "      <th>X385</th>\n",
       "    </tr>\n",
       "  </thead>\n",
       "  <tbody>\n",
       "    <tr>\n",
       "      <th>0</th>\n",
       "      <td>0</td>\n",
       "      <td>OT</td>\n",
       "      <td>v</td>\n",
       "      <td>at</td>\n",
       "      <td>a</td>\n",
       "      <td>d</td>\n",
       "      <td>OT</td>\n",
       "      <td>j</td>\n",
       "      <td>o</td>\n",
       "      <td>0</td>\n",
       "      <td>...</td>\n",
       "      <td>0</td>\n",
       "      <td>0</td>\n",
       "      <td>1</td>\n",
       "      <td>0</td>\n",
       "      <td>0</td>\n",
       "      <td>0</td>\n",
       "      <td>0</td>\n",
       "      <td>0</td>\n",
       "      <td>0</td>\n",
       "      <td>0</td>\n",
       "    </tr>\n",
       "    <tr>\n",
       "      <th>1</th>\n",
       "      <td>6</td>\n",
       "      <td>OT</td>\n",
       "      <td>OT</td>\n",
       "      <td>av</td>\n",
       "      <td>e</td>\n",
       "      <td>d</td>\n",
       "      <td>OT</td>\n",
       "      <td>l</td>\n",
       "      <td>o</td>\n",
       "      <td>0</td>\n",
       "      <td>...</td>\n",
       "      <td>1</td>\n",
       "      <td>0</td>\n",
       "      <td>0</td>\n",
       "      <td>0</td>\n",
       "      <td>0</td>\n",
       "      <td>0</td>\n",
       "      <td>0</td>\n",
       "      <td>0</td>\n",
       "      <td>0</td>\n",
       "      <td>0</td>\n",
       "    </tr>\n",
       "    <tr>\n",
       "      <th>2</th>\n",
       "      <td>7</td>\n",
       "      <td>az</td>\n",
       "      <td>OT</td>\n",
       "      <td>n</td>\n",
       "      <td>c</td>\n",
       "      <td>d</td>\n",
       "      <td>OT</td>\n",
       "      <td>j</td>\n",
       "      <td>x</td>\n",
       "      <td>0</td>\n",
       "      <td>...</td>\n",
       "      <td>0</td>\n",
       "      <td>0</td>\n",
       "      <td>0</td>\n",
       "      <td>0</td>\n",
       "      <td>0</td>\n",
       "      <td>0</td>\n",
       "      <td>1</td>\n",
       "      <td>0</td>\n",
       "      <td>0</td>\n",
       "      <td>0</td>\n",
       "    </tr>\n",
       "    <tr>\n",
       "      <th>3</th>\n",
       "      <td>9</td>\n",
       "      <td>az</td>\n",
       "      <td>OT</td>\n",
       "      <td>n</td>\n",
       "      <td>f</td>\n",
       "      <td>d</td>\n",
       "      <td>OT</td>\n",
       "      <td>l</td>\n",
       "      <td>e</td>\n",
       "      <td>0</td>\n",
       "      <td>...</td>\n",
       "      <td>0</td>\n",
       "      <td>0</td>\n",
       "      <td>0</td>\n",
       "      <td>0</td>\n",
       "      <td>0</td>\n",
       "      <td>0</td>\n",
       "      <td>0</td>\n",
       "      <td>0</td>\n",
       "      <td>0</td>\n",
       "      <td>0</td>\n",
       "    </tr>\n",
       "    <tr>\n",
       "      <th>4</th>\n",
       "      <td>13</td>\n",
       "      <td>az</td>\n",
       "      <td>v</td>\n",
       "      <td>n</td>\n",
       "      <td>f</td>\n",
       "      <td>d</td>\n",
       "      <td>OT</td>\n",
       "      <td>d</td>\n",
       "      <td>n</td>\n",
       "      <td>0</td>\n",
       "      <td>...</td>\n",
       "      <td>0</td>\n",
       "      <td>0</td>\n",
       "      <td>0</td>\n",
       "      <td>0</td>\n",
       "      <td>0</td>\n",
       "      <td>0</td>\n",
       "      <td>0</td>\n",
       "      <td>0</td>\n",
       "      <td>0</td>\n",
       "      <td>0</td>\n",
       "    </tr>\n",
       "  </tbody>\n",
       "</table>\n",
       "<p>5 rows × 365 columns</p>\n",
       "</div>"
      ],
      "text/plain": [
       "   ID  X0  X1  X2 X3 X4  X5 X6 X8  X10  ...  X375  X376  X377  X378  X379  \\\n",
       "0   0  OT   v  at  a  d  OT  j  o    0  ...     0     0     1     0     0   \n",
       "1   6  OT  OT  av  e  d  OT  l  o    0  ...     1     0     0     0     0   \n",
       "2   7  az  OT   n  c  d  OT  j  x    0  ...     0     0     0     0     0   \n",
       "3   9  az  OT   n  f  d  OT  l  e    0  ...     0     0     0     0     0   \n",
       "4  13  az   v   n  f  d  OT  d  n    0  ...     0     0     0     0     0   \n",
       "\n",
       "   X380  X382  X383  X384  X385  \n",
       "0     0     0     0     0     0  \n",
       "1     0     0     0     0     0  \n",
       "2     0     1     0     0     0  \n",
       "3     0     0     0     0     0  \n",
       "4     0     0     0     0     0  \n",
       "\n",
       "[5 rows x 365 columns]"
      ]
     },
     "execution_count": 58,
     "metadata": {},
     "output_type": "execute_result"
    }
   ],
   "source": [
    "x.head()"
   ]
  },
  {
   "cell_type": "code",
   "execution_count": 59,
   "metadata": {
    "execution": {
     "iopub.execute_input": "2020-12-05T02:28:53.016134Z",
     "iopub.status.busy": "2020-12-05T02:28:53.015006Z",
     "iopub.status.idle": "2020-12-05T02:28:53.019869Z",
     "shell.execute_reply": "2020-12-05T02:28:53.020646Z"
    },
    "papermill": {
     "duration": 0.171861,
     "end_time": "2020-12-05T02:28:53.020869",
     "exception": false,
     "start_time": "2020-12-05T02:28:52.849008",
     "status": "completed"
    },
    "tags": []
   },
   "outputs": [],
   "source": [
    "catCols=merc_train.select_dtypes(include=\"object\").columns"
   ]
  },
  {
   "cell_type": "code",
   "execution_count": 60,
   "metadata": {
    "execution": {
     "iopub.execute_input": "2020-12-05T02:28:53.354353Z",
     "iopub.status.busy": "2020-12-05T02:28:53.353259Z",
     "iopub.status.idle": "2020-12-05T02:28:53.357073Z",
     "shell.execute_reply": "2020-12-05T02:28:53.357686Z"
    },
    "papermill": {
     "duration": 0.17264,
     "end_time": "2020-12-05T02:28:53.357843",
     "exception": false,
     "start_time": "2020-12-05T02:28:53.185203",
     "status": "completed"
    },
    "tags": []
   },
   "outputs": [
    {
     "data": {
      "text/plain": [
       "Index(['X0', 'X1', 'X2', 'X3', 'X4', 'X5', 'X6', 'X8'], dtype='object')"
      ]
     },
     "execution_count": 60,
     "metadata": {},
     "output_type": "execute_result"
    }
   ],
   "source": [
    "catCols"
   ]
  },
  {
   "cell_type": "code",
   "execution_count": 61,
   "metadata": {
    "execution": {
     "iopub.execute_input": "2020-12-05T02:28:53.675807Z",
     "iopub.status.busy": "2020-12-05T02:28:53.675040Z",
     "iopub.status.idle": "2020-12-05T02:28:53.678316Z",
     "shell.execute_reply": "2020-12-05T02:28:53.677721Z"
    },
    "papermill": {
     "duration": 0.167557,
     "end_time": "2020-12-05T02:28:53.678447",
     "exception": false,
     "start_time": "2020-12-05T02:28:53.510890",
     "status": "completed"
    },
    "tags": []
   },
   "outputs": [],
   "source": [
    "def transform_labels(df,x):\n",
    "    catCols=df.select_dtypes(include=\"object\").columns\n",
    "    le=LabelEncoder()\n",
    "    for i in catCols:\n",
    "        le.fit(x[i])\n",
    "        x[i]=le.transform(x[i])"
   ]
  },
  {
   "cell_type": "code",
   "execution_count": 62,
   "metadata": {
    "execution": {
     "iopub.execute_input": "2020-12-05T02:28:54.015399Z",
     "iopub.status.busy": "2020-12-05T02:28:53.997168Z",
     "iopub.status.idle": "2020-12-05T02:28:54.019870Z",
     "shell.execute_reply": "2020-12-05T02:28:54.019058Z"
    },
    "papermill": {
     "duration": 0.188488,
     "end_time": "2020-12-05T02:28:54.020024",
     "exception": false,
     "start_time": "2020-12-05T02:28:53.831536",
     "status": "completed"
    },
    "tags": []
   },
   "outputs": [],
   "source": [
    "transform_labels(merc_train,x)"
   ]
  },
  {
   "cell_type": "code",
   "execution_count": 63,
   "metadata": {
    "execution": {
     "iopub.execute_input": "2020-12-05T02:28:54.351965Z",
     "iopub.status.busy": "2020-12-05T02:28:54.332662Z",
     "iopub.status.idle": "2020-12-05T02:28:54.356802Z",
     "shell.execute_reply": "2020-12-05T02:28:54.356014Z"
    },
    "papermill": {
     "duration": 0.183706,
     "end_time": "2020-12-05T02:28:54.356939",
     "exception": false,
     "start_time": "2020-12-05T02:28:54.173233",
     "status": "completed"
    },
    "tags": []
   },
   "outputs": [
    {
     "data": {
      "text/html": [
       "<div>\n",
       "<style scoped>\n",
       "    .dataframe tbody tr th:only-of-type {\n",
       "        vertical-align: middle;\n",
       "    }\n",
       "\n",
       "    .dataframe tbody tr th {\n",
       "        vertical-align: top;\n",
       "    }\n",
       "\n",
       "    .dataframe thead th {\n",
       "        text-align: right;\n",
       "    }\n",
       "</style>\n",
       "<table border=\"1\" class=\"dataframe\">\n",
       "  <thead>\n",
       "    <tr style=\"text-align: right;\">\n",
       "      <th></th>\n",
       "      <th>ID</th>\n",
       "      <th>X0</th>\n",
       "      <th>X1</th>\n",
       "      <th>X2</th>\n",
       "      <th>X3</th>\n",
       "      <th>X4</th>\n",
       "      <th>X5</th>\n",
       "      <th>X6</th>\n",
       "      <th>X8</th>\n",
       "      <th>X10</th>\n",
       "      <th>...</th>\n",
       "      <th>X375</th>\n",
       "      <th>X376</th>\n",
       "      <th>X377</th>\n",
       "      <th>X378</th>\n",
       "      <th>X379</th>\n",
       "      <th>X380</th>\n",
       "      <th>X382</th>\n",
       "      <th>X383</th>\n",
       "      <th>X384</th>\n",
       "      <th>X385</th>\n",
       "    </tr>\n",
       "  </thead>\n",
       "  <tbody>\n",
       "    <tr>\n",
       "      <th>0</th>\n",
       "      <td>0</td>\n",
       "      <td>0</td>\n",
       "      <td>9</td>\n",
       "      <td>17</td>\n",
       "      <td>0</td>\n",
       "      <td>0</td>\n",
       "      <td>0</td>\n",
       "      <td>9</td>\n",
       "      <td>14</td>\n",
       "      <td>0</td>\n",
       "      <td>...</td>\n",
       "      <td>0</td>\n",
       "      <td>0</td>\n",
       "      <td>1</td>\n",
       "      <td>0</td>\n",
       "      <td>0</td>\n",
       "      <td>0</td>\n",
       "      <td>0</td>\n",
       "      <td>0</td>\n",
       "      <td>0</td>\n",
       "      <td>0</td>\n",
       "    </tr>\n",
       "    <tr>\n",
       "      <th>1</th>\n",
       "      <td>6</td>\n",
       "      <td>0</td>\n",
       "      <td>0</td>\n",
       "      <td>19</td>\n",
       "      <td>4</td>\n",
       "      <td>0</td>\n",
       "      <td>0</td>\n",
       "      <td>11</td>\n",
       "      <td>14</td>\n",
       "      <td>0</td>\n",
       "      <td>...</td>\n",
       "      <td>1</td>\n",
       "      <td>0</td>\n",
       "      <td>0</td>\n",
       "      <td>0</td>\n",
       "      <td>0</td>\n",
       "      <td>0</td>\n",
       "      <td>0</td>\n",
       "      <td>0</td>\n",
       "      <td>0</td>\n",
       "      <td>0</td>\n",
       "    </tr>\n",
       "    <tr>\n",
       "      <th>2</th>\n",
       "      <td>7</td>\n",
       "      <td>5</td>\n",
       "      <td>0</td>\n",
       "      <td>34</td>\n",
       "      <td>2</td>\n",
       "      <td>0</td>\n",
       "      <td>0</td>\n",
       "      <td>9</td>\n",
       "      <td>23</td>\n",
       "      <td>0</td>\n",
       "      <td>...</td>\n",
       "      <td>0</td>\n",
       "      <td>0</td>\n",
       "      <td>0</td>\n",
       "      <td>0</td>\n",
       "      <td>0</td>\n",
       "      <td>0</td>\n",
       "      <td>1</td>\n",
       "      <td>0</td>\n",
       "      <td>0</td>\n",
       "      <td>0</td>\n",
       "    </tr>\n",
       "    <tr>\n",
       "      <th>3</th>\n",
       "      <td>9</td>\n",
       "      <td>5</td>\n",
       "      <td>0</td>\n",
       "      <td>34</td>\n",
       "      <td>5</td>\n",
       "      <td>0</td>\n",
       "      <td>0</td>\n",
       "      <td>11</td>\n",
       "      <td>4</td>\n",
       "      <td>0</td>\n",
       "      <td>...</td>\n",
       "      <td>0</td>\n",
       "      <td>0</td>\n",
       "      <td>0</td>\n",
       "      <td>0</td>\n",
       "      <td>0</td>\n",
       "      <td>0</td>\n",
       "      <td>0</td>\n",
       "      <td>0</td>\n",
       "      <td>0</td>\n",
       "      <td>0</td>\n",
       "    </tr>\n",
       "    <tr>\n",
       "      <th>4</th>\n",
       "      <td>13</td>\n",
       "      <td>5</td>\n",
       "      <td>9</td>\n",
       "      <td>34</td>\n",
       "      <td>5</td>\n",
       "      <td>0</td>\n",
       "      <td>0</td>\n",
       "      <td>3</td>\n",
       "      <td>13</td>\n",
       "      <td>0</td>\n",
       "      <td>...</td>\n",
       "      <td>0</td>\n",
       "      <td>0</td>\n",
       "      <td>0</td>\n",
       "      <td>0</td>\n",
       "      <td>0</td>\n",
       "      <td>0</td>\n",
       "      <td>0</td>\n",
       "      <td>0</td>\n",
       "      <td>0</td>\n",
       "      <td>0</td>\n",
       "    </tr>\n",
       "  </tbody>\n",
       "</table>\n",
       "<p>5 rows × 365 columns</p>\n",
       "</div>"
      ],
      "text/plain": [
       "   ID  X0  X1  X2  X3  X4  X5  X6  X8  X10  ...  X375  X376  X377  X378  X379  \\\n",
       "0   0   0   9  17   0   0   0   9  14    0  ...     0     0     1     0     0   \n",
       "1   6   0   0  19   4   0   0  11  14    0  ...     1     0     0     0     0   \n",
       "2   7   5   0  34   2   0   0   9  23    0  ...     0     0     0     0     0   \n",
       "3   9   5   0  34   5   0   0  11   4    0  ...     0     0     0     0     0   \n",
       "4  13   5   9  34   5   0   0   3  13    0  ...     0     0     0     0     0   \n",
       "\n",
       "   X380  X382  X383  X384  X385  \n",
       "0     0     0     0     0     0  \n",
       "1     0     0     0     0     0  \n",
       "2     0     1     0     0     0  \n",
       "3     0     0     0     0     0  \n",
       "4     0     0     0     0     0  \n",
       "\n",
       "[5 rows x 365 columns]"
      ]
     },
     "execution_count": 63,
     "metadata": {},
     "output_type": "execute_result"
    }
   ],
   "source": [
    "x.head()"
   ]
  },
  {
   "cell_type": "markdown",
   "metadata": {
    "papermill": {
     "duration": 0.156244,
     "end_time": "2020-12-05T02:28:55.643073",
     "exception": false,
     "start_time": "2020-12-05T02:28:55.486829",
     "status": "completed"
    },
    "tags": []
   },
   "source": [
    "**From the above barplots, we can say that categorical features X1,X2,X3,X5,X7,X8 are not making much impact on the outcome, so considering PCA on X0,X4,X6**"
   ]
  },
  {
   "cell_type": "markdown",
   "metadata": {},
   "source": [
    "## Data Normalization ##"
   ]
  },
  {
   "cell_type": "code",
   "execution_count": 64,
   "metadata": {},
   "outputs": [
    {
     "data": {
      "text/html": [
       "<div>\n",
       "<style scoped>\n",
       "    .dataframe tbody tr th:only-of-type {\n",
       "        vertical-align: middle;\n",
       "    }\n",
       "\n",
       "    .dataframe tbody tr th {\n",
       "        vertical-align: top;\n",
       "    }\n",
       "\n",
       "    .dataframe thead th {\n",
       "        text-align: right;\n",
       "    }\n",
       "</style>\n",
       "<table border=\"1\" class=\"dataframe\">\n",
       "  <thead>\n",
       "    <tr style=\"text-align: right;\">\n",
       "      <th></th>\n",
       "      <th>ID</th>\n",
       "      <th>X0</th>\n",
       "      <th>X1</th>\n",
       "      <th>X2</th>\n",
       "      <th>X3</th>\n",
       "      <th>X4</th>\n",
       "      <th>X5</th>\n",
       "      <th>X6</th>\n",
       "      <th>X8</th>\n",
       "      <th>X10</th>\n",
       "      <th>...</th>\n",
       "      <th>X375</th>\n",
       "      <th>X376</th>\n",
       "      <th>X377</th>\n",
       "      <th>X378</th>\n",
       "      <th>X379</th>\n",
       "      <th>X380</th>\n",
       "      <th>X382</th>\n",
       "      <th>X383</th>\n",
       "      <th>X384</th>\n",
       "      <th>X385</th>\n",
       "    </tr>\n",
       "  </thead>\n",
       "  <tbody>\n",
       "    <tr>\n",
       "      <th>0</th>\n",
       "      <td>-1.725888</td>\n",
       "      <td>-1.388044</td>\n",
       "      <td>1.539369</td>\n",
       "      <td>-0.028346</td>\n",
       "      <td>-1.678072</td>\n",
       "      <td>-0.030846</td>\n",
       "      <td>-1.772446</td>\n",
       "      <td>0.752224</td>\n",
       "      <td>0.339698</td>\n",
       "      <td>-0.116136</td>\n",
       "      <td>...</td>\n",
       "      <td>-0.684287</td>\n",
       "      <td>-0.246478</td>\n",
       "      <td>1.475076</td>\n",
       "      <td>-0.145298</td>\n",
       "      <td>-0.097964</td>\n",
       "      <td>-0.090253</td>\n",
       "      <td>-0.087538</td>\n",
       "      <td>-0.04082</td>\n",
       "      <td>-0.021806</td>\n",
       "      <td>-0.037787</td>\n",
       "    </tr>\n",
       "    <tr>\n",
       "      <th>1</th>\n",
       "      <td>-1.723426</td>\n",
       "      <td>-1.388044</td>\n",
       "      <td>-1.522231</td>\n",
       "      <td>0.155161</td>\n",
       "      <td>0.621285</td>\n",
       "      <td>-0.030846</td>\n",
       "      <td>-1.772446</td>\n",
       "      <td>1.438035</td>\n",
       "      <td>0.339698</td>\n",
       "      <td>-0.116136</td>\n",
       "      <td>...</td>\n",
       "      <td>1.461376</td>\n",
       "      <td>-0.246478</td>\n",
       "      <td>-0.677931</td>\n",
       "      <td>-0.145298</td>\n",
       "      <td>-0.097964</td>\n",
       "      <td>-0.090253</td>\n",
       "      <td>-0.087538</td>\n",
       "      <td>-0.04082</td>\n",
       "      <td>-0.021806</td>\n",
       "      <td>-0.037787</td>\n",
       "    </tr>\n",
       "    <tr>\n",
       "      <th>2</th>\n",
       "      <td>-1.723016</td>\n",
       "      <td>-0.425059</td>\n",
       "      <td>-1.522231</td>\n",
       "      <td>1.531465</td>\n",
       "      <td>-0.528393</td>\n",
       "      <td>-0.030846</td>\n",
       "      <td>-1.772446</td>\n",
       "      <td>0.752224</td>\n",
       "      <td>1.618659</td>\n",
       "      <td>-0.116136</td>\n",
       "      <td>...</td>\n",
       "      <td>-0.684287</td>\n",
       "      <td>-0.246478</td>\n",
       "      <td>-0.677931</td>\n",
       "      <td>-0.145298</td>\n",
       "      <td>-0.097964</td>\n",
       "      <td>-0.090253</td>\n",
       "      <td>11.423660</td>\n",
       "      <td>-0.04082</td>\n",
       "      <td>-0.021806</td>\n",
       "      <td>-0.037787</td>\n",
       "    </tr>\n",
       "    <tr>\n",
       "      <th>3</th>\n",
       "      <td>-1.722195</td>\n",
       "      <td>-0.425059</td>\n",
       "      <td>-1.522231</td>\n",
       "      <td>1.531465</td>\n",
       "      <td>1.196125</td>\n",
       "      <td>-0.030846</td>\n",
       "      <td>-1.772446</td>\n",
       "      <td>1.438035</td>\n",
       "      <td>-1.081368</td>\n",
       "      <td>-0.116136</td>\n",
       "      <td>...</td>\n",
       "      <td>-0.684287</td>\n",
       "      <td>-0.246478</td>\n",
       "      <td>-0.677931</td>\n",
       "      <td>-0.145298</td>\n",
       "      <td>-0.097964</td>\n",
       "      <td>-0.090253</td>\n",
       "      <td>-0.087538</td>\n",
       "      <td>-0.04082</td>\n",
       "      <td>-0.021806</td>\n",
       "      <td>-0.037787</td>\n",
       "    </tr>\n",
       "    <tr>\n",
       "      <th>4</th>\n",
       "      <td>-1.720554</td>\n",
       "      <td>-0.425059</td>\n",
       "      <td>1.539369</td>\n",
       "      <td>1.531465</td>\n",
       "      <td>1.196125</td>\n",
       "      <td>-0.030846</td>\n",
       "      <td>-1.772446</td>\n",
       "      <td>-1.305208</td>\n",
       "      <td>0.197592</td>\n",
       "      <td>-0.116136</td>\n",
       "      <td>...</td>\n",
       "      <td>-0.684287</td>\n",
       "      <td>-0.246478</td>\n",
       "      <td>-0.677931</td>\n",
       "      <td>-0.145298</td>\n",
       "      <td>-0.097964</td>\n",
       "      <td>-0.090253</td>\n",
       "      <td>-0.087538</td>\n",
       "      <td>-0.04082</td>\n",
       "      <td>-0.021806</td>\n",
       "      <td>-0.037787</td>\n",
       "    </tr>\n",
       "  </tbody>\n",
       "</table>\n",
       "<p>5 rows × 365 columns</p>\n",
       "</div>"
      ],
      "text/plain": [
       "         ID        X0        X1        X2        X3        X4        X5  \\\n",
       "0 -1.725888 -1.388044  1.539369 -0.028346 -1.678072 -0.030846 -1.772446   \n",
       "1 -1.723426 -1.388044 -1.522231  0.155161  0.621285 -0.030846 -1.772446   \n",
       "2 -1.723016 -0.425059 -1.522231  1.531465 -0.528393 -0.030846 -1.772446   \n",
       "3 -1.722195 -0.425059 -1.522231  1.531465  1.196125 -0.030846 -1.772446   \n",
       "4 -1.720554 -0.425059  1.539369  1.531465  1.196125 -0.030846 -1.772446   \n",
       "\n",
       "         X6        X8       X10  ...      X375      X376      X377      X378  \\\n",
       "0  0.752224  0.339698 -0.116136  ... -0.684287 -0.246478  1.475076 -0.145298   \n",
       "1  1.438035  0.339698 -0.116136  ...  1.461376 -0.246478 -0.677931 -0.145298   \n",
       "2  0.752224  1.618659 -0.116136  ... -0.684287 -0.246478 -0.677931 -0.145298   \n",
       "3  1.438035 -1.081368 -0.116136  ... -0.684287 -0.246478 -0.677931 -0.145298   \n",
       "4 -1.305208  0.197592 -0.116136  ... -0.684287 -0.246478 -0.677931 -0.145298   \n",
       "\n",
       "       X379      X380       X382     X383      X384      X385  \n",
       "0 -0.097964 -0.090253  -0.087538 -0.04082 -0.021806 -0.037787  \n",
       "1 -0.097964 -0.090253  -0.087538 -0.04082 -0.021806 -0.037787  \n",
       "2 -0.097964 -0.090253  11.423660 -0.04082 -0.021806 -0.037787  \n",
       "3 -0.097964 -0.090253  -0.087538 -0.04082 -0.021806 -0.037787  \n",
       "4 -0.097964 -0.090253  -0.087538 -0.04082 -0.021806 -0.037787  \n",
       "\n",
       "[5 rows x 365 columns]"
      ]
     },
     "execution_count": 64,
     "metadata": {},
     "output_type": "execute_result"
    }
   ],
   "source": [
    "scaled_data = StandardScaler().fit_transform(x)\n",
    "x = pd.DataFrame(scaled_data, columns = x.columns)\n",
    "x.head()"
   ]
  },
  {
   "cell_type": "markdown",
   "metadata": {
    "papermill": {
     "duration": 0.158037,
     "end_time": "2020-12-05T02:28:55.958365",
     "exception": false,
     "start_time": "2020-12-05T02:28:55.800328",
     "status": "completed"
    },
    "tags": []
   },
   "source": [
    "## Trying to reduce dimensions using PCA ##"
   ]
  },
  {
   "cell_type": "code",
   "execution_count": 65,
   "metadata": {
    "execution": {
     "iopub.execute_input": "2020-12-05T02:28:56.276096Z",
     "iopub.status.busy": "2020-12-05T02:28:56.275299Z",
     "iopub.status.idle": "2020-12-05T02:28:56.606275Z",
     "shell.execute_reply": "2020-12-05T02:28:56.605604Z"
    },
    "papermill": {
     "duration": 0.492648,
     "end_time": "2020-12-05T02:28:56.606422",
     "exception": false,
     "start_time": "2020-12-05T02:28:56.113774",
     "status": "completed"
    },
    "tags": []
   },
   "outputs": [],
   "source": [
    "from sklearn.decomposition import PCA"
   ]
  },
  {
   "cell_type": "code",
   "execution_count": 66,
   "metadata": {
    "execution": {
     "iopub.execute_input": "2020-12-05T02:28:56.926987Z",
     "iopub.status.busy": "2020-12-05T02:28:56.926172Z",
     "iopub.status.idle": "2020-12-05T02:28:56.929628Z",
     "shell.execute_reply": "2020-12-05T02:28:56.928898Z"
    },
    "papermill": {
     "duration": 0.164572,
     "end_time": "2020-12-05T02:28:56.929770",
     "exception": false,
     "start_time": "2020-12-05T02:28:56.765198",
     "status": "completed"
    },
    "tags": []
   },
   "outputs": [],
   "source": [
    "pcaModel=PCA()"
   ]
  },
  {
   "cell_type": "code",
   "execution_count": 67,
   "metadata": {
    "execution": {
     "iopub.execute_input": "2020-12-05T02:28:57.277467Z",
     "iopub.status.busy": "2020-12-05T02:28:57.276642Z",
     "iopub.status.idle": "2020-12-05T02:28:57.280809Z",
     "shell.execute_reply": "2020-12-05T02:28:57.280013Z"
    },
    "papermill": {
     "duration": 0.187916,
     "end_time": "2020-12-05T02:28:57.281015",
     "exception": false,
     "start_time": "2020-12-05T02:28:57.093099",
     "status": "completed"
    },
    "tags": []
   },
   "outputs": [],
   "source": [
    "#x_pca_data = x.iloc[:,0:8]#x[['X0','X4','X6']] #"
   ]
  },
  {
   "cell_type": "code",
   "execution_count": 68,
   "metadata": {
    "execution": {
     "iopub.execute_input": "2020-12-05T02:28:57.644482Z",
     "iopub.status.busy": "2020-12-05T02:28:57.643114Z",
     "iopub.status.idle": "2020-12-05T02:28:57.897553Z",
     "shell.execute_reply": "2020-12-05T02:28:57.898188Z"
    },
    "papermill": {
     "duration": 0.426997,
     "end_time": "2020-12-05T02:28:57.898382",
     "exception": false,
     "start_time": "2020-12-05T02:28:57.471385",
     "status": "completed"
    },
    "tags": []
   },
   "outputs": [
    {
     "data": {
      "text/plain": [
       "PCA()"
      ]
     },
     "execution_count": 68,
     "metadata": {},
     "output_type": "execute_result"
    }
   ],
   "source": [
    "pcaModel.fit(x)"
   ]
  },
  {
   "cell_type": "code",
   "execution_count": 69,
   "metadata": {},
   "outputs": [
    {
     "data": {
      "image/png": "[encoded data removed]",
      "text/plain": [
       "<Figure size 432x288 with 1 Axes>"
      ]
     },
     "metadata": {
      "needs_background": "light"
     },
     "output_type": "display_data"
    }
   ],
   "source": [
    "# We can plot the cumulative explained variance ratio to check the % of variance in the dataset covered by the buildup of PCA components.\n",
    "plt.plot(pcaModel.explained_variance_ratio_.cumsum()*100)\n",
    "plt.xlabel('number of components')\n",
    "plt.ylabel('proportion of variance')\n",
    "plt.show()"
   ]
  },
  {
   "cell_type": "code",
   "execution_count": 70,
   "metadata": {
    "execution": {
     "iopub.execute_input": "2020-12-05T02:28:58.915417Z",
     "iopub.status.busy": "2020-12-05T02:28:58.913551Z",
     "iopub.status.idle": "2020-12-05T02:28:58.919564Z",
     "shell.execute_reply": "2020-12-05T02:28:58.920160Z"
    },
    "papermill": {
     "duration": 0.174187,
     "end_time": "2020-12-05T02:28:58.920331",
     "exception": false,
     "start_time": "2020-12-05T02:28:58.746144",
     "status": "completed"
    },
    "tags": []
   },
   "outputs": [
    {
     "data": {
      "text/plain": [
       "Text(0, 0.5, 'variance')"
      ]
     },
     "execution_count": 70,
     "metadata": {},
     "output_type": "execute_result"
    },
    {
     "data": {
      "image/png": "[encoded data removed]",
      "text/plain": [
       "<Figure size 432x288 with 1 Axes>"
      ]
     },
     "metadata": {
      "needs_background": "light"
     },
     "output_type": "display_data"
    }
   ],
   "source": [
    "#To find out how many components to use, we will keep track of the variance explained with the increase of a number of features.\n",
    "features = range(pcaModel.n_components_)\n",
    "plt.bar(features, pcaModel.explained_variance_)\n",
    "plt.xlabel('features')\n",
    "plt.ylabel('variance')"
   ]
  },
  {
   "cell_type": "markdown",
   "metadata": {
    "papermill": {
     "duration": 0.171954,
     "end_time": "2020-12-05T02:28:59.264282",
     "exception": false,
     "start_time": "2020-12-05T02:28:59.092328",
     "status": "completed"
    },
    "tags": []
   },
   "source": [
    "**We can either eye-balling from the graph above to choose the number of components that capture a large enough proportion of the variance, say at least 95%. Alternatively, we can also directly give the number of explained variance ratio we want as an argument in the pca** "
   ]
  },
  {
   "cell_type": "code",
   "execution_count": 71,
   "metadata": {},
   "outputs": [
    {
     "name": "stdout",
     "output_type": "stream",
     "text": [
      "How many components does the 95% explained variance retain:  149\n"
     ]
    }
   ],
   "source": [
    "pca_95 = PCA(n_components=0.95).fit(x)\n",
    "x_pca_95 = pca_95.transform(x)\n",
    "print('How many components does the 95% explained variance retain:  {}'.format(x_pca_95.shape[1]))"
   ]
  },
  {
   "cell_type": "markdown",
   "metadata": {},
   "source": [
    "**From the above result, we will choose 150 as the number of PCA components and there by plot the proportion of explained variance and the number of components.**"
   ]
  },
  {
   "cell_type": "code",
   "execution_count": 72,
   "metadata": {},
   "outputs": [],
   "source": [
    "# create a PCA object again (instantiate) by considering first 150 principal components\n",
    "pca_150=PCA(n_components=150)"
   ]
  },
  {
   "cell_type": "code",
   "execution_count": 73,
   "metadata": {},
   "outputs": [],
   "source": [
    "# fit and transform the train dataset\n",
    "# transform the test dataset\n",
    "\n",
    "# fit the train dataset\n",
    "pca_fit_train_X_150 = pca_150.fit(x)\n",
    "\n",
    "# transform the train dataset\n",
    "pca_fit_transform_train_X_150 = pca_fit_train_X_150.transform(x)"
   ]
  },
  {
   "cell_type": "code",
   "execution_count": 74,
   "metadata": {},
   "outputs": [
    {
     "data": {
      "text/plain": [
       "array([ 6.9, 12.5, 17. , 20.4, 23.7, 26.9, 29.7, 31.8, 33.8, 35.6, 37.2,\n",
       "       38.8, 40.2, 41.7, 43. , 44.3, 45.6, 46.7, 47.9, 48.9, 49.9, 50.9,\n",
       "       51.8, 52.7, 53.6, 54.5, 55.2, 56. , 56.7, 57.5, 58.2, 58.8, 59.5,\n",
       "       60.1, 60.8, 61.4, 61.9, 62.5, 63.1, 63.6, 64.2, 64.7, 65.3, 65.8,\n",
       "       66.3, 66.8, 67.3, 67.8, 68.2, 68.7, 69.1, 69.6, 70. , 70.4, 70.9,\n",
       "       71.3, 71.7, 72.1, 72.5, 72.9, 73.3, 73.7, 74. , 74.4, 74.8, 75.1,\n",
       "       75.5, 75.8, 76.2, 76.5, 76.8, 77.2, 77.5, 77.8, 78.1, 78.4, 78.8,\n",
       "       79.1, 79.4, 79.7, 80. , 80.3, 80.6, 80.9, 81.1, 81.4, 81.7, 82. ,\n",
       "       82.3, 82.6, 82.9, 83.1, 83.4, 83.7, 83.9, 84.2, 84.5, 84.7, 85. ,\n",
       "       85.3, 85.5, 85.8, 86. , 86.3, 86.5, 86.8, 87. , 87.3, 87.5, 87.7,\n",
       "       88. , 88.2, 88.4, 88.7, 88.9, 89.1, 89.3, 89.5, 89.8, 90. , 90.2,\n",
       "       90.4, 90.6, 90.8, 91. , 91.2, 91.4, 91.6, 91.8, 92. , 92.2, 92.3,\n",
       "       92.5, 92.7, 92.9, 93. , 93.2, 93.4, 93.5, 93.7, 93.9, 94. , 94.2,\n",
       "       94.3, 94.5, 94.6, 94.8, 94.9, 95. , 95.2])"
      ]
     },
     "execution_count": 74,
     "metadata": {},
     "output_type": "execute_result"
    }
   ],
   "source": [
    "## check the variation for the first 150 principal components \n",
    "pca_train_X_variation_150 = np.round(pca_fit_train_X_150.explained_variance_ratio_.cumsum()*100,decimals=1)\n",
    "pca_train_X_variation_150\n",
    "##"
   ]
  },
  {
   "cell_type": "code",
   "execution_count": 75,
   "metadata": {},
   "outputs": [
    {
     "data": {
      "text/plain": [
       "Text(0, 0.5, 'Cumulative percentage of explained variance ')"
      ]
     },
     "execution_count": 75,
     "metadata": {},
     "output_type": "execute_result"
    },
    {
     "data": {
      "image/png": "[encoded data removed]",
      "text/plain": [
       "<Figure size 1800x720 with 1 Axes>"
      ]
     },
     "metadata": {
      "needs_background": "light"
     },
     "output_type": "display_data"
    }
   ],
   "source": [
    "# generate the scree plot\n",
    "## \n",
    "plt.figure(figsize=(25,10))\n",
    "##\n",
    "plt.bar(x=range(1, len(pca_train_X_variation_150)+1), height=pca_train_X_variation_150)\n",
    "##\n",
    "plt.xticks(np.arange(1, 155, step=30), ['PC1', 'PC30', 'PC60', 'PC90', 'PC120', 'PC150'], rotation=90, color='indigo', size=15)\n",
    "plt.yticks(rotation=0, color='indigo', size=15)\n",
    "##\n",
    "##################\n",
    "plt.title('Scree Plot',color='tab:orange', fontsize=25)\n",
    "###################\n",
    "##\n",
    "plt.xlabel('Principal Components', {'color': 'tab:orange', 'fontsize':15})\n",
    "plt.ylabel('Cumulative percentage of explained variance ', {'color': 'tab:orange', 'fontsize':15})\n",
    "##"
   ]
  },
  {
   "cell_type": "code",
   "execution_count": 76,
   "metadata": {
    "execution": {
     "iopub.execute_input": "2020-12-05T02:29:00.835378Z",
     "iopub.status.busy": "2020-12-05T02:29:00.833978Z",
     "iopub.status.idle": "2020-12-05T02:29:00.851263Z",
     "shell.execute_reply": "2020-12-05T02:29:00.850456Z"
    },
    "papermill": {
     "duration": 0.197676,
     "end_time": "2020-12-05T02:29:00.851397",
     "exception": false,
     "start_time": "2020-12-05T02:29:00.653721",
     "status": "completed"
    },
    "tags": []
   },
   "outputs": [
    {
     "data": {
      "text/html": [
       "<div>\n",
       "<style scoped>\n",
       "    .dataframe tbody tr th:only-of-type {\n",
       "        vertical-align: middle;\n",
       "    }\n",
       "\n",
       "    .dataframe tbody tr th {\n",
       "        vertical-align: top;\n",
       "    }\n",
       "\n",
       "    .dataframe thead th {\n",
       "        text-align: right;\n",
       "    }\n",
       "</style>\n",
       "<table border=\"1\" class=\"dataframe\">\n",
       "  <thead>\n",
       "    <tr style=\"text-align: right;\">\n",
       "      <th></th>\n",
       "      <th>PC1</th>\n",
       "      <th>PC2</th>\n",
       "      <th>PC3</th>\n",
       "      <th>PC4</th>\n",
       "      <th>PC5</th>\n",
       "      <th>PC6</th>\n",
       "      <th>PC7</th>\n",
       "      <th>PC8</th>\n",
       "      <th>PC9</th>\n",
       "      <th>PC10</th>\n",
       "      <th>...</th>\n",
       "      <th>PC141</th>\n",
       "      <th>PC142</th>\n",
       "      <th>PC143</th>\n",
       "      <th>PC144</th>\n",
       "      <th>PC145</th>\n",
       "      <th>PC146</th>\n",
       "      <th>PC147</th>\n",
       "      <th>PC148</th>\n",
       "      <th>PC149</th>\n",
       "      <th>PC150</th>\n",
       "    </tr>\n",
       "  </thead>\n",
       "  <tbody>\n",
       "    <tr>\n",
       "      <th>0</th>\n",
       "      <td>12.376851</td>\n",
       "      <td>-2.773476</td>\n",
       "      <td>-0.778542</td>\n",
       "      <td>1.788914</td>\n",
       "      <td>-1.303255</td>\n",
       "      <td>-3.748896</td>\n",
       "      <td>8.956082</td>\n",
       "      <td>-3.778299</td>\n",
       "      <td>-16.390230</td>\n",
       "      <td>8.443923</td>\n",
       "      <td>...</td>\n",
       "      <td>-0.029790</td>\n",
       "      <td>-0.096086</td>\n",
       "      <td>0.213384</td>\n",
       "      <td>-0.301085</td>\n",
       "      <td>0.022648</td>\n",
       "      <td>-0.070419</td>\n",
       "      <td>0.325939</td>\n",
       "      <td>-0.345673</td>\n",
       "      <td>0.029950</td>\n",
       "      <td>-0.131960</td>\n",
       "    </tr>\n",
       "    <tr>\n",
       "      <th>1</th>\n",
       "      <td>-0.102893</td>\n",
       "      <td>0.244312</td>\n",
       "      <td>0.812741</td>\n",
       "      <td>1.138951</td>\n",
       "      <td>-2.543796</td>\n",
       "      <td>-0.056889</td>\n",
       "      <td>0.873845</td>\n",
       "      <td>-0.483037</td>\n",
       "      <td>-0.761949</td>\n",
       "      <td>0.032933</td>\n",
       "      <td>...</td>\n",
       "      <td>0.802203</td>\n",
       "      <td>-1.164184</td>\n",
       "      <td>0.161817</td>\n",
       "      <td>-0.087640</td>\n",
       "      <td>-1.647108</td>\n",
       "      <td>0.982196</td>\n",
       "      <td>0.300907</td>\n",
       "      <td>3.235544</td>\n",
       "      <td>-1.594902</td>\n",
       "      <td>2.150219</td>\n",
       "    </tr>\n",
       "    <tr>\n",
       "      <th>2</th>\n",
       "      <td>9.989586</td>\n",
       "      <td>21.148657</td>\n",
       "      <td>-4.893128</td>\n",
       "      <td>-4.432381</td>\n",
       "      <td>0.804407</td>\n",
       "      <td>2.604364</td>\n",
       "      <td>1.031247</td>\n",
       "      <td>3.972039</td>\n",
       "      <td>-1.189738</td>\n",
       "      <td>1.119210</td>\n",
       "      <td>...</td>\n",
       "      <td>-9.205383</td>\n",
       "      <td>-5.853424</td>\n",
       "      <td>2.413608</td>\n",
       "      <td>0.704099</td>\n",
       "      <td>3.682173</td>\n",
       "      <td>-1.184070</td>\n",
       "      <td>1.103809</td>\n",
       "      <td>2.030605</td>\n",
       "      <td>-0.164372</td>\n",
       "      <td>-0.123681</td>\n",
       "    </tr>\n",
       "    <tr>\n",
       "      <th>3</th>\n",
       "      <td>7.090980</td>\n",
       "      <td>21.440999</td>\n",
       "      <td>-5.788614</td>\n",
       "      <td>0.257321</td>\n",
       "      <td>1.960750</td>\n",
       "      <td>0.720504</td>\n",
       "      <td>0.387890</td>\n",
       "      <td>0.106745</td>\n",
       "      <td>0.103594</td>\n",
       "      <td>2.847567</td>\n",
       "      <td>...</td>\n",
       "      <td>1.325859</td>\n",
       "      <td>1.151890</td>\n",
       "      <td>0.403555</td>\n",
       "      <td>0.381124</td>\n",
       "      <td>0.521717</td>\n",
       "      <td>0.107032</td>\n",
       "      <td>0.370342</td>\n",
       "      <td>-0.587602</td>\n",
       "      <td>0.271600</td>\n",
       "      <td>0.173242</td>\n",
       "    </tr>\n",
       "    <tr>\n",
       "      <th>4</th>\n",
       "      <td>6.359971</td>\n",
       "      <td>21.637068</td>\n",
       "      <td>-6.021265</td>\n",
       "      <td>0.873290</td>\n",
       "      <td>2.006362</td>\n",
       "      <td>-0.019136</td>\n",
       "      <td>-0.875080</td>\n",
       "      <td>-0.388438</td>\n",
       "      <td>1.007770</td>\n",
       "      <td>0.867416</td>\n",
       "      <td>...</td>\n",
       "      <td>-10.583136</td>\n",
       "      <td>-5.864323</td>\n",
       "      <td>3.736335</td>\n",
       "      <td>2.784246</td>\n",
       "      <td>6.200430</td>\n",
       "      <td>-2.140420</td>\n",
       "      <td>1.448587</td>\n",
       "      <td>3.386943</td>\n",
       "      <td>-0.535567</td>\n",
       "      <td>1.062911</td>\n",
       "    </tr>\n",
       "  </tbody>\n",
       "</table>\n",
       "<p>5 rows × 150 columns</p>\n",
       "</div>"
      ],
      "text/plain": [
       "         PC1        PC2       PC3       PC4       PC5       PC6       PC7  \\\n",
       "0  12.376851  -2.773476 -0.778542  1.788914 -1.303255 -3.748896  8.956082   \n",
       "1  -0.102893   0.244312  0.812741  1.138951 -2.543796 -0.056889  0.873845   \n",
       "2   9.989586  21.148657 -4.893128 -4.432381  0.804407  2.604364  1.031247   \n",
       "3   7.090980  21.440999 -5.788614  0.257321  1.960750  0.720504  0.387890   \n",
       "4   6.359971  21.637068 -6.021265  0.873290  2.006362 -0.019136 -0.875080   \n",
       "\n",
       "        PC8        PC9      PC10  ...      PC141     PC142     PC143  \\\n",
       "0 -3.778299 -16.390230  8.443923  ...  -0.029790 -0.096086  0.213384   \n",
       "1 -0.483037  -0.761949  0.032933  ...   0.802203 -1.164184  0.161817   \n",
       "2  3.972039  -1.189738  1.119210  ...  -9.205383 -5.853424  2.413608   \n",
       "3  0.106745   0.103594  2.847567  ...   1.325859  1.151890  0.403555   \n",
       "4 -0.388438   1.007770  0.867416  ... -10.583136 -5.864323  3.736335   \n",
       "\n",
       "      PC144     PC145     PC146     PC147     PC148     PC149     PC150  \n",
       "0 -0.301085  0.022648 -0.070419  0.325939 -0.345673  0.029950 -0.131960  \n",
       "1 -0.087640 -1.647108  0.982196  0.300907  3.235544 -1.594902  2.150219  \n",
       "2  0.704099  3.682173 -1.184070  1.103809  2.030605 -0.164372 -0.123681  \n",
       "3  0.381124  0.521717  0.107032  0.370342 -0.587602  0.271600  0.173242  \n",
       "4  2.784246  6.200430 -2.140420  1.448587  3.386943 -0.535567  1.062911  \n",
       "\n",
       "[5 rows x 150 columns]"
      ]
     },
     "execution_count": 76,
     "metadata": {},
     "output_type": "execute_result"
    }
   ],
   "source": [
    "col_lst = []\n",
    "x_pca = pd.DataFrame(pca_fit_transform_train_X_150)\n",
    "\n",
    "for i in range(1,x_pca.shape[1]+1):\n",
    "    col_lst.append(f'PC{i}')\n",
    "    \n",
    "pca_df = pd.DataFrame(pca_fit_transform_train_X_150, columns=col_lst)\n",
    "pca_df.head()"
   ]
  },
  {
   "cell_type": "code",
   "execution_count": 77,
   "metadata": {},
   "outputs": [
    {
     "data": {
      "text/html": [
       "<div>\n",
       "<style scoped>\n",
       "    .dataframe tbody tr th:only-of-type {\n",
       "        vertical-align: middle;\n",
       "    }\n",
       "\n",
       "    .dataframe tbody tr th {\n",
       "        vertical-align: top;\n",
       "    }\n",
       "\n",
       "    .dataframe thead th {\n",
       "        text-align: right;\n",
       "    }\n",
       "</style>\n",
       "<table border=\"1\" class=\"dataframe\">\n",
       "  <thead>\n",
       "    <tr style=\"text-align: right;\">\n",
       "      <th></th>\n",
       "      <th>PC1</th>\n",
       "      <th>PC2</th>\n",
       "      <th>PC3</th>\n",
       "      <th>PC4</th>\n",
       "      <th>PC5</th>\n",
       "      <th>PC6</th>\n",
       "      <th>PC7</th>\n",
       "      <th>PC8</th>\n",
       "      <th>PC9</th>\n",
       "      <th>PC10</th>\n",
       "      <th>...</th>\n",
       "      <th>PC141</th>\n",
       "      <th>PC142</th>\n",
       "      <th>PC143</th>\n",
       "      <th>PC144</th>\n",
       "      <th>PC145</th>\n",
       "      <th>PC146</th>\n",
       "      <th>PC147</th>\n",
       "      <th>PC148</th>\n",
       "      <th>PC149</th>\n",
       "      <th>PC150</th>\n",
       "    </tr>\n",
       "  </thead>\n",
       "  <tbody>\n",
       "    <tr>\n",
       "      <th>X0</th>\n",
       "      <td>0.192617</td>\n",
       "      <td>0.169393</td>\n",
       "      <td>0.328970</td>\n",
       "      <td>0.238451</td>\n",
       "      <td>0.100074</td>\n",
       "      <td>0.058796</td>\n",
       "      <td>0.069626</td>\n",
       "      <td>0.147271</td>\n",
       "      <td>0.088211</td>\n",
       "      <td>0.029340</td>\n",
       "      <td>...</td>\n",
       "      <td>0.026432</td>\n",
       "      <td>0.039301</td>\n",
       "      <td>0.054378</td>\n",
       "      <td>0.050913</td>\n",
       "      <td>0.041540</td>\n",
       "      <td>0.106768</td>\n",
       "      <td>0.023646</td>\n",
       "      <td>0.024050</td>\n",
       "      <td>0.028239</td>\n",
       "      <td>0.019394</td>\n",
       "    </tr>\n",
       "    <tr>\n",
       "      <th>X1</th>\n",
       "      <td>0.100761</td>\n",
       "      <td>0.177590</td>\n",
       "      <td>0.410519</td>\n",
       "      <td>0.076807</td>\n",
       "      <td>0.038077</td>\n",
       "      <td>0.026038</td>\n",
       "      <td>0.161761</td>\n",
       "      <td>0.195903</td>\n",
       "      <td>0.122463</td>\n",
       "      <td>0.040018</td>\n",
       "      <td>...</td>\n",
       "      <td>0.046931</td>\n",
       "      <td>0.033252</td>\n",
       "      <td>0.024825</td>\n",
       "      <td>0.000074</td>\n",
       "      <td>0.086312</td>\n",
       "      <td>0.010693</td>\n",
       "      <td>0.001550</td>\n",
       "      <td>0.001500</td>\n",
       "      <td>0.013437</td>\n",
       "      <td>0.079624</td>\n",
       "    </tr>\n",
       "    <tr>\n",
       "      <th>X2</th>\n",
       "      <td>0.382932</td>\n",
       "      <td>0.143666</td>\n",
       "      <td>0.041379</td>\n",
       "      <td>0.018328</td>\n",
       "      <td>0.127329</td>\n",
       "      <td>0.118808</td>\n",
       "      <td>0.066261</td>\n",
       "      <td>0.038262</td>\n",
       "      <td>0.150425</td>\n",
       "      <td>0.078408</td>\n",
       "      <td>...</td>\n",
       "      <td>0.020307</td>\n",
       "      <td>0.075097</td>\n",
       "      <td>0.022631</td>\n",
       "      <td>0.051597</td>\n",
       "      <td>0.049478</td>\n",
       "      <td>0.026453</td>\n",
       "      <td>0.048224</td>\n",
       "      <td>0.001381</td>\n",
       "      <td>0.002671</td>\n",
       "      <td>0.025544</td>\n",
       "    </tr>\n",
       "    <tr>\n",
       "      <th>X3</th>\n",
       "      <td>0.088808</td>\n",
       "      <td>0.351063</td>\n",
       "      <td>0.317585</td>\n",
       "      <td>0.374288</td>\n",
       "      <td>0.213492</td>\n",
       "      <td>0.002240</td>\n",
       "      <td>0.227547</td>\n",
       "      <td>0.061956</td>\n",
       "      <td>0.041835</td>\n",
       "      <td>0.085313</td>\n",
       "      <td>...</td>\n",
       "      <td>0.035957</td>\n",
       "      <td>0.038213</td>\n",
       "      <td>0.065340</td>\n",
       "      <td>0.047053</td>\n",
       "      <td>0.069716</td>\n",
       "      <td>0.029873</td>\n",
       "      <td>0.062355</td>\n",
       "      <td>0.052767</td>\n",
       "      <td>0.052999</td>\n",
       "      <td>0.054154</td>\n",
       "    </tr>\n",
       "    <tr>\n",
       "      <th>X4</th>\n",
       "      <td>0.040082</td>\n",
       "      <td>0.012700</td>\n",
       "      <td>0.009936</td>\n",
       "      <td>0.010543</td>\n",
       "      <td>0.004000</td>\n",
       "      <td>0.008373</td>\n",
       "      <td>0.018716</td>\n",
       "      <td>0.021593</td>\n",
       "      <td>0.004508</td>\n",
       "      <td>0.004700</td>\n",
       "      <td>...</td>\n",
       "      <td>0.003838</td>\n",
       "      <td>0.031171</td>\n",
       "      <td>0.045229</td>\n",
       "      <td>0.007301</td>\n",
       "      <td>0.037346</td>\n",
       "      <td>0.004934</td>\n",
       "      <td>0.028344</td>\n",
       "      <td>0.005204</td>\n",
       "      <td>0.019565</td>\n",
       "      <td>0.020688</td>\n",
       "    </tr>\n",
       "  </tbody>\n",
       "</table>\n",
       "<p>5 rows × 150 columns</p>\n",
       "</div>"
      ],
      "text/plain": [
       "         PC1       PC2       PC3       PC4       PC5       PC6       PC7  \\\n",
       "X0  0.192617  0.169393  0.328970  0.238451  0.100074  0.058796  0.069626   \n",
       "X1  0.100761  0.177590  0.410519  0.076807  0.038077  0.026038  0.161761   \n",
       "X2  0.382932  0.143666  0.041379  0.018328  0.127329  0.118808  0.066261   \n",
       "X3  0.088808  0.351063  0.317585  0.374288  0.213492  0.002240  0.227547   \n",
       "X4  0.040082  0.012700  0.009936  0.010543  0.004000  0.008373  0.018716   \n",
       "\n",
       "         PC8       PC9      PC10  ...     PC141     PC142     PC143     PC144  \\\n",
       "X0  0.147271  0.088211  0.029340  ...  0.026432  0.039301  0.054378  0.050913   \n",
       "X1  0.195903  0.122463  0.040018  ...  0.046931  0.033252  0.024825  0.000074   \n",
       "X2  0.038262  0.150425  0.078408  ...  0.020307  0.075097  0.022631  0.051597   \n",
       "X3  0.061956  0.041835  0.085313  ...  0.035957  0.038213  0.065340  0.047053   \n",
       "X4  0.021593  0.004508  0.004700  ...  0.003838  0.031171  0.045229  0.007301   \n",
       "\n",
       "       PC145     PC146     PC147     PC148     PC149     PC150  \n",
       "X0  0.041540  0.106768  0.023646  0.024050  0.028239  0.019394  \n",
       "X1  0.086312  0.010693  0.001550  0.001500  0.013437  0.079624  \n",
       "X2  0.049478  0.026453  0.048224  0.001381  0.002671  0.025544  \n",
       "X3  0.069716  0.029873  0.062355  0.052767  0.052999  0.054154  \n",
       "X4  0.037346  0.004934  0.028344  0.005204  0.019565  0.020688  \n",
       "\n",
       "[5 rows x 150 columns]"
      ]
     },
     "execution_count": 77,
     "metadata": {},
     "output_type": "execute_result"
    }
   ],
   "source": [
    "# caluclate the correlation between the cleaned df_train and pca_df\n",
    "df_train = x.copy(deep=True)\n",
    "\n",
    "x_pca = pd.concat([df_train[1:], pca_df], axis=1, join='inner')\n",
    "\n",
    "corr = x_pca.corr().abs()\n",
    "corr = corr.loc[df_train.columns[1:], pca_df.columns]\n",
    "corr.head()"
   ]
  },
  {
   "cell_type": "code",
   "execution_count": 78,
   "metadata": {},
   "outputs": [
    {
     "name": "stdout",
     "output_type": "stream",
     "text": [
      "The PC1 correlated with X48 feature from cleaned train dataset at 0.8336\n",
      "The PC1 correlated with X66 feature from cleaned train dataset at 0.8294\n",
      "The PC1 correlated with X80 feature from cleaned train dataset at 0.8546\n",
      "The PC1 correlated with X98 feature from cleaned train dataset at 0.7546\n",
      "The PC1 correlated with X101 feature from cleaned train dataset at 0.7849\n",
      "The PC1 correlated with X111 feature from cleaned train dataset at 0.8343\n",
      "The PC1 correlated with X113 feature from cleaned train dataset at 0.8336\n",
      "The PC1 correlated with X126 feature from cleaned train dataset at 0.8421\n",
      "The PC1 correlated with X128 feature from cleaned train dataset at 0.8346\n",
      "The PC1 correlated with X130 feature from cleaned train dataset at 0.8346\n",
      "The PC1 correlated with X134 feature from cleaned train dataset at 0.8336\n",
      "The PC1 correlated with X147 feature from cleaned train dataset at 0.8336\n",
      "The PC1 correlated with X170 feature from cleaned train dataset at 0.7749\n",
      "The PC1 correlated with X179 feature from cleaned train dataset at 0.7955\n",
      "The PC1 correlated with X189 feature from cleaned train dataset at 0.7580\n",
      "The PC1 correlated with X198 feature from cleaned train dataset at 0.8338\n",
      "The PC1 correlated with X222 feature from cleaned train dataset at 0.8336\n",
      "The PC1 correlated with X238 feature from cleaned train dataset at 0.7581\n",
      "The PC1 correlated with X264 feature from cleaned train dataset at 0.8411\n",
      "The PC1 correlated with X265 feature from cleaned train dataset at 0.7949\n",
      "The PC1 correlated with X348 feature from cleaned train dataset at 0.8563\n",
      "The PC2 correlated with X29 feature from cleaned train dataset at 0.9169\n",
      "The PC2 correlated with X54 feature from cleaned train dataset at 0.9158\n",
      "The PC2 correlated with X76 feature from cleaned train dataset at 0.9158\n",
      "The PC2 correlated with X136 feature from cleaned train dataset at 0.9158\n",
      "The PC2 correlated with X162 feature from cleaned train dataset at 0.8987\n",
      "The PC2 correlated with X166 feature from cleaned train dataset at 0.8205\n",
      "The PC2 correlated with X232 feature from cleaned train dataset at 0.9169\n",
      "The PC2 correlated with X263 feature from cleaned train dataset at 0.9169\n",
      "The PC2 correlated with X272 feature from cleaned train dataset at 0.8762\n",
      "The PC2 correlated with X276 feature from cleaned train dataset at 0.8760\n",
      "The PC2 correlated with X279 feature from cleaned train dataset at 0.9169\n",
      "The PC2 correlated with X328 feature from cleaned train dataset at 0.8975\n"
     ]
    }
   ],
   "source": [
    "# check where the correlation is above 0.75\n",
    "for col in corr.columns:\n",
    "    for n, i in enumerate(corr.loc[:,col]):\n",
    "        if (i>=0.75):\n",
    "            print (f\"The {col} correlated with {corr.index[n]} feature from cleaned train dataset at {i:2.4f}\")"
   ]
  },
  {
   "cell_type": "markdown",
   "metadata": {},
   "source": [
    "From the list above, we can conclude that with the threshold of absolute correlation value between the PCA components with features in the cleaned train dataset of at least 0.75, we have the following observations:\n",
    "\n",
    "- PC1 correlated with 21 core features namely X48, X66, X80, X98, X101, X111, X113, X126, X128, X130, X134, X147, X170, X179, X189, X198, X222, X238, X264, X265 and X348\n",
    "- PC2 correlated with 12 core features namely X29, X54, X76, X136, X162, X166, X232, X263, X272, X276, X279, X328"
   ]
  }
 ],
 "metadata": {
  "kernelspec": {
   "display_name": "Python 3",
   "language": "python",
   "name": "python3"
  },
  "language_info": {
   "codemirror_mode": {
    "name": "ipython",
    "version": 3
   },
   "file_extension": ".py",
   "mimetype": "text/x-python",
   "name": "python",
   "nbconvert_exporter": "python",
   "pygments_lexer": "ipython3",
   "version": "3.7.6"
  },
  "papermill": {
   "duration": 79.795123,
   "end_time": "2020-12-05T02:29:34.252902",
   "environment_variables": {},
   "exception": null,
   "input_path": "__notebook__.ipynb",
   "output_path": "__notebook__.ipynb",
   "parameters": {},
   "start_time": "2020-12-05T02:28:14.457779",
   "version": "2.1.0"
  }
 },
 "nbformat": 4,
 "nbformat_minor": 4
}
