{
  "nbformat": 4,
  "nbformat_minor": 0,
  "metadata": {
    "kernelspec": {
      "display_name": "Python 3",
      "language": "python",
      "name": "python3"
    },
    "language_info": {
      "codemirror_mode": {
        "name": "ipython",
        "version": 3
      },
      "file_extension": ".py",
      "mimetype": "text/x-python",
      "name": "python",
      "nbconvert_exporter": "python",
      "pygments_lexer": "ipython3",
      "version": "3.7.6"
    },
    "colab": {
      "name": "Australian Marriage Survey.ipynb",
      "provenance": [],
      "collapsed_sections": []
    }
  },
  "cells": [
    {
      "cell_type": "markdown",
      "metadata": {
        "id": "uIv0ytttmg5u"
      },
      "source": [
        "ETL for the Participation Excel:"
      ]
    },
    {
      "cell_type": "code",
      "metadata": {
        "id": "TifKBBe1lF9x"
      },
      "source": [
        "import pandas as pd\n",
        "import numpy as np\n",
        "import seaborn as sns\n",
        "import matplotlib.pyplot as plt"
      ],
      "execution_count": 1,
      "outputs": []
    },
    {
      "cell_type": "code",
      "metadata": {
        "id": "N8XpmYHBlF91"
      },
      "source": [
        "def read_sheet(filename,sheetname):\n",
        "    df = pd.read_excel(filename,sheet_name=sheetname,header=5)\n",
        "    df.rename(columns={'Unnamed: 0':'division','Unnamed: 1':'title'},inplace=True)\n",
        "    # remove referencing in the header and in divisions / states \n",
        "    df.columns=df.columns.str.replace(r'\\([a-z]\\)','')\n",
        "    df['division']=df['division'].str.replace(r'\\([a-z]\\)','')\n",
        "    # remove empty rows based on the value of the first 2 columns \n",
        "    df.dropna(subset=['division', 'title'], axis=0, how='all', inplace=True)\n",
        "    # fill the rows with empty 'division' by using ffill\n",
        "    df['division'].ffill(inplace=True)\n",
        "    # create new column 'state' wherever title column is empty\n",
        "    df.loc[df['title'].isnull(),'state'] = df['division']\n",
        "    # fill the rows with empty 'state'     \n",
        "    df['state'].ffill(inplace=True)\n",
        "    # remove empty rows based on the value of the column Title\n",
        "    df.dropna(subset=['title'], axis=0, inplace=True)\n",
        "    # clean 'state' column by removing unnecessary wording 'Division'\n",
        "    df['state'] = df['state'].str.replace('Divisions','').str.strip()\n",
        "    # remove Totals to avoid double counting\n",
        "    df = df[~df['division'].str.contains(\"Total\")]\n",
        "    return df"
      ],
      "execution_count": 2,
      "outputs": []
    },
    {
      "cell_type": "code",
      "metadata": {
        "id": "WKrQ065hlF92"
      },
      "source": [
        "filename = \"australian_marriage_law_postal_survey_2017_-_participation_final.xls\"\n",
        "df4 = read_sheet(filename,\"Table 4\")\n",
        "df5 = read_sheet(filename,\"Table 5\")\n",
        "df6 = read_sheet(filename,\"Table 6\")\n",
        "\n",
        "df5['gender'] = 'Male'\n",
        "df6['gender'] = 'Female'\n",
        "\n",
        "# remove Totals to avoid double counting \n",
        "df5.drop(['Total Males'], axis=1, inplace=True)\n",
        "df6.drop(['Total Females'], axis=1, inplace=True)"
      ],
      "execution_count": 3,
      "outputs": []
    },
    {
      "cell_type": "code",
      "metadata": {
        "id": "H1kSzu8MlF92"
      },
      "source": [
        "# adjust the structure of Table 4 to be able to merge it with the Tables 5 & 6\n",
        "df4['gender'] = 'nfd'\n",
        "df4['age-range'] = 'nfd'\n",
        "df4.rename(columns={'Age and/or gender nfd.':'value'},inplace=True)\n",
        "df4 = df4[['state','division','title','gender','age-range','value']]"
      ],
      "execution_count": 4,
      "outputs": []
    },
    {
      "cell_type": "code",
      "metadata": {
        "id": "UhTLNEZhlF92"
      },
      "source": [
        "# unpivoting Tables 5 & 6 \n",
        "df5_melted = pd.melt(df5, id_vars = ['state','division','gender','title'], var_name = 'age-range', value_name = 'value')\n",
        "df6_melted = pd.melt(df6, id_vars = ['state','division','gender','title'], var_name = 'age-range', value_name = 'value')"
      ],
      "execution_count": 5,
      "outputs": []
    },
    {
      "cell_type": "code",
      "metadata": {
        "id": "TgUQ350OlF93"
      },
      "source": [
        "# contact the 3 tables into one consolidated table \r\n",
        "df = pd.concat([df4,df5_melted,df6_melted],axis=0)"
      ],
      "execution_count": 6,
      "outputs": []
    },
    {
      "cell_type": "code",
      "metadata": {
        "id": "cSkQd69IlF93",
        "colab": {
          "base_uri": "https://localhost:8080/",
          "height": 204
        },
        "outputId": "40ca1c5a-21f9-4462-d647-22f4b60830f6"
      },
      "source": [
        "# drop 'Participation rate (%)' to avoid adding the percentages \r\n",
        "df = df[df['title']!='Participation rate (%)']\r\n",
        "df.head()"
      ],
      "execution_count": 7,
      "outputs": [
        {
          "output_type": "execute_result",
          "data": {
            "text/html": [
              "<div>\n",
              "<style scoped>\n",
              "    .dataframe tbody tr th:only-of-type {\n",
              "        vertical-align: middle;\n",
              "    }\n",
              "\n",
              "    .dataframe tbody tr th {\n",
              "        vertical-align: top;\n",
              "    }\n",
              "\n",
              "    .dataframe thead th {\n",
              "        text-align: right;\n",
              "    }\n",
              "</style>\n",
              "<table border=\"1\" class=\"dataframe\">\n",
              "  <thead>\n",
              "    <tr style=\"text-align: right;\">\n",
              "      <th></th>\n",
              "      <th>state</th>\n",
              "      <th>division</th>\n",
              "      <th>title</th>\n",
              "      <th>gender</th>\n",
              "      <th>age-range</th>\n",
              "      <th>value</th>\n",
              "    </tr>\n",
              "  </thead>\n",
              "  <tbody>\n",
              "    <tr>\n",
              "      <th>1</th>\n",
              "      <td>New South Wales</td>\n",
              "      <td>Banks</td>\n",
              "      <td>Total participants</td>\n",
              "      <td>nfd</td>\n",
              "      <td>nfd</td>\n",
              "      <td>480.0</td>\n",
              "    </tr>\n",
              "    <tr>\n",
              "      <th>2</th>\n",
              "      <td>New South Wales</td>\n",
              "      <td>Banks</td>\n",
              "      <td>Eligible participants</td>\n",
              "      <td>nfd</td>\n",
              "      <td>nfd</td>\n",
              "      <td>572.0</td>\n",
              "    </tr>\n",
              "    <tr>\n",
              "      <th>5</th>\n",
              "      <td>New South Wales</td>\n",
              "      <td>Barton</td>\n",
              "      <td>Total participants</td>\n",
              "      <td>nfd</td>\n",
              "      <td>nfd</td>\n",
              "      <td>396.0</td>\n",
              "    </tr>\n",
              "    <tr>\n",
              "      <th>6</th>\n",
              "      <td>New South Wales</td>\n",
              "      <td>Barton</td>\n",
              "      <td>Eligible participants</td>\n",
              "      <td>nfd</td>\n",
              "      <td>nfd</td>\n",
              "      <td>465.0</td>\n",
              "    </tr>\n",
              "    <tr>\n",
              "      <th>9</th>\n",
              "      <td>New South Wales</td>\n",
              "      <td>Bennelong</td>\n",
              "      <td>Total participants</td>\n",
              "      <td>nfd</td>\n",
              "      <td>nfd</td>\n",
              "      <td>480.0</td>\n",
              "    </tr>\n",
              "  </tbody>\n",
              "</table>\n",
              "</div>"
            ],
            "text/plain": [
              "             state   division                  title gender age-range  value\n",
              "1  New South Wales      Banks     Total participants    nfd       nfd  480.0\n",
              "2  New South Wales      Banks  Eligible participants    nfd       nfd  572.0\n",
              "5  New South Wales     Barton     Total participants    nfd       nfd  396.0\n",
              "6  New South Wales     Barton  Eligible participants    nfd       nfd  465.0\n",
              "9  New South Wales  Bennelong     Total participants    nfd       nfd  480.0"
            ]
          },
          "metadata": {
            "tags": []
          },
          "execution_count": 7
        }
      ]
    },
    {
      "cell_type": "code",
      "metadata": {
        "id": "Cu3gTGeZlF93",
        "colab": {
          "base_uri": "https://localhost:8080/"
        },
        "outputId": "695dd287-ed61-4faa-b59b-7dbb1a7ec549"
      },
      "source": [
        "#pivoting the dataframe to aggregate the details by Total and Eligible participants from the title column accross all other columns\n",
        "df_pivot = df.pivot_table(index=['state','division','gender','age-range'],columns=['title'],values=['value']).reset_index()\n",
        "df_pivot.info()"
      ],
      "execution_count": 8,
      "outputs": [
        {
          "output_type": "stream",
          "text": [
            "<class 'pandas.core.frame.DataFrame'>\n",
            "RangeIndex: 4650 entries, 0 to 4649\n",
            "Data columns (total 6 columns):\n",
            " #   Column                          Non-Null Count  Dtype  \n",
            "---  ------                          --------------  -----  \n",
            " 0   (state, )                       4650 non-null   object \n",
            " 1   (division, )                    4650 non-null   object \n",
            " 2   (gender, )                      4650 non-null   object \n",
            " 3   (age-range, )                   4650 non-null   object \n",
            " 4   (value, Eligible participants)  4650 non-null   float64\n",
            " 5   (value, Total participants)     4650 non-null   float64\n",
            "dtypes: float64(2), object(4)\n",
            "memory usage: 218.1+ KB\n"
          ],
          "name": "stdout"
        }
      ]
    },
    {
      "cell_type": "code",
      "metadata": {
        "id": "xC6eUKOAlF94",
        "colab": {
          "base_uri": "https://localhost:8080/",
          "height": 450
        },
        "outputId": "26ca96d1-ea26-4291-8f12-308077d3d0b3"
      },
      "source": [
        "df_pivot"
      ],
      "execution_count": 9,
      "outputs": [
        {
          "output_type": "execute_result",
          "data": {
            "text/html": [
              "<div>\n",
              "<style scoped>\n",
              "    .dataframe tbody tr th:only-of-type {\n",
              "        vertical-align: middle;\n",
              "    }\n",
              "\n",
              "    .dataframe tbody tr th {\n",
              "        vertical-align: top;\n",
              "    }\n",
              "\n",
              "    .dataframe thead tr th {\n",
              "        text-align: left;\n",
              "    }\n",
              "</style>\n",
              "<table border=\"1\" class=\"dataframe\">\n",
              "  <thead>\n",
              "    <tr>\n",
              "      <th></th>\n",
              "      <th>state</th>\n",
              "      <th>division</th>\n",
              "      <th>gender</th>\n",
              "      <th>age-range</th>\n",
              "      <th colspan=\"2\" halign=\"left\">value</th>\n",
              "    </tr>\n",
              "    <tr>\n",
              "      <th>title</th>\n",
              "      <th></th>\n",
              "      <th></th>\n",
              "      <th></th>\n",
              "      <th></th>\n",
              "      <th>Eligible participants</th>\n",
              "      <th>Total participants</th>\n",
              "    </tr>\n",
              "  </thead>\n",
              "  <tbody>\n",
              "    <tr>\n",
              "      <th>0</th>\n",
              "      <td>Australian Capital Territory</td>\n",
              "      <td>Canberra</td>\n",
              "      <td>Female</td>\n",
              "      <td>18-19 years</td>\n",
              "      <td>2433.0</td>\n",
              "      <td>2092.0</td>\n",
              "    </tr>\n",
              "    <tr>\n",
              "      <th>1</th>\n",
              "      <td>Australian Capital Territory</td>\n",
              "      <td>Canberra</td>\n",
              "      <td>Female</td>\n",
              "      <td>20-24 years</td>\n",
              "      <td>6171.0</td>\n",
              "      <td>5084.0</td>\n",
              "    </tr>\n",
              "    <tr>\n",
              "      <th>2</th>\n",
              "      <td>Australian Capital Territory</td>\n",
              "      <td>Canberra</td>\n",
              "      <td>Female</td>\n",
              "      <td>25-29 years</td>\n",
              "      <td>6464.0</td>\n",
              "      <td>5343.0</td>\n",
              "    </tr>\n",
              "    <tr>\n",
              "      <th>3</th>\n",
              "      <td>Australian Capital Territory</td>\n",
              "      <td>Canberra</td>\n",
              "      <td>Female</td>\n",
              "      <td>30-34 years</td>\n",
              "      <td>6359.0</td>\n",
              "      <td>5260.0</td>\n",
              "    </tr>\n",
              "    <tr>\n",
              "      <th>4</th>\n",
              "      <td>Australian Capital Territory</td>\n",
              "      <td>Canberra</td>\n",
              "      <td>Female</td>\n",
              "      <td>35-39 years</td>\n",
              "      <td>6134.0</td>\n",
              "      <td>4990.0</td>\n",
              "    </tr>\n",
              "    <tr>\n",
              "      <th>...</th>\n",
              "      <td>...</td>\n",
              "      <td>...</td>\n",
              "      <td>...</td>\n",
              "      <td>...</td>\n",
              "      <td>...</td>\n",
              "      <td>...</td>\n",
              "    </tr>\n",
              "    <tr>\n",
              "      <th>4645</th>\n",
              "      <td>Western Australia</td>\n",
              "      <td>Tangney</td>\n",
              "      <td>Male</td>\n",
              "      <td>70-74 years</td>\n",
              "      <td>2783.0</td>\n",
              "      <td>2550.0</td>\n",
              "    </tr>\n",
              "    <tr>\n",
              "      <th>4646</th>\n",
              "      <td>Western Australia</td>\n",
              "      <td>Tangney</td>\n",
              "      <td>Male</td>\n",
              "      <td>75-79 years</td>\n",
              "      <td>1791.0</td>\n",
              "      <td>1649.0</td>\n",
              "    </tr>\n",
              "    <tr>\n",
              "      <th>4647</th>\n",
              "      <td>Western Australia</td>\n",
              "      <td>Tangney</td>\n",
              "      <td>Male</td>\n",
              "      <td>80-84 years</td>\n",
              "      <td>1257.0</td>\n",
              "      <td>1148.0</td>\n",
              "    </tr>\n",
              "    <tr>\n",
              "      <th>4648</th>\n",
              "      <td>Western Australia</td>\n",
              "      <td>Tangney</td>\n",
              "      <td>Male</td>\n",
              "      <td>85 years and over</td>\n",
              "      <td>1327.0</td>\n",
              "      <td>1158.0</td>\n",
              "    </tr>\n",
              "    <tr>\n",
              "      <th>4649</th>\n",
              "      <td>Western Australia</td>\n",
              "      <td>Tangney</td>\n",
              "      <td>nfd</td>\n",
              "      <td>nfd</td>\n",
              "      <td>1097.0</td>\n",
              "      <td>922.0</td>\n",
              "    </tr>\n",
              "  </tbody>\n",
              "</table>\n",
              "<p>4650 rows × 6 columns</p>\n",
              "</div>"
            ],
            "text/plain": [
              "                              state  ...              value\n",
              "title                                ... Total participants\n",
              "0      Australian Capital Territory  ...             2092.0\n",
              "1      Australian Capital Territory  ...             5084.0\n",
              "2      Australian Capital Territory  ...             5343.0\n",
              "3      Australian Capital Territory  ...             5260.0\n",
              "4      Australian Capital Territory  ...             4990.0\n",
              "...                             ...  ...                ...\n",
              "4645              Western Australia  ...             2550.0\n",
              "4646              Western Australia  ...             1649.0\n",
              "4647              Western Australia  ...             1148.0\n",
              "4648              Western Australia  ...             1158.0\n",
              "4649              Western Australia  ...              922.0\n",
              "\n",
              "[4650 rows x 6 columns]"
            ]
          },
          "metadata": {
            "tags": []
          },
          "execution_count": 9
        }
      ]
    },
    {
      "cell_type": "code",
      "metadata": {
        "id": "wypcVS3dlF94"
      },
      "source": [
        "# fix the header of the pivoted dataframe\n",
        "df_pivot.columns = [''.join(col).strip() for col in df_pivot.columns.values]\n",
        "df_pivot.columns = df_pivot.columns.str.replace('value','')"
      ],
      "execution_count": 10,
      "outputs": []
    },
    {
      "cell_type": "code",
      "metadata": {
        "id": "HbLHe4O2lF95",
        "colab": {
          "base_uri": "https://localhost:8080/",
          "height": 419
        },
        "outputId": "ba3512b9-5c0b-4b44-8810-c15a06706a06"
      },
      "source": [
        "df_pivot"
      ],
      "execution_count": 11,
      "outputs": [
        {
          "output_type": "execute_result",
          "data": {
            "text/html": [
              "<div>\n",
              "<style scoped>\n",
              "    .dataframe tbody tr th:only-of-type {\n",
              "        vertical-align: middle;\n",
              "    }\n",
              "\n",
              "    .dataframe tbody tr th {\n",
              "        vertical-align: top;\n",
              "    }\n",
              "\n",
              "    .dataframe thead th {\n",
              "        text-align: right;\n",
              "    }\n",
              "</style>\n",
              "<table border=\"1\" class=\"dataframe\">\n",
              "  <thead>\n",
              "    <tr style=\"text-align: right;\">\n",
              "      <th></th>\n",
              "      <th>state</th>\n",
              "      <th>division</th>\n",
              "      <th>gender</th>\n",
              "      <th>age-range</th>\n",
              "      <th>Eligible participants</th>\n",
              "      <th>Total participants</th>\n",
              "    </tr>\n",
              "  </thead>\n",
              "  <tbody>\n",
              "    <tr>\n",
              "      <th>0</th>\n",
              "      <td>Australian Capital Territory</td>\n",
              "      <td>Canberra</td>\n",
              "      <td>Female</td>\n",
              "      <td>18-19 years</td>\n",
              "      <td>2433.0</td>\n",
              "      <td>2092.0</td>\n",
              "    </tr>\n",
              "    <tr>\n",
              "      <th>1</th>\n",
              "      <td>Australian Capital Territory</td>\n",
              "      <td>Canberra</td>\n",
              "      <td>Female</td>\n",
              "      <td>20-24 years</td>\n",
              "      <td>6171.0</td>\n",
              "      <td>5084.0</td>\n",
              "    </tr>\n",
              "    <tr>\n",
              "      <th>2</th>\n",
              "      <td>Australian Capital Territory</td>\n",
              "      <td>Canberra</td>\n",
              "      <td>Female</td>\n",
              "      <td>25-29 years</td>\n",
              "      <td>6464.0</td>\n",
              "      <td>5343.0</td>\n",
              "    </tr>\n",
              "    <tr>\n",
              "      <th>3</th>\n",
              "      <td>Australian Capital Territory</td>\n",
              "      <td>Canberra</td>\n",
              "      <td>Female</td>\n",
              "      <td>30-34 years</td>\n",
              "      <td>6359.0</td>\n",
              "      <td>5260.0</td>\n",
              "    </tr>\n",
              "    <tr>\n",
              "      <th>4</th>\n",
              "      <td>Australian Capital Territory</td>\n",
              "      <td>Canberra</td>\n",
              "      <td>Female</td>\n",
              "      <td>35-39 years</td>\n",
              "      <td>6134.0</td>\n",
              "      <td>4990.0</td>\n",
              "    </tr>\n",
              "    <tr>\n",
              "      <th>...</th>\n",
              "      <td>...</td>\n",
              "      <td>...</td>\n",
              "      <td>...</td>\n",
              "      <td>...</td>\n",
              "      <td>...</td>\n",
              "      <td>...</td>\n",
              "    </tr>\n",
              "    <tr>\n",
              "      <th>4645</th>\n",
              "      <td>Western Australia</td>\n",
              "      <td>Tangney</td>\n",
              "      <td>Male</td>\n",
              "      <td>70-74 years</td>\n",
              "      <td>2783.0</td>\n",
              "      <td>2550.0</td>\n",
              "    </tr>\n",
              "    <tr>\n",
              "      <th>4646</th>\n",
              "      <td>Western Australia</td>\n",
              "      <td>Tangney</td>\n",
              "      <td>Male</td>\n",
              "      <td>75-79 years</td>\n",
              "      <td>1791.0</td>\n",
              "      <td>1649.0</td>\n",
              "    </tr>\n",
              "    <tr>\n",
              "      <th>4647</th>\n",
              "      <td>Western Australia</td>\n",
              "      <td>Tangney</td>\n",
              "      <td>Male</td>\n",
              "      <td>80-84 years</td>\n",
              "      <td>1257.0</td>\n",
              "      <td>1148.0</td>\n",
              "    </tr>\n",
              "    <tr>\n",
              "      <th>4648</th>\n",
              "      <td>Western Australia</td>\n",
              "      <td>Tangney</td>\n",
              "      <td>Male</td>\n",
              "      <td>85 years and over</td>\n",
              "      <td>1327.0</td>\n",
              "      <td>1158.0</td>\n",
              "    </tr>\n",
              "    <tr>\n",
              "      <th>4649</th>\n",
              "      <td>Western Australia</td>\n",
              "      <td>Tangney</td>\n",
              "      <td>nfd</td>\n",
              "      <td>nfd</td>\n",
              "      <td>1097.0</td>\n",
              "      <td>922.0</td>\n",
              "    </tr>\n",
              "  </tbody>\n",
              "</table>\n",
              "<p>4650 rows × 6 columns</p>\n",
              "</div>"
            ],
            "text/plain": [
              "                             state  ... Total participants\n",
              "0     Australian Capital Territory  ...             2092.0\n",
              "1     Australian Capital Territory  ...             5084.0\n",
              "2     Australian Capital Territory  ...             5343.0\n",
              "3     Australian Capital Territory  ...             5260.0\n",
              "4     Australian Capital Territory  ...             4990.0\n",
              "...                            ...  ...                ...\n",
              "4645             Western Australia  ...             2550.0\n",
              "4646             Western Australia  ...             1649.0\n",
              "4647             Western Australia  ...             1148.0\n",
              "4648             Western Australia  ...             1158.0\n",
              "4649             Western Australia  ...              922.0\n",
              "\n",
              "[4650 rows x 6 columns]"
            ]
          },
          "metadata": {
            "tags": []
          },
          "execution_count": 11
        }
      ]
    },
    {
      "cell_type": "code",
      "metadata": {
        "id": "Mg4C2mJElF95",
        "colab": {
          "base_uri": "https://localhost:8080/"
        },
        "outputId": "235c925a-9487-4125-9ee3-465f75ec2b59"
      },
      "source": [
        "df_pivot.info()"
      ],
      "execution_count": 12,
      "outputs": [
        {
          "output_type": "stream",
          "text": [
            "<class 'pandas.core.frame.DataFrame'>\n",
            "RangeIndex: 4650 entries, 0 to 4649\n",
            "Data columns (total 6 columns):\n",
            " #   Column                 Non-Null Count  Dtype  \n",
            "---  ------                 --------------  -----  \n",
            " 0   state                  4650 non-null   object \n",
            " 1   division               4650 non-null   object \n",
            " 2   gender                 4650 non-null   object \n",
            " 3   age-range              4650 non-null   object \n",
            " 4   Eligible participants  4650 non-null   float64\n",
            " 5   Total participants     4650 non-null   float64\n",
            "dtypes: float64(2), object(4)\n",
            "memory usage: 218.1+ KB\n"
          ],
          "name": "stdout"
        }
      ]
    },
    {
      "cell_type": "code",
      "metadata": {
        "id": "S_zo6JnjlF96",
        "colab": {
          "base_uri": "https://localhost:8080/",
          "height": 419
        },
        "outputId": "d053cc79-7389-4124-9d8a-db6932c1a44e"
      },
      "source": [
        "# Recreating Table 4\n",
        "\n",
        "df_pivot.groupby(['state','age-range']).sum().reset_index()"
      ],
      "execution_count": 13,
      "outputs": [
        {
          "output_type": "execute_result",
          "data": {
            "text/html": [
              "<div>\n",
              "<style scoped>\n",
              "    .dataframe tbody tr th:only-of-type {\n",
              "        vertical-align: middle;\n",
              "    }\n",
              "\n",
              "    .dataframe tbody tr th {\n",
              "        vertical-align: top;\n",
              "    }\n",
              "\n",
              "    .dataframe thead th {\n",
              "        text-align: right;\n",
              "    }\n",
              "</style>\n",
              "<table border=\"1\" class=\"dataframe\">\n",
              "  <thead>\n",
              "    <tr style=\"text-align: right;\">\n",
              "      <th></th>\n",
              "      <th>state</th>\n",
              "      <th>age-range</th>\n",
              "      <th>Eligible participants</th>\n",
              "      <th>Total participants</th>\n",
              "    </tr>\n",
              "  </thead>\n",
              "  <tbody>\n",
              "    <tr>\n",
              "      <th>0</th>\n",
              "      <td>Australian Capital Territory</td>\n",
              "      <td>18-19 years</td>\n",
              "      <td>8605.0</td>\n",
              "      <td>6975.0</td>\n",
              "    </tr>\n",
              "    <tr>\n",
              "      <th>1</th>\n",
              "      <td>Australian Capital Territory</td>\n",
              "      <td>20-24 years</td>\n",
              "      <td>25566.0</td>\n",
              "      <td>19818.0</td>\n",
              "    </tr>\n",
              "    <tr>\n",
              "      <th>2</th>\n",
              "      <td>Australian Capital Territory</td>\n",
              "      <td>25-29 years</td>\n",
              "      <td>27266.0</td>\n",
              "      <td>21202.0</td>\n",
              "    </tr>\n",
              "    <tr>\n",
              "      <th>3</th>\n",
              "      <td>Australian Capital Territory</td>\n",
              "      <td>30-34 years</td>\n",
              "      <td>28902.0</td>\n",
              "      <td>22631.0</td>\n",
              "    </tr>\n",
              "    <tr>\n",
              "      <th>4</th>\n",
              "      <td>Australian Capital Territory</td>\n",
              "      <td>35-39 years</td>\n",
              "      <td>28033.0</td>\n",
              "      <td>22115.0</td>\n",
              "    </tr>\n",
              "    <tr>\n",
              "      <th>...</th>\n",
              "      <td>...</td>\n",
              "      <td>...</td>\n",
              "      <td>...</td>\n",
              "      <td>...</td>\n",
              "    </tr>\n",
              "    <tr>\n",
              "      <th>123</th>\n",
              "      <td>Western Australia</td>\n",
              "      <td>70-74 years</td>\n",
              "      <td>85126.0</td>\n",
              "      <td>75850.0</td>\n",
              "    </tr>\n",
              "    <tr>\n",
              "      <th>124</th>\n",
              "      <td>Western Australia</td>\n",
              "      <td>75-79 years</td>\n",
              "      <td>59694.0</td>\n",
              "      <td>53033.0</td>\n",
              "    </tr>\n",
              "    <tr>\n",
              "      <th>125</th>\n",
              "      <td>Western Australia</td>\n",
              "      <td>80-84 years</td>\n",
              "      <td>39945.0</td>\n",
              "      <td>34869.0</td>\n",
              "    </tr>\n",
              "    <tr>\n",
              "      <th>126</th>\n",
              "      <td>Western Australia</td>\n",
              "      <td>85 years and over</td>\n",
              "      <td>37206.0</td>\n",
              "      <td>30225.0</td>\n",
              "    </tr>\n",
              "    <tr>\n",
              "      <th>127</th>\n",
              "      <td>Western Australia</td>\n",
              "      <td>nfd</td>\n",
              "      <td>19135.0</td>\n",
              "      <td>15627.0</td>\n",
              "    </tr>\n",
              "  </tbody>\n",
              "</table>\n",
              "<p>128 rows × 4 columns</p>\n",
              "</div>"
            ],
            "text/plain": [
              "                            state  ... Total participants\n",
              "0    Australian Capital Territory  ...             6975.0\n",
              "1    Australian Capital Territory  ...            19818.0\n",
              "2    Australian Capital Territory  ...            21202.0\n",
              "3    Australian Capital Territory  ...            22631.0\n",
              "4    Australian Capital Territory  ...            22115.0\n",
              "..                            ...  ...                ...\n",
              "123             Western Australia  ...            75850.0\n",
              "124             Western Australia  ...            53033.0\n",
              "125             Western Australia  ...            34869.0\n",
              "126             Western Australia  ...            30225.0\n",
              "127             Western Australia  ...            15627.0\n",
              "\n",
              "[128 rows x 4 columns]"
            ]
          },
          "metadata": {
            "tags": []
          },
          "execution_count": 13
        }
      ]
    },
    {
      "cell_type": "code",
      "metadata": {
        "id": "akVx0A3blF95",
        "colab": {
          "base_uri": "https://localhost:8080/",
          "height": 419
        },
        "outputId": "f3049790-25c1-4eb8-fdd4-005ab1a44dc7"
      },
      "source": [
        "#Recreating Table 5 with grouping by state and age-range and filtering on gender as Male\n",
        "\n",
        "df_pivot[df_pivot['gender']=='Male'].groupby(['state','age-range']).sum().reset_index()"
      ],
      "execution_count": 14,
      "outputs": [
        {
          "output_type": "execute_result",
          "data": {
            "text/html": [
              "<div>\n",
              "<style scoped>\n",
              "    .dataframe tbody tr th:only-of-type {\n",
              "        vertical-align: middle;\n",
              "    }\n",
              "\n",
              "    .dataframe tbody tr th {\n",
              "        vertical-align: top;\n",
              "    }\n",
              "\n",
              "    .dataframe thead th {\n",
              "        text-align: right;\n",
              "    }\n",
              "</style>\n",
              "<table border=\"1\" class=\"dataframe\">\n",
              "  <thead>\n",
              "    <tr style=\"text-align: right;\">\n",
              "      <th></th>\n",
              "      <th>state</th>\n",
              "      <th>age-range</th>\n",
              "      <th>Eligible participants</th>\n",
              "      <th>Total participants</th>\n",
              "    </tr>\n",
              "  </thead>\n",
              "  <tbody>\n",
              "    <tr>\n",
              "      <th>0</th>\n",
              "      <td>Australian Capital Territory</td>\n",
              "      <td>18-19 years</td>\n",
              "      <td>4164.0</td>\n",
              "      <td>3241.0</td>\n",
              "    </tr>\n",
              "    <tr>\n",
              "      <th>1</th>\n",
              "      <td>Australian Capital Territory</td>\n",
              "      <td>20-24 years</td>\n",
              "      <td>12825.0</td>\n",
              "      <td>9476.0</td>\n",
              "    </tr>\n",
              "    <tr>\n",
              "      <th>2</th>\n",
              "      <td>Australian Capital Territory</td>\n",
              "      <td>25-29 years</td>\n",
              "      <td>13569.0</td>\n",
              "      <td>9995.0</td>\n",
              "    </tr>\n",
              "    <tr>\n",
              "      <th>3</th>\n",
              "      <td>Australian Capital Territory</td>\n",
              "      <td>30-34 years</td>\n",
              "      <td>14331.0</td>\n",
              "      <td>10759.0</td>\n",
              "    </tr>\n",
              "    <tr>\n",
              "      <th>4</th>\n",
              "      <td>Australian Capital Territory</td>\n",
              "      <td>35-39 years</td>\n",
              "      <td>13943.0</td>\n",
              "      <td>10651.0</td>\n",
              "    </tr>\n",
              "    <tr>\n",
              "      <th>...</th>\n",
              "      <td>...</td>\n",
              "      <td>...</td>\n",
              "      <td>...</td>\n",
              "      <td>...</td>\n",
              "    </tr>\n",
              "    <tr>\n",
              "      <th>115</th>\n",
              "      <td>Western Australia</td>\n",
              "      <td>65-69 years</td>\n",
              "      <td>54504.0</td>\n",
              "      <td>47358.0</td>\n",
              "    </tr>\n",
              "    <tr>\n",
              "      <th>116</th>\n",
              "      <td>Western Australia</td>\n",
              "      <td>70-74 years</td>\n",
              "      <td>42161.0</td>\n",
              "      <td>37484.0</td>\n",
              "    </tr>\n",
              "    <tr>\n",
              "      <th>117</th>\n",
              "      <td>Western Australia</td>\n",
              "      <td>75-79 years</td>\n",
              "      <td>28500.0</td>\n",
              "      <td>25424.0</td>\n",
              "    </tr>\n",
              "    <tr>\n",
              "      <th>118</th>\n",
              "      <td>Western Australia</td>\n",
              "      <td>80-84 years</td>\n",
              "      <td>18066.0</td>\n",
              "      <td>15978.0</td>\n",
              "    </tr>\n",
              "    <tr>\n",
              "      <th>119</th>\n",
              "      <td>Western Australia</td>\n",
              "      <td>85 years and over</td>\n",
              "      <td>14588.0</td>\n",
              "      <td>12269.0</td>\n",
              "    </tr>\n",
              "  </tbody>\n",
              "</table>\n",
              "<p>120 rows × 4 columns</p>\n",
              "</div>"
            ],
            "text/plain": [
              "                            state  ... Total participants\n",
              "0    Australian Capital Territory  ...             3241.0\n",
              "1    Australian Capital Territory  ...             9476.0\n",
              "2    Australian Capital Territory  ...             9995.0\n",
              "3    Australian Capital Territory  ...            10759.0\n",
              "4    Australian Capital Territory  ...            10651.0\n",
              "..                            ...  ...                ...\n",
              "115             Western Australia  ...            47358.0\n",
              "116             Western Australia  ...            37484.0\n",
              "117             Western Australia  ...            25424.0\n",
              "118             Western Australia  ...            15978.0\n",
              "119             Western Australia  ...            12269.0\n",
              "\n",
              "[120 rows x 4 columns]"
            ]
          },
          "metadata": {
            "tags": []
          },
          "execution_count": 14
        }
      ]
    },
    {
      "cell_type": "code",
      "metadata": {
        "colab": {
          "base_uri": "https://localhost:8080/",
          "height": 419
        },
        "id": "lpCzpG_Ub-aB",
        "outputId": "882d1817-b9a3-4e31-f5af-a379eb672e6e"
      },
      "source": [
        "#Recreating Table 6 with grouping by state and age-range and filtering on gender as Female\r\n",
        "\r\n",
        "df_pivot[df_pivot['gender']=='Female'].groupby(['state','age-range']).sum().reset_index()"
      ],
      "execution_count": 15,
      "outputs": [
        {
          "output_type": "execute_result",
          "data": {
            "text/html": [
              "<div>\n",
              "<style scoped>\n",
              "    .dataframe tbody tr th:only-of-type {\n",
              "        vertical-align: middle;\n",
              "    }\n",
              "\n",
              "    .dataframe tbody tr th {\n",
              "        vertical-align: top;\n",
              "    }\n",
              "\n",
              "    .dataframe thead th {\n",
              "        text-align: right;\n",
              "    }\n",
              "</style>\n",
              "<table border=\"1\" class=\"dataframe\">\n",
              "  <thead>\n",
              "    <tr style=\"text-align: right;\">\n",
              "      <th></th>\n",
              "      <th>state</th>\n",
              "      <th>age-range</th>\n",
              "      <th>Eligible participants</th>\n",
              "      <th>Total participants</th>\n",
              "    </tr>\n",
              "  </thead>\n",
              "  <tbody>\n",
              "    <tr>\n",
              "      <th>0</th>\n",
              "      <td>Australian Capital Territory</td>\n",
              "      <td>18-19 years</td>\n",
              "      <td>4441.0</td>\n",
              "      <td>3734.0</td>\n",
              "    </tr>\n",
              "    <tr>\n",
              "      <th>1</th>\n",
              "      <td>Australian Capital Territory</td>\n",
              "      <td>20-24 years</td>\n",
              "      <td>12741.0</td>\n",
              "      <td>10342.0</td>\n",
              "    </tr>\n",
              "    <tr>\n",
              "      <th>2</th>\n",
              "      <td>Australian Capital Territory</td>\n",
              "      <td>25-29 years</td>\n",
              "      <td>13697.0</td>\n",
              "      <td>11207.0</td>\n",
              "    </tr>\n",
              "    <tr>\n",
              "      <th>3</th>\n",
              "      <td>Australian Capital Territory</td>\n",
              "      <td>30-34 years</td>\n",
              "      <td>14571.0</td>\n",
              "      <td>11872.0</td>\n",
              "    </tr>\n",
              "    <tr>\n",
              "      <th>4</th>\n",
              "      <td>Australian Capital Territory</td>\n",
              "      <td>35-39 years</td>\n",
              "      <td>14090.0</td>\n",
              "      <td>11464.0</td>\n",
              "    </tr>\n",
              "    <tr>\n",
              "      <th>...</th>\n",
              "      <td>...</td>\n",
              "      <td>...</td>\n",
              "      <td>...</td>\n",
              "      <td>...</td>\n",
              "    </tr>\n",
              "    <tr>\n",
              "      <th>115</th>\n",
              "      <td>Western Australia</td>\n",
              "      <td>65-69 years</td>\n",
              "      <td>55782.0</td>\n",
              "      <td>49382.0</td>\n",
              "    </tr>\n",
              "    <tr>\n",
              "      <th>116</th>\n",
              "      <td>Western Australia</td>\n",
              "      <td>70-74 years</td>\n",
              "      <td>42965.0</td>\n",
              "      <td>38366.0</td>\n",
              "    </tr>\n",
              "    <tr>\n",
              "      <th>117</th>\n",
              "      <td>Western Australia</td>\n",
              "      <td>75-79 years</td>\n",
              "      <td>31194.0</td>\n",
              "      <td>27609.0</td>\n",
              "    </tr>\n",
              "    <tr>\n",
              "      <th>118</th>\n",
              "      <td>Western Australia</td>\n",
              "      <td>80-84 years</td>\n",
              "      <td>21879.0</td>\n",
              "      <td>18891.0</td>\n",
              "    </tr>\n",
              "    <tr>\n",
              "      <th>119</th>\n",
              "      <td>Western Australia</td>\n",
              "      <td>85 years and over</td>\n",
              "      <td>22618.0</td>\n",
              "      <td>17956.0</td>\n",
              "    </tr>\n",
              "  </tbody>\n",
              "</table>\n",
              "<p>120 rows × 4 columns</p>\n",
              "</div>"
            ],
            "text/plain": [
              "                            state  ... Total participants\n",
              "0    Australian Capital Territory  ...             3734.0\n",
              "1    Australian Capital Territory  ...            10342.0\n",
              "2    Australian Capital Territory  ...            11207.0\n",
              "3    Australian Capital Territory  ...            11872.0\n",
              "4    Australian Capital Territory  ...            11464.0\n",
              "..                            ...  ...                ...\n",
              "115             Western Australia  ...            49382.0\n",
              "116             Western Australia  ...            38366.0\n",
              "117             Western Australia  ...            27609.0\n",
              "118             Western Australia  ...            18891.0\n",
              "119             Western Australia  ...            17956.0\n",
              "\n",
              "[120 rows x 4 columns]"
            ]
          },
          "metadata": {
            "tags": []
          },
          "execution_count": 15
        }
      ]
    },
    {
      "cell_type": "code",
      "metadata": {
        "id": "fubi2ImccNdC"
      },
      "source": [
        "#After the recreating test, we have proof that the integrity of the dataset is not affected"
      ],
      "execution_count": 16,
      "outputs": []
    },
    {
      "cell_type": "code",
      "metadata": {
        "id": "4iMz_LbZnSi8",
        "colab": {
          "base_uri": "https://localhost:8080/",
          "height": 447
        },
        "outputId": "24e72f49-1bd7-42e9-a3c2-c4dba71654bd"
      },
      "source": [
        "df_pivot.groupby(['age-range']).sum().plot(kind='bar',figsize=(10,5),title='Total Partricipation by Age Group')"
      ],
      "execution_count": 17,
      "outputs": [
        {
          "output_type": "execute_result",
          "data": {
            "text/plain": [
              "<matplotlib.axes._subplots.AxesSubplot at 0x7f4970b636a0>"
            ]
          },
          "metadata": {
            "tags": []
          },
          "execution_count": 17
        },
        {
          "output_type": "display_data",
          "data": {
            "image/png": "[encoded data removed]",
            "text/plain": [
              "<Figure size 720x360 with 1 Axes>"
            ]
          },
          "metadata": {
            "tags": [],
            "needs_background": "light"
          }
        }
      ]
    },
    {
      "cell_type": "code",
      "metadata": {
        "id": "3hJP0KZjjykd"
      },
      "source": [
        "#This graph shows that the age group of 45-49 years dominates on the number of both total and eligible participants"
      ],
      "execution_count": 18,
      "outputs": []
    },
    {
      "cell_type": "code",
      "metadata": {
        "colab": {
          "base_uri": "https://localhost:8080/",
          "height": 366
        },
        "id": "8CS194m15IDp",
        "outputId": "a6a89d95-64b8-487d-caa2-d70dc068a0cf"
      },
      "source": [
        "df_pivot.groupby(['state']).sum().sort_values('Total participants').plot(kind='barh',figsize=(10,5),title='Total Partricipation by State')"
      ],
      "execution_count": 19,
      "outputs": [
        {
          "output_type": "execute_result",
          "data": {
            "text/plain": [
              "<matplotlib.axes._subplots.AxesSubplot at 0x7f4970422c88>"
            ]
          },
          "metadata": {
            "tags": []
          },
          "execution_count": 19
        },
        {
          "output_type": "display_data",
          "data": {
            "image/png": "[encoded data removed]",
            "text/plain": [
              "<Figure size 720x360 with 1 Axes>"
            ]
          },
          "metadata": {
            "tags": [],
            "needs_background": "light"
          }
        }
      ]
    },
    {
      "cell_type": "code",
      "metadata": {
        "id": "UhU-hY89kF6k"
      },
      "source": [
        "#This graph shows that the New South Wales states is the state with the highest eligible and total participants. The next contenders are Victoria and Queensland states"
      ],
      "execution_count": 20,
      "outputs": []
    },
    {
      "cell_type": "code",
      "metadata": {
        "colab": {
          "base_uri": "https://localhost:8080/",
          "height": 496
        },
        "id": "6ggkVgC7AvRG",
        "outputId": "8d01ee8b-4d86-48f3-d4e5-c30df51a4fd2"
      },
      "source": [
        "df_pivot[['state','Total participants']].groupby(['state']).sum().sort_values('Total participants',ascending=False).plot(kind='pie',figsize=(7,7),autopct='%1d%%',title='Total Participation by State',subplots=True,legend=False,ylabel='')"
      ],
      "execution_count": 21,
      "outputs": [
        {
          "output_type": "execute_result",
          "data": {
            "text/plain": [
              "array([<matplotlib.axes._subplots.AxesSubplot object at 0x7f49703c94e0>],\n",
              "      dtype=object)"
            ]
          },
          "metadata": {
            "tags": []
          },
          "execution_count": 21
        },
        {
          "output_type": "display_data",
          "data": {
            "image/png": "[encoded data removed]",
            "text/plain": [
              "<Figure size 504x504 with 1 Axes>"
            ]
          },
          "metadata": {
            "tags": []
          }
        }
      ]
    },
    {
      "cell_type": "code",
      "metadata": {
        "id": "VpxiVjuWkcjt"
      },
      "source": [
        "#This pie chart shows similar conclusions as the previous chart on the % of total participants per state"
      ],
      "execution_count": 22,
      "outputs": []
    },
    {
      "cell_type": "code",
      "metadata": {
        "colab": {
          "base_uri": "https://localhost:8080/",
          "height": 824
        },
        "id": "XP2u_3me6GqI",
        "outputId": "114b4611-43cb-4753-f92b-aeb4db27fa83"
      },
      "source": [
        "df_pivot.groupby(['gender','state']).sum()"
      ],
      "execution_count": 23,
      "outputs": [
        {
          "output_type": "execute_result",
          "data": {
            "text/html": [
              "<div>\n",
              "<style scoped>\n",
              "    .dataframe tbody tr th:only-of-type {\n",
              "        vertical-align: middle;\n",
              "    }\n",
              "\n",
              "    .dataframe tbody tr th {\n",
              "        vertical-align: top;\n",
              "    }\n",
              "\n",
              "    .dataframe thead th {\n",
              "        text-align: right;\n",
              "    }\n",
              "</style>\n",
              "<table border=\"1\" class=\"dataframe\">\n",
              "  <thead>\n",
              "    <tr style=\"text-align: right;\">\n",
              "      <th></th>\n",
              "      <th></th>\n",
              "      <th>Eligible participants</th>\n",
              "      <th>Total participants</th>\n",
              "    </tr>\n",
              "    <tr>\n",
              "      <th>gender</th>\n",
              "      <th>state</th>\n",
              "      <th></th>\n",
              "      <th></th>\n",
              "    </tr>\n",
              "  </thead>\n",
              "  <tbody>\n",
              "    <tr>\n",
              "      <th rowspan=\"8\" valign=\"top\">Female</th>\n",
              "      <th>Australian Capital Territory</th>\n",
              "      <td>146228.0</td>\n",
              "      <td>123738.0</td>\n",
              "    </tr>\n",
              "    <tr>\n",
              "      <th>New South Wales</th>\n",
              "      <td>2641381.0</td>\n",
              "      <td>2147973.0</td>\n",
              "    </tr>\n",
              "    <tr>\n",
              "      <th>Northern Territory</th>\n",
              "      <td>67667.0</td>\n",
              "      <td>41088.0</td>\n",
              "    </tr>\n",
              "    <tr>\n",
              "      <th>Queensland</th>\n",
              "      <td>1606504.0</td>\n",
              "      <td>1286718.0</td>\n",
              "    </tr>\n",
              "    <tr>\n",
              "      <th>South Australia</th>\n",
              "      <td>606948.0</td>\n",
              "      <td>497531.0</td>\n",
              "    </tr>\n",
              "    <tr>\n",
              "      <th>Tasmania</th>\n",
              "      <td>195163.0</td>\n",
              "      <td>159487.0</td>\n",
              "    </tr>\n",
              "    <tr>\n",
              "      <th>Victoria</th>\n",
              "      <td>2077177.0</td>\n",
              "      <td>1736595.0</td>\n",
              "    </tr>\n",
              "    <tr>\n",
              "      <th>Western Australia</th>\n",
              "      <td>804269.0</td>\n",
              "      <td>651015.0</td>\n",
              "    </tr>\n",
              "    <tr>\n",
              "      <th rowspan=\"8\" valign=\"top\">Male</th>\n",
              "      <th>Australian Capital Territory</th>\n",
              "      <td>138587.0</td>\n",
              "      <td>110992.0</td>\n",
              "    </tr>\n",
              "    <tr>\n",
              "      <th>New South Wales</th>\n",
              "      <td>2514193.0</td>\n",
              "      <td>1947545.0</td>\n",
              "    </tr>\n",
              "    <tr>\n",
              "      <th>Northern Territory</th>\n",
              "      <td>69588.0</td>\n",
              "      <td>38980.0</td>\n",
              "    </tr>\n",
              "    <tr>\n",
              "      <th>Queensland</th>\n",
              "      <td>1520894.0</td>\n",
              "      <td>1149465.0</td>\n",
              "    </tr>\n",
              "    <tr>\n",
              "      <th>South Australia</th>\n",
              "      <td>574439.0</td>\n",
              "      <td>443896.0</td>\n",
              "    </tr>\n",
              "    <tr>\n",
              "      <th>Tasmania</th>\n",
              "      <td>181947.0</td>\n",
              "      <td>141006.0</td>\n",
              "    </tr>\n",
              "    <tr>\n",
              "      <th>Victoria</th>\n",
              "      <td>1952526.0</td>\n",
              "      <td>1554203.0</td>\n",
              "    </tr>\n",
              "    <tr>\n",
              "      <th>Western Australia</th>\n",
              "      <td>783616.0</td>\n",
              "      <td>594045.0</td>\n",
              "    </tr>\n",
              "    <tr>\n",
              "      <th rowspan=\"8\" valign=\"top\">nfd</th>\n",
              "      <th>Australian Capital Territory</th>\n",
              "      <td>3293.0</td>\n",
              "      <td>2783.0</td>\n",
              "    </tr>\n",
              "    <tr>\n",
              "      <th>New South Wales</th>\n",
              "      <td>32107.0</td>\n",
              "      <td>26718.0</td>\n",
              "    </tr>\n",
              "    <tr>\n",
              "      <th>Northern Territory</th>\n",
              "      <td>846.0</td>\n",
              "      <td>537.0</td>\n",
              "    </tr>\n",
              "    <tr>\n",
              "      <th>Queensland</th>\n",
              "      <td>23475.0</td>\n",
              "      <td>18980.0</td>\n",
              "    </tr>\n",
              "    <tr>\n",
              "      <th>South Australia</th>\n",
              "      <td>12193.0</td>\n",
              "      <td>10126.0</td>\n",
              "    </tr>\n",
              "    <tr>\n",
              "      <th>Tasmania</th>\n",
              "      <td>2318.0</td>\n",
              "      <td>1915.0</td>\n",
              "    </tr>\n",
              "    <tr>\n",
              "      <th>Victoria</th>\n",
              "      <td>31686.0</td>\n",
              "      <td>26957.0</td>\n",
              "    </tr>\n",
              "    <tr>\n",
              "      <th>Western Australia</th>\n",
              "      <td>19135.0</td>\n",
              "      <td>15627.0</td>\n",
              "    </tr>\n",
              "  </tbody>\n",
              "</table>\n",
              "</div>"
            ],
            "text/plain": [
              "                                     Eligible participants  Total participants\n",
              "gender state                                                                  \n",
              "Female Australian Capital Territory               146228.0            123738.0\n",
              "       New South Wales                           2641381.0           2147973.0\n",
              "       Northern Territory                          67667.0             41088.0\n",
              "       Queensland                                1606504.0           1286718.0\n",
              "       South Australia                            606948.0            497531.0\n",
              "       Tasmania                                   195163.0            159487.0\n",
              "       Victoria                                  2077177.0           1736595.0\n",
              "       Western Australia                          804269.0            651015.0\n",
              "Male   Australian Capital Territory               138587.0            110992.0\n",
              "       New South Wales                           2514193.0           1947545.0\n",
              "       Northern Territory                          69588.0             38980.0\n",
              "       Queensland                                1520894.0           1149465.0\n",
              "       South Australia                            574439.0            443896.0\n",
              "       Tasmania                                   181947.0            141006.0\n",
              "       Victoria                                  1952526.0           1554203.0\n",
              "       Western Australia                          783616.0            594045.0\n",
              "nfd    Australian Capital Territory                 3293.0              2783.0\n",
              "       New South Wales                             32107.0             26718.0\n",
              "       Northern Territory                            846.0               537.0\n",
              "       Queensland                                  23475.0             18980.0\n",
              "       South Australia                             12193.0             10126.0\n",
              "       Tasmania                                     2318.0              1915.0\n",
              "       Victoria                                    31686.0             26957.0\n",
              "       Western Australia                           19135.0             15627.0"
            ]
          },
          "metadata": {
            "tags": []
          },
          "execution_count": 23
        }
      ]
    },
    {
      "cell_type": "code",
      "metadata": {
        "colab": {
          "base_uri": "https://localhost:8080/",
          "height": 362
        },
        "id": "_tslL1Xg6ORw",
        "outputId": "ba753cd8-3ba4-40b9-db0b-65b781eef0cc"
      },
      "source": [
        "fig = plt.figure(figsize=(15,4))\r\n",
        "ax1 = fig.add_subplot(1,2,1)\r\n",
        "df_pivot[df_pivot['gender']=='Male'].groupby(['age-range']).sum().plot(ax=ax1,kind='bar', title='Male Participation by Age Range', xlabel='')\r\n",
        "ax2 = fig.add_subplot(1,2,2)\r\n",
        "df_pivot[df_pivot['gender']=='Female'].groupby(['age-range']).sum().plot(ax=ax2,kind='bar',title='Female Participation by Age Range', xlabel='')\r\n",
        "plt.show()"
      ],
      "execution_count": 24,
      "outputs": [
        {
          "output_type": "display_data",
          "data": {
            "image/png": "[encoded data removed]",
            "text/plain": [
              "<Figure size 1080x288 with 2 Axes>"
            ]
          },
          "metadata": {
            "tags": [],
            "needs_background": "light"
          }
        }
      ]
    },
    {
      "cell_type": "code",
      "metadata": {
        "id": "rtFuOUODcZv7",
        "colab": {
          "base_uri": "https://localhost:8080/",
          "height": 450
        },
        "outputId": "1d7c7e63-0850-4240-9be9-77067fc35fa4"
      },
      "source": [
        "#We wish to aggregagte in percent of the Total versus the Eligible participants between the Male and Female gender per age groups and each state.\r\n",
        "df_participants_partition = pd.DataFrame()\r\n",
        "\r\n",
        "df_male_participants = df_pivot[df_pivot['gender']=='Male'].groupby(['state','age-range']).sum()\r\n",
        "df_participants_partition[\"Male Participants\"] = df_male_participants[\"Total participants\"]/df_male_participants[\"Eligible participants\"]\r\n",
        "\r\n",
        "df_female_participants = df_pivot[df_pivot['gender']=='Female'].groupby(['state','age-range']).sum()\r\n",
        "df_participants_partition[\"Female Participants\"] = df_female_participants[\"Total participants\"]/df_female_participants[\"Eligible participants\"]\r\n",
        "\r\n",
        "df_participants_partition.groupby(['age-range','state']).sum()"
      ],
      "execution_count": 25,
      "outputs": [
        {
          "output_type": "execute_result",
          "data": {
            "text/html": [
              "<div>\n",
              "<style scoped>\n",
              "    .dataframe tbody tr th:only-of-type {\n",
              "        vertical-align: middle;\n",
              "    }\n",
              "\n",
              "    .dataframe tbody tr th {\n",
              "        vertical-align: top;\n",
              "    }\n",
              "\n",
              "    .dataframe thead th {\n",
              "        text-align: right;\n",
              "    }\n",
              "</style>\n",
              "<table border=\"1\" class=\"dataframe\">\n",
              "  <thead>\n",
              "    <tr style=\"text-align: right;\">\n",
              "      <th></th>\n",
              "      <th></th>\n",
              "      <th>Male Participants</th>\n",
              "      <th>Female Participants</th>\n",
              "    </tr>\n",
              "    <tr>\n",
              "      <th>age-range</th>\n",
              "      <th>state</th>\n",
              "      <th></th>\n",
              "      <th></th>\n",
              "    </tr>\n",
              "  </thead>\n",
              "  <tbody>\n",
              "    <tr>\n",
              "      <th rowspan=\"5\" valign=\"top\">18-19 years</th>\n",
              "      <th>Australian Capital Territory</th>\n",
              "      <td>0.778338</td>\n",
              "      <td>0.840802</td>\n",
              "    </tr>\n",
              "    <tr>\n",
              "      <th>New South Wales</th>\n",
              "      <td>0.744585</td>\n",
              "      <td>0.800394</td>\n",
              "    </tr>\n",
              "    <tr>\n",
              "      <th>Northern Territory</th>\n",
              "      <td>0.555219</td>\n",
              "      <td>0.619449</td>\n",
              "    </tr>\n",
              "    <tr>\n",
              "      <th>Queensland</th>\n",
              "      <td>0.715456</td>\n",
              "      <td>0.782098</td>\n",
              "    </tr>\n",
              "    <tr>\n",
              "      <th>South Australia</th>\n",
              "      <td>0.753996</td>\n",
              "      <td>0.819859</td>\n",
              "    </tr>\n",
              "    <tr>\n",
              "      <th>...</th>\n",
              "      <th>...</th>\n",
              "      <td>...</td>\n",
              "      <td>...</td>\n",
              "    </tr>\n",
              "    <tr>\n",
              "      <th rowspan=\"5\" valign=\"top\">85 years and over</th>\n",
              "      <th>Queensland</th>\n",
              "      <td>0.834159</td>\n",
              "      <td>0.794790</td>\n",
              "    </tr>\n",
              "    <tr>\n",
              "      <th>South Australia</th>\n",
              "      <td>0.831362</td>\n",
              "      <td>0.782462</td>\n",
              "    </tr>\n",
              "    <tr>\n",
              "      <th>Tasmania</th>\n",
              "      <td>0.842745</td>\n",
              "      <td>0.792658</td>\n",
              "    </tr>\n",
              "    <tr>\n",
              "      <th>Victoria</th>\n",
              "      <td>0.818847</td>\n",
              "      <td>0.778424</td>\n",
              "    </tr>\n",
              "    <tr>\n",
              "      <th>Western Australia</th>\n",
              "      <td>0.841034</td>\n",
              "      <td>0.793881</td>\n",
              "    </tr>\n",
              "  </tbody>\n",
              "</table>\n",
              "<p>120 rows × 2 columns</p>\n",
              "</div>"
            ],
            "text/plain": [
              "                                                Male Participants  Female Participants\n",
              "age-range         state                                                               \n",
              "18-19 years       Australian Capital Territory           0.778338             0.840802\n",
              "                  New South Wales                        0.744585             0.800394\n",
              "                  Northern Territory                     0.555219             0.619449\n",
              "                  Queensland                             0.715456             0.782098\n",
              "                  South Australia                        0.753996             0.819859\n",
              "...                                                           ...                  ...\n",
              "85 years and over Queensland                             0.834159             0.794790\n",
              "                  South Australia                        0.831362             0.782462\n",
              "                  Tasmania                               0.842745             0.792658\n",
              "                  Victoria                               0.818847             0.778424\n",
              "                  Western Australia                      0.841034             0.793881\n",
              "\n",
              "[120 rows x 2 columns]"
            ]
          },
          "metadata": {
            "tags": []
          },
          "execution_count": 25
        }
      ]
    },
    {
      "cell_type": "code",
      "metadata": {
        "colab": {
          "base_uri": "https://localhost:8080/",
          "height": 620
        },
        "id": "xjTJbqey-bos",
        "outputId": "6cce970c-08b1-4b8c-bda6-3e1d9ad5b0f5"
      },
      "source": [
        "fig = plt.figure(figsize=(10,10))\r\n",
        "ax1 = fig.add_subplot(2,1,1)\r\n",
        "df_pivot[df_pivot['gender']=='Male'].groupby(['state']).sum().sort_values('Total participants').plot(ax=ax1,kind='barh', title='Male Participation by State', xlabel='')\r\n",
        "ax2 = fig.add_subplot(2,1,2)\r\n",
        "df_pivot[df_pivot['gender']=='Female'].groupby(['state']).sum().sort_values('Total participants').plot(ax=ax2,kind='barh',title='Female Participation by State', xlabel='')\r\n",
        "plt.show()"
      ],
      "execution_count": 26,
      "outputs": [
        {
          "output_type": "display_data",
          "data": {
            "image/png": "[encoded data removed]",
            "text/plain": [
              "<Figure size 720x720 with 2 Axes>"
            ]
          },
          "metadata": {
            "tags": [],
            "needs_background": "light"
          }
        }
      ]
    },
    {
      "cell_type": "code",
      "metadata": {
        "id": "RuJFqHg5lN8F"
      },
      "source": [
        "#The above graph shows that the number of eligible and total participants are higher on the female gender per state than the male"
      ],
      "execution_count": 27,
      "outputs": []
    },
    {
      "cell_type": "markdown",
      "metadata": {
        "id": "w1JQyoMGmHTI"
      },
      "source": [
        "ETL for the Responses Excel file:\r\n"
      ]
    },
    {
      "cell_type": "code",
      "metadata": {
        "id": "dqzIkEqZmMGc"
      },
      "source": [
        "column_names = [\"division\", \"yes\", \"no\",\"not clear\", \"no response\"]\r\n",
        "# Many of the columns in this excel are repeated info from other columns and thus shall not be imported into the DataFrame\r\n",
        "df_responses = pd.read_excel(\"australian_marriage_law_postal_survey_2017_-_response_final.xls\", sheet_name=\"Table 2\", usecols=\"A:B,D,K,M\", names=column_names, skiprows = 6)"
      ],
      "execution_count": 28,
      "outputs": []
    },
    {
      "cell_type": "code",
      "metadata": {
        "id": "5lsd6k7LmSPU"
      },
      "source": [
        "# the last eleven rows only include totals and do not have to be included into the dataframe\r\n",
        "df_responses = df_responses[:-11]\r\n",
        "# State and division are found under the same column, the following three lines treat this and create a new State column\r\n",
        "df_responses.division.dropna(inplace=True)\r\n",
        "df_responses.loc[df_responses['yes'].isnull(),\"state/territory\"] = df_responses['division']\r\n",
        "df_responses[\"state/territory\"].ffill(axis=0, inplace=True)\r\n",
        "# We drop all remaining NaN values which pertain to rows which display totals\r\n",
        "df_responses.dropna(how=\"any\",axis=0, inplace=True)\r\n",
        "# Remove states from the division column (they always include \"Total\")\r\n",
        "df_responses = df_responses[~df_responses[\"division\"].str.contains(\"Total\")]\r\n",
        "# States include \"Divisions\" at the end of the name and are treated here\r\n",
        "df_responses[\"state/territory\"] = df_responses[\"state/territory\"].apply(lambda x: x[:-10])\r\n",
        "# Unpivot the columns: yes, no, not clear and no respone.\r\n",
        "df_responses = df_responses.melt(id_vars=[\"division\", \"state/territory\"], var_name = 'answer', value_name = 'value')"
      ],
      "execution_count": 29,
      "outputs": []
    },
    {
      "cell_type": "code",
      "metadata": {
        "id": "kgx_rkKZmcRr",
        "colab": {
          "base_uri": "https://localhost:8080/",
          "height": 204
        },
        "outputId": "185b38ab-5473-4d61-e0a1-85da435d052c"
      },
      "source": [
        "df_responses.head()"
      ],
      "execution_count": 30,
      "outputs": [
        {
          "output_type": "execute_result",
          "data": {
            "text/html": [
              "<div>\n",
              "<style scoped>\n",
              "    .dataframe tbody tr th:only-of-type {\n",
              "        vertical-align: middle;\n",
              "    }\n",
              "\n",
              "    .dataframe tbody tr th {\n",
              "        vertical-align: top;\n",
              "    }\n",
              "\n",
              "    .dataframe thead th {\n",
              "        text-align: right;\n",
              "    }\n",
              "</style>\n",
              "<table border=\"1\" class=\"dataframe\">\n",
              "  <thead>\n",
              "    <tr style=\"text-align: right;\">\n",
              "      <th></th>\n",
              "      <th>division</th>\n",
              "      <th>state/territory</th>\n",
              "      <th>answer</th>\n",
              "      <th>value</th>\n",
              "    </tr>\n",
              "  </thead>\n",
              "  <tbody>\n",
              "    <tr>\n",
              "      <th>0</th>\n",
              "      <td>Banks</td>\n",
              "      <td>New South Wales</td>\n",
              "      <td>yes</td>\n",
              "      <td>37736.0</td>\n",
              "    </tr>\n",
              "    <tr>\n",
              "      <th>1</th>\n",
              "      <td>Barton</td>\n",
              "      <td>New South Wales</td>\n",
              "      <td>yes</td>\n",
              "      <td>37153.0</td>\n",
              "    </tr>\n",
              "    <tr>\n",
              "      <th>2</th>\n",
              "      <td>Bennelong</td>\n",
              "      <td>New South Wales</td>\n",
              "      <td>yes</td>\n",
              "      <td>42943.0</td>\n",
              "    </tr>\n",
              "    <tr>\n",
              "      <th>3</th>\n",
              "      <td>Berowra</td>\n",
              "      <td>New South Wales</td>\n",
              "      <td>yes</td>\n",
              "      <td>48471.0</td>\n",
              "    </tr>\n",
              "    <tr>\n",
              "      <th>4</th>\n",
              "      <td>Blaxland</td>\n",
              "      <td>New South Wales</td>\n",
              "      <td>yes</td>\n",
              "      <td>20406.0</td>\n",
              "    </tr>\n",
              "  </tbody>\n",
              "</table>\n",
              "</div>"
            ],
            "text/plain": [
              "    division  state/territory answer    value\n",
              "0      Banks  New South Wales    yes  37736.0\n",
              "1     Barton  New South Wales    yes  37153.0\n",
              "2  Bennelong  New South Wales    yes  42943.0\n",
              "3    Berowra  New South Wales    yes  48471.0\n",
              "4   Blaxland  New South Wales    yes  20406.0"
            ]
          },
          "metadata": {
            "tags": []
          },
          "execution_count": 30
        }
      ]
    },
    {
      "cell_type": "code",
      "metadata": {
        "colab": {
          "base_uri": "https://localhost:8080/",
          "height": 359
        },
        "id": "DoAF7iRg1ttJ",
        "outputId": "26c79ad6-b261-4df4-ad33-69f3292cb6da"
      },
      "source": [
        "#With some of transformations we can get to the end tables that are shown in the goverment website, for example %No and %Yes by state:\r\n",
        "df_grouped_by_state = pd.pivot_table(df_responses, index=[\"state/territory\"], columns = [\"answer\"], values=[\"value\"])\r\n",
        "df_grouped_by_state[\"population\"] = df_grouped_by_state.sum(axis=1)\r\n",
        "\r\n",
        "df_grouped_by_state[\"% No\"] = df_grouped_by_state[\"value\"][\"no\"]/df_grouped_by_state[\"population\"]*100\r\n",
        "df_grouped_by_state[\"% Yes\"] = df_grouped_by_state[\"value\"][\"yes\"]/df_grouped_by_state[\"population\"]*100\r\n",
        "df_grouped_by_state[\"% Participation rate\"] = (df_grouped_by_state[\"% No\"] + df_grouped_by_state[\"% Yes\"])\r\n",
        "df_grouped_by_state.drop([\"value\", \"population\"], axis = 1)"
      ],
      "execution_count": 31,
      "outputs": [
        {
          "output_type": "execute_result",
          "data": {
            "text/html": [
              "<div>\n",
              "<style scoped>\n",
              "    .dataframe tbody tr th:only-of-type {\n",
              "        vertical-align: middle;\n",
              "    }\n",
              "\n",
              "    .dataframe tbody tr th {\n",
              "        vertical-align: top;\n",
              "    }\n",
              "\n",
              "    .dataframe thead tr th {\n",
              "        text-align: left;\n",
              "    }\n",
              "\n",
              "    .dataframe thead tr:last-of-type th {\n",
              "        text-align: right;\n",
              "    }\n",
              "</style>\n",
              "<table border=\"1\" class=\"dataframe\">\n",
              "  <thead>\n",
              "    <tr>\n",
              "      <th></th>\n",
              "      <th>% No</th>\n",
              "      <th>% Yes</th>\n",
              "      <th>% Participation rate</th>\n",
              "    </tr>\n",
              "    <tr>\n",
              "      <th>answer</th>\n",
              "      <th></th>\n",
              "      <th></th>\n",
              "      <th></th>\n",
              "    </tr>\n",
              "    <tr>\n",
              "      <th>state/territory</th>\n",
              "      <th></th>\n",
              "      <th></th>\n",
              "      <th></th>\n",
              "    </tr>\n",
              "  </thead>\n",
              "  <tbody>\n",
              "    <tr>\n",
              "      <th>Australian Capital Territory</th>\n",
              "      <td>21.353104</td>\n",
              "      <td>60.900426</td>\n",
              "      <td>82.253530</td>\n",
              "    </tr>\n",
              "    <tr>\n",
              "      <th>New South Wales</th>\n",
              "      <td>33.480046</td>\n",
              "      <td>45.769237</td>\n",
              "      <td>79.249283</td>\n",
              "    </tr>\n",
              "    <tr>\n",
              "      <th>Northern Territory</th>\n",
              "      <td>22.946974</td>\n",
              "      <td>35.253908</td>\n",
              "      <td>58.200882</td>\n",
              "    </tr>\n",
              "    <tr>\n",
              "      <th>Queensland</th>\n",
              "      <td>30.499960</td>\n",
              "      <td>47.195174</td>\n",
              "      <td>77.695134</td>\n",
              "    </tr>\n",
              "    <tr>\n",
              "      <th>South Australia</th>\n",
              "      <td>29.846931</td>\n",
              "      <td>49.642923</td>\n",
              "      <td>79.489854</td>\n",
              "    </tr>\n",
              "    <tr>\n",
              "      <th>Tasmania</th>\n",
              "      <td>28.900081</td>\n",
              "      <td>50.588781</td>\n",
              "      <td>79.488862</td>\n",
              "    </tr>\n",
              "    <tr>\n",
              "      <th>Victoria</th>\n",
              "      <td>28.588692</td>\n",
              "      <td>52.829931</td>\n",
              "      <td>81.418623</td>\n",
              "    </tr>\n",
              "    <tr>\n",
              "      <th>Western Australia</th>\n",
              "      <td>28.370773</td>\n",
              "      <td>49.879591</td>\n",
              "      <td>78.250364</td>\n",
              "    </tr>\n",
              "  </tbody>\n",
              "</table>\n",
              "</div>"
            ],
            "text/plain": [
              "                                   % No      % Yes % Participation rate\n",
              "answer                                                                 \n",
              "state/territory                                                        \n",
              "Australian Capital Territory  21.353104  60.900426            82.253530\n",
              "New South Wales               33.480046  45.769237            79.249283\n",
              "Northern Territory            22.946974  35.253908            58.200882\n",
              "Queensland                    30.499960  47.195174            77.695134\n",
              "South Australia               29.846931  49.642923            79.489854\n",
              "Tasmania                      28.900081  50.588781            79.488862\n",
              "Victoria                      28.588692  52.829931            81.418623\n",
              "Western Australia             28.370773  49.879591            78.250364"
            ]
          },
          "metadata": {
            "tags": []
          },
          "execution_count": 31
        }
      ]
    },
    {
      "cell_type": "code",
      "metadata": {
        "id": "SIdoHTGI-nTg",
        "colab": {
          "base_uri": "https://localhost:8080/",
          "height": 420
        },
        "outputId": "c0574ff1-9468-4eab-c5f1-81854bba88c8"
      },
      "source": [
        "# It is nice to see values stacked to get an idea of proprtions of votes together with the population of each territory.\r\n",
        "df_grouped_by_state[\"value\"].plot(kind=\"bar\", stacked=True)"
      ],
      "execution_count": 32,
      "outputs": [
        {
          "output_type": "execute_result",
          "data": {
            "text/plain": [
              "<matplotlib.axes._subplots.AxesSubplot at 0x7f4970b77390>"
            ]
          },
          "metadata": {
            "tags": []
          },
          "execution_count": 32
        },
        {
          "output_type": "display_data",
          "data": {
            "image/png": "[encoded data removed]",
            "text/plain": [
              "<Figure size 432x288 with 1 Axes>"
            ]
          },
          "metadata": {
            "tags": [],
            "needs_background": "light"
          }
        }
      ]
    },
    {
      "cell_type": "code",
      "metadata": {
        "colab": {
          "base_uri": "https://localhost:8080/",
          "height": 282
        },
        "id": "g03YzxUVSzCQ",
        "outputId": "3bb69fe2-60ff-4be9-d8c5-bee9a687bd2d"
      },
      "source": [
        "#Finally, we wish to visualize the ammount of yes and no votes with regards to the population so as to understand the proportion of yes/no votes in each state.\r\n",
        "df_proportion = pd.DataFrame()\r\n",
        "\r\n",
        "df_yes_propotion = df_responses[df_responses[\"answer\"] == \"yes\"].groupby(\"state/territory\").sum()\r\n",
        "df_proportion[\"Yes proportion\"] = df_yes_propotion[\"value\"]/df_responses.groupby(\"state/territory\").sum()[\"value\"]\r\n",
        "\r\n",
        "df_no_propotion = df_responses[df_responses[\"answer\"] == \"no\"].groupby(\"state/territory\").sum()\r\n",
        "df_proportion[\"No proportion\"] = df_no_propotion[\"value\"]/df_responses.groupby(\"state/territory\").sum()[\"value\"]\r\n",
        "\r\n",
        "df_proportion.plot(kind=\"barh\", stacked=True)"
      ],
      "execution_count": 33,
      "outputs": [
        {
          "output_type": "execute_result",
          "data": {
            "text/plain": [
              "<matplotlib.axes._subplots.AxesSubplot at 0x7f49717db940>"
            ]
          },
          "metadata": {
            "tags": []
          },
          "execution_count": 33
        },
        {
          "output_type": "display_data",
          "data": {
            "image/png": "[encoded data removed]",
            "text/plain": [
              "<Figure size 432x288 with 1 Axes>"
            ]
          },
          "metadata": {
            "tags": [],
            "needs_background": "light"
          }
        }
      ]
    },
    {
      "cell_type": "code",
      "metadata": {
        "id": "BUMV1xmAfQv7"
      },
      "source": [
        ""
      ],
      "execution_count": 33,
      "outputs": []
    }
  ]
}