{
 "cells": [
  {
   "cell_type": "code",
   "execution_count": 62,
   "metadata": {},
   "outputs": [
    {
     "name": "stdout",
     "output_type": "stream",
     "text": [
      "['Capital', 'Amsterdam', 'Food', 'Stroopwafels', 'National_Color', 'Orange']\n"
     ]
    }
   ],
   "source": [
    "#My dictionary \n",
    "sample1 = {} \n",
    "sample1['Capital']=\"Amsterdam\" \n",
    "sample1['Food']=\"Stroopwafels\" \n",
    "sample1['National_Color']=\"Orange\" \n",
    "\n",
    "def transform_dict_to_list(sample1):\n",
    "    l=[] \n",
    "    [l.extend([k,v]) for k,v in sample.items()] \n",
    "    return print(l)\n",
    "\n",
    "transform_dict_to_list(sample1)"
   ]
  },
  {
   "cell_type": "code",
   "execution_count": 63,
   "metadata": {},
   "outputs": [
    {
     "name": "stdout",
     "output_type": "stream",
     "text": [
      "(('Capital', 'Amsterdam'), ('Food', 'Stroopwafels'), ('National_Color', 'Orange'))\n"
     ]
    }
   ],
   "source": [
    "def transform_dict_to_tuple(sample1):\n",
    "    return print(tuple((k,v) for k,v in sample.items()))\n",
    "\n",
    "transform_dict_to_tuple(sample1)"
   ]
  },
  {
   "cell_type": "code",
   "execution_count": 64,
   "metadata": {},
   "outputs": [
    {
     "data": {
      "text/plain": [
       "['fruit', 'banana', 'strawberry', 'cherry', 'animal', 'dog', 'cat', 'monkey']"
      ]
     },
     "execution_count": 64,
     "metadata": {},
     "output_type": "execute_result"
    }
   ],
   "source": [
    "def transform_tuple_to_list(sample2):\n",
    "    return [item for t in sample2 for item in t]\n",
    "\n",
    "sample2 = ((\"fruit\",\"banana\", \"strawberry\", \"cherry\"), (\"animal\",\"dog\", \"cat\", \"monkey\"))\n",
    "\n",
    "transform_tuple_to_list(sample2)"
   ]
  },
  {
   "cell_type": "code",
   "execution_count": 65,
   "metadata": {},
   "outputs": [
    {
     "name": "stdout",
     "output_type": "stream",
     "text": [
      "[{'fruit': ('banana', 'strawberry', 'cherry')}, {'animal': ('dog', 'cat', 'monkey')}]\n",
      "['fruit', 'animal']\n",
      "[('banana', 'strawberry', 'cherry'), ('dog', 'cat', 'monkey')]\n",
      "[('fruit', ('banana', 'strawberry', 'cherry')), ('animal', ('dog', 'cat', 'monkey'))]\n"
     ]
    }
   ],
   "source": [
    "def transform_tuple_to_dict(sample2):\n",
    "    keys = [item[0] for item in sample2]\n",
    "    value = [item[1:] for item in sample2]\n",
    "    \n",
    "    return print([ {a:b} for (a,b) in zip(keys, value) ])\n",
    "    \n",
    "transform_tuple_to_dict(sample2)\n",
    "\n",
    "keys = [item[0] for item in sample2]\n",
    "value = [item[1:] for item in sample2]\n",
    "zip_items = list(zip(keys, value))\n",
    "\n",
    "print(keys)\n",
    "print(value)\n",
    "print(zip_items)"
   ]
  }
 ],
 "metadata": {
  "kernelspec": {
   "display_name": "Python 3",
   "language": "python",
   "name": "python3"
  },
  "language_info": {
   "codemirror_mode": {
    "name": "ipython",
    "version": 3
   },
   "file_extension": ".py",
   "mimetype": "text/x-python",
   "name": "python",
   "nbconvert_exporter": "python",
   "pygments_lexer": "ipython3",
   "version": "3.7.6"
  }
 },
 "nbformat": 4,
 "nbformat_minor": 4
}
